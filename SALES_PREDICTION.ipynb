{
 "cells": [
  {
   "cell_type": "code",
   "execution_count": null,
   "id": "70b2eba0",
   "metadata": {},
   "outputs": [],
   "source": []
  },
  {
   "cell_type": "code",
   "execution_count": 1,
   "id": "037e49f5",
   "metadata": {},
   "outputs": [],
   "source": [
    "# Import necessary libraries\n",
    "import pandas as pd\n",
    "import numpy as np\n",
    "import matplotlib.pyplot as plt\n",
    "import seaborn as sns\n",
    "from sklearn.model_selection import train_test_split, cross_val_score, GridSearchCV\n",
    "from sklearn.linear_model import LinearRegression, Ridge, Lasso\n",
    "from sklearn.ensemble import RandomForestRegressor, GradientBoostingRegressor\n",
    "from sklearn.svm import SVR\n",
    "from sklearn.metrics import mean_squared_error, r2_score, mean_absolute_error\n",
    "from sklearn.preprocessing import StandardScaler, PolynomialFeatures\n",
    "from sklearn.pipeline import Pipeline\n",
    "import plotly.express as px\n",
    "import plotly.graph_objects as go\n",
    "from plotly.subplots import make_subplots\n",
    "import warnings\n",
    "warnings.filterwarnings('ignore')\n",
    "\n",
    "# Set style for plots\n",
    "plt.style.use('seaborn-v0_8')\n",
    "sns.set_palette(\"husl\")\n",
    "%matplotlib inline"
   ]
  },
  {
   "cell_type": "markdown",
   "id": "1bec2da5",
   "metadata": {},
   "source": [
    "Load and Explore the Data"
   ]
  },
  {
   "cell_type": "code",
   "execution_count": 2,
   "id": "5e0347de",
   "metadata": {},
   "outputs": [
    {
     "name": "stdout",
     "output_type": "stream",
     "text": [
      "Dataset Shape: (200, 4)\n",
      "\n",
      "First 5 rows:\n"
     ]
    },
    {
     "data": {
      "text/html": [
       "<div>\n",
       "<style scoped>\n",
       "    .dataframe tbody tr th:only-of-type {\n",
       "        vertical-align: middle;\n",
       "    }\n",
       "\n",
       "    .dataframe tbody tr th {\n",
       "        vertical-align: top;\n",
       "    }\n",
       "\n",
       "    .dataframe thead th {\n",
       "        text-align: right;\n",
       "    }\n",
       "</style>\n",
       "<table border=\"1\" class=\"dataframe\">\n",
       "  <thead>\n",
       "    <tr style=\"text-align: right;\">\n",
       "      <th></th>\n",
       "      <th>TV</th>\n",
       "      <th>Radio</th>\n",
       "      <th>Newspaper</th>\n",
       "      <th>Sales</th>\n",
       "    </tr>\n",
       "  </thead>\n",
       "  <tbody>\n",
       "    <tr>\n",
       "      <th>0</th>\n",
       "      <td>230.1</td>\n",
       "      <td>37.8</td>\n",
       "      <td>69.2</td>\n",
       "      <td>22.1</td>\n",
       "    </tr>\n",
       "    <tr>\n",
       "      <th>1</th>\n",
       "      <td>44.5</td>\n",
       "      <td>39.3</td>\n",
       "      <td>45.1</td>\n",
       "      <td>10.4</td>\n",
       "    </tr>\n",
       "    <tr>\n",
       "      <th>2</th>\n",
       "      <td>17.2</td>\n",
       "      <td>45.9</td>\n",
       "      <td>69.3</td>\n",
       "      <td>12.0</td>\n",
       "    </tr>\n",
       "    <tr>\n",
       "      <th>3</th>\n",
       "      <td>151.5</td>\n",
       "      <td>41.3</td>\n",
       "      <td>58.5</td>\n",
       "      <td>16.5</td>\n",
       "    </tr>\n",
       "    <tr>\n",
       "      <th>4</th>\n",
       "      <td>180.8</td>\n",
       "      <td>10.8</td>\n",
       "      <td>58.4</td>\n",
       "      <td>17.9</td>\n",
       "    </tr>\n",
       "  </tbody>\n",
       "</table>\n",
       "</div>"
      ],
      "text/plain": [
       "      TV  Radio  Newspaper  Sales\n",
       "0  230.1   37.8       69.2   22.1\n",
       "1   44.5   39.3       45.1   10.4\n",
       "2   17.2   45.9       69.3   12.0\n",
       "3  151.5   41.3       58.5   16.5\n",
       "4  180.8   10.8       58.4   17.9"
      ]
     },
     "execution_count": 2,
     "metadata": {},
     "output_type": "execute_result"
    }
   ],
   "source": [
    "# Load the dataset\n",
    "df = pd.read_csv('advertising.csv')\n",
    "\n",
    "# Display basic information\n",
    "print(\"Dataset Shape:\", df.shape)\n",
    "print(\"\\nFirst 5 rows:\")\n",
    "df.head()"
   ]
  },
  {
   "cell_type": "code",
   "execution_count": 3,
   "id": "e832715c",
   "metadata": {},
   "outputs": [
    {
     "name": "stdout",
     "output_type": "stream",
     "text": [
      "Dataset Info:\n",
      "<class 'pandas.core.frame.DataFrame'>\n",
      "RangeIndex: 200 entries, 0 to 199\n",
      "Data columns (total 4 columns):\n",
      " #   Column     Non-Null Count  Dtype  \n",
      "---  ------     --------------  -----  \n",
      " 0   TV         200 non-null    float64\n",
      " 1   Radio      200 non-null    float64\n",
      " 2   Newspaper  200 non-null    float64\n",
      " 3   Sales      200 non-null    float64\n",
      "dtypes: float64(4)\n",
      "memory usage: 6.4 KB\n"
     ]
    }
   ],
   "source": [
    "# Check for missing values and data types\n",
    "print(\"Dataset Info:\")\n",
    "df.info()"
   ]
  },
  {
   "cell_type": "code",
   "execution_count": 4,
   "id": "0b89fdd6",
   "metadata": {},
   "outputs": [
    {
     "data": {
      "text/html": [
       "<div>\n",
       "<style scoped>\n",
       "    .dataframe tbody tr th:only-of-type {\n",
       "        vertical-align: middle;\n",
       "    }\n",
       "\n",
       "    .dataframe tbody tr th {\n",
       "        vertical-align: top;\n",
       "    }\n",
       "\n",
       "    .dataframe thead th {\n",
       "        text-align: right;\n",
       "    }\n",
       "</style>\n",
       "<table border=\"1\" class=\"dataframe\">\n",
       "  <thead>\n",
       "    <tr style=\"text-align: right;\">\n",
       "      <th></th>\n",
       "      <th>count</th>\n",
       "      <th>mean</th>\n",
       "      <th>std</th>\n",
       "      <th>min</th>\n",
       "      <th>25%</th>\n",
       "      <th>50%</th>\n",
       "      <th>75%</th>\n",
       "      <th>max</th>\n",
       "    </tr>\n",
       "  </thead>\n",
       "  <tbody>\n",
       "    <tr>\n",
       "      <th>TV</th>\n",
       "      <td>200.0</td>\n",
       "      <td>147.0425</td>\n",
       "      <td>85.854236</td>\n",
       "      <td>0.7</td>\n",
       "      <td>74.375</td>\n",
       "      <td>149.75</td>\n",
       "      <td>218.825</td>\n",
       "      <td>296.4</td>\n",
       "    </tr>\n",
       "    <tr>\n",
       "      <th>Radio</th>\n",
       "      <td>200.0</td>\n",
       "      <td>23.2640</td>\n",
       "      <td>14.846809</td>\n",
       "      <td>0.0</td>\n",
       "      <td>9.975</td>\n",
       "      <td>22.90</td>\n",
       "      <td>36.525</td>\n",
       "      <td>49.6</td>\n",
       "    </tr>\n",
       "    <tr>\n",
       "      <th>Newspaper</th>\n",
       "      <td>200.0</td>\n",
       "      <td>30.5540</td>\n",
       "      <td>21.778621</td>\n",
       "      <td>0.3</td>\n",
       "      <td>12.750</td>\n",
       "      <td>25.75</td>\n",
       "      <td>45.100</td>\n",
       "      <td>114.0</td>\n",
       "    </tr>\n",
       "    <tr>\n",
       "      <th>Sales</th>\n",
       "      <td>200.0</td>\n",
       "      <td>15.1305</td>\n",
       "      <td>5.283892</td>\n",
       "      <td>1.6</td>\n",
       "      <td>11.000</td>\n",
       "      <td>16.00</td>\n",
       "      <td>19.050</td>\n",
       "      <td>27.0</td>\n",
       "    </tr>\n",
       "  </tbody>\n",
       "</table>\n",
       "</div>"
      ],
      "text/plain": [
       "           count      mean        std  min     25%     50%      75%    max\n",
       "TV         200.0  147.0425  85.854236  0.7  74.375  149.75  218.825  296.4\n",
       "Radio      200.0   23.2640  14.846809  0.0   9.975   22.90   36.525   49.6\n",
       "Newspaper  200.0   30.5540  21.778621  0.3  12.750   25.75   45.100  114.0\n",
       "Sales      200.0   15.1305   5.283892  1.6  11.000   16.00   19.050   27.0"
      ]
     },
     "execution_count": 4,
     "metadata": {},
     "output_type": "execute_result"
    }
   ],
   "source": [
    "# Statistical summary\n",
    "df.describe().T"
   ]
  },
  {
   "cell_type": "markdown",
   "id": "ffe5dc05",
   "metadata": {},
   "source": [
    "Exploratory Data Analysis (EDA)"
   ]
  },
  {
   "cell_type": "code",
   "execution_count": 5,
   "id": "d468b220",
   "metadata": {},
   "outputs": [
    {
     "data": {
      "application/vnd.plotly.v1+json": {
       "config": {
        "plotlyServerURL": "https://plot.ly"
       },
       "data": [
        {
         "coloraxis": "coloraxis",
         "hovertemplate": "x: %{x}<br>y: %{y}<br>color: %{z}<extra></extra>",
         "name": "0",
         "texttemplate": "%{z}",
         "type": "heatmap",
         "x": [
          "TV",
          "Radio",
          "Newspaper",
          "Sales"
         ],
         "xaxis": "x",
         "y": [
          "TV",
          "Radio",
          "Newspaper",
          "Sales"
         ],
         "yaxis": "y",
         "z": {
          "bdata": "AAAAAAAA8D9dG9aa4Q+sPyLDuUTzAK0/FfVQ+rHW7D9dG9aa4Q+sPwAAAAAAAPA/cUA6x6Kp1j+0ANQbW2DWPyLDuUTzAK0/cUA6x6Kp1j8AAAAAAADwPzySNL0IOMQ/FfVQ+rHW7D+0ANQbW2DWPzySNL0IOMQ/AAAAAAAA8D8=",
          "dtype": "f8",
          "shape": "4, 4"
         }
        }
       ],
       "layout": {
        "coloraxis": {
         "colorscale": [
          [
           0,
           "rgb(5,48,97)"
          ],
          [
           0.1,
           "rgb(33,102,172)"
          ],
          [
           0.2,
           "rgb(67,147,195)"
          ],
          [
           0.3,
           "rgb(146,197,222)"
          ],
          [
           0.4,
           "rgb(209,229,240)"
          ],
          [
           0.5,
           "rgb(247,247,247)"
          ],
          [
           0.6,
           "rgb(253,219,199)"
          ],
          [
           0.7,
           "rgb(244,165,130)"
          ],
          [
           0.8,
           "rgb(214,96,77)"
          ],
          [
           0.9,
           "rgb(178,24,43)"
          ],
          [
           1,
           "rgb(103,0,31)"
          ]
         ]
        },
        "template": {
         "data": {
          "bar": [
           {
            "error_x": {
             "color": "#2a3f5f"
            },
            "error_y": {
             "color": "#2a3f5f"
            },
            "marker": {
             "line": {
              "color": "#E5ECF6",
              "width": 0.5
             },
             "pattern": {
              "fillmode": "overlay",
              "size": 10,
              "solidity": 0.2
             }
            },
            "type": "bar"
           }
          ],
          "barpolar": [
           {
            "marker": {
             "line": {
              "color": "#E5ECF6",
              "width": 0.5
             },
             "pattern": {
              "fillmode": "overlay",
              "size": 10,
              "solidity": 0.2
             }
            },
            "type": "barpolar"
           }
          ],
          "carpet": [
           {
            "aaxis": {
             "endlinecolor": "#2a3f5f",
             "gridcolor": "white",
             "linecolor": "white",
             "minorgridcolor": "white",
             "startlinecolor": "#2a3f5f"
            },
            "baxis": {
             "endlinecolor": "#2a3f5f",
             "gridcolor": "white",
             "linecolor": "white",
             "minorgridcolor": "white",
             "startlinecolor": "#2a3f5f"
            },
            "type": "carpet"
           }
          ],
          "choropleth": [
           {
            "colorbar": {
             "outlinewidth": 0,
             "ticks": ""
            },
            "type": "choropleth"
           }
          ],
          "contour": [
           {
            "colorbar": {
             "outlinewidth": 0,
             "ticks": ""
            },
            "colorscale": [
             [
              0,
              "#0d0887"
             ],
             [
              0.1111111111111111,
              "#46039f"
             ],
             [
              0.2222222222222222,
              "#7201a8"
             ],
             [
              0.3333333333333333,
              "#9c179e"
             ],
             [
              0.4444444444444444,
              "#bd3786"
             ],
             [
              0.5555555555555556,
              "#d8576b"
             ],
             [
              0.6666666666666666,
              "#ed7953"
             ],
             [
              0.7777777777777778,
              "#fb9f3a"
             ],
             [
              0.8888888888888888,
              "#fdca26"
             ],
             [
              1,
              "#f0f921"
             ]
            ],
            "type": "contour"
           }
          ],
          "contourcarpet": [
           {
            "colorbar": {
             "outlinewidth": 0,
             "ticks": ""
            },
            "type": "contourcarpet"
           }
          ],
          "heatmap": [
           {
            "colorbar": {
             "outlinewidth": 0,
             "ticks": ""
            },
            "colorscale": [
             [
              0,
              "#0d0887"
             ],
             [
              0.1111111111111111,
              "#46039f"
             ],
             [
              0.2222222222222222,
              "#7201a8"
             ],
             [
              0.3333333333333333,
              "#9c179e"
             ],
             [
              0.4444444444444444,
              "#bd3786"
             ],
             [
              0.5555555555555556,
              "#d8576b"
             ],
             [
              0.6666666666666666,
              "#ed7953"
             ],
             [
              0.7777777777777778,
              "#fb9f3a"
             ],
             [
              0.8888888888888888,
              "#fdca26"
             ],
             [
              1,
              "#f0f921"
             ]
            ],
            "type": "heatmap"
           }
          ],
          "histogram": [
           {
            "marker": {
             "pattern": {
              "fillmode": "overlay",
              "size": 10,
              "solidity": 0.2
             }
            },
            "type": "histogram"
           }
          ],
          "histogram2d": [
           {
            "colorbar": {
             "outlinewidth": 0,
             "ticks": ""
            },
            "colorscale": [
             [
              0,
              "#0d0887"
             ],
             [
              0.1111111111111111,
              "#46039f"
             ],
             [
              0.2222222222222222,
              "#7201a8"
             ],
             [
              0.3333333333333333,
              "#9c179e"
             ],
             [
              0.4444444444444444,
              "#bd3786"
             ],
             [
              0.5555555555555556,
              "#d8576b"
             ],
             [
              0.6666666666666666,
              "#ed7953"
             ],
             [
              0.7777777777777778,
              "#fb9f3a"
             ],
             [
              0.8888888888888888,
              "#fdca26"
             ],
             [
              1,
              "#f0f921"
             ]
            ],
            "type": "histogram2d"
           }
          ],
          "histogram2dcontour": [
           {
            "colorbar": {
             "outlinewidth": 0,
             "ticks": ""
            },
            "colorscale": [
             [
              0,
              "#0d0887"
             ],
             [
              0.1111111111111111,
              "#46039f"
             ],
             [
              0.2222222222222222,
              "#7201a8"
             ],
             [
              0.3333333333333333,
              "#9c179e"
             ],
             [
              0.4444444444444444,
              "#bd3786"
             ],
             [
              0.5555555555555556,
              "#d8576b"
             ],
             [
              0.6666666666666666,
              "#ed7953"
             ],
             [
              0.7777777777777778,
              "#fb9f3a"
             ],
             [
              0.8888888888888888,
              "#fdca26"
             ],
             [
              1,
              "#f0f921"
             ]
            ],
            "type": "histogram2dcontour"
           }
          ],
          "mesh3d": [
           {
            "colorbar": {
             "outlinewidth": 0,
             "ticks": ""
            },
            "type": "mesh3d"
           }
          ],
          "parcoords": [
           {
            "line": {
             "colorbar": {
              "outlinewidth": 0,
              "ticks": ""
             }
            },
            "type": "parcoords"
           }
          ],
          "pie": [
           {
            "automargin": true,
            "type": "pie"
           }
          ],
          "scatter": [
           {
            "fillpattern": {
             "fillmode": "overlay",
             "size": 10,
             "solidity": 0.2
            },
            "type": "scatter"
           }
          ],
          "scatter3d": [
           {
            "line": {
             "colorbar": {
              "outlinewidth": 0,
              "ticks": ""
             }
            },
            "marker": {
             "colorbar": {
              "outlinewidth": 0,
              "ticks": ""
             }
            },
            "type": "scatter3d"
           }
          ],
          "scattercarpet": [
           {
            "marker": {
             "colorbar": {
              "outlinewidth": 0,
              "ticks": ""
             }
            },
            "type": "scattercarpet"
           }
          ],
          "scattergeo": [
           {
            "marker": {
             "colorbar": {
              "outlinewidth": 0,
              "ticks": ""
             }
            },
            "type": "scattergeo"
           }
          ],
          "scattergl": [
           {
            "marker": {
             "colorbar": {
              "outlinewidth": 0,
              "ticks": ""
             }
            },
            "type": "scattergl"
           }
          ],
          "scattermap": [
           {
            "marker": {
             "colorbar": {
              "outlinewidth": 0,
              "ticks": ""
             }
            },
            "type": "scattermap"
           }
          ],
          "scattermapbox": [
           {
            "marker": {
             "colorbar": {
              "outlinewidth": 0,
              "ticks": ""
             }
            },
            "type": "scattermapbox"
           }
          ],
          "scatterpolar": [
           {
            "marker": {
             "colorbar": {
              "outlinewidth": 0,
              "ticks": ""
             }
            },
            "type": "scatterpolar"
           }
          ],
          "scatterpolargl": [
           {
            "marker": {
             "colorbar": {
              "outlinewidth": 0,
              "ticks": ""
             }
            },
            "type": "scatterpolargl"
           }
          ],
          "scatterternary": [
           {
            "marker": {
             "colorbar": {
              "outlinewidth": 0,
              "ticks": ""
             }
            },
            "type": "scatterternary"
           }
          ],
          "surface": [
           {
            "colorbar": {
             "outlinewidth": 0,
             "ticks": ""
            },
            "colorscale": [
             [
              0,
              "#0d0887"
             ],
             [
              0.1111111111111111,
              "#46039f"
             ],
             [
              0.2222222222222222,
              "#7201a8"
             ],
             [
              0.3333333333333333,
              "#9c179e"
             ],
             [
              0.4444444444444444,
              "#bd3786"
             ],
             [
              0.5555555555555556,
              "#d8576b"
             ],
             [
              0.6666666666666666,
              "#ed7953"
             ],
             [
              0.7777777777777778,
              "#fb9f3a"
             ],
             [
              0.8888888888888888,
              "#fdca26"
             ],
             [
              1,
              "#f0f921"
             ]
            ],
            "type": "surface"
           }
          ],
          "table": [
           {
            "cells": {
             "fill": {
              "color": "#EBF0F8"
             },
             "line": {
              "color": "white"
             }
            },
            "header": {
             "fill": {
              "color": "#C8D4E3"
             },
             "line": {
              "color": "white"
             }
            },
            "type": "table"
           }
          ]
         },
         "layout": {
          "annotationdefaults": {
           "arrowcolor": "#2a3f5f",
           "arrowhead": 0,
           "arrowwidth": 1
          },
          "autotypenumbers": "strict",
          "coloraxis": {
           "colorbar": {
            "outlinewidth": 0,
            "ticks": ""
           }
          },
          "colorscale": {
           "diverging": [
            [
             0,
             "#8e0152"
            ],
            [
             0.1,
             "#c51b7d"
            ],
            [
             0.2,
             "#de77ae"
            ],
            [
             0.3,
             "#f1b6da"
            ],
            [
             0.4,
             "#fde0ef"
            ],
            [
             0.5,
             "#f7f7f7"
            ],
            [
             0.6,
             "#e6f5d0"
            ],
            [
             0.7,
             "#b8e186"
            ],
            [
             0.8,
             "#7fbc41"
            ],
            [
             0.9,
             "#4d9221"
            ],
            [
             1,
             "#276419"
            ]
           ],
           "sequential": [
            [
             0,
             "#0d0887"
            ],
            [
             0.1111111111111111,
             "#46039f"
            ],
            [
             0.2222222222222222,
             "#7201a8"
            ],
            [
             0.3333333333333333,
             "#9c179e"
            ],
            [
             0.4444444444444444,
             "#bd3786"
            ],
            [
             0.5555555555555556,
             "#d8576b"
            ],
            [
             0.6666666666666666,
             "#ed7953"
            ],
            [
             0.7777777777777778,
             "#fb9f3a"
            ],
            [
             0.8888888888888888,
             "#fdca26"
            ],
            [
             1,
             "#f0f921"
            ]
           ],
           "sequentialminus": [
            [
             0,
             "#0d0887"
            ],
            [
             0.1111111111111111,
             "#46039f"
            ],
            [
             0.2222222222222222,
             "#7201a8"
            ],
            [
             0.3333333333333333,
             "#9c179e"
            ],
            [
             0.4444444444444444,
             "#bd3786"
            ],
            [
             0.5555555555555556,
             "#d8576b"
            ],
            [
             0.6666666666666666,
             "#ed7953"
            ],
            [
             0.7777777777777778,
             "#fb9f3a"
            ],
            [
             0.8888888888888888,
             "#fdca26"
            ],
            [
             1,
             "#f0f921"
            ]
           ]
          },
          "colorway": [
           "#636efa",
           "#EF553B",
           "#00cc96",
           "#ab63fa",
           "#FFA15A",
           "#19d3f3",
           "#FF6692",
           "#B6E880",
           "#FF97FF",
           "#FECB52"
          ],
          "font": {
           "color": "#2a3f5f"
          },
          "geo": {
           "bgcolor": "white",
           "lakecolor": "white",
           "landcolor": "#E5ECF6",
           "showlakes": true,
           "showland": true,
           "subunitcolor": "white"
          },
          "hoverlabel": {
           "align": "left"
          },
          "hovermode": "closest",
          "mapbox": {
           "style": "light"
          },
          "paper_bgcolor": "white",
          "plot_bgcolor": "#E5ECF6",
          "polar": {
           "angularaxis": {
            "gridcolor": "white",
            "linecolor": "white",
            "ticks": ""
           },
           "bgcolor": "#E5ECF6",
           "radialaxis": {
            "gridcolor": "white",
            "linecolor": "white",
            "ticks": ""
           }
          },
          "scene": {
           "xaxis": {
            "backgroundcolor": "#E5ECF6",
            "gridcolor": "white",
            "gridwidth": 2,
            "linecolor": "white",
            "showbackground": true,
            "ticks": "",
            "zerolinecolor": "white"
           },
           "yaxis": {
            "backgroundcolor": "#E5ECF6",
            "gridcolor": "white",
            "gridwidth": 2,
            "linecolor": "white",
            "showbackground": true,
            "ticks": "",
            "zerolinecolor": "white"
           },
           "zaxis": {
            "backgroundcolor": "#E5ECF6",
            "gridcolor": "white",
            "gridwidth": 2,
            "linecolor": "white",
            "showbackground": true,
            "ticks": "",
            "zerolinecolor": "white"
           }
          },
          "shapedefaults": {
           "line": {
            "color": "#2a3f5f"
           }
          },
          "ternary": {
           "aaxis": {
            "gridcolor": "white",
            "linecolor": "white",
            "ticks": ""
           },
           "baxis": {
            "gridcolor": "white",
            "linecolor": "white",
            "ticks": ""
           },
           "bgcolor": "#E5ECF6",
           "caxis": {
            "gridcolor": "white",
            "linecolor": "white",
            "ticks": ""
           }
          },
          "title": {
           "x": 0.05
          },
          "xaxis": {
           "automargin": true,
           "gridcolor": "white",
           "linecolor": "white",
           "ticks": "",
           "title": {
            "standoff": 15
           },
           "zerolinecolor": "white",
           "zerolinewidth": 2
          },
          "yaxis": {
           "automargin": true,
           "gridcolor": "white",
           "linecolor": "white",
           "ticks": "",
           "title": {
            "standoff": 15
           },
           "zerolinecolor": "white",
           "zerolinewidth": 2
          }
         }
        },
        "title": {
         "text": "Correlation Matrix of Advertising Channels and Sales"
        },
        "xaxis": {
         "anchor": "y",
         "domain": [
          0,
          1
         ]
        },
        "yaxis": {
         "anchor": "x",
         "autorange": "reversed",
         "domain": [
          0,
          1
         ]
        }
       }
      }
     },
     "metadata": {},
     "output_type": "display_data"
    }
   ],
   "source": [
    "# Create interactive correlation matrix\n",
    "corr_matrix = df.corr()\n",
    "fig = px.imshow(corr_matrix, \n",
    "                text_auto=True, \n",
    "                aspect=\"auto\",\n",
    "                title=\"Correlation Matrix of Advertising Channels and Sales\",\n",
    "                color_continuous_scale='RdBu_r')\n",
    "fig.show()"
   ]
  },
  {
   "cell_type": "code",
   "execution_count": 6,
   "id": "4d5b38f4",
   "metadata": {},
   "outputs": [
    {
     "data": {
      "image/png": "[encoded data removed]",
      "text/plain": [
       "<Figure size 1200x1000 with 4 Axes>"
      ]
     },
     "metadata": {},
     "output_type": "display_data"
    }
   ],
   "source": [
    "# Distribution of variables\n",
    "fig, axes = plt.subplots(2, 2, figsize=(12, 10))\n",
    "fig.suptitle('Distribution of Advertising Expenditure and Sales', fontsize=16)\n",
    "\n",
    "axes[0,0].hist(df['TV'], bins=20, color='skyblue', edgecolor='black')\n",
    "axes[0,0].set_title('TV Advertising Distribution')\n",
    "axes[0,0].set_xlabel('Budget ($)')\n",
    "axes[0,0].set_ylabel('Frequency')\n",
    "\n",
    "axes[0,1].hist(df['Radio'], bins=20, color='lightgreen', edgecolor='black')\n",
    "axes[0,1].set_title('Radio Advertising Distribution')\n",
    "axes[0,1].set_xlabel('Budget ($)')\n",
    "axes[0,1].set_ylabel('Frequency')\n",
    "\n",
    "axes[1,0].hist(df['Newspaper'], bins=20, color='salmon', edgecolor='black')\n",
    "axes[1,0].set_title('Newspaper Advertising Distribution')\n",
    "axes[1,0].set_xlabel('Budget ($)')\n",
    "axes[1,0].set_ylabel('Frequency')\n",
    "\n",
    "axes[1,1].hist(df['Sales'], bins=20, color='gold', edgecolor='black')\n",
    "axes[1,1].set_title('Sales Distribution')\n",
    "axes[1,1].set_xlabel('Sales ($)')\n",
    "axes[1,1].set_ylabel('Frequency')\n",
    "\n",
    "plt.tight_layout()\n",
    "plt.show()"
   ]
  },
  {
   "cell_type": "code",
   "execution_count": 7,
   "id": "fcd7bdd3",
   "metadata": {},
   "outputs": [
    {
     "data": {
      "application/vnd.plotly.v1+json": {
       "config": {
        "plotlyServerURL": "https://plot.ly"
       },
       "data": [
        {
         "hovertemplate": "TV Budget=%{x}<br>Radio Budget=%{y}<br>Newspaper Budget=%{z}<br>Sales=%{marker.color}<extra></extra>",
         "legendgroup": "",
         "marker": {
          "color": {
           "bdata": "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",
           "dtype": "f8"
          },
          "coloraxis": "coloraxis",
          "opacity": 0.7,
          "symbol": "circle"
         },
         "mode": "markers",
         "name": "",
         "scene": "scene",
         "showlegend": false,
         "type": "scatter3d",
         "x": {
          "bdata": "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",
          "dtype": "f8"
         },
         "y": {
          "bdata": "ZmZmZmbmQkBmZmZmZqZDQDMzMzMz80ZAZmZmZmamRECamZmZmZklQDMzMzMzc0hAZmZmZmZmQECamZmZmZkzQM3MzMzMzABAzczMzMzMBEAzMzMzMzMXQAAAAAAAADhAzczMzMyMQUBmZmZmZmYeQDMzMzMzc0BAmpmZmZnZR0DNzMzMzExCQM3MzMzMzENAAAAAAACANEBmZmZmZuY3QDMzMzMzsztAZmZmZmZmFEDNzMzMzMwvQGZmZmZm5jBAMzMzMzMzKUAAAAAAAAAMQM3MzMzMTD1AMzMzMzOzMECamZmZmRk7QAAAAAAAADBAzczMzMxMPEBmZmZmZmYxQAAAAAAAAPg/AAAAAAAANEBmZmZmZmb2P2ZmZmZmZhBAZmZmZmbmRUAzMzMzM7NIQDMzMzMzszpAmpmZmZnZQkDNzMzMzEw2QDMzMzMzs0BAMzMzMzOzO0DNzMzMzMwgQDMzMzMzszlAAAAAAACANkDNzMzMzMwjQAAAAAAAwERAmpmZmZmZL0BmZmZmZmYnQM3MzMzMzAhAMzMzMzMzI0CamZmZmdlEQJqZmZmZGUdAzczMzMzMPEAzMzMzM7NIQJqZmZmZGTxAMzMzMzMzM0DNzMzMzMxIQAAAAAAAgD1AAAAAAAAAAECamZmZmVlFQAAAAAAAAC9AmpmZmZmZPUBmZmZmZmZFQJqZmZmZmSJAmpmZmZmZOEAAAAAAAAAtQAAAAAAAgDtAMzMzMzPzRUCamZmZmZk+QJqZmZmZmSxAAAAAAACAQEDNzMzMzMwWQJqZmZmZmThAmpmZmZnZRUCamZmZmZn5PwAAAAAAgDxAZmZmZmbmPUDNzMzMzMweQDMzMzMzszpAZmZmZmZmEEDNzMzMzEw0QAAAAAAAQEZAAAAAAACARUBmZmZmZmYyQAAAAAAAgDtAzczMzMxMREAAAAAAAIA5QGZmZmZm5kdAmpmZmZmZE0AAAAAAAAD4PwAAAAAAwEBAAAAAAABAQkAAAAAAAAAsQJqZmZmZmT9AAAAAAAAADEAAAAAAAAA1QGZmZmZmJkVAmpmZmZnZREAzMzMzMzMRQGZmZmZmJkJAMzMzMzMzJEAzMzMzMzMxQGZmZmZmJkFAMzMzMzMzR0AAAAAAAAAmQDMzMzMzM9M/mpmZmZmZ2T9mZmZmZuY6QGZmZmZmZiBAAAAAAAAAQ0DNzMzMzMwuQJqZmZmZmTRAZmZmZmZmR0AAAAAAAIBBQJqZmZmZmSxAmpmZmZmZ6T8zMzMzM3NCQAAAAAAAADBAzczMzMzMOkAzMzMzM7M1QDMzMzMzMwNAzczMzMxMQUBmZmZmZiZAQJqZmZmZmSdAMzMzMzNzQ0AAAAAAAAAAAAAAAAAAgEhAAAAAAAAAKEDNzMzMzMxDQDMzMzMzMwdAMzMzMzMzO0AAAAAAAMBAQM3MzMzMTENAAAAAAACAR0AAAAAAAIBDQGZmZmZm5jxAZmZmZmbmOUAzMzMzM/NFQAAAAAAAADFAMzMzMzOzQUCamZmZmZlAQM3MzMzMzBZAmpmZmZmZLUBmZmZmZmb+PzMzMzMzMx1AAAAAAACASEBmZmZmZiZEQM3MzMzMzDlAzczMzMzMK0DNzMzMzMwgQM3MzMzMTDdAmpmZmZnZQ0CamZmZmRk1QDMzMzMzMydAAAAAAADARUDNzMzMzMz0PzMzMzMzc0JAZmZmZmZmMkCamZmZmRkyQGZmZmZm5kFAmpmZmZkZMkBmZmZmZmZCQGZmZmZmZi1AMzMzMzMzC0DNzMzMzMxCQM3MzMzMzBRAmpmZmZmZN0AzMzMzMzMlQDMzMzMzMydAZmZmZmbmNECamZmZmRk0QGZmZmZmZhxAMzMzMzMzC0AzMzMzM3NIQDMzMzMzMz5AMzMzMzMzH0BmZmZmZmYCQAAAAAAAACRAzczMzMzMBECamZmZmZkVQM3MzMzMzBZAAAAAAACARUDNzMzMzEw1QM3MzMzMjEZAzczMzMzMAEAzMzMzM7M8QM3MzMzMzCtAMzMzMzMzKEDNzMzMzIxEQJqZmZmZmSVAZmZmZmZmEEAAAAAAAABFQM3MzMzMzEFAmpmZmZmZDUCamZmZmZkTQJqZmZmZmSJAAAAAAAAARUAzMzMzMzMhQA==",
          "dtype": "f8"
         },
         "z": {
          "bdata": "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",
          "dtype": "f8"
         }
        }
       ],
       "layout": {
        "coloraxis": {
         "colorbar": {
          "title": {
           "text": "Sales"
          }
         },
         "colorscale": [
          [
           0,
           "#440154"
          ],
          [
           0.1111111111111111,
           "#482878"
          ],
          [
           0.2222222222222222,
           "#3e4989"
          ],
          [
           0.3333333333333333,
           "#31688e"
          ],
          [
           0.4444444444444444,
           "#26828e"
          ],
          [
           0.5555555555555556,
           "#1f9e89"
          ],
          [
           0.6666666666666666,
           "#35b779"
          ],
          [
           0.7777777777777778,
           "#6ece58"
          ],
          [
           0.8888888888888888,
           "#b5de2b"
          ],
          [
           1,
           "#fde725"
          ]
         ]
        },
        "legend": {
         "tracegroupgap": 0
        },
        "margin": {
         "b": 0,
         "l": 0,
         "r": 0,
         "t": 30
        },
        "scene": {
         "domain": {
          "x": [
           0,
           1
          ],
          "y": [
           0,
           1
          ]
         },
         "xaxis": {
          "title": {
           "text": "TV Budget"
          }
         },
         "yaxis": {
          "title": {
           "text": "Radio Budget"
          }
         },
         "zaxis": {
          "title": {
           "text": "Newspaper Budget"
          }
         }
        },
        "template": {
         "data": {
          "bar": [
           {
            "error_x": {
             "color": "#2a3f5f"
            },
            "error_y": {
             "color": "#2a3f5f"
            },
            "marker": {
             "line": {
              "color": "#E5ECF6",
              "width": 0.5
             },
             "pattern": {
              "fillmode": "overlay",
              "size": 10,
              "solidity": 0.2
             }
            },
            "type": "bar"
           }
          ],
          "barpolar": [
           {
            "marker": {
             "line": {
              "color": "#E5ECF6",
              "width": 0.5
             },
             "pattern": {
              "fillmode": "overlay",
              "size": 10,
              "solidity": 0.2
             }
            },
            "type": "barpolar"
           }
          ],
          "carpet": [
           {
            "aaxis": {
             "endlinecolor": "#2a3f5f",
             "gridcolor": "white",
             "linecolor": "white",
             "minorgridcolor": "white",
             "startlinecolor": "#2a3f5f"
            },
            "baxis": {
             "endlinecolor": "#2a3f5f",
             "gridcolor": "white",
             "linecolor": "white",
             "minorgridcolor": "white",
             "startlinecolor": "#2a3f5f"
            },
            "type": "carpet"
           }
          ],
          "choropleth": [
           {
            "colorbar": {
             "outlinewidth": 0,
             "ticks": ""
            },
            "type": "choropleth"
           }
          ],
          "contour": [
           {
            "colorbar": {
             "outlinewidth": 0,
             "ticks": ""
            },
            "colorscale": [
             [
              0,
              "#0d0887"
             ],
             [
              0.1111111111111111,
              "#46039f"
             ],
             [
              0.2222222222222222,
              "#7201a8"
             ],
             [
              0.3333333333333333,
              "#9c179e"
             ],
             [
              0.4444444444444444,
              "#bd3786"
             ],
             [
              0.5555555555555556,
              "#d8576b"
             ],
             [
              0.6666666666666666,
              "#ed7953"
             ],
             [
              0.7777777777777778,
              "#fb9f3a"
             ],
             [
              0.8888888888888888,
              "#fdca26"
             ],
             [
              1,
              "#f0f921"
             ]
            ],
            "type": "contour"
           }
          ],
          "contourcarpet": [
           {
            "colorbar": {
             "outlinewidth": 0,
             "ticks": ""
            },
            "type": "contourcarpet"
           }
          ],
          "heatmap": [
           {
            "colorbar": {
             "outlinewidth": 0,
             "ticks": ""
            },
            "colorscale": [
             [
              0,
              "#0d0887"
             ],
             [
              0.1111111111111111,
              "#46039f"
             ],
             [
              0.2222222222222222,
              "#7201a8"
             ],
             [
              0.3333333333333333,
              "#9c179e"
             ],
             [
              0.4444444444444444,
              "#bd3786"
             ],
             [
              0.5555555555555556,
              "#d8576b"
             ],
             [
              0.6666666666666666,
              "#ed7953"
             ],
             [
              0.7777777777777778,
              "#fb9f3a"
             ],
             [
              0.8888888888888888,
              "#fdca26"
             ],
             [
              1,
              "#f0f921"
             ]
            ],
            "type": "heatmap"
           }
          ],
          "histogram": [
           {
            "marker": {
             "pattern": {
              "fillmode": "overlay",
              "size": 10,
              "solidity": 0.2
             }
            },
            "type": "histogram"
           }
          ],
          "histogram2d": [
           {
            "colorbar": {
             "outlinewidth": 0,
             "ticks": ""
            },
            "colorscale": [
             [
              0,
              "#0d0887"
             ],
             [
              0.1111111111111111,
              "#46039f"
             ],
             [
              0.2222222222222222,
              "#7201a8"
             ],
             [
              0.3333333333333333,
              "#9c179e"
             ],
             [
              0.4444444444444444,
              "#bd3786"
             ],
             [
              0.5555555555555556,
              "#d8576b"
             ],
             [
              0.6666666666666666,
              "#ed7953"
             ],
             [
              0.7777777777777778,
              "#fb9f3a"
             ],
             [
              0.8888888888888888,
              "#fdca26"
             ],
             [
              1,
              "#f0f921"
             ]
            ],
            "type": "histogram2d"
           }
          ],
          "histogram2dcontour": [
           {
            "colorbar": {
             "outlinewidth": 0,
             "ticks": ""
            },
            "colorscale": [
             [
              0,
              "#0d0887"
             ],
             [
              0.1111111111111111,
              "#46039f"
             ],
             [
              0.2222222222222222,
              "#7201a8"
             ],
             [
              0.3333333333333333,
              "#9c179e"
             ],
             [
              0.4444444444444444,
              "#bd3786"
             ],
             [
              0.5555555555555556,
              "#d8576b"
             ],
             [
              0.6666666666666666,
              "#ed7953"
             ],
             [
              0.7777777777777778,
              "#fb9f3a"
             ],
             [
              0.8888888888888888,
              "#fdca26"
             ],
             [
              1,
              "#f0f921"
             ]
            ],
            "type": "histogram2dcontour"
           }
          ],
          "mesh3d": [
           {
            "colorbar": {
             "outlinewidth": 0,
             "ticks": ""
            },
            "type": "mesh3d"
           }
          ],
          "parcoords": [
           {
            "line": {
             "colorbar": {
              "outlinewidth": 0,
              "ticks": ""
             }
            },
            "type": "parcoords"
           }
          ],
          "pie": [
           {
            "automargin": true,
            "type": "pie"
           }
          ],
          "scatter": [
           {
            "fillpattern": {
             "fillmode": "overlay",
             "size": 10,
             "solidity": 0.2
            },
            "type": "scatter"
           }
          ],
          "scatter3d": [
           {
            "line": {
             "colorbar": {
              "outlinewidth": 0,
              "ticks": ""
             }
            },
            "marker": {
             "colorbar": {
              "outlinewidth": 0,
              "ticks": ""
             }
            },
            "type": "scatter3d"
           }
          ],
          "scattercarpet": [
           {
            "marker": {
             "colorbar": {
              "outlinewidth": 0,
              "ticks": ""
             }
            },
            "type": "scattercarpet"
           }
          ],
          "scattergeo": [
           {
            "marker": {
             "colorbar": {
              "outlinewidth": 0,
              "ticks": ""
             }
            },
            "type": "scattergeo"
           }
          ],
          "scattergl": [
           {
            "marker": {
             "colorbar": {
              "outlinewidth": 0,
              "ticks": ""
             }
            },
            "type": "scattergl"
           }
          ],
          "scattermap": [
           {
            "marker": {
             "colorbar": {
              "outlinewidth": 0,
              "ticks": ""
             }
            },
            "type": "scattermap"
           }
          ],
          "scattermapbox": [
           {
            "marker": {
             "colorbar": {
              "outlinewidth": 0,
              "ticks": ""
             }
            },
            "type": "scattermapbox"
           }
          ],
          "scatterpolar": [
           {
            "marker": {
             "colorbar": {
              "outlinewidth": 0,
              "ticks": ""
             }
            },
            "type": "scatterpolar"
           }
          ],
          "scatterpolargl": [
           {
            "marker": {
             "colorbar": {
              "outlinewidth": 0,
              "ticks": ""
             }
            },
            "type": "scatterpolargl"
           }
          ],
          "scatterternary": [
           {
            "marker": {
             "colorbar": {
              "outlinewidth": 0,
              "ticks": ""
             }
            },
            "type": "scatterternary"
           }
          ],
          "surface": [
           {
            "colorbar": {
             "outlinewidth": 0,
             "ticks": ""
            },
            "colorscale": [
             [
              0,
              "#0d0887"
             ],
             [
              0.1111111111111111,
              "#46039f"
             ],
             [
              0.2222222222222222,
              "#7201a8"
             ],
             [
              0.3333333333333333,
              "#9c179e"
             ],
             [
              0.4444444444444444,
              "#bd3786"
             ],
             [
              0.5555555555555556,
              "#d8576b"
             ],
             [
              0.6666666666666666,
              "#ed7953"
             ],
             [
              0.7777777777777778,
              "#fb9f3a"
             ],
             [
              0.8888888888888888,
              "#fdca26"
             ],
             [
              1,
              "#f0f921"
             ]
            ],
            "type": "surface"
           }
          ],
          "table": [
           {
            "cells": {
             "fill": {
              "color": "#EBF0F8"
             },
             "line": {
              "color": "white"
             }
            },
            "header": {
             "fill": {
              "color": "#C8D4E3"
             },
             "line": {
              "color": "white"
             }
            },
            "type": "table"
           }
          ]
         },
         "layout": {
          "annotationdefaults": {
           "arrowcolor": "#2a3f5f",
           "arrowhead": 0,
           "arrowwidth": 1
          },
          "autotypenumbers": "strict",
          "coloraxis": {
           "colorbar": {
            "outlinewidth": 0,
            "ticks": ""
           }
          },
          "colorscale": {
           "diverging": [
            [
             0,
             "#8e0152"
            ],
            [
             0.1,
             "#c51b7d"
            ],
            [
             0.2,
             "#de77ae"
            ],
            [
             0.3,
             "#f1b6da"
            ],
            [
             0.4,
             "#fde0ef"
            ],
            [
             0.5,
             "#f7f7f7"
            ],
            [
             0.6,
             "#e6f5d0"
            ],
            [
             0.7,
             "#b8e186"
            ],
            [
             0.8,
             "#7fbc41"
            ],
            [
             0.9,
             "#4d9221"
            ],
            [
             1,
             "#276419"
            ]
           ],
           "sequential": [
            [
             0,
             "#0d0887"
            ],
            [
             0.1111111111111111,
             "#46039f"
            ],
            [
             0.2222222222222222,
             "#7201a8"
            ],
            [
             0.3333333333333333,
             "#9c179e"
            ],
            [
             0.4444444444444444,
             "#bd3786"
            ],
            [
             0.5555555555555556,
             "#d8576b"
            ],
            [
             0.6666666666666666,
             "#ed7953"
            ],
            [
             0.7777777777777778,
             "#fb9f3a"
            ],
            [
             0.8888888888888888,
             "#fdca26"
            ],
            [
             1,
             "#f0f921"
            ]
           ],
           "sequentialminus": [
            [
             0,
             "#0d0887"
            ],
            [
             0.1111111111111111,
             "#46039f"
            ],
            [
             0.2222222222222222,
             "#7201a8"
            ],
            [
             0.3333333333333333,
             "#9c179e"
            ],
            [
             0.4444444444444444,
             "#bd3786"
            ],
            [
             0.5555555555555556,
             "#d8576b"
            ],
            [
             0.6666666666666666,
             "#ed7953"
            ],
            [
             0.7777777777777778,
             "#fb9f3a"
            ],
            [
             0.8888888888888888,
             "#fdca26"
            ],
            [
             1,
             "#f0f921"
            ]
           ]
          },
          "colorway": [
           "#636efa",
           "#EF553B",
           "#00cc96",
           "#ab63fa",
           "#FFA15A",
           "#19d3f3",
           "#FF6692",
           "#B6E880",
           "#FF97FF",
           "#FECB52"
          ],
          "font": {
           "color": "#2a3f5f"
          },
          "geo": {
           "bgcolor": "white",
           "lakecolor": "white",
           "landcolor": "#E5ECF6",
           "showlakes": true,
           "showland": true,
           "subunitcolor": "white"
          },
          "hoverlabel": {
           "align": "left"
          },
          "hovermode": "closest",
          "mapbox": {
           "style": "light"
          },
          "paper_bgcolor": "white",
          "plot_bgcolor": "#E5ECF6",
          "polar": {
           "angularaxis": {
            "gridcolor": "white",
            "linecolor": "white",
            "ticks": ""
           },
           "bgcolor": "#E5ECF6",
           "radialaxis": {
            "gridcolor": "white",
            "linecolor": "white",
            "ticks": ""
           }
          },
          "scene": {
           "xaxis": {
            "backgroundcolor": "#E5ECF6",
            "gridcolor": "white",
            "gridwidth": 2,
            "linecolor": "white",
            "showbackground": true,
            "ticks": "",
            "zerolinecolor": "white"
           },
           "yaxis": {
            "backgroundcolor": "#E5ECF6",
            "gridcolor": "white",
            "gridwidth": 2,
            "linecolor": "white",
            "showbackground": true,
            "ticks": "",
            "zerolinecolor": "white"
           },
           "zaxis": {
            "backgroundcolor": "#E5ECF6",
            "gridcolor": "white",
            "gridwidth": 2,
            "linecolor": "white",
            "showbackground": true,
            "ticks": "",
            "zerolinecolor": "white"
           }
          },
          "shapedefaults": {
           "line": {
            "color": "#2a3f5f"
           }
          },
          "ternary": {
           "aaxis": {
            "gridcolor": "white",
            "linecolor": "white",
            "ticks": ""
           },
           "baxis": {
            "gridcolor": "white",
            "linecolor": "white",
            "ticks": ""
           },
           "bgcolor": "#E5ECF6",
           "caxis": {
            "gridcolor": "white",
            "linecolor": "white",
            "ticks": ""
           }
          },
          "title": {
           "x": 0.05
          },
          "xaxis": {
           "automargin": true,
           "gridcolor": "white",
           "linecolor": "white",
           "ticks": "",
           "title": {
            "standoff": 15
           },
           "zerolinecolor": "white",
           "zerolinewidth": 2
          },
          "yaxis": {
           "automargin": true,
           "gridcolor": "white",
           "linecolor": "white",
           "ticks": "",
           "title": {
            "standoff": 15
           },
           "zerolinecolor": "white",
           "zerolinewidth": 2
          }
         }
        },
        "title": {
         "text": "3D View of Advertising Channels and Sales"
        }
       }
      }
     },
     "metadata": {},
     "output_type": "display_data"
    }
   ],
   "source": [
    "# Interactive 3D scatter plot\n",
    "fig = px.scatter_3d(df, x='TV', y='Radio', z='Newspaper', color='Sales',\n",
    "                    title='3D View of Advertising Channels and Sales',\n",
    "                    labels={'TV': 'TV Budget', 'Radio': 'Radio Budget', 'Newspaper': 'Newspaper Budget'},\n",
    "                    opacity=0.7, size_max=10,\n",
    "                    color_continuous_scale=px.colors.sequential.Viridis)\n",
    "fig.update_layout(margin=dict(l=0, r=0, b=0, t=30))\n",
    "fig.show()"
   ]
  },
  {
   "cell_type": "code",
   "execution_count": 8,
   "id": "002f8b2b",
   "metadata": {},
   "outputs": [
    {
     "data": {
      "image/png": "[encoded data removed]",
      "text/plain": [
       "<Figure size 1000x1000 with 14 Axes>"
      ]
     },
     "metadata": {},
     "output_type": "display_data"
    }
   ],
   "source": [
    "# Pairplot to visualize relationships\n",
    "sns.pairplot(df, diag_kind='kde', corner=True)\n",
    "plt.suptitle('Pairwise Relationships in Advertising Dataset', y=1.02)\n",
    "plt.show()"
   ]
  },
  {
   "cell_type": "markdown",
   "id": "46f1fba1",
   "metadata": {},
   "source": [
    "Feature Engineering"
   ]
  },
  {
   "cell_type": "code",
   "execution_count": 9,
   "id": "135ee6f2",
   "metadata": {},
   "outputs": [
    {
     "data": {
      "text/html": [
       "<div>\n",
       "<style scoped>\n",
       "    .dataframe tbody tr th:only-of-type {\n",
       "        vertical-align: middle;\n",
       "    }\n",
       "\n",
       "    .dataframe tbody tr th {\n",
       "        vertical-align: top;\n",
       "    }\n",
       "\n",
       "    .dataframe thead th {\n",
       "        text-align: right;\n",
       "    }\n",
       "</style>\n",
       "<table border=\"1\" class=\"dataframe\">\n",
       "  <thead>\n",
       "    <tr style=\"text-align: right;\">\n",
       "      <th></th>\n",
       "      <th>Total_Spend</th>\n",
       "      <th>TV_Radio_Interaction</th>\n",
       "      <th>Spend_Ratio_TV</th>\n",
       "      <th>Spend_Ratio_Radio</th>\n",
       "      <th>Spend_Ratio_Newspaper</th>\n",
       "    </tr>\n",
       "  </thead>\n",
       "  <tbody>\n",
       "    <tr>\n",
       "      <th>0</th>\n",
       "      <td>337.1</td>\n",
       "      <td>8697.78</td>\n",
       "      <td>0.682587</td>\n",
       "      <td>0.112133</td>\n",
       "      <td>0.205280</td>\n",
       "    </tr>\n",
       "    <tr>\n",
       "      <th>1</th>\n",
       "      <td>128.9</td>\n",
       "      <td>1748.85</td>\n",
       "      <td>0.345229</td>\n",
       "      <td>0.304888</td>\n",
       "      <td>0.349884</td>\n",
       "    </tr>\n",
       "    <tr>\n",
       "      <th>2</th>\n",
       "      <td>132.4</td>\n",
       "      <td>789.48</td>\n",
       "      <td>0.129909</td>\n",
       "      <td>0.346677</td>\n",
       "      <td>0.523414</td>\n",
       "    </tr>\n",
       "    <tr>\n",
       "      <th>3</th>\n",
       "      <td>251.3</td>\n",
       "      <td>6256.95</td>\n",
       "      <td>0.602865</td>\n",
       "      <td>0.164345</td>\n",
       "      <td>0.232789</td>\n",
       "    </tr>\n",
       "    <tr>\n",
       "      <th>4</th>\n",
       "      <td>250.0</td>\n",
       "      <td>1952.64</td>\n",
       "      <td>0.723200</td>\n",
       "      <td>0.043200</td>\n",
       "      <td>0.233600</td>\n",
       "    </tr>\n",
       "  </tbody>\n",
       "</table>\n",
       "</div>"
      ],
      "text/plain": [
       "   Total_Spend  TV_Radio_Interaction  Spend_Ratio_TV  Spend_Ratio_Radio  \\\n",
       "0        337.1               8697.78        0.682587           0.112133   \n",
       "1        128.9               1748.85        0.345229           0.304888   \n",
       "2        132.4                789.48        0.129909           0.346677   \n",
       "3        251.3               6256.95        0.602865           0.164345   \n",
       "4        250.0               1952.64        0.723200           0.043200   \n",
       "\n",
       "   Spend_Ratio_Newspaper  \n",
       "0               0.205280  \n",
       "1               0.349884  \n",
       "2               0.523414  \n",
       "3               0.232789  \n",
       "4               0.233600  "
      ]
     },
     "execution_count": 9,
     "metadata": {},
     "output_type": "execute_result"
    }
   ],
   "source": [
    "# Create new features\n",
    "df['Total_Spend'] = df['TV'] + df['Radio'] + df['Newspaper']\n",
    "df['TV_Radio_Interaction'] = df['TV'] * df['Radio']\n",
    "df['TV_Newspaper_Interaction'] = df['TV'] * df['Newspaper']\n",
    "df['Radio_Newspaper_Interaction'] = df['Radio'] * df['Newspaper']\n",
    "df['Spend_Ratio_TV'] = df['TV'] / df['Total_Spend']\n",
    "df['Spend_Ratio_Radio'] = df['Radio'] / df['Total_Spend']\n",
    "df['Spend_Ratio_Newspaper'] = df['Newspaper'] / df['Total_Spend']\n",
    "\n",
    "# Replace infinite values with 0 (from division by zero)\n",
    "df = df.replace([np.inf, -np.inf], 0)\n",
    "\n",
    "# Display new features\n",
    "df[['Total_Spend', 'TV_Radio_Interaction', \n",
    "    'Spend_Ratio_TV', 'Spend_Ratio_Radio', 'Spend_Ratio_Newspaper']].head()"
   ]
  },
  {
   "cell_type": "markdown",
   "id": "fc6b77d2",
   "metadata": {},
   "source": [
    "Prepare Data for Modeling"
   ]
  },
  {
   "cell_type": "code",
   "execution_count": 10,
   "id": "61c76e1b",
   "metadata": {},
   "outputs": [
    {
     "name": "stdout",
     "output_type": "stream",
     "text": [
      "Training set: (160, 10), (160,)\n",
      "Test set: (40, 10), (40,)\n"
     ]
    }
   ],
   "source": [
    "# Define features and target variable\n",
    "X = df.drop('Sales', axis=1)\n",
    "y = df['Sales']\n",
    "\n",
    "# Split the data\n",
    "X_train, X_test, y_train, y_test = train_test_split(X, y, test_size=0.2, random_state=42)\n",
    "\n",
    "print(f\"Training set: {X_train.shape}, {y_train.shape}\")\n",
    "print(f\"Test set: {X_test.shape}, {y_test.shape}\")"
   ]
  },
  {
   "cell_type": "markdown",
   "id": "b60613e1",
   "metadata": {},
   "source": [
    "Model Building and Evaluation"
   ]
  },
  {
   "cell_type": "code",
   "execution_count": 11,
   "id": "92b7fec9",
   "metadata": {},
   "outputs": [
    {
     "data": {
      "text/html": [
       "<div>\n",
       "<style scoped>\n",
       "    .dataframe tbody tr th:only-of-type {\n",
       "        vertical-align: middle;\n",
       "    }\n",
       "\n",
       "    .dataframe tbody tr th {\n",
       "        vertical-align: top;\n",
       "    }\n",
       "\n",
       "    .dataframe thead th {\n",
       "        text-align: right;\n",
       "    }\n",
       "</style>\n",
       "<table border=\"1\" class=\"dataframe\">\n",
       "  <thead>\n",
       "    <tr style=\"text-align: right;\">\n",
       "      <th></th>\n",
       "      <th>RMSE</th>\n",
       "      <th>MAE</th>\n",
       "      <th>R2</th>\n",
       "    </tr>\n",
       "  </thead>\n",
       "  <tbody>\n",
       "    <tr>\n",
       "      <th>Gradient Boosting</th>\n",
       "      <td>1.201966</td>\n",
       "      <td>0.856157</td>\n",
       "      <td>0.953247</td>\n",
       "    </tr>\n",
       "    <tr>\n",
       "      <th>Random Forest</th>\n",
       "      <td>1.239537</td>\n",
       "      <td>0.848250</td>\n",
       "      <td>0.950278</td>\n",
       "    </tr>\n",
       "    <tr>\n",
       "      <th>Ridge Regression</th>\n",
       "      <td>1.335109</td>\n",
       "      <td>1.000672</td>\n",
       "      <td>0.942315</td>\n",
       "    </tr>\n",
       "    <tr>\n",
       "      <th>Linear Regression</th>\n",
       "      <td>1.390696</td>\n",
       "      <td>1.050516</td>\n",
       "      <td>0.937412</td>\n",
       "    </tr>\n",
       "    <tr>\n",
       "      <th>Lasso Regression</th>\n",
       "      <td>1.535746</td>\n",
       "      <td>1.222095</td>\n",
       "      <td>0.923675</td>\n",
       "    </tr>\n",
       "    <tr>\n",
       "      <th>Support Vector Regression</th>\n",
       "      <td>1.950557</td>\n",
       "      <td>1.479146</td>\n",
       "      <td>0.876876</td>\n",
       "    </tr>\n",
       "  </tbody>\n",
       "</table>\n",
       "</div>"
      ],
      "text/plain": [
       "                               RMSE       MAE        R2\n",
       "Gradient Boosting          1.201966  0.856157  0.953247\n",
       "Random Forest              1.239537  0.848250  0.950278\n",
       "Ridge Regression           1.335109  1.000672  0.942315\n",
       "Linear Regression          1.390696  1.050516  0.937412\n",
       "Lasso Regression           1.535746  1.222095  0.923675\n",
       "Support Vector Regression  1.950557  1.479146  0.876876"
      ]
     },
     "execution_count": 11,
     "metadata": {},
     "output_type": "execute_result"
    }
   ],
   "source": [
    "# Initialize models\n",
    "models = {\n",
    "    'Linear Regression': LinearRegression(),\n",
    "    'Ridge Regression': Ridge(),\n",
    "    'Lasso Regression': Lasso(),\n",
    "    'Random Forest': RandomForestRegressor(n_estimators=100, random_state=42),\n",
    "    'Gradient Boosting': GradientBoostingRegressor(random_state=42),\n",
    "    'Support Vector Regression': SVR()\n",
    "}\n",
    "\n",
    "# Train and evaluate models\n",
    "results = {}\n",
    "for name, model in models.items():\n",
    "    model.fit(X_train, y_train)\n",
    "    y_pred = model.predict(X_test)\n",
    "    \n",
    "    mse = mean_squared_error(y_test, y_pred)\n",
    "    rmse = np.sqrt(mse)\n",
    "    mae = mean_absolute_error(y_test, y_pred)\n",
    "    r2 = r2_score(y_test, y_pred)\n",
    "    \n",
    "    results[name] = {\n",
    "        'RMSE': rmse,\n",
    "        'MAE': mae,\n",
    "        'R2': r2\n",
    "    }\n",
    "\n",
    "# Create results dataframe\n",
    "results_df = pd.DataFrame(results).T\n",
    "results_df = results_df.sort_values('R2', ascending=False)\n",
    "results_df"
   ]
  },
  {
   "cell_type": "code",
   "execution_count": 12,
   "id": "048d7635",
   "metadata": {},
   "outputs": [
    {
     "data": {
      "image/png": "[encoded data removed]",
      "text/plain": [
       "<Figure size 1500x500 with 2 Axes>"
      ]
     },
     "metadata": {},
     "output_type": "display_data"
    }
   ],
   "source": [
    "# Visualize model performance\n",
    "fig, (ax1, ax2) = plt.subplots(1, 2, figsize=(15, 5))\n",
    "\n",
    "# R2 Score\n",
    "ax1.bar(results_df.index, results_df['R2'], color='lightblue')\n",
    "ax1.set_title('R2 Score by Model')\n",
    "ax1.set_ylabel('R2 Score')\n",
    "ax1.tick_params(axis='x', rotation=45)\n",
    "\n",
    "# RMSE\n",
    "ax2.bar(results_df.index, results_df['RMSE'], color='lightcoral')\n",
    "ax2.set_title('RMSE by Model')\n",
    "ax2.set_ylabel('RMSE')\n",
    "ax2.tick_params(axis='x', rotation=45)\n",
    "\n",
    "plt.tight_layout()\n",
    "plt.show()"
   ]
  },
  {
   "cell_type": "markdown",
   "id": "56bd72dd",
   "metadata": {},
   "source": [
    "Hyperparameter Tuning for Best Model"
   ]
  },
  {
   "cell_type": "code",
   "execution_count": 13,
   "id": "9518b5e7",
   "metadata": {},
   "outputs": [
    {
     "name": "stdout",
     "output_type": "stream",
     "text": [
      "Fitting 5 folds for each of 108 candidates, totalling 540 fits\n",
      "Best parameters: {'max_depth': None, 'min_samples_leaf': 1, 'min_samples_split': 2, 'n_estimators': 200}\n",
      "Best cross-validation score: 0.94\n",
      "Tuned model R2 on test set: 0.9504\n"
     ]
    }
   ],
   "source": [
    "# Tune Random Forest parameters\n",
    "param_grid = {\n",
    "    'n_estimators': [50, 100, 200],\n",
    "    'max_depth': [None, 10, 20, 30],\n",
    "    'min_samples_split': [2, 5, 10],\n",
    "    'min_samples_leaf': [1, 2, 4]\n",
    "}\n",
    "\n",
    "rf = RandomForestRegressor(random_state=42)\n",
    "grid_search = GridSearchCV(estimator=rf, param_grid=param_grid, \n",
    "                           cv=5, scoring='r2', n_jobs=-1, verbose=1)\n",
    "grid_search.fit(X_train, y_train)\n",
    "\n",
    "print(\"Best parameters:\", grid_search.best_params_)\n",
    "print(\"Best cross-validation score: {:.2f}\".format(grid_search.best_score_))\n",
    "\n",
    "# Use best model\n",
    "best_rf = grid_search.best_estimator_\n",
    "y_pred = best_rf.predict(X_test)\n",
    "r2_tuned = r2_score(y_test, y_pred)\n",
    "print(\"Tuned model R2 on test set: {:.4f}\".format(r2_tuned))"
   ]
  },
  {
   "cell_type": "markdown",
   "id": "29ce3eef",
   "metadata": {},
   "source": [
    "Feature Importance Analysis"
   ]
  },
  {
   "cell_type": "code",
   "execution_count": 14,
   "id": "6eac6116",
   "metadata": {},
   "outputs": [
    {
     "data": {
      "image/png": "[encoded data removed]",
      "text/plain": [
       "<Figure size 1000x600 with 1 Axes>"
      ]
     },
     "metadata": {},
     "output_type": "display_data"
    }
   ],
   "source": [
    "# Get feature importance from the best model\n",
    "feature_importance = best_rf.feature_importances_\n",
    "feature_names = X.columns\n",
    "\n",
    "# Create dataframe for feature importance\n",
    "importance_df = pd.DataFrame({\n",
    "    'Feature': feature_names,\n",
    "    'Importance': feature_importance\n",
    "}).sort_values('Importance', ascending=False)\n",
    "\n",
    "# Plot feature importance\n",
    "plt.figure(figsize=(10, 6))\n",
    "sns.barplot(x='Importance', y='Feature', data=importance_df, palette='viridis')\n",
    "plt.title('Feature Importance in Sales Prediction')\n",
    "plt.tight_layout()\n",
    "plt.show()"
   ]
  },
  {
   "cell_type": "markdown",
   "id": "abdf9999",
   "metadata": {},
   "source": [
    "Interactive Prediction Dashboard"
   ]
  },
  {
   "cell_type": "code",
   "execution_count": 16,
   "id": "4aa81ead",
   "metadata": {},
   "outputs": [
    {
     "name": "stdout",
     "output_type": "stream",
     "text": [
      "Predicted sales for TV: $230.1K, Radio: $37.8K, Newspaper: $69.2K\n",
      "Predicted Sales: $22.08K\n",
      "Actual Sales: $22.1K\n"
     ]
    }
   ],
   "source": [
    "# Create interactive prediction tool\n",
    "def predict_sales(tv_budget, radio_budget, newspaper_budget):\n",
    "    # Create input array\n",
    "    input_data = np.array([[tv_budget, radio_budget, newspaper_budget, \n",
    "                           tv_budget+radio_budget+newspaper_budget,\n",
    "                           tv_budget*radio_budget,\n",
    "                           tv_budget*newspaper_budget,\n",
    "                           radio_budget*newspaper_budget,\n",
    "                           tv_budget/(tv_budget+radio_budget+newspaper_budget) if (tv_budget+radio_budget+newspaper_budget) > 0 else 0,\n",
    "                           radio_budget/(tv_budget+radio_budget+newspaper_budget) if (tv_budget+radio_budget+newspaper_budget) > 0 else 0,\n",
    "                           newspaper_budget/(tv_budget+radio_budget+newspaper_budget) if (tv_budget+radio_budget+newspaper_budget) > 0 else 0]])\n",
    "    \n",
    "    # Make prediction\n",
    "    prediction = best_rf.predict(input_data)[0]\n",
    "    \n",
    "    return prediction\n",
    "\n",
    "# Test the function\n",
    "sample_prediction = predict_sales(230.1, 37.8, 69.2)\n",
    "print(f\"Predicted sales for TV: $230.1K, Radio: $37.8K, Newspaper: $69.2K\")\n",
    "print(f\"Predicted Sales: ${sample_prediction:.2f}K\")\n",
    "print(f\"Actual Sales: $22.1K\")"
   ]
  },
  {
   "cell_type": "markdown",
   "id": "ec180c3d",
   "metadata": {},
   "source": [
    "Advanced Visualization - ROI by Channel"
   ]
  },
  {
   "cell_type": "code",
   "execution_count": 17,
   "id": "56881b46",
   "metadata": {},
   "outputs": [
    {
     "data": {
      "application/vnd.plotly.v1+json": {
       "config": {
        "plotlyServerURL": "https://plot.ly"
       },
       "data": [
        {
         "hovertemplate": "Channel=%{x}<br>ROI (%)=%{y}<extra></extra>",
         "legendgroup": "TV",
         "marker": {
          "color": "#1f77b4",
          "pattern": {
           "shape": ""
          }
         },
         "name": "TV",
         "orientation": "v",
         "showlegend": true,
         "textposition": "auto",
         "type": "bar",
         "x": [
          "TV"
         ],
         "xaxis": "x",
         "y": {
          "bdata": "vcLSrZcvFkA=",
          "dtype": "f8"
         },
         "yaxis": "y"
        },
        {
         "hovertemplate": "Channel=%{x}<br>ROI (%)=%{y}<extra></extra>",
         "legendgroup": "Radio",
         "marker": {
          "color": "#ff7f0e",
          "pattern": {
           "shape": ""
          }
         },
         "name": "Radio",
         "orientation": "v",
         "showlegend": true,
         "textposition": "auto",
         "type": "bar",
         "x": [
          "Radio"
         ],
         "xaxis": "x",
         "y": {
          "bdata": "CdZSmObiKEA=",
          "dtype": "f8"
         },
         "yaxis": "y"
        },
        {
         "hovertemplate": "Channel=%{x}<br>ROI (%)=%{y}<extra></extra>",
         "legendgroup": "Newspaper",
         "marker": {
          "color": "#2ca02c",
          "pattern": {
           "shape": ""
          }
         },
         "name": "Newspaper",
         "orientation": "v",
         "showlegend": true,
         "textposition": "auto",
         "type": "bar",
         "x": [
          "Newspaper"
         ],
         "xaxis": "x",
         "y": {
          "bdata": "7UMXE8GoDkA=",
          "dtype": "f8"
         },
         "yaxis": "y"
        }
       ],
       "layout": {
        "barmode": "relative",
        "legend": {
         "title": {
          "text": "Channel"
         },
         "tracegroupgap": 0
        },
        "template": {
         "data": {
          "bar": [
           {
            "error_x": {
             "color": "#2a3f5f"
            },
            "error_y": {
             "color": "#2a3f5f"
            },
            "marker": {
             "line": {
              "color": "#E5ECF6",
              "width": 0.5
             },
             "pattern": {
              "fillmode": "overlay",
              "size": 10,
              "solidity": 0.2
             }
            },
            "type": "bar"
           }
          ],
          "barpolar": [
           {
            "marker": {
             "line": {
              "color": "#E5ECF6",
              "width": 0.5
             },
             "pattern": {
              "fillmode": "overlay",
              "size": 10,
              "solidity": 0.2
             }
            },
            "type": "barpolar"
           }
          ],
          "carpet": [
           {
            "aaxis": {
             "endlinecolor": "#2a3f5f",
             "gridcolor": "white",
             "linecolor": "white",
             "minorgridcolor": "white",
             "startlinecolor": "#2a3f5f"
            },
            "baxis": {
             "endlinecolor": "#2a3f5f",
             "gridcolor": "white",
             "linecolor": "white",
             "minorgridcolor": "white",
             "startlinecolor": "#2a3f5f"
            },
            "type": "carpet"
           }
          ],
          "choropleth": [
           {
            "colorbar": {
             "outlinewidth": 0,
             "ticks": ""
            },
            "type": "choropleth"
           }
          ],
          "contour": [
           {
            "colorbar": {
             "outlinewidth": 0,
             "ticks": ""
            },
            "colorscale": [
             [
              0,
              "#0d0887"
             ],
             [
              0.1111111111111111,
              "#46039f"
             ],
             [
              0.2222222222222222,
              "#7201a8"
             ],
             [
              0.3333333333333333,
              "#9c179e"
             ],
             [
              0.4444444444444444,
              "#bd3786"
             ],
             [
              0.5555555555555556,
              "#d8576b"
             ],
             [
              0.6666666666666666,
              "#ed7953"
             ],
             [
              0.7777777777777778,
              "#fb9f3a"
             ],
             [
              0.8888888888888888,
              "#fdca26"
             ],
             [
              1,
              "#f0f921"
             ]
            ],
            "type": "contour"
           }
          ],
          "contourcarpet": [
           {
            "colorbar": {
             "outlinewidth": 0,
             "ticks": ""
            },
            "type": "contourcarpet"
           }
          ],
          "heatmap": [
           {
            "colorbar": {
             "outlinewidth": 0,
             "ticks": ""
            },
            "colorscale": [
             [
              0,
              "#0d0887"
             ],
             [
              0.1111111111111111,
              "#46039f"
             ],
             [
              0.2222222222222222,
              "#7201a8"
             ],
             [
              0.3333333333333333,
              "#9c179e"
             ],
             [
              0.4444444444444444,
              "#bd3786"
             ],
             [
              0.5555555555555556,
              "#d8576b"
             ],
             [
              0.6666666666666666,
              "#ed7953"
             ],
             [
              0.7777777777777778,
              "#fb9f3a"
             ],
             [
              0.8888888888888888,
              "#fdca26"
             ],
             [
              1,
              "#f0f921"
             ]
            ],
            "type": "heatmap"
           }
          ],
          "histogram": [
           {
            "marker": {
             "pattern": {
              "fillmode": "overlay",
              "size": 10,
              "solidity": 0.2
             }
            },
            "type": "histogram"
           }
          ],
          "histogram2d": [
           {
            "colorbar": {
             "outlinewidth": 0,
             "ticks": ""
            },
            "colorscale": [
             [
              0,
              "#0d0887"
             ],
             [
              0.1111111111111111,
              "#46039f"
             ],
             [
              0.2222222222222222,
              "#7201a8"
             ],
             [
              0.3333333333333333,
              "#9c179e"
             ],
             [
              0.4444444444444444,
              "#bd3786"
             ],
             [
              0.5555555555555556,
              "#d8576b"
             ],
             [
              0.6666666666666666,
              "#ed7953"
             ],
             [
              0.7777777777777778,
              "#fb9f3a"
             ],
             [
              0.8888888888888888,
              "#fdca26"
             ],
             [
              1,
              "#f0f921"
             ]
            ],
            "type": "histogram2d"
           }
          ],
          "histogram2dcontour": [
           {
            "colorbar": {
             "outlinewidth": 0,
             "ticks": ""
            },
            "colorscale": [
             [
              0,
              "#0d0887"
             ],
             [
              0.1111111111111111,
              "#46039f"
             ],
             [
              0.2222222222222222,
              "#7201a8"
             ],
             [
              0.3333333333333333,
              "#9c179e"
             ],
             [
              0.4444444444444444,
              "#bd3786"
             ],
             [
              0.5555555555555556,
              "#d8576b"
             ],
             [
              0.6666666666666666,
              "#ed7953"
             ],
             [
              0.7777777777777778,
              "#fb9f3a"
             ],
             [
              0.8888888888888888,
              "#fdca26"
             ],
             [
              1,
              "#f0f921"
             ]
            ],
            "type": "histogram2dcontour"
           }
          ],
          "mesh3d": [
           {
            "colorbar": {
             "outlinewidth": 0,
             "ticks": ""
            },
            "type": "mesh3d"
           }
          ],
          "parcoords": [
           {
            "line": {
             "colorbar": {
              "outlinewidth": 0,
              "ticks": ""
             }
            },
            "type": "parcoords"
           }
          ],
          "pie": [
           {
            "automargin": true,
            "type": "pie"
           }
          ],
          "scatter": [
           {
            "fillpattern": {
             "fillmode": "overlay",
             "size": 10,
             "solidity": 0.2
            },
            "type": "scatter"
           }
          ],
          "scatter3d": [
           {
            "line": {
             "colorbar": {
              "outlinewidth": 0,
              "ticks": ""
             }
            },
            "marker": {
             "colorbar": {
              "outlinewidth": 0,
              "ticks": ""
             }
            },
            "type": "scatter3d"
           }
          ],
          "scattercarpet": [
           {
            "marker": {
             "colorbar": {
              "outlinewidth": 0,
              "ticks": ""
             }
            },
            "type": "scattercarpet"
           }
          ],
          "scattergeo": [
           {
            "marker": {
             "colorbar": {
              "outlinewidth": 0,
              "ticks": ""
             }
            },
            "type": "scattergeo"
           }
          ],
          "scattergl": [
           {
            "marker": {
             "colorbar": {
              "outlinewidth": 0,
              "ticks": ""
             }
            },
            "type": "scattergl"
           }
          ],
          "scattermap": [
           {
            "marker": {
             "colorbar": {
              "outlinewidth": 0,
              "ticks": ""
             }
            },
            "type": "scattermap"
           }
          ],
          "scattermapbox": [
           {
            "marker": {
             "colorbar": {
              "outlinewidth": 0,
              "ticks": ""
             }
            },
            "type": "scattermapbox"
           }
          ],
          "scatterpolar": [
           {
            "marker": {
             "colorbar": {
              "outlinewidth": 0,
              "ticks": ""
             }
            },
            "type": "scatterpolar"
           }
          ],
          "scatterpolargl": [
           {
            "marker": {
             "colorbar": {
              "outlinewidth": 0,
              "ticks": ""
             }
            },
            "type": "scatterpolargl"
           }
          ],
          "scatterternary": [
           {
            "marker": {
             "colorbar": {
              "outlinewidth": 0,
              "ticks": ""
             }
            },
            "type": "scatterternary"
           }
          ],
          "surface": [
           {
            "colorbar": {
             "outlinewidth": 0,
             "ticks": ""
            },
            "colorscale": [
             [
              0,
              "#0d0887"
             ],
             [
              0.1111111111111111,
              "#46039f"
             ],
             [
              0.2222222222222222,
              "#7201a8"
             ],
             [
              0.3333333333333333,
              "#9c179e"
             ],
             [
              0.4444444444444444,
              "#bd3786"
             ],
             [
              0.5555555555555556,
              "#d8576b"
             ],
             [
              0.6666666666666666,
              "#ed7953"
             ],
             [
              0.7777777777777778,
              "#fb9f3a"
             ],
             [
              0.8888888888888888,
              "#fdca26"
             ],
             [
              1,
              "#f0f921"
             ]
            ],
            "type": "surface"
           }
          ],
          "table": [
           {
            "cells": {
             "fill": {
              "color": "#EBF0F8"
             },
             "line": {
              "color": "white"
             }
            },
            "header": {
             "fill": {
              "color": "#C8D4E3"
             },
             "line": {
              "color": "white"
             }
            },
            "type": "table"
           }
          ]
         },
         "layout": {
          "annotationdefaults": {
           "arrowcolor": "#2a3f5f",
           "arrowhead": 0,
           "arrowwidth": 1
          },
          "autotypenumbers": "strict",
          "coloraxis": {
           "colorbar": {
            "outlinewidth": 0,
            "ticks": ""
           }
          },
          "colorscale": {
           "diverging": [
            [
             0,
             "#8e0152"
            ],
            [
             0.1,
             "#c51b7d"
            ],
            [
             0.2,
             "#de77ae"
            ],
            [
             0.3,
             "#f1b6da"
            ],
            [
             0.4,
             "#fde0ef"
            ],
            [
             0.5,
             "#f7f7f7"
            ],
            [
             0.6,
             "#e6f5d0"
            ],
            [
             0.7,
             "#b8e186"
            ],
            [
             0.8,
             "#7fbc41"
            ],
            [
             0.9,
             "#4d9221"
            ],
            [
             1,
             "#276419"
            ]
           ],
           "sequential": [
            [
             0,
             "#0d0887"
            ],
            [
             0.1111111111111111,
             "#46039f"
            ],
            [
             0.2222222222222222,
             "#7201a8"
            ],
            [
             0.3333333333333333,
             "#9c179e"
            ],
            [
             0.4444444444444444,
             "#bd3786"
            ],
            [
             0.5555555555555556,
             "#d8576b"
            ],
            [
             0.6666666666666666,
             "#ed7953"
            ],
            [
             0.7777777777777778,
             "#fb9f3a"
            ],
            [
             0.8888888888888888,
             "#fdca26"
            ],
            [
             1,
             "#f0f921"
            ]
           ],
           "sequentialminus": [
            [
             0,
             "#0d0887"
            ],
            [
             0.1111111111111111,
             "#46039f"
            ],
            [
             0.2222222222222222,
             "#7201a8"
            ],
            [
             0.3333333333333333,
             "#9c179e"
            ],
            [
             0.4444444444444444,
             "#bd3786"
            ],
            [
             0.5555555555555556,
             "#d8576b"
            ],
            [
             0.6666666666666666,
             "#ed7953"
            ],
            [
             0.7777777777777778,
             "#fb9f3a"
            ],
            [
             0.8888888888888888,
             "#fdca26"
            ],
            [
             1,
             "#f0f921"
            ]
           ]
          },
          "colorway": [
           "#636efa",
           "#EF553B",
           "#00cc96",
           "#ab63fa",
           "#FFA15A",
           "#19d3f3",
           "#FF6692",
           "#B6E880",
           "#FF97FF",
           "#FECB52"
          ],
          "font": {
           "color": "#2a3f5f"
          },
          "geo": {
           "bgcolor": "white",
           "lakecolor": "white",
           "landcolor": "#E5ECF6",
           "showlakes": true,
           "showland": true,
           "subunitcolor": "white"
          },
          "hoverlabel": {
           "align": "left"
          },
          "hovermode": "closest",
          "mapbox": {
           "style": "light"
          },
          "paper_bgcolor": "white",
          "plot_bgcolor": "#E5ECF6",
          "polar": {
           "angularaxis": {
            "gridcolor": "white",
            "linecolor": "white",
            "ticks": ""
           },
           "bgcolor": "#E5ECF6",
           "radialaxis": {
            "gridcolor": "white",
            "linecolor": "white",
            "ticks": ""
           }
          },
          "scene": {
           "xaxis": {
            "backgroundcolor": "#E5ECF6",
            "gridcolor": "white",
            "gridwidth": 2,
            "linecolor": "white",
            "showbackground": true,
            "ticks": "",
            "zerolinecolor": "white"
           },
           "yaxis": {
            "backgroundcolor": "#E5ECF6",
            "gridcolor": "white",
            "gridwidth": 2,
            "linecolor": "white",
            "showbackground": true,
            "ticks": "",
            "zerolinecolor": "white"
           },
           "zaxis": {
            "backgroundcolor": "#E5ECF6",
            "gridcolor": "white",
            "gridwidth": 2,
            "linecolor": "white",
            "showbackground": true,
            "ticks": "",
            "zerolinecolor": "white"
           }
          },
          "shapedefaults": {
           "line": {
            "color": "#2a3f5f"
           }
          },
          "ternary": {
           "aaxis": {
            "gridcolor": "white",
            "linecolor": "white",
            "ticks": ""
           },
           "baxis": {
            "gridcolor": "white",
            "linecolor": "white",
            "ticks": ""
           },
           "bgcolor": "#E5ECF6",
           "caxis": {
            "gridcolor": "white",
            "linecolor": "white",
            "ticks": ""
           }
          },
          "title": {
           "x": 0.05
          },
          "xaxis": {
           "automargin": true,
           "gridcolor": "white",
           "linecolor": "white",
           "ticks": "",
           "title": {
            "standoff": 15
           },
           "zerolinecolor": "white",
           "zerolinewidth": 2
          },
          "yaxis": {
           "automargin": true,
           "gridcolor": "white",
           "linecolor": "white",
           "ticks": "",
           "title": {
            "standoff": 15
           },
           "zerolinecolor": "white",
           "zerolinewidth": 2
          }
         }
        },
        "title": {
         "text": "Return on Investment (ROI) by Advertising Channel"
        },
        "xaxis": {
         "anchor": "y",
         "categoryarray": [
          "TV",
          "Radio",
          "Newspaper"
         ],
         "categoryorder": "array",
         "domain": [
          0,
          1
         ],
         "title": {
          "text": "Channel"
         }
        },
        "yaxis": {
         "anchor": "x",
         "domain": [
          0,
          1
         ],
         "title": {
          "text": "ROI (%)"
         }
        }
       }
      }
     },
     "metadata": {},
     "output_type": "display_data"
    }
   ],
   "source": [
    "# Calculate ROI for each channel\n",
    "roi_tv = (df['Sales'].corr(df['TV']) * (df['Sales'].std() / df['TV'].std())) * 100\n",
    "roi_radio = (df['Sales'].corr(df['Radio']) * (df['Sales'].std() / df['Radio'].std())) * 100\n",
    "roi_newspaper = (df['Sales'].corr(df['Newspaper']) * (df['Sales'].std() / df['Newspaper'].std())) * 100\n",
    "\n",
    "roi_data = {\n",
    "    'Channel': ['TV', 'Radio', 'Newspaper'],\n",
    "    'ROI (%)': [roi_tv, roi_radio, roi_newspaper]\n",
    "}\n",
    "\n",
    "roi_df = pd.DataFrame(roi_data)\n",
    "\n",
    "# Create interactive ROI chart\n",
    "fig = px.bar(roi_df, x='Channel', y='ROI (%)', \n",
    "             title='Return on Investment (ROI) by Advertising Channel',\n",
    "             color='Channel', color_discrete_sequence=['#1f77b4', '#ff7f0e', '#2ca02c'])\n",
    "fig.show()"
   ]
  },
  {
   "cell_type": "markdown",
   "id": "0617aad5",
   "metadata": {},
   "source": [
    "Budget Optimization Simulation"
   ]
  },
  {
   "cell_type": "code",
   "execution_count": 18,
   "id": "0466c397",
   "metadata": {},
   "outputs": [
    {
     "name": "stdout",
     "output_type": "stream",
     "text": [
      "Optimal allocation for $500K budget:\n",
      "TV: $371.49K\n",
      "Radio: $87.33K\n",
      "Newspaper: $41.18K\n",
      "Predicted Sales: $26.34K\n"
     ]
    }
   ],
   "source": [
    "# Budget optimization simulation\n",
    "def optimize_budget(total_budget, n_simulations=1000):\n",
    "    best_combo = None\n",
    "    best_sales = 0\n",
    "    \n",
    "    for _ in range(n_simulations):\n",
    "        # Randomly allocate budget\n",
    "        tv_alloc = np.random.uniform(0.1, 0.8) * total_budget\n",
    "        remaining = total_budget - tv_alloc\n",
    "        radio_alloc = np.random.uniform(0.1, 0.7) * remaining\n",
    "        newspaper_alloc = remaining - radio_alloc\n",
    "        \n",
    "        # Ensure minimum allocation\n",
    "        if newspaper_alloc < 0:\n",
    "            continue\n",
    "            \n",
    "        # Predict sales\n",
    "        predicted_sales = predict_sales(tv_alloc, radio_alloc, newspaper_alloc)\n",
    "        \n",
    "        # Update best combination\n",
    "        if predicted_sales > best_sales:\n",
    "            best_sales = predicted_sales\n",
    "            best_combo = (tv_alloc, radio_alloc, newspaper_alloc)\n",
    "    \n",
    "    return best_combo, best_sales\n",
    "\n",
    "# Run optimization for a $500K budget\n",
    "optimal_alloc, max_sales = optimize_budget(500)\n",
    "print(f\"Optimal allocation for $500K budget:\")\n",
    "print(f\"TV: ${optimal_alloc[0]:.2f}K\")\n",
    "print(f\"Radio: ${optimal_alloc[1]:.2f}K\")\n",
    "print(f\"Newspaper: ${optimal_alloc[2]:.2f}K\")\n",
    "print(f\"Predicted Sales: ${max_sales:.2f}K\")"
   ]
  },
  {
   "cell_type": "markdown",
   "id": "bc66b791",
   "metadata": {},
   "source": [
    "Residual Analysis"
   ]
  },
  {
   "cell_type": "code",
   "execution_count": 19,
   "id": "1ac5bad6",
   "metadata": {},
   "outputs": [
    {
     "data": {
      "image/png": "[encoded data removed]",
      "text/plain": [
       "<Figure size 1500x500 with 2 Axes>"
      ]
     },
     "metadata": {},
     "output_type": "display_data"
    }
   ],
   "source": [
    "# Residual analysis\n",
    "y_pred = best_rf.predict(X_test)\n",
    "residuals = y_test - y_pred\n",
    "\n",
    "fig, (ax1, ax2) = plt.subplots(1, 2, figsize=(15, 5))\n",
    "\n",
    "# Residuals vs Predicted\n",
    "ax1.scatter(y_pred, residuals, alpha=0.7)\n",
    "ax1.axhline(y=0, color='r', linestyle='--')\n",
    "ax1.set_xlabel('Predicted Values')\n",
    "ax1.set_ylabel('Residuals')\n",
    "ax1.set_title('Residuals vs Predicted Values')\n",
    "\n",
    "# Distribution of residuals\n",
    "ax2.hist(residuals, bins=20, color='skyblue', edgecolor='black')\n",
    "ax2.set_xlabel('Residuals')\n",
    "ax2.set_ylabel('Frequency')\n",
    "ax2.set_title('Distribution of Residuals')\n",
    "\n",
    "plt.tight_layout()\n",
    "plt.show()"
   ]
  },
  {
   "cell_type": "markdown",
   "id": "75f6d62c",
   "metadata": {},
   "source": [
    "Sales Prediction Confidence Intervals"
   ]
  },
  {
   "cell_type": "code",
   "execution_count": 20,
   "id": "a91d2861",
   "metadata": {},
   "outputs": [
    {
     "name": "stdout",
     "output_type": "stream",
     "text": [
      "Predicted Sales: $19.07K\n",
      "95% Confidence Interval: ($18.28K, $19.51K)\n"
     ]
    }
   ],
   "source": [
    "# Calculate prediction intervals using bootstrapping\n",
    "def predict_with_interval(tv_budget, radio_budget, newspaper_budget, n_bootstraps=100):\n",
    "    predictions = []\n",
    "    \n",
    "    for _ in range(n_bootstraps):\n",
    "        # Bootstrap sample from training data\n",
    "        sample_idx = np.random.choice(len(X_train), size=len(X_train), replace=True)\n",
    "        X_sample = X_train.iloc[sample_idx]\n",
    "        y_sample = y_train.iloc[sample_idx]\n",
    "        \n",
    "        # Train model on bootstrap sample\n",
    "        model = RandomForestRegressor(n_estimators=100, random_state=42)\n",
    "        model.fit(X_sample, y_sample)\n",
    "        \n",
    "        # Make prediction\n",
    "        input_data = np.array([[tv_budget, radio_budget, newspaper_budget, \n",
    "                               tv_budget+radio_budget+newspaper_budget,\n",
    "                               tv_budget*radio_budget,\n",
    "                               tv_budget*newspaper_budget,\n",
    "                               radio_budget*newspaper_budget,\n",
    "                               tv_budget/(tv_budget+radio_budget+newspaper_budget) if (tv_budget+radio_budget+newspaper_budget) > 0 else 0,\n",
    "                               radio_budget/(tv_budget+radio_budget+newspaper_budget) if (tv_budget+radio_budget+newspaper_budget) > 0 else 0,\n",
    "                               newspaper_budget/(tv_budget+radio_budget+newspaper_budget) if (tv_budget+radio_budget+newspaper_budget) > 0 else 0]])\n",
    "        \n",
    "        predictions.append(model.predict(input_data)[0])\n",
    "    \n",
    "    # Calculate confidence interval\n",
    "    lower = np.percentile(predictions, 2.5)\n",
    "    upper = np.percentile(predictions, 97.5)\n",
    "    mean_pred = np.mean(predictions)\n",
    "    \n",
    "    return mean_pred, lower, upper\n",
    "\n",
    "# Test confidence interval prediction\n",
    "mean_pred, lower, upper = predict_with_interval(200, 35, 45)\n",
    "print(f\"Predicted Sales: ${mean_pred:.2f}K\")\n",
    "print(f\"95% Confidence Interval: (${lower:.2f}K, ${upper:.2f}K)\")"
   ]
  },
  {
   "cell_type": "markdown",
   "id": "60beb7a0",
   "metadata": {},
   "source": [
    "Create Interactive Dashboard with Plotly"
   ]
  },
  {
   "cell_type": "code",
   "execution_count": 21,
   "id": "98dfe00d",
   "metadata": {},
   "outputs": [
    {
     "data": {
      "application/vnd.plotly.v1+json": {
       "config": {
        "plotlyServerURL": "https://plot.ly"
       },
       "data": [
        {
         "marker": {
          "color": "blue",
          "opacity": 0.6
         },
         "mode": "markers",
         "name": "TV",
         "type": "scatter",
         "x": {
          "bdata": "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",
          "dtype": "f8"
         },
         "xaxis": "x",
         "y": {
          "bdata": "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",
          "dtype": "f8"
         },
         "yaxis": "y"
        },
        {
         "marker": {
          "color": "green",
          "opacity": 0.6
         },
         "mode": "markers",
         "name": "Radio",
         "type": "scatter",
         "x": {
          "bdata": "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",
          "dtype": "f8"
         },
         "xaxis": "x2",
         "y": {
          "bdata": "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",
          "dtype": "f8"
         },
         "yaxis": "y2"
        },
        {
         "marker": {
          "color": "red",
          "opacity": 0.6
         },
         "mode": "markers",
         "name": "Newspaper",
         "type": "scatter",
         "x": {
          "bdata": "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",
          "dtype": "f8"
         },
         "xaxis": "x3",
         "y": {
          "bdata": "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",
          "dtype": "f8"
         },
         "yaxis": "y3"
        },
        {
         "marker": {
          "color": "purple",
          "opacity": 0.6
         },
         "mode": "markers",
         "name": "Total Spend",
         "type": "scatter",
         "x": {
          "bdata": "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",
          "dtype": "f8"
         },
         "xaxis": "x4",
         "y": {
          "bdata": "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",
          "dtype": "f8"
         },
         "yaxis": "y4"
        }
       ],
       "layout": {
        "annotations": [
         {
          "font": {
           "size": 16
          },
          "showarrow": false,
          "text": "TV vs Sales",
          "x": 0.225,
          "xanchor": "center",
          "xref": "paper",
          "y": 1,
          "yanchor": "bottom",
          "yref": "paper"
         },
         {
          "font": {
           "size": 16
          },
          "showarrow": false,
          "text": "Radio vs Sales",
          "x": 0.775,
          "xanchor": "center",
          "xref": "paper",
          "y": 1,
          "yanchor": "bottom",
          "yref": "paper"
         },
         {
          "font": {
           "size": 16
          },
          "showarrow": false,
          "text": "Newspaper vs Sales",
          "x": 0.225,
          "xanchor": "center",
          "xref": "paper",
          "y": 0.375,
          "yanchor": "bottom",
          "yref": "paper"
         },
         {
          "font": {
           "size": 16
          },
          "showarrow": false,
          "text": "Total Spend vs Sales",
          "x": 0.775,
          "xanchor": "center",
          "xref": "paper",
          "y": 0.375,
          "yanchor": "bottom",
          "yref": "paper"
         }
        ],
        "height": 600,
        "template": {
         "data": {
          "bar": [
           {
            "error_x": {
             "color": "#2a3f5f"
            },
            "error_y": {
             "color": "#2a3f5f"
            },
            "marker": {
             "line": {
              "color": "#E5ECF6",
              "width": 0.5
             },
             "pattern": {
              "fillmode": "overlay",
              "size": 10,
              "solidity": 0.2
             }
            },
            "type": "bar"
           }
          ],
          "barpolar": [
           {
            "marker": {
             "line": {
              "color": "#E5ECF6",
              "width": 0.5
             },
             "pattern": {
              "fillmode": "overlay",
              "size": 10,
              "solidity": 0.2
             }
            },
            "type": "barpolar"
           }
          ],
          "carpet": [
           {
            "aaxis": {
             "endlinecolor": "#2a3f5f",
             "gridcolor": "white",
             "linecolor": "white",
             "minorgridcolor": "white",
             "startlinecolor": "#2a3f5f"
            },
            "baxis": {
             "endlinecolor": "#2a3f5f",
             "gridcolor": "white",
             "linecolor": "white",
             "minorgridcolor": "white",
             "startlinecolor": "#2a3f5f"
            },
            "type": "carpet"
           }
          ],
          "choropleth": [
           {
            "colorbar": {
             "outlinewidth": 0,
             "ticks": ""
            },
            "type": "choropleth"
           }
          ],
          "contour": [
           {
            "colorbar": {
             "outlinewidth": 0,
             "ticks": ""
            },
            "colorscale": [
             [
              0,
              "#0d0887"
             ],
             [
              0.1111111111111111,
              "#46039f"
             ],
             [
              0.2222222222222222,
              "#7201a8"
             ],
             [
              0.3333333333333333,
              "#9c179e"
             ],
             [
              0.4444444444444444,
              "#bd3786"
             ],
             [
              0.5555555555555556,
              "#d8576b"
             ],
             [
              0.6666666666666666,
              "#ed7953"
             ],
             [
              0.7777777777777778,
              "#fb9f3a"
             ],
             [
              0.8888888888888888,
              "#fdca26"
             ],
             [
              1,
              "#f0f921"
             ]
            ],
            "type": "contour"
           }
          ],
          "contourcarpet": [
           {
            "colorbar": {
             "outlinewidth": 0,
             "ticks": ""
            },
            "type": "contourcarpet"
           }
          ],
          "heatmap": [
           {
            "colorbar": {
             "outlinewidth": 0,
             "ticks": ""
            },
            "colorscale": [
             [
              0,
              "#0d0887"
             ],
             [
              0.1111111111111111,
              "#46039f"
             ],
             [
              0.2222222222222222,
              "#7201a8"
             ],
             [
              0.3333333333333333,
              "#9c179e"
             ],
             [
              0.4444444444444444,
              "#bd3786"
             ],
             [
              0.5555555555555556,
              "#d8576b"
             ],
             [
              0.6666666666666666,
              "#ed7953"
             ],
             [
              0.7777777777777778,
              "#fb9f3a"
             ],
             [
              0.8888888888888888,
              "#fdca26"
             ],
             [
              1,
              "#f0f921"
             ]
            ],
            "type": "heatmap"
           }
          ],
          "histogram": [
           {
            "marker": {
             "pattern": {
              "fillmode": "overlay",
              "size": 10,
              "solidity": 0.2
             }
            },
            "type": "histogram"
           }
          ],
          "histogram2d": [
           {
            "colorbar": {
             "outlinewidth": 0,
             "ticks": ""
            },
            "colorscale": [
             [
              0,
              "#0d0887"
             ],
             [
              0.1111111111111111,
              "#46039f"
             ],
             [
              0.2222222222222222,
              "#7201a8"
             ],
             [
              0.3333333333333333,
              "#9c179e"
             ],
             [
              0.4444444444444444,
              "#bd3786"
             ],
             [
              0.5555555555555556,
              "#d8576b"
             ],
             [
              0.6666666666666666,
              "#ed7953"
             ],
             [
              0.7777777777777778,
              "#fb9f3a"
             ],
             [
              0.8888888888888888,
              "#fdca26"
             ],
             [
              1,
              "#f0f921"
             ]
            ],
            "type": "histogram2d"
           }
          ],
          "histogram2dcontour": [
           {
            "colorbar": {
             "outlinewidth": 0,
             "ticks": ""
            },
            "colorscale": [
             [
              0,
              "#0d0887"
             ],
             [
              0.1111111111111111,
              "#46039f"
             ],
             [
              0.2222222222222222,
              "#7201a8"
             ],
             [
              0.3333333333333333,
              "#9c179e"
             ],
             [
              0.4444444444444444,
              "#bd3786"
             ],
             [
              0.5555555555555556,
              "#d8576b"
             ],
             [
              0.6666666666666666,
              "#ed7953"
             ],
             [
              0.7777777777777778,
              "#fb9f3a"
             ],
             [
              0.8888888888888888,
              "#fdca26"
             ],
             [
              1,
              "#f0f921"
             ]
            ],
            "type": "histogram2dcontour"
           }
          ],
          "mesh3d": [
           {
            "colorbar": {
             "outlinewidth": 0,
             "ticks": ""
            },
            "type": "mesh3d"
           }
          ],
          "parcoords": [
           {
            "line": {
             "colorbar": {
              "outlinewidth": 0,
              "ticks": ""
             }
            },
            "type": "parcoords"
           }
          ],
          "pie": [
           {
            "automargin": true,
            "type": "pie"
           }
          ],
          "scatter": [
           {
            "fillpattern": {
             "fillmode": "overlay",
             "size": 10,
             "solidity": 0.2
            },
            "type": "scatter"
           }
          ],
          "scatter3d": [
           {
            "line": {
             "colorbar": {
              "outlinewidth": 0,
              "ticks": ""
             }
            },
            "marker": {
             "colorbar": {
              "outlinewidth": 0,
              "ticks": ""
             }
            },
            "type": "scatter3d"
           }
          ],
          "scattercarpet": [
           {
            "marker": {
             "colorbar": {
              "outlinewidth": 0,
              "ticks": ""
             }
            },
            "type": "scattercarpet"
           }
          ],
          "scattergeo": [
           {
            "marker": {
             "colorbar": {
              "outlinewidth": 0,
              "ticks": ""
             }
            },
            "type": "scattergeo"
           }
          ],
          "scattergl": [
           {
            "marker": {
             "colorbar": {
              "outlinewidth": 0,
              "ticks": ""
             }
            },
            "type": "scattergl"
           }
          ],
          "scattermap": [
           {
            "marker": {
             "colorbar": {
              "outlinewidth": 0,
              "ticks": ""
             }
            },
            "type": "scattermap"
           }
          ],
          "scattermapbox": [
           {
            "marker": {
             "colorbar": {
              "outlinewidth": 0,
              "ticks": ""
             }
            },
            "type": "scattermapbox"
           }
          ],
          "scatterpolar": [
           {
            "marker": {
             "colorbar": {
              "outlinewidth": 0,
              "ticks": ""
             }
            },
            "type": "scatterpolar"
           }
          ],
          "scatterpolargl": [
           {
            "marker": {
             "colorbar": {
              "outlinewidth": 0,
              "ticks": ""
             }
            },
            "type": "scatterpolargl"
           }
          ],
          "scatterternary": [
           {
            "marker": {
             "colorbar": {
              "outlinewidth": 0,
              "ticks": ""
             }
            },
            "type": "scatterternary"
           }
          ],
          "surface": [
           {
            "colorbar": {
             "outlinewidth": 0,
             "ticks": ""
            },
            "colorscale": [
             [
              0,
              "#0d0887"
             ],
             [
              0.1111111111111111,
              "#46039f"
             ],
             [
              0.2222222222222222,
              "#7201a8"
             ],
             [
              0.3333333333333333,
              "#9c179e"
             ],
             [
              0.4444444444444444,
              "#bd3786"
             ],
             [
              0.5555555555555556,
              "#d8576b"
             ],
             [
              0.6666666666666666,
              "#ed7953"
             ],
             [
              0.7777777777777778,
              "#fb9f3a"
             ],
             [
              0.8888888888888888,
              "#fdca26"
             ],
             [
              1,
              "#f0f921"
             ]
            ],
            "type": "surface"
           }
          ],
          "table": [
           {
            "cells": {
             "fill": {
              "color": "#EBF0F8"
             },
             "line": {
              "color": "white"
             }
            },
            "header": {
             "fill": {
              "color": "#C8D4E3"
             },
             "line": {
              "color": "white"
             }
            },
            "type": "table"
           }
          ]
         },
         "layout": {
          "annotationdefaults": {
           "arrowcolor": "#2a3f5f",
           "arrowhead": 0,
           "arrowwidth": 1
          },
          "autotypenumbers": "strict",
          "coloraxis": {
           "colorbar": {
            "outlinewidth": 0,
            "ticks": ""
           }
          },
          "colorscale": {
           "diverging": [
            [
             0,
             "#8e0152"
            ],
            [
             0.1,
             "#c51b7d"
            ],
            [
             0.2,
             "#de77ae"
            ],
            [
             0.3,
             "#f1b6da"
            ],
            [
             0.4,
             "#fde0ef"
            ],
            [
             0.5,
             "#f7f7f7"
            ],
            [
             0.6,
             "#e6f5d0"
            ],
            [
             0.7,
             "#b8e186"
            ],
            [
             0.8,
             "#7fbc41"
            ],
            [
             0.9,
             "#4d9221"
            ],
            [
             1,
             "#276419"
            ]
           ],
           "sequential": [
            [
             0,
             "#0d0887"
            ],
            [
             0.1111111111111111,
             "#46039f"
            ],
            [
             0.2222222222222222,
             "#7201a8"
            ],
            [
             0.3333333333333333,
             "#9c179e"
            ],
            [
             0.4444444444444444,
             "#bd3786"
            ],
            [
             0.5555555555555556,
             "#d8576b"
            ],
            [
             0.6666666666666666,
             "#ed7953"
            ],
            [
             0.7777777777777778,
             "#fb9f3a"
            ],
            [
             0.8888888888888888,
             "#fdca26"
            ],
            [
             1,
             "#f0f921"
            ]
           ],
           "sequentialminus": [
            [
             0,
             "#0d0887"
            ],
            [
             0.1111111111111111,
             "#46039f"
            ],
            [
             0.2222222222222222,
             "#7201a8"
            ],
            [
             0.3333333333333333,
             "#9c179e"
            ],
            [
             0.4444444444444444,
             "#bd3786"
            ],
            [
             0.5555555555555556,
             "#d8576b"
            ],
            [
             0.6666666666666666,
             "#ed7953"
            ],
            [
             0.7777777777777778,
             "#fb9f3a"
            ],
            [
             0.8888888888888888,
             "#fdca26"
            ],
            [
             1,
             "#f0f921"
            ]
           ]
          },
          "colorway": [
           "#636efa",
           "#EF553B",
           "#00cc96",
           "#ab63fa",
           "#FFA15A",
           "#19d3f3",
           "#FF6692",
           "#B6E880",
           "#FF97FF",
           "#FECB52"
          ],
          "font": {
           "color": "#2a3f5f"
          },
          "geo": {
           "bgcolor": "white",
           "lakecolor": "white",
           "landcolor": "#E5ECF6",
           "showlakes": true,
           "showland": true,
           "subunitcolor": "white"
          },
          "hoverlabel": {
           "align": "left"
          },
          "hovermode": "closest",
          "mapbox": {
           "style": "light"
          },
          "paper_bgcolor": "white",
          "plot_bgcolor": "#E5ECF6",
          "polar": {
           "angularaxis": {
            "gridcolor": "white",
            "linecolor": "white",
            "ticks": ""
           },
           "bgcolor": "#E5ECF6",
           "radialaxis": {
            "gridcolor": "white",
            "linecolor": "white",
            "ticks": ""
           }
          },
          "scene": {
           "xaxis": {
            "backgroundcolor": "#E5ECF6",
            "gridcolor": "white",
            "gridwidth": 2,
            "linecolor": "white",
            "showbackground": true,
            "ticks": "",
            "zerolinecolor": "white"
           },
           "yaxis": {
            "backgroundcolor": "#E5ECF6",
            "gridcolor": "white",
            "gridwidth": 2,
            "linecolor": "white",
            "showbackground": true,
            "ticks": "",
            "zerolinecolor": "white"
           },
           "zaxis": {
            "backgroundcolor": "#E5ECF6",
            "gridcolor": "white",
            "gridwidth": 2,
            "linecolor": "white",
            "showbackground": true,
            "ticks": "",
            "zerolinecolor": "white"
           }
          },
          "shapedefaults": {
           "line": {
            "color": "#2a3f5f"
           }
          },
          "ternary": {
           "aaxis": {
            "gridcolor": "white",
            "linecolor": "white",
            "ticks": ""
           },
           "baxis": {
            "gridcolor": "white",
            "linecolor": "white",
            "ticks": ""
           },
           "bgcolor": "#E5ECF6",
           "caxis": {
            "gridcolor": "white",
            "linecolor": "white",
            "ticks": ""
           }
          },
          "title": {
           "x": 0.05
          },
          "xaxis": {
           "automargin": true,
           "gridcolor": "white",
           "linecolor": "white",
           "ticks": "",
           "title": {
            "standoff": 15
           },
           "zerolinecolor": "white",
           "zerolinewidth": 2
          },
          "yaxis": {
           "automargin": true,
           "gridcolor": "white",
           "linecolor": "white",
           "ticks": "",
           "title": {
            "standoff": 15
           },
           "zerolinecolor": "white",
           "zerolinewidth": 2
          }
         }
        },
        "title": {
         "text": "Advertising Channels vs Sales"
        },
        "width": 800,
        "xaxis": {
         "anchor": "y",
         "domain": [
          0,
          0.45
         ]
        },
        "xaxis2": {
         "anchor": "y2",
         "domain": [
          0.55,
          1
         ]
        },
        "xaxis3": {
         "anchor": "y3",
         "domain": [
          0,
          0.45
         ]
        },
        "xaxis4": {
         "anchor": "y4",
         "domain": [
          0.55,
          1
         ]
        },
        "yaxis": {
         "anchor": "x",
         "domain": [
          0.625,
          1
         ]
        },
        "yaxis2": {
         "anchor": "x2",
         "domain": [
          0.625,
          1
         ]
        },
        "yaxis3": {
         "anchor": "x3",
         "domain": [
          0,
          0.375
         ]
        },
        "yaxis4": {
         "anchor": "x4",
         "domain": [
          0,
          0.375
         ]
        }
       }
      }
     },
     "metadata": {},
     "output_type": "display_data"
    }
   ],
   "source": [
    "# Create an interactive dashboard for sales prediction\n",
    "fig = make_subplots(\n",
    "    rows=2, cols=2,\n",
    "    subplot_titles=('TV vs Sales', 'Radio vs Sales', 'Newspaper vs Sales', 'Total Spend vs Sales'),\n",
    "    specs=[[{\"type\": \"scatter\"}, {\"type\": \"scatter\"}],\n",
    "           [{\"type\": \"scatter\"}, {\"type\": \"scatter\"}]]\n",
    ")\n",
    "\n",
    "# TV vs Sales\n",
    "fig.add_trace(\n",
    "    go.Scatter(x=df['TV'], y=df['Sales'], mode='markers', name='TV',\n",
    "               marker=dict(color='blue', opacity=0.6)),\n",
    "    row=1, col=1\n",
    ")\n",
    "\n",
    "# Radio vs Sales\n",
    "fig.add_trace(\n",
    "    go.Scatter(x=df['Radio'], y=df['Sales'], mode='markers', name='Radio',\n",
    "               marker=dict(color='green', opacity=0.6)),\n",
    "    row=1, col=2\n",
    ")\n",
    "\n",
    "# Newspaper vs Sales\n",
    "fig.add_trace(\n",
    "    go.Scatter(x=df['Newspaper'], y=df['Sales'], mode='markers', name='Newspaper',\n",
    "               marker=dict(color='red', opacity=0.6)),\n",
    "    row=2, col=1\n",
    ")\n",
    "\n",
    "# Total Spend vs Sales\n",
    "fig.add_trace(\n",
    "    go.Scatter(x=df['TV']+df['Radio']+df['Newspaper'], y=df['Sales'], mode='markers', name='Total Spend',\n",
    "               marker=dict(color='purple', opacity=0.6)),\n",
    "    row=2, col=2\n",
    ")\n",
    "\n",
    "fig.update_layout(height=600, width=800, title_text=\"Advertising Channels vs Sales\")\n",
    "fig.show()"
   ]
  },
  {
   "cell_type": "markdown",
   "id": "97c234a1",
   "metadata": {},
   "source": [
    "Model Interpretation with SHAP Values"
   ]
  },
  {
   "cell_type": "code",
   "execution_count": 22,
   "id": "f685df03",
   "metadata": {},
   "outputs": [
    {
     "data": {
      "image/png": "[encoded data removed]",
      "text/plain": [
       "<Figure size 800x550 with 1 Axes>"
      ]
     },
     "metadata": {},
     "output_type": "display_data"
    },
    {
     "data": {
      "image/png": "[encoded data removed]",
      "text/plain": [
       "<Figure size 800x550 with 1 Axes>"
      ]
     },
     "metadata": {},
     "output_type": "display_data"
    },
    {
     "data": {
      "image/png": "[encoded data removed]",
      "text/plain": [
       "<Figure size 2000x300 with 1 Axes>"
      ]
     },
     "metadata": {},
     "output_type": "display_data"
    },
    {
     "data": {
      "image/png": "[encoded data removed]",
      "text/plain": [
       "<Figure size 800x550 with 1 Axes>"
      ]
     },
     "metadata": {},
     "output_type": "display_data"
    }
   ],
   "source": [
    "# Install shap if not available\n",
    "try:\n",
    "    import shap\n",
    "except:\n",
    "    !pip install shap\n",
    "    import shap\n",
    "\n",
    "# Explain model predictions with SHAP\n",
    "explainer = shap.TreeExplainer(best_rf)\n",
    "shap_values = explainer.shap_values(X_test)\n",
    "\n",
    "# Summary plot\n",
    "plt.figure(figsize=(10, 8))\n",
    "shap.summary_plot(shap_values, X_test, plot_type=\"bar\")\n",
    "plt.title(\"Feature Importance using SHAP Values\")\n",
    "plt.tight_layout()\n",
    "plt.show()\n",
    "\n",
    "# Force plot for a specific prediction\n",
    "sample_idx = 0\n",
    "shap.force_plot(explainer.expected_value, shap_values[sample_idx,:], X_test.iloc[sample_idx,:], \n",
    "                matplotlib=True, text_rotation=15)\n",
    "plt.title(f\"SHAP Force Plot for Sample {sample_idx}\")\n",
    "plt.tight_layout()\n",
    "plt.show()"
   ]
  },
  {
   "cell_type": "markdown",
   "id": "74ccdcbe",
   "metadata": {},
   "source": [
    "Final Model Deployment Preparation"
   ]
  },
  {
   "cell_type": "code",
   "execution_count": 23,
   "id": "7ce10b9f",
   "metadata": {},
   "outputs": [
    {
     "name": "stdout",
     "output_type": "stream",
     "text": [
      "Model saved successfully for deployment!\n"
     ]
    }
   ],
   "source": [
    "# Train final model on all data\n",
    "final_model = RandomForestRegressor(n_estimators=200, max_depth=20, \n",
    "                                    min_samples_split=2, min_samples_leaf=1,\n",
    "                                    random_state=42)\n",
    "final_model.fit(X, y)\n",
    "\n",
    "# Save the model for deployment\n",
    "import joblib\n",
    "joblib.dump(final_model, 'sales_prediction_model.pkl')\n",
    "\n",
    "# Also save the column names for reference\n",
    "joblib.dump(list(X.columns), 'feature_columns.pkl')\n",
    "\n",
    "print(\"Model saved successfully for deployment!\")"
   ]
  }
 ],
 "metadata": {
  "kernelspec": {
   "display_name": "Python 3",
   "language": "python",
   "name": "python3"
  },
  "language_info": {
   "codemirror_mode": {
    "name": "ipython",
    "version": 3
   },
   "file_extension": ".py",
   "mimetype": "text/x-python",
   "name": "python",
   "nbconvert_exporter": "python",
   "pygments_lexer": "ipython3",
   "version": "3.12.4"
  }
 },
 "nbformat": 4,
 "nbformat_minor": 5
}
