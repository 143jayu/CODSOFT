{
 "cells": [
  {
   "cell_type": "markdown",
   "id": "15b5b337",
   "metadata": {},
   "source": [
    "Project Structure"
   ]
  },
  {
   "cell_type": "code",
   "execution_count": 49,
   "id": "0e1c9e48",
   "metadata": {},
   "outputs": [],
   "source": [
    "# Import necessary libraries\n",
    "import pandas as pd\n",
    "import numpy as np\n",
    "import matplotlib.pyplot as plt\n",
    "import seaborn as sns\n",
    "from sklearn.model_selection import train_test_split\n",
    "from sklearn.ensemble import RandomForestClassifier\n",
    "from sklearn.metrics import accuracy_score, confusion_matrix, classification_report\n",
    "\n",
    "# Set style for visualizations\n",
    "plt.style.use('seaborn-v0_8')\n",
    "sns.set_palette(\"pastel\")\n",
    "%matplotlib inline"
   ]
  },
  {
   "cell_type": "markdown",
   "id": "3bad8425",
   "metadata": {},
   "source": [
    "1. Data Loading and Preparation"
   ]
  },
  {
   "cell_type": "code",
   "execution_count": 50,
   "id": "9498ab31",
   "metadata": {},
   "outputs": [
    {
     "data": {
      "text/html": [
       "<div>\n",
       "<style scoped>\n",
       "    .dataframe tbody tr th:only-of-type {\n",
       "        vertical-align: middle;\n",
       "    }\n",
       "\n",
       "    .dataframe tbody tr th {\n",
       "        vertical-align: top;\n",
       "    }\n",
       "\n",
       "    .dataframe thead th {\n",
       "        text-align: right;\n",
       "    }\n",
       "</style>\n",
       "<table border=\"1\" class=\"dataframe\">\n",
       "  <thead>\n",
       "    <tr style=\"text-align: right;\">\n",
       "      <th></th>\n",
       "      <th>PassengerId</th>\n",
       "      <th>Survived</th>\n",
       "      <th>Pclass</th>\n",
       "      <th>Name</th>\n",
       "      <th>Sex</th>\n",
       "      <th>Age</th>\n",
       "      <th>SibSp</th>\n",
       "      <th>Parch</th>\n",
       "      <th>Ticket</th>\n",
       "      <th>Fare</th>\n",
       "      <th>Cabin</th>\n",
       "      <th>Embarked</th>\n",
       "    </tr>\n",
       "  </thead>\n",
       "  <tbody>\n",
       "    <tr>\n",
       "      <th>0</th>\n",
       "      <td>1</td>\n",
       "      <td>0</td>\n",
       "      <td>3</td>\n",
       "      <td>Braund, Mr. Owen Harris</td>\n",
       "      <td>male</td>\n",
       "      <td>22.0</td>\n",
       "      <td>1</td>\n",
       "      <td>0</td>\n",
       "      <td>A/5 21171</td>\n",
       "      <td>7.2500</td>\n",
       "      <td>NaN</td>\n",
       "      <td>S</td>\n",
       "    </tr>\n",
       "    <tr>\n",
       "      <th>1</th>\n",
       "      <td>2</td>\n",
       "      <td>1</td>\n",
       "      <td>1</td>\n",
       "      <td>Cumings, Mrs. John Bradley (Florence Briggs Th...</td>\n",
       "      <td>female</td>\n",
       "      <td>38.0</td>\n",
       "      <td>1</td>\n",
       "      <td>0</td>\n",
       "      <td>PC 17599</td>\n",
       "      <td>71.2833</td>\n",
       "      <td>C85</td>\n",
       "      <td>C</td>\n",
       "    </tr>\n",
       "    <tr>\n",
       "      <th>2</th>\n",
       "      <td>3</td>\n",
       "      <td>1</td>\n",
       "      <td>3</td>\n",
       "      <td>Heikkinen, Miss. Laina</td>\n",
       "      <td>female</td>\n",
       "      <td>26.0</td>\n",
       "      <td>0</td>\n",
       "      <td>0</td>\n",
       "      <td>STON/O2. 3101282</td>\n",
       "      <td>7.9250</td>\n",
       "      <td>NaN</td>\n",
       "      <td>S</td>\n",
       "    </tr>\n",
       "    <tr>\n",
       "      <th>3</th>\n",
       "      <td>4</td>\n",
       "      <td>1</td>\n",
       "      <td>1</td>\n",
       "      <td>Futrelle, Mrs. Jacques Heath (Lily May Peel)</td>\n",
       "      <td>female</td>\n",
       "      <td>35.0</td>\n",
       "      <td>1</td>\n",
       "      <td>0</td>\n",
       "      <td>113803</td>\n",
       "      <td>53.1000</td>\n",
       "      <td>C123</td>\n",
       "      <td>S</td>\n",
       "    </tr>\n",
       "    <tr>\n",
       "      <th>4</th>\n",
       "      <td>5</td>\n",
       "      <td>0</td>\n",
       "      <td>3</td>\n",
       "      <td>Allen, Mr. William Henry</td>\n",
       "      <td>male</td>\n",
       "      <td>35.0</td>\n",
       "      <td>0</td>\n",
       "      <td>0</td>\n",
       "      <td>373450</td>\n",
       "      <td>8.0500</td>\n",
       "      <td>NaN</td>\n",
       "      <td>S</td>\n",
       "    </tr>\n",
       "  </tbody>\n",
       "</table>\n",
       "</div>"
      ],
      "text/plain": [
       "   PassengerId  Survived  Pclass  \\\n",
       "0            1         0       3   \n",
       "1            2         1       1   \n",
       "2            3         1       3   \n",
       "3            4         1       1   \n",
       "4            5         0       3   \n",
       "\n",
       "                                                Name     Sex   Age  SibSp  \\\n",
       "0                            Braund, Mr. Owen Harris    male  22.0      1   \n",
       "1  Cumings, Mrs. John Bradley (Florence Briggs Th...  female  38.0      1   \n",
       "2                             Heikkinen, Miss. Laina  female  26.0      0   \n",
       "3       Futrelle, Mrs. Jacques Heath (Lily May Peel)  female  35.0      1   \n",
       "4                           Allen, Mr. William Henry    male  35.0      0   \n",
       "\n",
       "   Parch            Ticket     Fare Cabin Embarked  \n",
       "0      0         A/5 21171   7.2500   NaN        S  \n",
       "1      0          PC 17599  71.2833   C85        C  \n",
       "2      0  STON/O2. 3101282   7.9250   NaN        S  \n",
       "3      0            113803  53.1000  C123        S  \n",
       "4      0            373450   8.0500   NaN        S  "
      ]
     },
     "execution_count": 50,
     "metadata": {},
     "output_type": "execute_result"
    }
   ],
   "source": [
    "# Load all Titanic datasets\n",
    "train_df = pd.read_csv('train.csv')\n",
    "test_df = pd.read_csv('test.csv')\n",
    "gender_submission = pd.read_csv('gender_submission.csv')  # Your provided file\n",
    "\n",
    "# Merge test data with submission to get survival info for test set\n",
    "test_df = test_df.merge(gender_submission, on='PassengerId')\n",
    "\n",
    "# Combine train and test for comprehensive analysis\n",
    "full_df = pd.concat([train_df, test_df], ignore_index=True)\n",
    "\n",
    "# Display first few rows\n",
    "full_df.head()"
   ]
  },
  {
   "cell_type": "markdown",
   "id": "4f42b400",
   "metadata": {},
   "source": [
    "2. Exploratory Data Analysis (EDA) with Attractive Visualizations"
   ]
  },
  {
   "cell_type": "markdown",
   "id": "b1f08254",
   "metadata": {},
   "source": [
    "2.1 Survival Rate Overview"
   ]
  },
  {
   "cell_type": "code",
   "execution_count": 51,
   "id": "942024e5",
   "metadata": {},
   "outputs": [
    {
     "data": {
      "image/png": "[encoded data removed]",
      "text/plain": [
       "<Figure size 800x600 with 1 Axes>"
      ]
     },
     "metadata": {},
     "output_type": "display_data"
    }
   ],
   "source": [
    "# Pie chart for overall survival rate\n",
    "plt.figure(figsize=(8, 6))\n",
    "full_df['Survived'].value_counts().plot.pie(autopct='%1.1f%%', \n",
    "                                          colors=['#ff9999','#66b3ff'],\n",
    "                                          explode=(0.1, 0),\n",
    "                                          shadow=True)\n",
    "plt.title('Overall Survival Rate', fontsize=16, fontweight='bold')\n",
    "plt.ylabel('')\n",
    "plt.show()"
   ]
  },
  {
   "cell_type": "markdown",
   "id": "053fb676",
   "metadata": {},
   "source": [
    "2.2 Survival by Gender (Novel Visualization)"
   ]
  },
  {
   "cell_type": "code",
   "execution_count": 52,
   "id": "b6c44cb6",
   "metadata": {},
   "outputs": [
    {
     "data": {
      "image/png": "[encoded data removed]",
      "text/plain": [
       "<Figure size 1000x600 with 1 Axes>"
      ]
     },
     "metadata": {},
     "output_type": "display_data"
    }
   ],
   "source": [
    "# Interactive stacked bar plot with percentages\n",
    "plt.figure(figsize=(10, 6))\n",
    "ax = sns.histplot(data=full_df, x='Sex', hue='Survived', multiple='stack',\n",
    "                 palette={0: '#ff6b6b', 1: '#4ecdc4'}, shrink=0.8)\n",
    "\n",
    "# Add percentages on top of bars\n",
    "total = len(full_df)\n",
    "for p in ax.patches:\n",
    "    percentage = '{:.1f}%'.format(100 * p.get_height()/total)\n",
    "    x = p.get_x() + p.get_width() / 2\n",
    "    y = p.get_y() + p.get_height() / 2\n",
    "    ax.annotate(percentage, (x, y), ha='center', va='center')\n",
    "\n",
    "plt.title('Survival Distribution by Gender', fontsize=16, fontweight='bold')\n",
    "plt.xlabel('Gender', fontsize=12)\n",
    "plt.ylabel('Count', fontsize=12)\n",
    "plt.legend(title='Survived', labels=['No', 'Yes'])\n",
    "plt.show()"
   ]
  },
  {
   "cell_type": "markdown",
   "id": "ac9545ad",
   "metadata": {},
   "source": [
    "2.3 Age Distribution with Survival (Violin Plot)"
   ]
  },
  {
   "cell_type": "code",
   "execution_count": 53,
   "id": "336bc98c",
   "metadata": {},
   "outputs": [
    {
     "name": "stderr",
     "output_type": "stream",
     "text": [
      "C:\\Users\\Alpha\\AppData\\Local\\Temp\\ipykernel_13868\\1295354817.py:2: FutureWarning:\n",
      "\n",
      "\n",
      "\n",
      "Passing `palette` without assigning `hue` is deprecated and will be removed in v0.14.0. Assign the `x` variable to `hue` and set `legend=False` for the same effect.\n",
      "\n",
      "\n"
     ]
    },
    {
     "data": {
      "image/png": "[encoded data removed]",
      "text/plain": [
       "<Figure size 1200x600 with 1 Axes>"
      ]
     },
     "metadata": {},
     "output_type": "display_data"
    }
   ],
   "source": [
    "plt.figure(figsize=(12, 6))\n",
    "sns.violinplot(x='Survived', y='Age', data=full_df, \n",
    "              palette={'0': '#ff9a76', '1': '#a0e7e5'}, \n",
    "              inner='quartile')\n",
    "plt.title('Age Distribution by Survival Status', fontsize=16, fontweight='bold')\n",
    "plt.xlabel('Survived', fontsize=12)\n",
    "plt.ylabel('Age', fontsize=12)\n",
    "plt.xticks([0, 1], ['No', 'Yes'])\n",
    "plt.show()"
   ]
  },
  {
   "cell_type": "markdown",
   "id": "31f3cb88",
   "metadata": {},
   "source": [
    "3. Novel Analysis Ideas"
   ]
  },
  {
   "cell_type": "markdown",
   "id": "05a6c549",
   "metadata": {},
   "source": [
    "3.1 Family Survival Analysis"
   ]
  },
  {
   "cell_type": "code",
   "execution_count": 54,
   "id": "d8763f28",
   "metadata": {},
   "outputs": [
    {
     "name": "stderr",
     "output_type": "stream",
     "text": [
      "C:\\Users\\Alpha\\AppData\\Local\\Temp\\ipykernel_13868\\1378097523.py:6: FutureWarning:\n",
      "\n",
      "\n",
      "\n",
      "Passing `palette` without assigning `hue` is deprecated and will be removed in v0.14.0. Assign the `x` variable to `hue` and set `legend=False` for the same effect.\n",
      "\n",
      "\n"
     ]
    },
    {
     "data": {
      "image/png": "[encoded data removed]",
      "text/plain": [
       "<Figure size 1200x600 with 1 Axes>"
      ]
     },
     "metadata": {},
     "output_type": "display_data"
    }
   ],
   "source": [
    "# Create family size feature\n",
    "full_df['FamilySize'] = full_df['SibSp'] + full_df['Parch'] + 1\n",
    "\n",
    "# Visualize family size impact\n",
    "plt.figure(figsize=(12, 6))\n",
    "sns.pointplot(x='FamilySize', y='Survived', data=full_df, \n",
    "             palette='viridis', capsize=0.1)\n",
    "plt.title('Survival Probability by Family Size', fontsize=16, fontweight='bold')\n",
    "plt.xlabel('Family Size', fontsize=12)\n",
    "plt.ylabel('Survival Probability', fontsize=12)\n",
    "plt.xticks(rotation=45)\n",
    "plt.grid(True, alpha=0.3)\n",
    "plt.show()"
   ]
  },
  {
   "cell_type": "markdown",
   "id": "9ebec745",
   "metadata": {},
   "source": [
    "3.2 Cabin Letter Analysis (New Feature)"
   ]
  },
  {
   "cell_type": "code",
   "execution_count": 55,
   "id": "4fd20b72",
   "metadata": {},
   "outputs": [
    {
     "name": "stderr",
     "output_type": "stream",
     "text": [
      "C:\\Users\\Alpha\\AppData\\Local\\Temp\\ipykernel_13868\\3152342985.py:6: FutureWarning:\n",
      "\n",
      "\n",
      "\n",
      "Passing `palette` without assigning `hue` is deprecated and will be removed in v0.14.0. Assign the `x` variable to `hue` and set `legend=False` for the same effect.\n",
      "\n",
      "\n"
     ]
    },
    {
     "data": {
      "image/png": "[encoded data removed]",
      "text/plain": [
       "<Figure size 1200x600 with 1 Axes>"
      ]
     },
     "metadata": {},
     "output_type": "display_data"
    }
   ],
   "source": [
    "# Extract cabin letter (novel approach)\n",
    "full_df['CabinLetter'] = full_df['Cabin'].str[0]\n",
    "\n",
    "# Plot survival by cabin letter\n",
    "plt.figure(figsize=(12, 6))\n",
    "sns.barplot(x='CabinLetter', y='Survived', data=full_df, \n",
    "           palette='coolwarm', order=sorted(full_df['CabinLetter'].dropna().unique()))\n",
    "plt.title('Survival Rate by Cabin Letter', fontsize=16, fontweight='bold')\n",
    "plt.xlabel('Cabin Letter', fontsize=12)\n",
    "plt.ylabel('Survival Rate', fontsize=12)\n",
    "plt.show()"
   ]
  },
  {
   "cell_type": "markdown",
   "id": "710e09c3",
   "metadata": {},
   "source": [
    "3.3 Fare Quartile Analysis"
   ]
  },
  {
   "cell_type": "code",
   "execution_count": 56,
   "id": "dceacc94",
   "metadata": {},
   "outputs": [
    {
     "data": {
      "text/plain": [
       "<Figure size 1200x600 with 0 Axes>"
      ]
     },
     "metadata": {},
     "output_type": "display_data"
    },
    {
     "data": {
      "image/png": "[encoded data removed]",
      "text/plain": [
       "<Figure size 1257.75x600 with 1 Axes>"
      ]
     },
     "metadata": {},
     "output_type": "display_data"
    }
   ],
   "source": [
    "# Create fare quartiles\n",
    "full_df['FareQuartile'] = pd.qcut(full_df['Fare'], 4, labels=['Q1', 'Q2', 'Q3', 'Q4'])\n",
    "\n",
    "# Interactive plot\n",
    "plt.figure(figsize=(12, 6))\n",
    "sns.catplot(x='FareQuartile', y='Survived', hue='Pclass', \n",
    "           data=full_df, kind='bar', palette='muted',\n",
    "           height=6, aspect=2)\n",
    "plt.title('Survival Rate by Fare Quartile and Class', fontsize=16, fontweight='bold')\n",
    "plt.xlabel('Fare Quartile', fontsize=12)\n",
    "plt.ylabel('Survival Rate', fontsize=12)\n",
    "plt.show()"
   ]
  },
  {
   "cell_type": "markdown",
   "id": "bf4627d6",
   "metadata": {},
   "source": [
    "4. Advanced Visualization: Survival Correlation Heatmap"
   ]
  },
  {
   "cell_type": "code",
   "execution_count": 57,
   "id": "3fa07f7d",
   "metadata": {},
   "outputs": [
    {
     "data": {
      "image/png": "[encoded data removed]",
      "text/plain": [
       "<Figure size 1000x800 with 2 Axes>"
      ]
     },
     "metadata": {},
     "output_type": "display_data"
    }
   ],
   "source": [
    "# Prepare correlation data\n",
    "corr_df = full_df[['Survived', 'Pclass', 'Age', 'SibSp', 'Parch', 'Fare']]\n",
    "corr_df = corr_df.corr()\n",
    "\n",
    "# Create heatmap\n",
    "plt.figure(figsize=(10, 8))\n",
    "mask = np.triu(np.ones_like(corr_df, dtype=bool))\n",
    "sns.heatmap(corr_df, mask=mask, annot=True, cmap='coolwarm', \n",
    "           center=0, linewidths=.5, cbar_kws={'shrink': .8})\n",
    "plt.title('Feature Correlation Heatmap', fontsize=16, fontweight='bold')\n",
    "plt.xticks(rotation=45)\n",
    "plt.yticks(rotation=0)\n",
    "plt.show()"
   ]
  },
  {
   "cell_type": "markdown",
   "id": "ce788593",
   "metadata": {},
   "source": [
    "5. Machine Learning Prediction (Bonus)"
   ]
  },
  {
   "cell_type": "code",
   "execution_count": 58,
   "id": "586506fb",
   "metadata": {},
   "outputs": [
    {
     "name": "stderr",
     "output_type": "stream",
     "text": [
      "<>:6: SyntaxWarning:\n",
      "\n",
      "invalid escape sequence '\\.'\n",
      "\n",
      "<>:6: SyntaxWarning:\n",
      "\n",
      "invalid escape sequence '\\.'\n",
      "\n",
      "C:\\Users\\Alpha\\AppData\\Local\\Temp\\ipykernel_13868\\999349017.py:6: SyntaxWarning:\n",
      "\n",
      "invalid escape sequence '\\.'\n",
      "\n"
     ]
    },
    {
     "name": "stdout",
     "output_type": "stream",
     "text": [
      "Accuracy: 0.82\n",
      "\n",
      "Classification Report:\n",
      "              precision    recall  f1-score   support\n",
      "\n",
      "           0       0.86      0.83      0.85       159\n",
      "           1       0.75      0.80      0.77       103\n",
      "\n",
      "    accuracy                           0.82       262\n",
      "   macro avg       0.81      0.81      0.81       262\n",
      "weighted avg       0.82      0.82      0.82       262\n",
      "\n"
     ]
    },
    {
     "data": {
      "image/png": "[encoded data removed]",
      "text/plain": [
       "<Figure size 1000x600 with 1 Axes>"
      ]
     },
     "metadata": {},
     "output_type": "display_data"
    }
   ],
   "source": [
    "# Prepare data for modeling\n",
    "from sklearn.preprocessing import LabelEncoder\n",
    "\n",
    "# Feature engineering\n",
    "df_model = full_df.copy()\n",
    "df_model['Title'] = df_model['Name'].str.extract(' ([A-Za-z]+)\\.', expand=False)\n",
    "df_model['Title'] = df_model['Title'].replace(['Lady', 'Countess','Capt', 'Col',\\\n",
    " \t'Don', 'Dr', 'Major', 'Rev', 'Sir', 'Jonkheer', 'Dona'], 'Rare')\n",
    "df_model['Title'] = df_model['Title'].replace('Mlle', 'Miss')\n",
    "df_model['Title'] = df_model['Title'].replace('Ms', 'Miss')\n",
    "df_model['Title'] = df_model['Title'].replace('Mme', 'Mrs')\n",
    "\n",
    "# Encode categorical features\n",
    "label = LabelEncoder()\n",
    "df_model['Sex'] = label.fit_transform(df_model['Sex'])\n",
    "df_model['Embarked'] = label.fit_transform(df_model['Embarked'].fillna('S'))\n",
    "df_model['Title'] = label.fit_transform(df_model['Title'])\n",
    "\n",
    "# Select features\n",
    "features = ['Pclass', 'Sex', 'Age', 'SibSp', 'Parch', 'Fare', 'Embarked', 'Title']\n",
    "X = df_model[features].fillna(df_model[features].median())\n",
    "y = df_model['Survived']\n",
    "\n",
    "# Split data\n",
    "X_train, X_test, y_train, y_test = train_test_split(X, y, test_size=0.2, random_state=42)\n",
    "\n",
    "# Train model\n",
    "model = RandomForestClassifier(n_estimators=100, random_state=42)\n",
    "model.fit(X_train, y_train)\n",
    "\n",
    "# Evaluate\n",
    "y_pred = model.predict(X_test)\n",
    "print(f\"Accuracy: {accuracy_score(y_test, y_pred):.2f}\")\n",
    "print(\"\\nClassification Report:\")\n",
    "print(classification_report(y_test, y_pred))\n",
    "\n",
    "# Feature importance plot\n",
    "plt.figure(figsize=(10, 6))\n",
    "feat_importances = pd.Series(model.feature_importances_, index=X.columns)\n",
    "feat_importances.nlargest(8).plot(kind='barh', color='#86c7f3')\n",
    "plt.title('Feature Importance', fontsize=16, fontweight='bold')\n",
    "plt.xlabel('Importance Score', fontsize=12)\n",
    "plt.show()"
   ]
  },
  {
   "cell_type": "markdown",
   "id": "f5a5fd2c",
   "metadata": {},
   "source": [
    "6. Novel Analysis: Survival Probability by Age and Gender"
   ]
  },
  {
   "cell_type": "code",
   "execution_count": 59,
   "id": "ce0dca41",
   "metadata": {},
   "outputs": [
    {
     "name": "stderr",
     "output_type": "stream",
     "text": [
      "C:\\Users\\Alpha\\AppData\\Local\\Temp\\ipykernel_13868\\2973834049.py:20: FutureWarning:\n",
      "\n",
      "The default of observed=False is deprecated and will be changed to True in a future version of pandas. Pass observed=False to retain current behavior or observed=True to adopt the future default and silence this warning.\n",
      "\n",
      "C:\\Users\\Alpha\\AppData\\Local\\Temp\\ipykernel_13868\\2973834049.py:49: UserWarning:\n",
      "\n",
      "Tight layout not applied. The left and right margins cannot be made large enough to accommodate all Axes decorations.\n",
      "\n"
     ]
    },
    {
     "data": {
      "text/plain": [
       "<matplotlib.legend.Legend at 0x1abeb901f10>"
      ]
     },
     "execution_count": 59,
     "metadata": {},
     "output_type": "execute_result"
    },
    {
     "data": {
      "image/png": "[encoded data removed]",
      "text/plain": [
       "<Figure size 1600x1200 with 1 Axes>"
      ]
     },
     "metadata": {},
     "output_type": "display_data"
    }
   ],
   "source": [
    "from matplotlib.patches import Patch\n",
    "\n",
    "# Prepare data for 3D plot\n",
    "age_bins = [0, 12, 18, 30, 50, 80]\n",
    "class_labels = [1, 2, 3]\n",
    "gender_labels = ['male', 'female']\n",
    "\n",
    "# Create figure\n",
    "fig = plt.figure(figsize=(16, 12))\n",
    "ax = fig.add_subplot(111, projection='3d')\n",
    "\n",
    "# Color mapping\n",
    "colors = {'male': '#1f77b4', 'female': '#ff7f0e'}\n",
    "\n",
    "# Plot each combination\n",
    "for gender in gender_labels:\n",
    "    for pclass in class_labels:\n",
    "        # Filter data\n",
    "        subset = full_df[(full_df['Sex'] == gender) & (full_df['Pclass'] == pclass)]\n",
    "        survival_rate = subset.groupby(pd.cut(subset['Age'], bins=age_bins))['Survived'].mean()\n",
    "        \n",
    "        # X, Y, Z values\n",
    "        x = np.arange(len(age_bins)-1)\n",
    "        y = [pclass] * len(x)\n",
    "        z = survival_rate.values\n",
    "        \n",
    "        # Plot bars\n",
    "        ax.bar3d(x, y, z, \n",
    "                dx=0.7, dy=0.7, dz=0, \n",
    "                color=colors[gender], alpha=0.8, shade=True)\n",
    "        ax.bar3d(x, y, np.zeros(len(z)), \n",
    "                dx=0.7, dy=0.7, dz=z, \n",
    "                color=colors[gender], alpha=0.9, shade=True)\n",
    "\n",
    "# Customize the view angle\n",
    "ax.view_init(elev=25, azim=45)\n",
    "\n",
    "# Labels and title\n",
    "ax.set_xlabel('Age Groups', fontsize=12, labelpad=15)\n",
    "ax.set_ylabel('Passenger Class', fontsize=12, labelpad=15)\n",
    "ax.set_zlabel('Survival Rate', fontsize=12, labelpad=15)\n",
    "ax.set_xticks(np.arange(len(age_bins)-1) + 0.5)\n",
    "ax.set_xticklabels(['Child', 'Teen', 'Young Adult', 'Adult', 'Senior'])\n",
    "ax.set_yticks([1, 2, 3])\n",
    "ax.set_yticklabels(['1st Class', '2nd Class', '3rd Class'])\n",
    "\n",
    "plt.title('3D Survival Analysis: Age, Class & Gender', \n",
    "          fontsize=18, fontweight='bold', pad=20)\n",
    "plt.tight_layout()\n",
    "\n",
    "# Add legend\n",
    "legend_elements = [\n",
    "    Patch(facecolor=colors['male'], label='Male'),\n",
    "    Patch(facecolor=colors['female'], label='Female')\n",
    "]\n",
    "ax.legend(handles=legend_elements, loc='upper right')"
   ]
  },
  {
   "cell_type": "markdown",
   "id": "296bec90",
   "metadata": {},
   "source": [
    "7. Interactive Sunburst Chart (Plotly)"
   ]
  },
  {
   "cell_type": "code",
   "execution_count": 60,
   "id": "c01aeeaf",
   "metadata": {},
   "outputs": [
    {
     "data": {
      "application/vnd.plotly.v1+json": {
       "config": {
        "plotlyServerURL": "https://plot.ly"
       },
       "data": [
        {
         "branchvalues": "total",
         "customdata": {
          "bdata": "AAAAAAAA+P8AAAAAAADwP8dxHMdxHO8/BPcR3Edw7z8AAAAAAADwPwAAAAAAAOg/AAAAAAAA0D8AAAAAAADSP28wRT7rBtM/whT5rBtMwT8AAAAAAADwPwAAAAAAAPA/3/SmN73p7T8AAAAAAADuPwAAAAAAAOg/L7rooosu6j8AAAAAAAD4/x4eHh4eHo4/wXgr+xxSsz8AAAAAAACwPzMzMzMzM+M/btu2bdu25T8/xSVDsI7mPwAAAAAAAOA/AAAAAAAA8D9QB3VQB3XQP9C6wRT5rKs/XAr9Scaiuj9hcgUxuYK4PwAAAAAAAPj/J4U9flqk7z8sfV3oUkfeP5Xp1V/O3+0/RVA+Tllj5j9815g6l5XnP6PBwgOnTcY/e0/djCCn6j9juWWZJZPsP2rlpB7XR+U/",
          "dtype": "f8",
          "shape": "39, 1"
         },
         "domain": {
          "x": [
           0,
           1
          ],
          "y": [
           0,
           1
          ]
         },
         "hovertemplate": "labels=%{label}<br>Survived_sum=%{value}<br>parent=%{parent}<br>id=%{id}<br>Survived=%{color}<extra></extra>",
         "ids": [
          "1/female/Child",
          "1/female/Teen",
          "1/female/Young Adult",
          "1/female/Adult",
          "1/female/Senior",
          "1/male/Child",
          "1/male/Teen",
          "1/male/Young Adult",
          "1/male/Adult",
          "1/male/Senior",
          "2/female/Child",
          "2/female/Teen",
          "2/female/Young Adult",
          "2/female/Adult",
          "2/female/Senior",
          "2/male/Child",
          "2/male/Teen",
          "2/male/Young Adult",
          "2/male/Adult",
          "2/male/Senior",
          "3/female/Child",
          "3/female/Teen",
          "3/female/Young Adult",
          "3/female/Adult",
          "3/female/Senior",
          "3/male/Child",
          "3/male/Teen",
          "3/male/Young Adult",
          "3/male/Adult",
          "3/male/Senior",
          "1/female",
          "1/male",
          "2/female",
          "2/male",
          "3/female",
          "3/male",
          "1",
          "2",
          "3"
         ],
         "labels": [
          "Child",
          "Teen",
          "Young Adult",
          "Adult",
          "Senior",
          "Child",
          "Teen",
          "Young Adult",
          "Adult",
          "Senior",
          "Child",
          "Teen",
          "Young Adult",
          "Adult",
          "Senior",
          "Child",
          "Teen",
          "Young Adult",
          "Adult",
          "Senior",
          "Child",
          "Teen",
          "Young Adult",
          "Adult",
          "Senior",
          "Child",
          "Teen",
          "Young Adult",
          "Adult",
          "Senior",
          "female",
          "male",
          "female",
          "male",
          "female",
          "male",
          "1",
          "2",
          "3"
         ],
         "marker": {
          "coloraxis": "coloraxis",
          "colors": {
           "bdata": "AAAAAAAA+P8AAAAAAADwP8dxHMdxHO8/BPcR3Edw7z8AAAAAAADwPwAAAAAAAOg/AAAAAAAA0D8AAAAAAADSP28wRT7rBtM/whT5rBtMwT8AAAAAAADwPwAAAAAAAPA/3/SmN73p7T8AAAAAAADuPwAAAAAAAOg/L7rooosu6j8AAAAAAAD4/x4eHh4eHo4/wXgr+xxSsz8AAAAAAACwPzMzMzMzM+M/btu2bdu25T8/xSVDsI7mPwAAAAAAAOA/AAAAAAAA8D9QB3VQB3XQP9C6wRT5rKs/XAr9Scaiuj9hcgUxuYK4PwAAAAAAAPj/J4U9flqk7z8sfV3oUkfeP5Xp1V/O3+0/RVA+Tllj5j9815g6l5XnP6PBwgOnTcY/e0/djCCn6j9juWWZJZPsP2rlpB7XR+U/",
           "dtype": "f8"
          }
         },
         "name": "",
         "parents": [
          "1/female",
          "1/female",
          "1/female",
          "1/female",
          "1/female",
          "1/male",
          "1/male",
          "1/male",
          "1/male",
          "1/male",
          "2/female",
          "2/female",
          "2/female",
          "2/female",
          "2/female",
          "2/male",
          "2/male",
          "2/male",
          "2/male",
          "2/male",
          "3/female",
          "3/female",
          "3/female",
          "3/female",
          "3/female",
          "3/male",
          "3/male",
          "3/male",
          "3/male",
          "3/male",
          "1",
          "1",
          "2",
          "2",
          "3",
          "3",
          "",
          "",
          ""
         ],
         "type": "sunburst",
         "values": {
          "bdata": "AAAAAAAAAAAAAAAAAADwP8dxHMdxHO8/BPcR3Edw7z8AAAAAAADwPwAAAAAAAOg/AAAAAAAA0D8AAAAAAADSP28wRT7rBtM/whT5rBtMwT8AAAAAAADwPwAAAAAAAPA/3/SmN73p7T8AAAAAAADuPwAAAAAAAOg/L7rooosu6j8AAAAAAAAAAB4eHh4eHo4/wXgr+xxSsz8AAAAAAACwPzMzMzMzM+M/btu2bdu25T8/xSVDsI7mPwAAAAAAAOA/AAAAAAAA8D9QB3VQB3XQP9C6wRT5rKs/XAr9Scaiuj9icgUxuYK4PwAAAAAAAAAAM5rLaC6jD0C0bjBFPmv7P5ze9KY3fRJAwKHGukcR7z/49AO5L94LQO3u5igDWuA/xuixxWasFkDUsk2eYF8WQLOwPYOw9A9A",
          "dtype": "f8"
         }
        }
       ],
       "layout": {
        "coloraxis": {
         "cmax": 1,
         "cmin": 0,
         "colorbar": {
          "title": {
           "text": "Survived"
          }
         },
         "colorscale": [
          [
           0,
           "rgb(165,0,38)"
          ],
          [
           0.1,
           "rgb(215,48,39)"
          ],
          [
           0.2,
           "rgb(244,109,67)"
          ],
          [
           0.3,
           "rgb(253,174,97)"
          ],
          [
           0.4,
           "rgb(254,224,139)"
          ],
          [
           0.5,
           "rgb(255,255,191)"
          ],
          [
           0.6,
           "rgb(217,239,139)"
          ],
          [
           0.7,
           "rgb(166,217,106)"
          ],
          [
           0.8,
           "rgb(102,189,99)"
          ],
          [
           0.9,
           "rgb(26,152,80)"
          ],
          [
           1,
           "rgb(0,104,55)"
          ]
         ]
        },
        "height": 800,
        "legend": {
         "tracegroupgap": 0
        },
        "margin": {
         "b": 0,
         "l": 0,
         "r": 0,
         "t": 100
        },
        "template": {
         "data": {
          "bar": [
           {
            "error_x": {
             "color": "#2a3f5f"
            },
            "error_y": {
             "color": "#2a3f5f"
            },
            "marker": {
             "line": {
              "color": "#E5ECF6",
              "width": 0.5
             },
             "pattern": {
              "fillmode": "overlay",
              "size": 10,
              "solidity": 0.2
             }
            },
            "type": "bar"
           }
          ],
          "barpolar": [
           {
            "marker": {
             "line": {
              "color": "#E5ECF6",
              "width": 0.5
             },
             "pattern": {
              "fillmode": "overlay",
              "size": 10,
              "solidity": 0.2
             }
            },
            "type": "barpolar"
           }
          ],
          "carpet": [
           {
            "aaxis": {
             "endlinecolor": "#2a3f5f",
             "gridcolor": "white",
             "linecolor": "white",
             "minorgridcolor": "white",
             "startlinecolor": "#2a3f5f"
            },
            "baxis": {
             "endlinecolor": "#2a3f5f",
             "gridcolor": "white",
             "linecolor": "white",
             "minorgridcolor": "white",
             "startlinecolor": "#2a3f5f"
            },
            "type": "carpet"
           }
          ],
          "choropleth": [
           {
            "colorbar": {
             "outlinewidth": 0,
             "ticks": ""
            },
            "type": "choropleth"
           }
          ],
          "contour": [
           {
            "colorbar": {
             "outlinewidth": 0,
             "ticks": ""
            },
            "colorscale": [
             [
              0,
              "#0d0887"
             ],
             [
              0.1111111111111111,
              "#46039f"
             ],
             [
              0.2222222222222222,
              "#7201a8"
             ],
             [
              0.3333333333333333,
              "#9c179e"
             ],
             [
              0.4444444444444444,
              "#bd3786"
             ],
             [
              0.5555555555555556,
              "#d8576b"
             ],
             [
              0.6666666666666666,
              "#ed7953"
             ],
             [
              0.7777777777777778,
              "#fb9f3a"
             ],
             [
              0.8888888888888888,
              "#fdca26"
             ],
             [
              1,
              "#f0f921"
             ]
            ],
            "type": "contour"
           }
          ],
          "contourcarpet": [
           {
            "colorbar": {
             "outlinewidth": 0,
             "ticks": ""
            },
            "type": "contourcarpet"
           }
          ],
          "heatmap": [
           {
            "colorbar": {
             "outlinewidth": 0,
             "ticks": ""
            },
            "colorscale": [
             [
              0,
              "#0d0887"
             ],
             [
              0.1111111111111111,
              "#46039f"
             ],
             [
              0.2222222222222222,
              "#7201a8"
             ],
             [
              0.3333333333333333,
              "#9c179e"
             ],
             [
              0.4444444444444444,
              "#bd3786"
             ],
             [
              0.5555555555555556,
              "#d8576b"
             ],
             [
              0.6666666666666666,
              "#ed7953"
             ],
             [
              0.7777777777777778,
              "#fb9f3a"
             ],
             [
              0.8888888888888888,
              "#fdca26"
             ],
             [
              1,
              "#f0f921"
             ]
            ],
            "type": "heatmap"
           }
          ],
          "histogram": [
           {
            "marker": {
             "pattern": {
              "fillmode": "overlay",
              "size": 10,
              "solidity": 0.2
             }
            },
            "type": "histogram"
           }
          ],
          "histogram2d": [
           {
            "colorbar": {
             "outlinewidth": 0,
             "ticks": ""
            },
            "colorscale": [
             [
              0,
              "#0d0887"
             ],
             [
              0.1111111111111111,
              "#46039f"
             ],
             [
              0.2222222222222222,
              "#7201a8"
             ],
             [
              0.3333333333333333,
              "#9c179e"
             ],
             [
              0.4444444444444444,
              "#bd3786"
             ],
             [
              0.5555555555555556,
              "#d8576b"
             ],
             [
              0.6666666666666666,
              "#ed7953"
             ],
             [
              0.7777777777777778,
              "#fb9f3a"
             ],
             [
              0.8888888888888888,
              "#fdca26"
             ],
             [
              1,
              "#f0f921"
             ]
            ],
            "type": "histogram2d"
           }
          ],
          "histogram2dcontour": [
           {
            "colorbar": {
             "outlinewidth": 0,
             "ticks": ""
            },
            "colorscale": [
             [
              0,
              "#0d0887"
             ],
             [
              0.1111111111111111,
              "#46039f"
             ],
             [
              0.2222222222222222,
              "#7201a8"
             ],
             [
              0.3333333333333333,
              "#9c179e"
             ],
             [
              0.4444444444444444,
              "#bd3786"
             ],
             [
              0.5555555555555556,
              "#d8576b"
             ],
             [
              0.6666666666666666,
              "#ed7953"
             ],
             [
              0.7777777777777778,
              "#fb9f3a"
             ],
             [
              0.8888888888888888,
              "#fdca26"
             ],
             [
              1,
              "#f0f921"
             ]
            ],
            "type": "histogram2dcontour"
           }
          ],
          "mesh3d": [
           {
            "colorbar": {
             "outlinewidth": 0,
             "ticks": ""
            },
            "type": "mesh3d"
           }
          ],
          "parcoords": [
           {
            "line": {
             "colorbar": {
              "outlinewidth": 0,
              "ticks": ""
             }
            },
            "type": "parcoords"
           }
          ],
          "pie": [
           {
            "automargin": true,
            "type": "pie"
           }
          ],
          "scatter": [
           {
            "fillpattern": {
             "fillmode": "overlay",
             "size": 10,
             "solidity": 0.2
            },
            "type": "scatter"
           }
          ],
          "scatter3d": [
           {
            "line": {
             "colorbar": {
              "outlinewidth": 0,
              "ticks": ""
             }
            },
            "marker": {
             "colorbar": {
              "outlinewidth": 0,
              "ticks": ""
             }
            },
            "type": "scatter3d"
           }
          ],
          "scattercarpet": [
           {
            "marker": {
             "colorbar": {
              "outlinewidth": 0,
              "ticks": ""
             }
            },
            "type": "scattercarpet"
           }
          ],
          "scattergeo": [
           {
            "marker": {
             "colorbar": {
              "outlinewidth": 0,
              "ticks": ""
             }
            },
            "type": "scattergeo"
           }
          ],
          "scattergl": [
           {
            "marker": {
             "colorbar": {
              "outlinewidth": 0,
              "ticks": ""
             }
            },
            "type": "scattergl"
           }
          ],
          "scattermap": [
           {
            "marker": {
             "colorbar": {
              "outlinewidth": 0,
              "ticks": ""
             }
            },
            "type": "scattermap"
           }
          ],
          "scattermapbox": [
           {
            "marker": {
             "colorbar": {
              "outlinewidth": 0,
              "ticks": ""
             }
            },
            "type": "scattermapbox"
           }
          ],
          "scatterpolar": [
           {
            "marker": {
             "colorbar": {
              "outlinewidth": 0,
              "ticks": ""
             }
            },
            "type": "scatterpolar"
           }
          ],
          "scatterpolargl": [
           {
            "marker": {
             "colorbar": {
              "outlinewidth": 0,
              "ticks": ""
             }
            },
            "type": "scatterpolargl"
           }
          ],
          "scatterternary": [
           {
            "marker": {
             "colorbar": {
              "outlinewidth": 0,
              "ticks": ""
             }
            },
            "type": "scatterternary"
           }
          ],
          "surface": [
           {
            "colorbar": {
             "outlinewidth": 0,
             "ticks": ""
            },
            "colorscale": [
             [
              0,
              "#0d0887"
             ],
             [
              0.1111111111111111,
              "#46039f"
             ],
             [
              0.2222222222222222,
              "#7201a8"
             ],
             [
              0.3333333333333333,
              "#9c179e"
             ],
             [
              0.4444444444444444,
              "#bd3786"
             ],
             [
              0.5555555555555556,
              "#d8576b"
             ],
             [
              0.6666666666666666,
              "#ed7953"
             ],
             [
              0.7777777777777778,
              "#fb9f3a"
             ],
             [
              0.8888888888888888,
              "#fdca26"
             ],
             [
              1,
              "#f0f921"
             ]
            ],
            "type": "surface"
           }
          ],
          "table": [
           {
            "cells": {
             "fill": {
              "color": "#EBF0F8"
             },
             "line": {
              "color": "white"
             }
            },
            "header": {
             "fill": {
              "color": "#C8D4E3"
             },
             "line": {
              "color": "white"
             }
            },
            "type": "table"
           }
          ]
         },
         "layout": {
          "annotationdefaults": {
           "arrowcolor": "#2a3f5f",
           "arrowhead": 0,
           "arrowwidth": 1
          },
          "autotypenumbers": "strict",
          "coloraxis": {
           "colorbar": {
            "outlinewidth": 0,
            "ticks": ""
           }
          },
          "colorscale": {
           "diverging": [
            [
             0,
             "#8e0152"
            ],
            [
             0.1,
             "#c51b7d"
            ],
            [
             0.2,
             "#de77ae"
            ],
            [
             0.3,
             "#f1b6da"
            ],
            [
             0.4,
             "#fde0ef"
            ],
            [
             0.5,
             "#f7f7f7"
            ],
            [
             0.6,
             "#e6f5d0"
            ],
            [
             0.7,
             "#b8e186"
            ],
            [
             0.8,
             "#7fbc41"
            ],
            [
             0.9,
             "#4d9221"
            ],
            [
             1,
             "#276419"
            ]
           ],
           "sequential": [
            [
             0,
             "#0d0887"
            ],
            [
             0.1111111111111111,
             "#46039f"
            ],
            [
             0.2222222222222222,
             "#7201a8"
            ],
            [
             0.3333333333333333,
             "#9c179e"
            ],
            [
             0.4444444444444444,
             "#bd3786"
            ],
            [
             0.5555555555555556,
             "#d8576b"
            ],
            [
             0.6666666666666666,
             "#ed7953"
            ],
            [
             0.7777777777777778,
             "#fb9f3a"
            ],
            [
             0.8888888888888888,
             "#fdca26"
            ],
            [
             1,
             "#f0f921"
            ]
           ],
           "sequentialminus": [
            [
             0,
             "#0d0887"
            ],
            [
             0.1111111111111111,
             "#46039f"
            ],
            [
             0.2222222222222222,
             "#7201a8"
            ],
            [
             0.3333333333333333,
             "#9c179e"
            ],
            [
             0.4444444444444444,
             "#bd3786"
            ],
            [
             0.5555555555555556,
             "#d8576b"
            ],
            [
             0.6666666666666666,
             "#ed7953"
            ],
            [
             0.7777777777777778,
             "#fb9f3a"
            ],
            [
             0.8888888888888888,
             "#fdca26"
            ],
            [
             1,
             "#f0f921"
            ]
           ]
          },
          "colorway": [
           "#636efa",
           "#EF553B",
           "#00cc96",
           "#ab63fa",
           "#FFA15A",
           "#19d3f3",
           "#FF6692",
           "#B6E880",
           "#FF97FF",
           "#FECB52"
          ],
          "font": {
           "color": "#2a3f5f"
          },
          "geo": {
           "bgcolor": "white",
           "lakecolor": "white",
           "landcolor": "#E5ECF6",
           "showlakes": true,
           "showland": true,
           "subunitcolor": "white"
          },
          "hoverlabel": {
           "align": "left"
          },
          "hovermode": "closest",
          "mapbox": {
           "style": "light"
          },
          "paper_bgcolor": "white",
          "plot_bgcolor": "#E5ECF6",
          "polar": {
           "angularaxis": {
            "gridcolor": "white",
            "linecolor": "white",
            "ticks": ""
           },
           "bgcolor": "#E5ECF6",
           "radialaxis": {
            "gridcolor": "white",
            "linecolor": "white",
            "ticks": ""
           }
          },
          "scene": {
           "xaxis": {
            "backgroundcolor": "#E5ECF6",
            "gridcolor": "white",
            "gridwidth": 2,
            "linecolor": "white",
            "showbackground": true,
            "ticks": "",
            "zerolinecolor": "white"
           },
           "yaxis": {
            "backgroundcolor": "#E5ECF6",
            "gridcolor": "white",
            "gridwidth": 2,
            "linecolor": "white",
            "showbackground": true,
            "ticks": "",
            "zerolinecolor": "white"
           },
           "zaxis": {
            "backgroundcolor": "#E5ECF6",
            "gridcolor": "white",
            "gridwidth": 2,
            "linecolor": "white",
            "showbackground": true,
            "ticks": "",
            "zerolinecolor": "white"
           }
          },
          "shapedefaults": {
           "line": {
            "color": "#2a3f5f"
           }
          },
          "ternary": {
           "aaxis": {
            "gridcolor": "white",
            "linecolor": "white",
            "ticks": ""
           },
           "baxis": {
            "gridcolor": "white",
            "linecolor": "white",
            "ticks": ""
           },
           "bgcolor": "#E5ECF6",
           "caxis": {
            "gridcolor": "white",
            "linecolor": "white",
            "ticks": ""
           }
          },
          "title": {
           "x": 0.05
          },
          "xaxis": {
           "automargin": true,
           "gridcolor": "white",
           "linecolor": "white",
           "ticks": "",
           "title": {
            "standoff": 15
           },
           "zerolinecolor": "white",
           "zerolinewidth": 2
          },
          "yaxis": {
           "automargin": true,
           "gridcolor": "white",
           "linecolor": "white",
           "ticks": "",
           "title": {
            "standoff": 15
           },
           "zerolinecolor": "white",
           "zerolinewidth": 2
          }
         }
        },
        "title": {
         "font": {
          "color": "darkblue",
          "family": "Arial",
          "size": 20
         },
         "text": "<b>Hierarchical Survival Rates</b><br>Class → Gender → Age Group"
        },
        "width": 800
       }
      }
     },
     "metadata": {},
     "output_type": "display_data"
    }
   ],
   "source": [
    "import plotly.express as px\n",
    "\n",
    "# Create hierarchical data\n",
    "full_df['AgeGroup'] = pd.cut(full_df['Age'], bins=[0,12,18,30,50,80], labels=['Child','Teen','Young Adult','Adult','Senior'])\n",
    "\n",
    "\n",
    "fig = px.sunburst(\n",
    "    hierarchical_df,\n",
    "    path=['Pclass', 'Sex', 'AgeGroup'],\n",
    "    values='Survived',\n",
    "    color='Survived',\n",
    "    color_continuous_scale='RdYlGn',\n",
    "    range_color=[0, 1],\n",
    "    title='<b>Hierarchical Survival Rates</b><br>Class → Gender → Age Group',\n",
    "    width=800,\n",
    "    height=800\n",
    ")\n",
    "\n",
    "fig.update_layout(\n",
    "    title_font=dict(size=20, family='Arial', color='darkblue'),\n",
    "    margin=dict(t=100, l=0, r=0, b=0)\n",
    ")\n",
    "\n",
    "fig.show()"
   ]
  },
  {
   "cell_type": "markdown",
   "id": "abbc60ba",
   "metadata": {},
   "source": [
    "8. Animated Scatter Plot (Age vs Fare with Survival)"
   ]
  },
  {
   "cell_type": "code",
   "execution_count": 61,
   "id": "9231279e",
   "metadata": {},
   "outputs": [
    {
     "data": {
      "application/vnd.plotly.v1+json": {
       "config": {
        "plotlyServerURL": "https://plot.ly"
       },
       "data": [
        {
         "customdata": [
          [
           "male",
           "S"
          ],
          [
           "female",
           "S"
          ],
          [
           "male",
           "S"
          ],
          [
           "male",
           "S"
          ],
          [
           "female",
           "S"
          ],
          [
           "female",
           "S"
          ],
          [
           "male",
           "S"
          ],
          [
           "male",
           "S"
          ],
          [
           "female",
           "S"
          ],
          [
           "male",
           "Q"
          ],
          [
           "female",
           "S"
          ],
          [
           "female",
           "Q"
          ],
          [
           "female",
           "S"
          ],
          [
           "female",
           "S"
          ],
          [
           "male",
           "S"
          ],
          [
           "female",
           "S"
          ],
          [
           "female",
           "C"
          ],
          [
           "female",
           "S"
          ],
          [
           "female",
           "Q"
          ],
          [
           "female",
           "S"
          ],
          [
           "male",
           "S"
          ],
          [
           "male",
           "S"
          ],
          [
           "male",
           "C"
          ],
          [
           "male",
           "S"
          ],
          [
           "male",
           "C"
          ],
          [
           "male",
           "S"
          ],
          [
           "male",
           "S"
          ],
          [
           "female",
           "S"
          ],
          [
           "male",
           "S"
          ],
          [
           "female",
           "S"
          ],
          [
           "male",
           "C"
          ],
          [
           "male",
           "S"
          ],
          [
           "male",
           "S"
          ],
          [
           "female",
           "S"
          ],
          [
           "male",
           "S"
          ],
          [
           "male",
           "S"
          ],
          [
           "female",
           "S"
          ],
          [
           "male",
           "S"
          ],
          [
           "male",
           "S"
          ],
          [
           "male",
           "S"
          ],
          [
           "male",
           "S"
          ],
          [
           "male",
           "S"
          ],
          [
           "male",
           "S"
          ],
          [
           "female",
           "S"
          ],
          [
           "male",
           "S"
          ],
          [
           "male",
           "S"
          ],
          [
           "male",
           "S"
          ],
          [
           "female",
           "S"
          ],
          [
           "male",
           "S"
          ],
          [
           "female",
           "C"
          ],
          [
           "male",
           "S"
          ],
          [
           "female",
           "S"
          ],
          [
           "female",
           "C"
          ],
          [
           "male",
           "S"
          ],
          [
           "male",
           "Q"
          ],
          [
           "female",
           "S"
          ],
          [
           "male",
           "C"
          ],
          [
           "male",
           "S"
          ],
          [
           "male",
           "S"
          ],
          [
           "male",
           "C"
          ],
          [
           "male",
           "S"
          ],
          [
           "female",
           "S"
          ],
          [
           "male",
           "S"
          ],
          [
           "female",
           "S"
          ],
          [
           "female",
           "S"
          ],
          [
           "male",
           "Q"
          ],
          [
           "male",
           "S"
          ],
          [
           "female",
           "S"
          ],
          [
           "male",
           "S"
          ],
          [
           "male",
           "S"
          ],
          [
           "female",
           "Q"
          ],
          [
           "male",
           "S"
          ],
          [
           "male",
           "S"
          ],
          [
           "male",
           "S"
          ],
          [
           "male",
           "S"
          ],
          [
           "male",
           "S"
          ],
          [
           "male",
           "S"
          ],
          [
           "female",
           "S"
          ],
          [
           "male",
           "S"
          ],
          [
           "male",
           "Q"
          ],
          [
           "female",
           "S"
          ],
          [
           "male",
           "S"
          ],
          [
           "male",
           "S"
          ],
          [
           "male",
           "S"
          ],
          [
           "male",
           "S"
          ],
          [
           "female",
           "S"
          ],
          [
           "male",
           "Q"
          ],
          [
           "male",
           "S"
          ],
          [
           "female",
           "S"
          ],
          [
           "male",
           "S"
          ],
          [
           "male",
           "S"
          ],
          [
           "male",
           "S"
          ],
          [
           "male",
           "C"
          ],
          [
           "male",
           "S"
          ],
          [
           "female",
           "S"
          ],
          [
           "male",
           "S"
          ],
          [
           "male",
           "C"
          ],
          [
           "female",
           "Q"
          ],
          [
           "male",
           "S"
          ],
          [
           "male",
           "S"
          ],
          [
           "female",
           "S"
          ],
          [
           "male",
           "S"
          ],
          [
           "male",
           "S"
          ],
          [
           "male",
           "S"
          ],
          [
           "male",
           "S"
          ],
          [
           "male",
           "S"
          ],
          [
           "female",
           "S"
          ],
          [
           "male",
           "S"
          ],
          [
           "male",
           "C"
          ],
          [
           "female",
           "S"
          ],
          [
           "female",
           "S"
          ],
          [
           "male",
           "S"
          ],
          [
           "female",
           "S"
          ],
          [
           "female",
           "C"
          ],
          [
           "male",
           "S"
          ],
          [
           "male",
           "S"
          ],
          [
           "male",
           "S"
          ],
          [
           "male",
           "S"
          ],
          [
           "female",
           "S"
          ],
          [
           "male",
           "Q"
          ],
          [
           "female",
           "S"
          ],
          [
           "male",
           "Q"
          ],
          [
           "male",
           "S"
          ],
          [
           "male",
           "S"
          ],
          [
           "male",
           "S"
          ],
          [
           "male",
           "C"
          ],
          [
           "male",
           "S"
          ],
          [
           "male",
           "S"
          ],
          [
           "female",
           "Q"
          ],
          [
           "female",
           "S"
          ],
          [
           "male",
           "S"
          ],
          [
           "male",
           "C"
          ],
          [
           "male",
           "S"
          ],
          [
           "male",
           "S"
          ],
          [
           "female",
           "S"
          ],
          [
           "male",
           "S"
          ],
          [
           "male",
           "S"
          ],
          [
           "male",
           "S"
          ],
          [
           "female",
           "S"
          ],
          [
           "male",
           "S"
          ],
          [
           "male",
           "S"
          ],
          [
           "male",
           "S"
          ],
          [
           "male",
           "S"
          ],
          [
           "male",
           "S"
          ],
          [
           "male",
           "C"
          ],
          [
           "male",
           "S"
          ],
          [
           "male",
           "S"
          ],
          [
           "male",
           "S"
          ],
          [
           "female",
           "C"
          ],
          [
           "male",
           "S"
          ],
          [
           "male",
           "S"
          ],
          [
           "male",
           "S"
          ],
          [
           "male",
           "S"
          ],
          [
           "female",
           "S"
          ],
          [
           "female",
           "S"
          ],
          [
           "male",
           "C"
          ],
          [
           "male",
           "S"
          ],
          [
           "female",
           "C"
          ],
          [
           "male",
           "S"
          ],
          [
           "male",
           "S"
          ],
          [
           "male",
           "S"
          ],
          [
           "male",
           "S"
          ],
          [
           "female",
           "S"
          ],
          [
           "male",
           "S"
          ],
          [
           "female",
           "S"
          ],
          [
           "male",
           "S"
          ],
          [
           "male",
           "S"
          ],
          [
           "female",
           "S"
          ],
          [
           "male",
           "S"
          ],
          [
           "female",
           "S"
          ],
          [
           "male",
           "S"
          ],
          [
           "male",
           "S"
          ],
          [
           "male",
           "S"
          ],
          [
           "female",
           "S"
          ],
          [
           "male",
           "Q"
          ],
          [
           "male",
           "S"
          ],
          [
           "female",
           "S"
          ],
          [
           "male",
           "S"
          ],
          [
           "male",
           "S"
          ],
          [
           "male",
           "S"
          ],
          [
           "female",
           "S"
          ],
          [
           "male",
           "S"
          ],
          [
           "male",
           "S"
          ],
          [
           "female",
           "C"
          ],
          [
           "male",
           "C"
          ],
          [
           "male",
           "S"
          ],
          [
           "male",
           "S"
          ],
          [
           "female",
           "C"
          ],
          [
           "male",
           "S"
          ],
          [
           "female",
           "S"
          ],
          [
           "male",
           "S"
          ],
          [
           "male",
           "S"
          ],
          [
           "female",
           "S"
          ],
          [
           "male",
           "S"
          ],
          [
           "male",
           "S"
          ],
          [
           "female",
           "S"
          ],
          [
           "male",
           "S"
          ],
          [
           "male",
           "S"
          ],
          [
           "male",
           "S"
          ],
          [
           "male",
           "S"
          ],
          [
           "male",
           "S"
          ],
          [
           "male",
           "S"
          ],
          [
           "female",
           "Q"
          ],
          [
           "female",
           "S"
          ],
          [
           "male",
           "S"
          ],
          [
           "male",
           "S"
          ],
          [
           "male",
           "Q"
          ],
          [
           "male",
           "S"
          ],
          [
           "male",
           "S"
          ],
          [
           "male",
           "S"
          ],
          [
           "male",
           "Q"
          ],
          [
           "male",
           "S"
          ],
          [
           "male",
           "C"
          ],
          [
           "female",
           "S"
          ],
          [
           "female",
           "S"
          ],
          [
           "female",
           "S"
          ],
          [
           "male",
           "S"
          ],
          [
           "male",
           "C"
          ],
          [
           "female",
           "S"
          ],
          [
           "female",
           "S"
          ],
          [
           "male",
           "S"
          ],
          [
           "male",
           "S"
          ],
          [
           "male",
           "S"
          ],
          [
           "female",
           "S"
          ],
          [
           "male",
           "S"
          ],
          [
           "male",
           "S"
          ],
          [
           "male",
           "S"
          ],
          [
           "male",
           "S"
          ],
          [
           "male",
           "S"
          ],
          [
           "male",
           "S"
          ],
          [
           "male",
           "S"
          ],
          [
           "male",
           "S"
          ],
          [
           "male",
           "S"
          ],
          [
           "male",
           "S"
          ],
          [
           "male",
           "S"
          ],
          [
           "male",
           "S"
          ],
          [
           "female",
           "S"
          ],
          [
           "male",
           "S"
          ],
          [
           "male",
           "S"
          ],
          [
           "female",
           "S"
          ],
          [
           "male",
           "C"
          ],
          [
           "male",
           "C"
          ],
          [
           "male",
           "S"
          ],
          [
           "male",
           "S"
          ],
          [
           "male",
           "S"
          ],
          [
           "male",
           "S"
          ],
          [
           "female",
           "S"
          ],
          [
           "male",
           "S"
          ],
          [
           "female",
           "S"
          ],
          [
           "male",
           "S"
          ],
          [
           "female",
           "S"
          ],
          [
           "female",
           "C"
          ],
          [
           "male",
           "S"
          ],
          [
           "female",
           "S"
          ],
          [
           "male",
           "S"
          ],
          [
           "female",
           "Q"
          ],
          [
           "female",
           "Q"
          ],
          [
           "male",
           "C"
          ],
          [
           "male",
           "S"
          ],
          [
           "male",
           "S"
          ],
          [
           "male",
           "S"
          ],
          [
           "male",
           "S"
          ],
          [
           "male",
           "S"
          ],
          [
           "female",
           "S"
          ],
          [
           "female",
           "S"
          ],
          [
           "male",
           "S"
          ],
          [
           "male",
           "S"
          ],
          [
           "male",
           "S"
          ],
          [
           "male",
           "S"
          ],
          [
           "male",
           "S"
          ],
          [
           "female",
           "C"
          ],
          [
           "male",
           "C"
          ],
          [
           "male",
           "S"
          ],
          [
           "male",
           "S"
          ],
          [
           "female",
           "C"
          ],
          [
           "male",
           "Q"
          ],
          [
           "male",
           "S"
          ],
          [
           "male",
           "S"
          ],
          [
           "male",
           "S"
          ],
          [
           "male",
           "S"
          ],
          [
           "male",
           "S"
          ],
          [
           "male",
           "S"
          ],
          [
           "female",
           "S"
          ],
          [
           "male",
           "C"
          ],
          [
           "male",
           "S"
          ],
          [
           "female",
           "S"
          ],
          [
           "male",
           "S"
          ],
          [
           "male",
           "S"
          ],
          [
           "male",
           "S"
          ],
          [
           "male",
           "Q"
          ],
          [
           "male",
           "S"
          ],
          [
           "male",
           "S"
          ],
          [
           "male",
           "S"
          ],
          [
           "male",
           "S"
          ],
          [
           "male",
           "S"
          ],
          [
           "male",
           "S"
          ],
          [
           "male",
           "C"
          ],
          [
           "male",
           "S"
          ],
          [
           "female",
           "Q"
          ],
          [
           "male",
           "S"
          ],
          [
           "male",
           "S"
          ],
          [
           "male",
           "S"
          ],
          [
           "male",
           "S"
          ],
          [
           "female",
           "S"
          ],
          [
           "female",
           "C"
          ],
          [
           "male",
           "S"
          ],
          [
           "male",
           "S"
          ],
          [
           "female",
           "S"
          ],
          [
           "male",
           "Q"
          ],
          [
           "male",
           "S"
          ],
          [
           "male",
           "S"
          ],
          [
           "female",
           "S"
          ],
          [
           "male",
           "C"
          ],
          [
           "female",
           "S"
          ],
          [
           "male",
           "C"
          ],
          [
           "male",
           "S"
          ],
          [
           "male",
           "S"
          ],
          [
           "female",
           "S"
          ],
          [
           "male",
           "S"
          ],
          [
           "male",
           "S"
          ],
          [
           "female",
           "S"
          ],
          [
           "male",
           "S"
          ],
          [
           "female",
           "S"
          ],
          [
           "male",
           "S"
          ],
          [
           "male",
           "S"
          ],
          [
           "male",
           "S"
          ],
          [
           "female",
           "S"
          ],
          [
           "male",
           "S"
          ],
          [
           "female",
           "C"
          ],
          [
           "male",
           "S"
          ],
          [
           "male",
           "S"
          ],
          [
           "male",
           "S"
          ],
          [
           "male",
           "S"
          ],
          [
           "male",
           "S"
          ],
          [
           "male",
           "C"
          ],
          [
           "male",
           "S"
          ],
          [
           "male",
           "S"
          ],
          [
           "male",
           "C"
          ],
          [
           "male",
           "S"
          ],
          [
           "male",
           "S"
          ],
          [
           "female",
           "C"
          ],
          [
           "female",
           "S"
          ],
          [
           "female",
           "C"
          ],
          [
           "male",
           "S"
          ],
          [
           "male",
           "S"
          ],
          [
           "male",
           "S"
          ],
          [
           "male",
           "S"
          ],
          [
           "female",
           "C"
          ],
          [
           "male",
           "S"
          ],
          [
           "male",
           "S"
          ],
          [
           "male",
           "S"
          ],
          [
           "female",
           "S"
          ],
          [
           "male",
           "S"
          ],
          [
           "female",
           "Q"
          ],
          [
           "male",
           "Q"
          ],
          [
           "male",
           "Q"
          ],
          [
           "female",
           "S"
          ],
          [
           "male",
           "S"
          ],
          [
           "female",
           "S"
          ],
          [
           "male",
           "S"
          ],
          [
           "female",
           "Q"
          ],
          [
           "female",
           "C"
          ],
          [
           "male",
           "S"
          ],
          [
           "male",
           "C"
          ],
          [
           "female",
           "S"
          ],
          [
           "female",
           "C"
          ],
          [
           "male",
           "S"
          ],
          [
           "male",
           "S"
          ],
          [
           "male",
           "C"
          ],
          [
           "female",
           "S"
          ],
          [
           "male",
           "C"
          ],
          [
           "female",
           "S"
          ],
          [
           "male",
           "S"
          ],
          [
           "male",
           "C"
          ],
          [
           "male",
           "S"
          ],
          [
           "male",
           "S"
          ],
          [
           "female",
           "S"
          ],
          [
           "male",
           "Q"
          ],
          [
           "male",
           "S"
          ],
          [
           "male",
           "S"
          ],
          [
           "male",
           "S"
          ],
          [
           "male",
           "S"
          ],
          [
           "female",
           "Q"
          ],
          [
           "female",
           "Q"
          ],
          [
           "female",
           "Q"
          ],
          [
           "male",
           "S"
          ],
          [
           "female",
           "S"
          ],
          [
           "female",
           "Q"
          ],
          [
           "male",
           "C"
          ],
          [
           "female",
           "Q"
          ],
          [
           "female",
           "S"
          ],
          [
           "female",
           "S"
          ],
          [
           "male",
           "S"
          ],
          [
           "male",
           "S"
          ],
          [
           "female",
           "S"
          ],
          [
           "male",
           "S"
          ],
          [
           "male",
           "S"
          ],
          [
           "female",
           "C"
          ],
          [
           "male",
           "S"
          ],
          [
           "male",
           "Q"
          ],
          [
           "female",
           "Q"
          ],
          [
           "male",
           "C"
          ],
          [
           "female",
           "S"
          ],
          [
           "male",
           "S"
          ],
          [
           "female",
           "S"
          ],
          [
           "male",
           "S"
          ],
          [
           "male",
           "S"
          ],
          [
           "male",
           "S"
          ],
          [
           "male",
           "S"
          ],
          [
           "male",
           "S"
          ],
          [
           "male",
           "C"
          ],
          [
           "female",
           "S"
          ],
          [
           "male",
           "S"
          ],
          [
           "female",
           "S"
          ],
          [
           "male",
           "S"
          ],
          [
           "male",
           "S"
          ],
          [
           "female",
           "S"
          ],
          [
           "male",
           "S"
          ],
          [
           "male",
           "S"
          ],
          [
           "female",
           "S"
          ],
          [
           "female",
           "S"
          ],
          [
           "male",
           "C"
          ],
          [
           "female",
           "S"
          ],
          [
           "male",
           "S"
          ],
          [
           "female",
           "S"
          ],
          [
           "male",
           "C"
          ],
          [
           "male",
           "S"
          ],
          [
           "male",
           "S"
          ],
          [
           "male",
           "S"
          ],
          [
           "male",
           "S"
          ],
          [
           "male",
           "S"
          ],
          [
           "female",
           "S"
          ],
          [
           "male",
           "S"
          ],
          [
           "female",
           "Q"
          ],
          [
           "male",
           "S"
          ],
          [
           "male",
           "S"
          ],
          [
           "female",
           "S"
          ],
          [
           "male",
           "S"
          ],
          [
           "male",
           "S"
          ],
          [
           "male",
           "S"
          ],
          [
           "male",
           "S"
          ],
          [
           "male",
           "S"
          ],
          [
           "male",
           "S"
          ],
          [
           "male",
           "C"
          ],
          [
           "male",
           "S"
          ],
          [
           "male",
           "S"
          ],
          [
           "male",
           "S"
          ],
          [
           "male",
           "S"
          ],
          [
           "male",
           "S"
          ],
          [
           "male",
           "S"
          ],
          [
           "male",
           "S"
          ],
          [
           "female",
           "S"
          ],
          [
           "male",
           "S"
          ],
          [
           "female",
           "S"
          ],
          [
           "male",
           "S"
          ],
          [
           "female",
           "C"
          ],
          [
           "female",
           "S"
          ],
          [
           "male",
           "S"
          ],
          [
           "female",
           "Q"
          ],
          [
           "male",
           "S"
          ],
          [
           "male",
           "S"
          ],
          [
           "male",
           "S"
          ],
          [
           "male",
           "S"
          ],
          [
           "male",
           "S"
          ],
          [
           "male",
           "S"
          ],
          [
           "female",
           "S"
          ],
          [
           "male",
           "S"
          ],
          [
           "male",
           "C"
          ],
          [
           "female",
           "Q"
          ],
          [
           "female",
           "Q"
          ],
          [
           "male",
           "S"
          ],
          [
           "male",
           "S"
          ],
          [
           "male",
           "C"
          ],
          [
           "male",
           "S"
          ],
          [
           "female",
           "C"
          ],
          [
           "male",
           "S"
          ],
          [
           "male",
           "C"
          ],
          [
           "male",
           "S"
          ],
          [
           "female",
           "S"
          ],
          [
           "female",
           "C"
          ],
          [
           "female",
           "S"
          ],
          [
           "female",
           "S"
          ],
          [
           "male",
           "S"
          ],
          [
           "male",
           "S"
          ],
          [
           "female",
           "S"
          ],
          [
           "female",
           "S"
          ],
          [
           "male",
           "S"
          ],
          [
           "male",
           "Q"
          ],
          [
           "female",
           "S"
          ],
          [
           "male",
           "S"
          ],
          [
           "male",
           "Q"
          ],
          [
           "male",
           "S"
          ],
          [
           "male",
           "S"
          ],
          [
           "male",
           "S"
          ],
          [
           "male",
           "Q"
          ],
          [
           "male",
           "S"
          ],
          [
           "male",
           "Q"
          ],
          [
           "female",
           "S"
          ],
          [
           "female",
           "S"
          ],
          [
           "male",
           "S"
          ]
         ],
         "hovertemplate": "<b>%{hovertext}</b><br><br>Pclass=3<br>Age=%{x}<br>Fare=%{y}<br>Sex=%{customdata[0]}<br>Embarked=%{customdata[1]}<br>Survived=%{marker.color}<extra></extra>",
         "hovertext": [
          "Braund, Mr. Owen Harris",
          "Heikkinen, Miss. Laina",
          "Allen, Mr. William Henry",
          "Palsson, Master. Gosta Leonard",
          "Johnson, Mrs. Oscar W (Elisabeth Vilhelmina Berg)",
          "Sandstrom, Miss. Marguerite Rut",
          "Saundercock, Mr. William Henry",
          "Andersson, Mr. Anders Johan",
          "Vestrom, Miss. Hulda Amanda Adolfina",
          "Rice, Master. Eugene",
          "Vander Planke, Mrs. Julius (Emelia Maria Vandemoortele)",
          "McGowan, Miss. Anna \"Annie\"",
          "Palsson, Miss. Torborg Danira",
          "Asplund, Mrs. Carl Oscar (Selma Augusta Emilia Johansson)",
          "Cann, Mr. Ernest Charles",
          "Vander Planke, Miss. Augusta Maria",
          "Nicola-Yarred, Miss. Jamila",
          "Ahlin, Mrs. Johan (Johanna Persdotter Larsson)",
          "Devaney, Miss. Margaret Delia",
          "Arnold-Franchi, Mrs. Josef (Josefine Franchi)",
          "Panula, Master. Juha Niilo",
          "Nosworthy, Mr. Richard Cater",
          "Novel, Mr. Mansouer",
          "Goodwin, Master. William Frederick",
          "Sirayanian, Mr. Orsen",
          "Skoog, Master. Harald",
          "Crease, Mr. Ernest James",
          "Andersson, Miss. Erna Alexandra",
          "Kink, Mr. Vincenz",
          "Goodwin, Miss. Lillian Amy",
          "Chronopoulos, Mr. Apostolos",
          "Bing, Mr. Lee",
          "Moen, Mr. Sigurd Hansen",
          "Dowdell, Miss. Elizabeth",
          "Waelens, Mr. Achille",
          "Sheerlinck, Mr. Jan Baptist",
          "Backstrom, Mrs. Karl Alfred (Maria Mathilda Gustafsson)",
          "Ford, Mr. William Neal",
          "Celotti, Mr. Francesco",
          "Christmann, Mr. Emil",
          "Andreasson, Mr. Paul Edvin",
          "Dean, Mr. Bertram Frank",
          "Coxon, Mr. Daniel",
          "Petranec, Miss. Matilda",
          "Johansson, Mr. Gustaf Joel",
          "Gustafsson, Mr. Anders Vilhelm",
          "Mionoff, Mr. Stoytcho",
          "Salkjelsvik, Miss. Anna Kristine",
          "Rekic, Mr. Tido",
          "Zabour, Miss. Hileni",
          "Barton, Mr. David John",
          "Jussila, Miss. Katriina",
          "Attalah, Miss. Malake",
          "Pekoniemi, Mr. Edvard",
          "Connors, Mr. Patrick",
          "Andersson, Miss. Ellis Anna Maria",
          "Nicola-Yarred, Master. Elias",
          "Madsen, Mr. Fridtjof Arne",
          "Ekstrom, Mr. Johan",
          "Drazenoic, Mr. Jozef",
          "Coelho, Mr. Domingos Fernandeo",
          "Robins, Mrs. Alexander A (Grace Charity Laury)",
          "Osen, Mr. Olaf Elon",
          "Nysten, Miss. Anna Sofia",
          "Hakkarainen, Mrs. Pekka Pietari (Elin Matilda Dolck)",
          "Burke, Mr. Jeremiah",
          "Andersson, Mr. August Edvard (\"Wennerstrom\")",
          "Ford, Miss. Robina Maggie \"Ruby\"",
          "Meo, Mr. Alfonzo",
          "van Billiard, Mr. Austin Blyler",
          "Gilnagh, Miss. Katherine \"Katie\"",
          "Corn, Mr. Harry",
          "Cribb, Mr. John Hatfield",
          "Bengtsson, Mr. John Viktor",
          "Calic, Mr. Jovo",
          "Panula, Master. Eino Viljami",
          "Goldsmith, Master. Frank John William \"Frankie\"",
          "Skoog, Mrs. William (Anna Bernhardina Karlsson)",
          "Ling, Mr. Lee",
          "Rice, Master. Arthur",
          "Johnson, Miss. Eleanor Ileen",
          "Sivola, Mr. Antti Wilhelm",
          "Klasen, Mr. Klas Albin",
          "Leonard, Mr. Lionel",
          "Asplund, Master. Clarence Gustaf Hugo",
          "Kink-Heilmann, Miss. Luise Gretchen",
          "Bourke, Mr. John",
          "Turcin, Mr. Stjepan",
          "Andersen-Jensen, Miss. Carla Christine Nielsine",
          "Olsen, Mr. Karl Siegwart Andreas",
          "Vande Walle, Mr. Nestor Cyriel",
          "Johanson, Mr. Jakob Alfred",
          "Youseff, Mr. Gerious",
          "Cohen, Mr. Gurshon \"Gus\"",
          "Strom, Miss. Telma Matilda",
          "Backstrom, Mr. Karl Alfred",
          "Albimona, Mr. Nassef Cassem",
          "Carr, Miss. Helen \"Ellen\"",
          "Ali, Mr. Ahmed",
          "Perkin, Mr. John Henry",
          "Honkanen, Miss. Eliina",
          "Sunderland, Mr. Victor Francis",
          "Green, Mr. George Henry",
          "Berglund, Mr. Karl Ivar Sven",
          "Lovell, Mr. John Hall (\"Henry\")",
          "Larsson, Mr. Bengt Edvin",
          "Asplund, Miss. Lillian Gertrud",
          "Maenpaa, Mr. Matti Alexanteri",
          "Attalah, Mr. Sleiman",
          "Lindahl, Miss. Agda Thorilda Viktoria",
          "Strom, Mrs. Wilhelm (Elna Matilda Persson)",
          "Lobb, Mr. William Arthur",
          "Rosblom, Mrs. Viktor (Helena Wilhelmina)",
          "Touma, Mrs. Darwis (Hanne Youssef Razi)",
          "Asplund, Master. Edvin Rojj Felix",
          "Panula, Mr. Ernesti Arvid",
          "Persson, Mr. Ernst Ulrik",
          "Tornquist, Mr. William Henry",
          "Lindblom, Miss. Augusta Charlotta",
          "Rice, Master. Eric",
          "Abbott, Mrs. Stanton (Rosa Hunt)",
          "Duane, Mr. Frank",
          "Olsson, Mr. Nils Johan Goransson",
          "de Pelsmaeker, Mr. Alfons",
          "Dorking, Mr. Edward Arthur",
          "Stankovic, Mr. Ivan",
          "de Mulder, Mr. Theodore",
          "Naidenoff, Mr. Penko",
          "Connolly, Miss. Kate",
          "Haas, Miss. Aloisia",
          "Mineff, Mr. Ivan",
          "Hanna, Mr. Mansour",
          "Johnson, Mr. William Cahoone Jr",
          "Hendekovic, Mr. Ignjac",
          "Nilsson, Miss. Helmina Josefina",
          "Dennis, Mr. Samuel",
          "Danoff, Mr. Yoto",
          "Nysveen, Mr. Johan Hansen",
          "Goldsmith, Mrs. Frank John (Emily Alice Brown)",
          "Vander Planke, Mr. Leo Edmondus",
          "Dahl, Mr. Karl Edwart",
          "Coutts, Master. William Loch \"William\"",
          "Dimic, Mr. Jovan",
          "Odahl, Mr. Nils Martin",
          "Elias, Mr. Tannous",
          "Arnold-Franchi, Mr. Josef",
          "Vanden Steen, Mr. Leo Peter",
          "Skoog, Mr. Wilhelm",
          "Barbara, Mrs. (Catherine David)",
          "Asim, Mr. Adola",
          "Adahl, Mr. Mauritz Nils Martin",
          "Wiklund, Mr. Jakob Alfred",
          "Beavan, Mr. William Thomas",
          "Palsson, Miss. Stina Viola",
          "Landergren, Miss. Aurora Adelia",
          "Betros, Mr. Tannous",
          "Gustafsson, Mr. Karl Gideon",
          "Nakid, Miss. Maria (\"Mary\")",
          "Tikkanen, Mr. Juho",
          "Goodwin, Master. Sidney Leonard",
          "Jansson, Mr. Carl Olof",
          "Gustafsson, Mr. Johan Birger",
          "Sandstrom, Mrs. Hjalmar (Agnes Charlotta Bengtsson)",
          "Johansson, Mr. Erik",
          "Olsson, Miss. Elina",
          "Niskanen, Mr. Juha",
          "Adams, Mr. John",
          "Jussila, Miss. Mari Aina",
          "Hakkarainen, Mr. Pekka Pietari",
          "Oreskovic, Miss. Marija",
          "Widegren, Mr. Carl/Charles Peter",
          "Birkeland, Mr. Hans Martin Monsen",
          "Sundman, Mr. Johan Julian",
          "Van Impe, Miss. Catharina",
          "Charters, Mr. David",
          "Zimmerman, Mr. Leo",
          "Danbom, Mrs. Ernst Gilbert (Anna Sigrid Maria Brogren)",
          "Rosblom, Mr. Viktor Richard",
          "Pickard, Mr. Berk (Berk Trembisky)",
          "Kallio, Mr. Nikolai Erland",
          "Ford, Miss. Doolina Margaret \"Daisy\"",
          "Hampe, Mr. Leon",
          "Petterson, Mr. Johan Emil",
          "Baclini, Miss. Marie Catherine",
          "Jalsevac, Mr. Ivan",
          "Morley, Mr. William",
          "Goncalves, Mr. Manuel Estanslas",
          "Baclini, Miss. Helene Barbara",
          "Cacic, Mr. Luka",
          "Strandberg, Miss. Ida Sofia",
          "Braund, Mr. Lewis Richard",
          "Karlsson, Mr. Nils August",
          "Hirvonen, Miss. Hildur E",
          "Goodwin, Master. Harold Victor",
          "Rouse, Mr. Richard Henry",
          "Turkula, Mrs. (Hedwig)",
          "Somerton, Mr. Francis William",
          "Coutts, Master. Eden Leslie \"Neville\"",
          "Windelov, Mr. Einar",
          "Stanley, Mr. Edward Roland",
          "Svensson, Mr. Olof",
          "Calic, Mr. Petar",
          "Canavan, Miss. Mary",
          "Laitinen, Miss. Kristina Sofia",
          "Olsen, Mr. Henry Margido",
          "Lang, Mr. Fang",
          "Daly, Mr. Eugene Patrick",
          "Coleff, Mr. Satio",
          "Pavlovic, Mr. Stefo",
          "Vovk, Mr. Janko",
          "Farrell, Mr. James",
          "Salonen, Mr. Johan Werner",
          "Elias, Mr. Joseph Jr",
          "Cacic, Miss. Marija",
          "Andersson, Miss. Ingeborg Constanzia",
          "Andersson, Miss. Sigrid Elisabeth",
          "Goldsmith, Mr. Frank John",
          "Leeni, Mr. Fahim (\"Philip Zenni\")",
          "Ohman, Miss. Velin",
          "de Messemaeker, Mrs. Guillaume Joseph (Emma)",
          "Sivic, Mr. Husein",
          "Davies, Mr. Alfred J",
          "Stoytcheff, Mr. Ilia",
          "Palsson, Mrs. Nils (Alma Cornelia Berglund)",
          "Jonsson, Mr. Carl",
          "Rush, Mr. Alfred George John",
          "Patchett, Mr. George",
          "Jussila, Mr. Eiriik",
          "Gilinski, Mr. Eliezer",
          "Rintamaki, Mr. Matti",
          "Elsbury, Mr. William James",
          "Van Impe, Mr. Jean Baptiste",
          "Johnson, Mr. Alfred",
          "Torber, Mr. Ernst William",
          "Lindell, Mr. Edvard Bengtsson",
          "Karaic, Mr. Milan",
          "Andersson, Mrs. Anders Johan (Alfrida Konstantia Brogren)",
          "Brocklebank, Mr. William Alfred",
          "Danbom, Mr. Ernst Gilbert",
          "Lobb, Mrs. William Arthur (Cordelia K Stanlick)",
          "Yasbeck, Mr. Antoni",
          "Nakid, Mr. Sahid",
          "Hansen, Mr. Henry Damsgaard",
          "Bowen, Mr. David John \"Dai\"",
          "Bostandyeff, Mr. Guentcho",
          "Lundahl, Mr. Johan Svensson",
          "Skoog, Miss. Mabel",
          "Leinonen, Mr. Antti Gustaf",
          "Panula, Mrs. Juha (Maria Emilia Ojala)",
          "Jensen, Mr. Hans Peder",
          "Skoog, Miss. Margit Elizabeth",
          "Baclini, Miss. Eugenie",
          "Cor, Mr. Liudevit",
          "Stanley, Miss. Amy Zillah Elsie",
          "Kalvik, Mr. Johannes Halvorsen",
          "Hegarty, Miss. Hanora \"Nora\"",
          "Bourke, Mrs. John (Catherine)",
          "Badt, Mr. Mohamed",
          "Coleff, Mr. Peju",
          "Lindqvist, Mr. Eino William",
          "Cook, Mr. Jacob",
          "Edvardsson, Mr. Gustaf Hjalmar",
          "Sawyer, Mr. Frederick Charles",
          "Turja, Miss. Anna Sofia",
          "Goodwin, Mrs. Frederick (Augusta Tyler)",
          "Olsvigen, Mr. Thor Anderson",
          "Goodwin, Mr. Charles Edward",
          "Panula, Mr. Jaako Arnold",
          "Dakic, Mr. Branko",
          "Fischer, Mr. Eberhard Thelander",
          "Karun, Miss. Manca",
          "Saad, Mr. Khalil",
          "Kelly, Mr. James",
          "Humblen, Mr. Adolf Mathias Nicolai Olsen",
          "Barbara, Miss. Saiide",
          "Gallagher, Mr. Martin",
          "Hansen, Mr. Henrik Juul",
          "Larsson, Mr. August Viktor",
          "Soholt, Mr. Peter Andreas Lauritz Andersen",
          "Johnson, Mr. Malkolm Joackim",
          "Jensen, Mr. Svend Lauritz",
          "Oreskovic, Mr. Luka",
          "Ilmakangas, Miss. Pieta Sofia",
          "Hassan, Mr. Houssein G N",
          "Williams, Mr. Leslie",
          "Ford, Mrs. Edward (Margaret Ann Watson)",
          "McNamee, Mr. Neal",
          "Stranden, Mr. Juho",
          "Abbott, Mr. Rossmore Edward",
          "Connaghton, Mr. Michael",
          "Moor, Master. Meier",
          "Vande Velde, Mr. Johannes Joseph",
          "Jonkoff, Mr. Lalio",
          "Carlsson, Mr. August Sigfrid",
          "Theobald, Mr. Thomas Leonard",
          "Nirva, Mr. Iisakki Antino Aijo",
          "Barah, Mr. Hanna Assi",
          "Eklund, Mr. Hans Linus",
          "Mangan, Miss. Mary",
          "Gronnestad, Mr. Daniel Danielsen",
          "Lievens, Mr. Rene Aime",
          "Jensen, Mr. Niels Peder",
          "Myhrman, Mr. Pehr Fabian Oliver Malkolm",
          "Emanuel, Miss. Virginia Ethel",
          "Ayoub, Miss. Banoura",
          "Ali, Mr. William",
          "Harmer, Mr. Abraham (David Lishin)",
          "Sjoblom, Miss. Anna Sofia",
          "Rice, Master. George Hugh",
          "Dean, Master. Bertram Vere",
          "Dantcheff, Mr. Ristiu",
          "Osman, Mrs. Mara",
          "Ibrahim Shawah, Mr. Yousseff",
          "Van Impe, Mrs. Jean Baptiste (Rosalie Paula Govaert)",
          "Thomas, Master. Assad Alexander",
          "Hedman, Mr. Oskar Arvid",
          "Johansson, Mr. Karl Johan",
          "Pettersson, Miss. Ellen Natalia",
          "Alexander, Mr. William",
          "Lester, Mr. James",
          "Andersson, Miss. Ebba Iris Alfrida",
          "Tomlin, Mr. Ernest Portage",
          "Heininen, Miss. Wendla Maria",
          "Holm, Mr. John Fredrik Alexander",
          "Skoog, Master. Karl Thorsten",
          "Lulic, Mr. Nikola",
          "Moor, Mrs. (Beila)",
          "Panula, Master. Urho Abraham",
          "Yasbeck, Mrs. Antoni (Selini Alexander)",
          "Augustsson, Mr. Albert",
          "Allum, Mr. Owen George",
          "Pasic, Mr. Jakob",
          "Chip, Mr. Chang",
          "Alhomaki, Mr. Ilmari Rudolf",
          "Lemberopolous, Mr. Peter L",
          "Culumovic, Mr. Jeso",
          "Abbing, Mr. Anthony",
          "Markoff, Mr. Marin",
          "Andersson, Master. Sigvard Harald Elias",
          "Svensson, Mr. Johan",
          "Boulos, Miss. Nourelain",
          "Aks, Mrs. Sam (Leah Rosen)",
          "Baclini, Mrs. Solomon (Latifa Qurban)",
          "Hansen, Mr. Claus Peter",
          "Johnson, Master. Harold Theodor",
          "Balkic, Mr. Cerin",
          "Vander Cruyssen, Mr. Victor",
          "Najib, Miss. Adele Kiamie \"Jane\"",
          "Gustafsson, Mr. Alfred Ossian",
          "Petroff, Mr. Nedelio",
          "Markun, Mr. Johann",
          "Dahlberg, Miss. Gerda Ulrika",
          "Sutehall, Mr. Henry Jr",
          "Rice, Mrs. William (Margaret Norton)",
          "Dooley, Mr. Patrick",
          "Kelly, Mr. James",
          "Wilkes, Mrs. James (Ellen Needs)",
          "Wirz, Mr. Albert",
          "Hirvonen, Mrs. Alexander (Helga E Lindqvist)",
          "Svensson, Mr. Johan Cervin",
          "Connolly, Miss. Kate",
          "Abrahim, Mrs. Joseph (Sophie Halaut Easu)",
          "Davies, Mr. John Samuel",
          "Assaf, Mr. Gerios",
          "Ilmakangas, Miss. Ida Livija",
          "Assaf Khalil, Mrs. Mariana (Miriam\")\"",
          "Olsen, Master. Artur Karl",
          "Robins, Mr. Alexander A",
          "Daher, Mr. Shedid",
          "Dean, Mrs. Bertram (Eva Georgetta Light)",
          "Katavelas, Mr. Vassilios (Catavelas Vassilios\")\"",
          "Cacic, Miss. Manda",
          "Sap, Mr. Julius",
          "Karun, Mr. Franz",
          "Goldsmith, Mr. Nathan",
          "Peltomaki, Mr. Nikolai Johannes",
          "Coutts, Mrs. William (Winnie Minnie\" Treanor)\"",
          "Rice, Master. Albert",
          "Cor, Mr. Bartol",
          "Abelseth, Mr. Olaus Jorgensen",
          "Dika, Mr. Mirko",
          "Bjorklund, Mr. Ernst Herbert",
          "Bradley, Miss. Bridget Delia",
          "Burns, Miss. Mary Delia",
          "Mulvihill, Miss. Bertha E",
          "Minkoff, Mr. Lazar",
          "Nieminen, Miss. Manta Josefina",
          "Doyle, Miss. Elizabeth",
          "Boulos, Master. Akar",
          "Barry, Miss. Julia",
          "Badman, Miss. Emily Louisa",
          "Dyker, Mrs. Adolf Fredrik (Anna Elisabeth Judith Andersson)",
          "Tenglin, Mr. Gunnar Isidor",
          "Makinen, Mr. Kalle Edvard",
          "Braf, Miss. Elin Ester Maria",
          "Nancarrow, Mr. William Henry",
          "Johansson Palmquist, Mr. Oskar Leander",
          "Thomas, Mrs. Alexander (Thamine Thelma\")\"",
          "Holthen, Mr. Johan Martin",
          "Buckley, Mr. Daniel",
          "Buckley, Miss. Katherine",
          "Chronopoulos, Mr. Demetrios",
          "Sandstrom, Miss. Beatrice Irene",
          "Carver, Mr. Alfred John",
          "Cribb, Miss. Laura Alice",
          "Brobeck, Mr. Karl Rudolf",
          "Petersen, Mr. Marius",
          "Spinner, Mr. Henry John",
          "Dintcheff, Mr. Valtcho",
          "Carlsson, Mr. Carl Robert",
          "Zakarian, Mr. Mapriededer",
          "Drapkin, Miss. Jennie",
          "Goodwin, Mr. Charles Frederick",
          "Goodwin, Miss. Jessie Allis",
          "Vander Planke, Mr. Julius",
          "Davies, Mr. Evan",
          "Klasen, Mrs. (Hulda Kristina Eugenia Lofqvist)",
          "Asplund, Master. Filip Oscar",
          "Duquemin, Mr. Joseph",
          "Lundin, Miss. Olga Elida",
          "Peacock, Mrs. Benjamin (Edith Nile)",
          "Touma, Master. Georges Youssef",
          "Kink-Heilmann, Mrs. Anton (Luise Heilmann)",
          "Ford, Mr. Edward Watson",
          "Hellstrom, Miss. Hilda Maria",
          "Zakarian, Mr. Ortin",
          "Dyker, Mr. Adolf Fredrik",
          "Asplund, Mr. Carl Oscar Vilhelm Gustafsson",
          "Davies, Mr. Joseph",
          "van Billiard, Master. Walter John",
          "Karlsson, Mr. Julius Konrad Eugen",
          "Nilsson, Miss. Berta Olivia",
          "Danbom, Master. Gilbert Sigvard Emanuel",
          "McGowan, Miss. Katherine",
          "Delalic, Mr. Redjo",
          "Andersen, Mr. Albert Karvin",
          "Andersson, Miss. Ida Augusta Margareta",
          "Reynolds, Mr. Harold J",
          "Karlsson, Mr. Einar Gervasius",
          "Asplund, Mr. Johan Charles",
          "Everett, Mr. Thomas James",
          "Wiklund, Mr. Karl Johan",
          "Vendel, Mr. Olof Edvin",
          "Baccos, Mr. Raffull",
          "Abrahamsson, Mr. Abraham August Johannes",
          "Salander, Mr. Karl Johan",
          "Wenzel, Mr. Linhart",
          "Niklasson, Mr. Samuel",
          "Midtsjo, Mr. Karl Albert",
          "de Messemaeker, Mr. Guillaume Joseph",
          "Nilsson, Mr. August Ferdinand",
          "Klasen, Miss. Gertrud Emilia",
          "Pokrnic, Mr. Mate",
          "Oreskovic, Miss. Jelka",
          "Peacock, Master. Alfred Edward",
          "Touma, Miss. Maria Youssef",
          "Rosblom, Miss. Salli Helena",
          "Dennis, Mr. William",
          "Daly, Miss. Margaret Marcella Maggie\"\"",
          "Wittevrongel, Mr. Camille",
          "Angheloff, Mr. Minko",
          "Johansson, Mr. Nils",
          "Olsson, Mr. Oscar Wilhelm",
          "Pokrnic, Mr. Tome",
          "Aks, Master. Philip Frank",
          "Hansen, Mrs. Claus Peter (Jennie L Howard)",
          "Cacic, Mr. Jego Grga",
          "Vartanian, Mr. David",
          "Carr, Miss. Jeannie",
          "Hagardon, Miss. Kate",
          "Jonsson, Mr. Nils Hilding",
          "Andersson, Mr. Johan Samuel",
          "Krekorian, Mr. Neshan",
          "Assam, Mr. Ali",
          "Nakid, Mrs. Said (Waika Mary\" Mowad)\"",
          "Cor, Mr. Ivan",
          "Elias, Mr. Joseph",
          "Lundstrom, Mr. Thure Edvin",
          "Abelseth, Miss. Karen Marie",
          "Whabee, Mrs. George Joseph (Shawneene Abi-Saab)",
          "Dean, Miss. Elizabeth Gladys Millvina\"\"",
          "Lindell, Mrs. Edvard Bengtsson (Elin Gerda Persson)",
          "Sage, Master. William Henry",
          "Strilic, Mr. Ivan",
          "Riihivouri, Miss. Susanna Juhantytar Sanni\"\"",
          "Kink, Miss. Maria",
          "Asplund, Master. Carl Edgar",
          "Foley, Mr. Joseph",
          "McNamee, Mrs. Neal (Eileen O'Leary)",
          "Aronsson, Mr. Ernst Axel Algot",
          "Canavan, Mr. Patrick",
          "Palsson, Master. Paul Folke",
          "Abbott, Master. Eugene Joseph",
          "Kink-Heilmann, Mr. Anton",
          "Colbert, Mr. Patrick",
          "Larsson-Rondberg, Mr. Edvard A",
          "Conlon, Mr. Thomas Henry",
          "Peacock, Miss. Treasteall",
          "Henriksson, Miss. Jenny Lovisa",
          "Saether, Mr. Simon Sivertsen"
         ],
         "legendgroup": "",
         "marker": {
          "color": {
           "bdata": "AAEAAAEBAAAAAAABAAEAAAEAAQAAAAAAAAAAAQAAAAEAAQABAQAAAAAAAAAAAAABAAAAAAAAAAABAQAAAAAAAQEAAQAAAAEAAAAAAAEAAAABAAAAAAEAAAEAAAAAAQAAAQEAAAEBAAAAAAEAAAAAAAABAQABAQAAAQAAAAEAAQABAAAAAAABAAAAAQABAQAAAAAAAAAAAAAAAAEAAAEAAAEAAQAAAQAAAAAAAAEAAAAAAAEAAAAAAQEAAAEAAAAAAQAAAQABAAAAAAAAAAEBAAAAAAAAAAAAAAEBAQAAAAABAAABAAAAAAAAAAAAAAAAAAEAAAAAAAAAAAABAAEAAAAAAAEAAAABAAAAAAAAAQAAAAAAAAAAAAAAAAAAAAABAAABAAAAAAABAAAAAAAAAQEAAAEAAQABAAABAQAAAAAAAAAAAAEBAAEAAAABAAAAAAAAAAABAQABAAABAAAAAAAAAAABAAEAAQEAAAEBAAAAAQABAAAAAAEAAAAAAAEBAQABAQABAQEAAAEAAAEAAAEAAQABAAAAAAAAAQABAAABAAABAQABAAEAAAAAAAABAAEAAAEAAAAAAAAAAAAAAAAAAAEAAQABAQABAAAAAAAAAQAAAQEAAAAAAQAAAAEBAQEAAAEBAAABAAAAAAAAAAABAQA=",
           "dtype": "i1"
          },
          "coloraxis": "coloraxis",
          "line": {
           "color": "DarkSlateGrey",
           "width": 1
          },
          "size": 10,
          "symbol": "circle"
         },
         "mode": "markers",
         "name": "",
         "orientation": "v",
         "showlegend": false,
         "type": "scatter",
         "x": {
          "bdata": "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",
          "dtype": "f8"
         },
         "xaxis": "x",
         "y": {
          "bdata": "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",
          "dtype": "f8"
         },
         "yaxis": "y"
        }
       ],
       "frames": [
        {
         "data": [
          {
           "customdata": [
            [
             "male",
             "S"
            ],
            [
             "female",
             "S"
            ],
            [
             "male",
             "S"
            ],
            [
             "male",
             "S"
            ],
            [
             "female",
             "S"
            ],
            [
             "female",
             "S"
            ],
            [
             "male",
             "S"
            ],
            [
             "male",
             "S"
            ],
            [
             "female",
             "S"
            ],
            [
             "male",
             "Q"
            ],
            [
             "female",
             "S"
            ],
            [
             "female",
             "Q"
            ],
            [
             "female",
             "S"
            ],
            [
             "female",
             "S"
            ],
            [
             "male",
             "S"
            ],
            [
             "female",
             "S"
            ],
            [
             "female",
             "C"
            ],
            [
             "female",
             "S"
            ],
            [
             "female",
             "Q"
            ],
            [
             "female",
             "S"
            ],
            [
             "male",
             "S"
            ],
            [
             "male",
             "S"
            ],
            [
             "male",
             "C"
            ],
            [
             "male",
             "S"
            ],
            [
             "male",
             "C"
            ],
            [
             "male",
             "S"
            ],
            [
             "male",
             "S"
            ],
            [
             "female",
             "S"
            ],
            [
             "male",
             "S"
            ],
            [
             "female",
             "S"
            ],
            [
             "male",
             "C"
            ],
            [
             "male",
             "S"
            ],
            [
             "male",
             "S"
            ],
            [
             "female",
             "S"
            ],
            [
             "male",
             "S"
            ],
            [
             "male",
             "S"
            ],
            [
             "female",
             "S"
            ],
            [
             "male",
             "S"
            ],
            [
             "male",
             "S"
            ],
            [
             "male",
             "S"
            ],
            [
             "male",
             "S"
            ],
            [
             "male",
             "S"
            ],
            [
             "male",
             "S"
            ],
            [
             "female",
             "S"
            ],
            [
             "male",
             "S"
            ],
            [
             "male",
             "S"
            ],
            [
             "male",
             "S"
            ],
            [
             "female",
             "S"
            ],
            [
             "male",
             "S"
            ],
            [
             "female",
             "C"
            ],
            [
             "male",
             "S"
            ],
            [
             "female",
             "S"
            ],
            [
             "female",
             "C"
            ],
            [
             "male",
             "S"
            ],
            [
             "male",
             "Q"
            ],
            [
             "female",
             "S"
            ],
            [
             "male",
             "C"
            ],
            [
             "male",
             "S"
            ],
            [
             "male",
             "S"
            ],
            [
             "male",
             "C"
            ],
            [
             "male",
             "S"
            ],
            [
             "female",
             "S"
            ],
            [
             "male",
             "S"
            ],
            [
             "female",
             "S"
            ],
            [
             "female",
             "S"
            ],
            [
             "male",
             "Q"
            ],
            [
             "male",
             "S"
            ],
            [
             "female",
             "S"
            ],
            [
             "male",
             "S"
            ],
            [
             "male",
             "S"
            ],
            [
             "female",
             "Q"
            ],
            [
             "male",
             "S"
            ],
            [
             "male",
             "S"
            ],
            [
             "male",
             "S"
            ],
            [
             "male",
             "S"
            ],
            [
             "male",
             "S"
            ],
            [
             "male",
             "S"
            ],
            [
             "female",
             "S"
            ],
            [
             "male",
             "S"
            ],
            [
             "male",
             "Q"
            ],
            [
             "female",
             "S"
            ],
            [
             "male",
             "S"
            ],
            [
             "male",
             "S"
            ],
            [
             "male",
             "S"
            ],
            [
             "male",
             "S"
            ],
            [
             "female",
             "S"
            ],
            [
             "male",
             "Q"
            ],
            [
             "male",
             "S"
            ],
            [
             "female",
             "S"
            ],
            [
             "male",
             "S"
            ],
            [
             "male",
             "S"
            ],
            [
             "male",
             "S"
            ],
            [
             "male",
             "C"
            ],
            [
             "male",
             "S"
            ],
            [
             "female",
             "S"
            ],
            [
             "male",
             "S"
            ],
            [
             "male",
             "C"
            ],
            [
             "female",
             "Q"
            ],
            [
             "male",
             "S"
            ],
            [
             "male",
             "S"
            ],
            [
             "female",
             "S"
            ],
            [
             "male",
             "S"
            ],
            [
             "male",
             "S"
            ],
            [
             "male",
             "S"
            ],
            [
             "male",
             "S"
            ],
            [
             "male",
             "S"
            ],
            [
             "female",
             "S"
            ],
            [
             "male",
             "S"
            ],
            [
             "male",
             "C"
            ],
            [
             "female",
             "S"
            ],
            [
             "female",
             "S"
            ],
            [
             "male",
             "S"
            ],
            [
             "female",
             "S"
            ],
            [
             "female",
             "C"
            ],
            [
             "male",
             "S"
            ],
            [
             "male",
             "S"
            ],
            [
             "male",
             "S"
            ],
            [
             "male",
             "S"
            ],
            [
             "female",
             "S"
            ],
            [
             "male",
             "Q"
            ],
            [
             "female",
             "S"
            ],
            [
             "male",
             "Q"
            ],
            [
             "male",
             "S"
            ],
            [
             "male",
             "S"
            ],
            [
             "male",
             "S"
            ],
            [
             "male",
             "C"
            ],
            [
             "male",
             "S"
            ],
            [
             "male",
             "S"
            ],
            [
             "female",
             "Q"
            ],
            [
             "female",
             "S"
            ],
            [
             "male",
             "S"
            ],
            [
             "male",
             "C"
            ],
            [
             "male",
             "S"
            ],
            [
             "male",
             "S"
            ],
            [
             "female",
             "S"
            ],
            [
             "male",
             "S"
            ],
            [
             "male",
             "S"
            ],
            [
             "male",
             "S"
            ],
            [
             "female",
             "S"
            ],
            [
             "male",
             "S"
            ],
            [
             "male",
             "S"
            ],
            [
             "male",
             "S"
            ],
            [
             "male",
             "S"
            ],
            [
             "male",
             "S"
            ],
            [
             "male",
             "C"
            ],
            [
             "male",
             "S"
            ],
            [
             "male",
             "S"
            ],
            [
             "male",
             "S"
            ],
            [
             "female",
             "C"
            ],
            [
             "male",
             "S"
            ],
            [
             "male",
             "S"
            ],
            [
             "male",
             "S"
            ],
            [
             "male",
             "S"
            ],
            [
             "female",
             "S"
            ],
            [
             "female",
             "S"
            ],
            [
             "male",
             "C"
            ],
            [
             "male",
             "S"
            ],
            [
             "female",
             "C"
            ],
            [
             "male",
             "S"
            ],
            [
             "male",
             "S"
            ],
            [
             "male",
             "S"
            ],
            [
             "male",
             "S"
            ],
            [
             "female",
             "S"
            ],
            [
             "male",
             "S"
            ],
            [
             "female",
             "S"
            ],
            [
             "male",
             "S"
            ],
            [
             "male",
             "S"
            ],
            [
             "female",
             "S"
            ],
            [
             "male",
             "S"
            ],
            [
             "female",
             "S"
            ],
            [
             "male",
             "S"
            ],
            [
             "male",
             "S"
            ],
            [
             "male",
             "S"
            ],
            [
             "female",
             "S"
            ],
            [
             "male",
             "Q"
            ],
            [
             "male",
             "S"
            ],
            [
             "female",
             "S"
            ],
            [
             "male",
             "S"
            ],
            [
             "male",
             "S"
            ],
            [
             "male",
             "S"
            ],
            [
             "female",
             "S"
            ],
            [
             "male",
             "S"
            ],
            [
             "male",
             "S"
            ],
            [
             "female",
             "C"
            ],
            [
             "male",
             "C"
            ],
            [
             "male",
             "S"
            ],
            [
             "male",
             "S"
            ],
            [
             "female",
             "C"
            ],
            [
             "male",
             "S"
            ],
            [
             "female",
             "S"
            ],
            [
             "male",
             "S"
            ],
            [
             "male",
             "S"
            ],
            [
             "female",
             "S"
            ],
            [
             "male",
             "S"
            ],
            [
             "male",
             "S"
            ],
            [
             "female",
             "S"
            ],
            [
             "male",
             "S"
            ],
            [
             "male",
             "S"
            ],
            [
             "male",
             "S"
            ],
            [
             "male",
             "S"
            ],
            [
             "male",
             "S"
            ],
            [
             "male",
             "S"
            ],
            [
             "female",
             "Q"
            ],
            [
             "female",
             "S"
            ],
            [
             "male",
             "S"
            ],
            [
             "male",
             "S"
            ],
            [
             "male",
             "Q"
            ],
            [
             "male",
             "S"
            ],
            [
             "male",
             "S"
            ],
            [
             "male",
             "S"
            ],
            [
             "male",
             "Q"
            ],
            [
             "male",
             "S"
            ],
            [
             "male",
             "C"
            ],
            [
             "female",
             "S"
            ],
            [
             "female",
             "S"
            ],
            [
             "female",
             "S"
            ],
            [
             "male",
             "S"
            ],
            [
             "male",
             "C"
            ],
            [
             "female",
             "S"
            ],
            [
             "female",
             "S"
            ],
            [
             "male",
             "S"
            ],
            [
             "male",
             "S"
            ],
            [
             "male",
             "S"
            ],
            [
             "female",
             "S"
            ],
            [
             "male",
             "S"
            ],
            [
             "male",
             "S"
            ],
            [
             "male",
             "S"
            ],
            [
             "male",
             "S"
            ],
            [
             "male",
             "S"
            ],
            [
             "male",
             "S"
            ],
            [
             "male",
             "S"
            ],
            [
             "male",
             "S"
            ],
            [
             "male",
             "S"
            ],
            [
             "male",
             "S"
            ],
            [
             "male",
             "S"
            ],
            [
             "male",
             "S"
            ],
            [
             "female",
             "S"
            ],
            [
             "male",
             "S"
            ],
            [
             "male",
             "S"
            ],
            [
             "female",
             "S"
            ],
            [
             "male",
             "C"
            ],
            [
             "male",
             "C"
            ],
            [
             "male",
             "S"
            ],
            [
             "male",
             "S"
            ],
            [
             "male",
             "S"
            ],
            [
             "male",
             "S"
            ],
            [
             "female",
             "S"
            ],
            [
             "male",
             "S"
            ],
            [
             "female",
             "S"
            ],
            [
             "male",
             "S"
            ],
            [
             "female",
             "S"
            ],
            [
             "female",
             "C"
            ],
            [
             "male",
             "S"
            ],
            [
             "female",
             "S"
            ],
            [
             "male",
             "S"
            ],
            [
             "female",
             "Q"
            ],
            [
             "female",
             "Q"
            ],
            [
             "male",
             "C"
            ],
            [
             "male",
             "S"
            ],
            [
             "male",
             "S"
            ],
            [
             "male",
             "S"
            ],
            [
             "male",
             "S"
            ],
            [
             "male",
             "S"
            ],
            [
             "female",
             "S"
            ],
            [
             "female",
             "S"
            ],
            [
             "male",
             "S"
            ],
            [
             "male",
             "S"
            ],
            [
             "male",
             "S"
            ],
            [
             "male",
             "S"
            ],
            [
             "male",
             "S"
            ],
            [
             "female",
             "C"
            ],
            [
             "male",
             "C"
            ],
            [
             "male",
             "S"
            ],
            [
             "male",
             "S"
            ],
            [
             "female",
             "C"
            ],
            [
             "male",
             "Q"
            ],
            [
             "male",
             "S"
            ],
            [
             "male",
             "S"
            ],
            [
             "male",
             "S"
            ],
            [
             "male",
             "S"
            ],
            [
             "male",
             "S"
            ],
            [
             "male",
             "S"
            ],
            [
             "female",
             "S"
            ],
            [
             "male",
             "C"
            ],
            [
             "male",
             "S"
            ],
            [
             "female",
             "S"
            ],
            [
             "male",
             "S"
            ],
            [
             "male",
             "S"
            ],
            [
             "male",
             "S"
            ],
            [
             "male",
             "Q"
            ],
            [
             "male",
             "S"
            ],
            [
             "male",
             "S"
            ],
            [
             "male",
             "S"
            ],
            [
             "male",
             "S"
            ],
            [
             "male",
             "S"
            ],
            [
             "male",
             "S"
            ],
            [
             "male",
             "C"
            ],
            [
             "male",
             "S"
            ],
            [
             "female",
             "Q"
            ],
            [
             "male",
             "S"
            ],
            [
             "male",
             "S"
            ],
            [
             "male",
             "S"
            ],
            [
             "male",
             "S"
            ],
            [
             "female",
             "S"
            ],
            [
             "female",
             "C"
            ],
            [
             "male",
             "S"
            ],
            [
             "male",
             "S"
            ],
            [
             "female",
             "S"
            ],
            [
             "male",
             "Q"
            ],
            [
             "male",
             "S"
            ],
            [
             "male",
             "S"
            ],
            [
             "female",
             "S"
            ],
            [
             "male",
             "C"
            ],
            [
             "female",
             "S"
            ],
            [
             "male",
             "C"
            ],
            [
             "male",
             "S"
            ],
            [
             "male",
             "S"
            ],
            [
             "female",
             "S"
            ],
            [
             "male",
             "S"
            ],
            [
             "male",
             "S"
            ],
            [
             "female",
             "S"
            ],
            [
             "male",
             "S"
            ],
            [
             "female",
             "S"
            ],
            [
             "male",
             "S"
            ],
            [
             "male",
             "S"
            ],
            [
             "male",
             "S"
            ],
            [
             "female",
             "S"
            ],
            [
             "male",
             "S"
            ],
            [
             "female",
             "C"
            ],
            [
             "male",
             "S"
            ],
            [
             "male",
             "S"
            ],
            [
             "male",
             "S"
            ],
            [
             "male",
             "S"
            ],
            [
             "male",
             "S"
            ],
            [
             "male",
             "C"
            ],
            [
             "male",
             "S"
            ],
            [
             "male",
             "S"
            ],
            [
             "male",
             "C"
            ],
            [
             "male",
             "S"
            ],
            [
             "male",
             "S"
            ],
            [
             "female",
             "C"
            ],
            [
             "female",
             "S"
            ],
            [
             "female",
             "C"
            ],
            [
             "male",
             "S"
            ],
            [
             "male",
             "S"
            ],
            [
             "male",
             "S"
            ],
            [
             "male",
             "S"
            ],
            [
             "female",
             "C"
            ],
            [
             "male",
             "S"
            ],
            [
             "male",
             "S"
            ],
            [
             "male",
             "S"
            ],
            [
             "female",
             "S"
            ],
            [
             "male",
             "S"
            ],
            [
             "female",
             "Q"
            ],
            [
             "male",
             "Q"
            ],
            [
             "male",
             "Q"
            ],
            [
             "female",
             "S"
            ],
            [
             "male",
             "S"
            ],
            [
             "female",
             "S"
            ],
            [
             "male",
             "S"
            ],
            [
             "female",
             "Q"
            ],
            [
             "female",
             "C"
            ],
            [
             "male",
             "S"
            ],
            [
             "male",
             "C"
            ],
            [
             "female",
             "S"
            ],
            [
             "female",
             "C"
            ],
            [
             "male",
             "S"
            ],
            [
             "male",
             "S"
            ],
            [
             "male",
             "C"
            ],
            [
             "female",
             "S"
            ],
            [
             "male",
             "C"
            ],
            [
             "female",
             "S"
            ],
            [
             "male",
             "S"
            ],
            [
             "male",
             "C"
            ],
            [
             "male",
             "S"
            ],
            [
             "male",
             "S"
            ],
            [
             "female",
             "S"
            ],
            [
             "male",
             "Q"
            ],
            [
             "male",
             "S"
            ],
            [
             "male",
             "S"
            ],
            [
             "male",
             "S"
            ],
            [
             "male",
             "S"
            ],
            [
             "female",
             "Q"
            ],
            [
             "female",
             "Q"
            ],
            [
             "female",
             "Q"
            ],
            [
             "male",
             "S"
            ],
            [
             "female",
             "S"
            ],
            [
             "female",
             "Q"
            ],
            [
             "male",
             "C"
            ],
            [
             "female",
             "Q"
            ],
            [
             "female",
             "S"
            ],
            [
             "female",
             "S"
            ],
            [
             "male",
             "S"
            ],
            [
             "male",
             "S"
            ],
            [
             "female",
             "S"
            ],
            [
             "male",
             "S"
            ],
            [
             "male",
             "S"
            ],
            [
             "female",
             "C"
            ],
            [
             "male",
             "S"
            ],
            [
             "male",
             "Q"
            ],
            [
             "female",
             "Q"
            ],
            [
             "male",
             "C"
            ],
            [
             "female",
             "S"
            ],
            [
             "male",
             "S"
            ],
            [
             "female",
             "S"
            ],
            [
             "male",
             "S"
            ],
            [
             "male",
             "S"
            ],
            [
             "male",
             "S"
            ],
            [
             "male",
             "S"
            ],
            [
             "male",
             "S"
            ],
            [
             "male",
             "C"
            ],
            [
             "female",
             "S"
            ],
            [
             "male",
             "S"
            ],
            [
             "female",
             "S"
            ],
            [
             "male",
             "S"
            ],
            [
             "male",
             "S"
            ],
            [
             "female",
             "S"
            ],
            [
             "male",
             "S"
            ],
            [
             "male",
             "S"
            ],
            [
             "female",
             "S"
            ],
            [
             "female",
             "S"
            ],
            [
             "male",
             "C"
            ],
            [
             "female",
             "S"
            ],
            [
             "male",
             "S"
            ],
            [
             "female",
             "S"
            ],
            [
             "male",
             "C"
            ],
            [
             "male",
             "S"
            ],
            [
             "male",
             "S"
            ],
            [
             "male",
             "S"
            ],
            [
             "male",
             "S"
            ],
            [
             "male",
             "S"
            ],
            [
             "female",
             "S"
            ],
            [
             "male",
             "S"
            ],
            [
             "female",
             "Q"
            ],
            [
             "male",
             "S"
            ],
            [
             "male",
             "S"
            ],
            [
             "female",
             "S"
            ],
            [
             "male",
             "S"
            ],
            [
             "male",
             "S"
            ],
            [
             "male",
             "S"
            ],
            [
             "male",
             "S"
            ],
            [
             "male",
             "S"
            ],
            [
             "male",
             "S"
            ],
            [
             "male",
             "C"
            ],
            [
             "male",
             "S"
            ],
            [
             "male",
             "S"
            ],
            [
             "male",
             "S"
            ],
            [
             "male",
             "S"
            ],
            [
             "male",
             "S"
            ],
            [
             "male",
             "S"
            ],
            [
             "male",
             "S"
            ],
            [
             "female",
             "S"
            ],
            [
             "male",
             "S"
            ],
            [
             "female",
             "S"
            ],
            [
             "male",
             "S"
            ],
            [
             "female",
             "C"
            ],
            [
             "female",
             "S"
            ],
            [
             "male",
             "S"
            ],
            [
             "female",
             "Q"
            ],
            [
             "male",
             "S"
            ],
            [
             "male",
             "S"
            ],
            [
             "male",
             "S"
            ],
            [
             "male",
             "S"
            ],
            [
             "male",
             "S"
            ],
            [
             "male",
             "S"
            ],
            [
             "female",
             "S"
            ],
            [
             "male",
             "S"
            ],
            [
             "male",
             "C"
            ],
            [
             "female",
             "Q"
            ],
            [
             "female",
             "Q"
            ],
            [
             "male",
             "S"
            ],
            [
             "male",
             "S"
            ],
            [
             "male",
             "C"
            ],
            [
             "male",
             "S"
            ],
            [
             "female",
             "C"
            ],
            [
             "male",
             "S"
            ],
            [
             "male",
             "C"
            ],
            [
             "male",
             "S"
            ],
            [
             "female",
             "S"
            ],
            [
             "female",
             "C"
            ],
            [
             "female",
             "S"
            ],
            [
             "female",
             "S"
            ],
            [
             "male",
             "S"
            ],
            [
             "male",
             "S"
            ],
            [
             "female",
             "S"
            ],
            [
             "female",
             "S"
            ],
            [
             "male",
             "S"
            ],
            [
             "male",
             "Q"
            ],
            [
             "female",
             "S"
            ],
            [
             "male",
             "S"
            ],
            [
             "male",
             "Q"
            ],
            [
             "male",
             "S"
            ],
            [
             "male",
             "S"
            ],
            [
             "male",
             "S"
            ],
            [
             "male",
             "Q"
            ],
            [
             "male",
             "S"
            ],
            [
             "male",
             "Q"
            ],
            [
             "female",
             "S"
            ],
            [
             "female",
             "S"
            ],
            [
             "male",
             "S"
            ]
           ],
           "hovertemplate": "<b>%{hovertext}</b><br><br>Pclass=3<br>Age=%{x}<br>Fare=%{y}<br>Sex=%{customdata[0]}<br>Embarked=%{customdata[1]}<br>Survived=%{marker.color}<extra></extra>",
           "hovertext": [
            "Braund, Mr. Owen Harris",
            "Heikkinen, Miss. Laina",
            "Allen, Mr. William Henry",
            "Palsson, Master. Gosta Leonard",
            "Johnson, Mrs. Oscar W (Elisabeth Vilhelmina Berg)",
            "Sandstrom, Miss. Marguerite Rut",
            "Saundercock, Mr. William Henry",
            "Andersson, Mr. Anders Johan",
            "Vestrom, Miss. Hulda Amanda Adolfina",
            "Rice, Master. Eugene",
            "Vander Planke, Mrs. Julius (Emelia Maria Vandemoortele)",
            "McGowan, Miss. Anna \"Annie\"",
            "Palsson, Miss. Torborg Danira",
            "Asplund, Mrs. Carl Oscar (Selma Augusta Emilia Johansson)",
            "Cann, Mr. Ernest Charles",
            "Vander Planke, Miss. Augusta Maria",
            "Nicola-Yarred, Miss. Jamila",
            "Ahlin, Mrs. Johan (Johanna Persdotter Larsson)",
            "Devaney, Miss. Margaret Delia",
            "Arnold-Franchi, Mrs. Josef (Josefine Franchi)",
            "Panula, Master. Juha Niilo",
            "Nosworthy, Mr. Richard Cater",
            "Novel, Mr. Mansouer",
            "Goodwin, Master. William Frederick",
            "Sirayanian, Mr. Orsen",
            "Skoog, Master. Harald",
            "Crease, Mr. Ernest James",
            "Andersson, Miss. Erna Alexandra",
            "Kink, Mr. Vincenz",
            "Goodwin, Miss. Lillian Amy",
            "Chronopoulos, Mr. Apostolos",
            "Bing, Mr. Lee",
            "Moen, Mr. Sigurd Hansen",
            "Dowdell, Miss. Elizabeth",
            "Waelens, Mr. Achille",
            "Sheerlinck, Mr. Jan Baptist",
            "Backstrom, Mrs. Karl Alfred (Maria Mathilda Gustafsson)",
            "Ford, Mr. William Neal",
            "Celotti, Mr. Francesco",
            "Christmann, Mr. Emil",
            "Andreasson, Mr. Paul Edvin",
            "Dean, Mr. Bertram Frank",
            "Coxon, Mr. Daniel",
            "Petranec, Miss. Matilda",
            "Johansson, Mr. Gustaf Joel",
            "Gustafsson, Mr. Anders Vilhelm",
            "Mionoff, Mr. Stoytcho",
            "Salkjelsvik, Miss. Anna Kristine",
            "Rekic, Mr. Tido",
            "Zabour, Miss. Hileni",
            "Barton, Mr. David John",
            "Jussila, Miss. Katriina",
            "Attalah, Miss. Malake",
            "Pekoniemi, Mr. Edvard",
            "Connors, Mr. Patrick",
            "Andersson, Miss. Ellis Anna Maria",
            "Nicola-Yarred, Master. Elias",
            "Madsen, Mr. Fridtjof Arne",
            "Ekstrom, Mr. Johan",
            "Drazenoic, Mr. Jozef",
            "Coelho, Mr. Domingos Fernandeo",
            "Robins, Mrs. Alexander A (Grace Charity Laury)",
            "Osen, Mr. Olaf Elon",
            "Nysten, Miss. Anna Sofia",
            "Hakkarainen, Mrs. Pekka Pietari (Elin Matilda Dolck)",
            "Burke, Mr. Jeremiah",
            "Andersson, Mr. August Edvard (\"Wennerstrom\")",
            "Ford, Miss. Robina Maggie \"Ruby\"",
            "Meo, Mr. Alfonzo",
            "van Billiard, Mr. Austin Blyler",
            "Gilnagh, Miss. Katherine \"Katie\"",
            "Corn, Mr. Harry",
            "Cribb, Mr. John Hatfield",
            "Bengtsson, Mr. John Viktor",
            "Calic, Mr. Jovo",
            "Panula, Master. Eino Viljami",
            "Goldsmith, Master. Frank John William \"Frankie\"",
            "Skoog, Mrs. William (Anna Bernhardina Karlsson)",
            "Ling, Mr. Lee",
            "Rice, Master. Arthur",
            "Johnson, Miss. Eleanor Ileen",
            "Sivola, Mr. Antti Wilhelm",
            "Klasen, Mr. Klas Albin",
            "Leonard, Mr. Lionel",
            "Asplund, Master. Clarence Gustaf Hugo",
            "Kink-Heilmann, Miss. Luise Gretchen",
            "Bourke, Mr. John",
            "Turcin, Mr. Stjepan",
            "Andersen-Jensen, Miss. Carla Christine Nielsine",
            "Olsen, Mr. Karl Siegwart Andreas",
            "Vande Walle, Mr. Nestor Cyriel",
            "Johanson, Mr. Jakob Alfred",
            "Youseff, Mr. Gerious",
            "Cohen, Mr. Gurshon \"Gus\"",
            "Strom, Miss. Telma Matilda",
            "Backstrom, Mr. Karl Alfred",
            "Albimona, Mr. Nassef Cassem",
            "Carr, Miss. Helen \"Ellen\"",
            "Ali, Mr. Ahmed",
            "Perkin, Mr. John Henry",
            "Honkanen, Miss. Eliina",
            "Sunderland, Mr. Victor Francis",
            "Green, Mr. George Henry",
            "Berglund, Mr. Karl Ivar Sven",
            "Lovell, Mr. John Hall (\"Henry\")",
            "Larsson, Mr. Bengt Edvin",
            "Asplund, Miss. Lillian Gertrud",
            "Maenpaa, Mr. Matti Alexanteri",
            "Attalah, Mr. Sleiman",
            "Lindahl, Miss. Agda Thorilda Viktoria",
            "Strom, Mrs. Wilhelm (Elna Matilda Persson)",
            "Lobb, Mr. William Arthur",
            "Rosblom, Mrs. Viktor (Helena Wilhelmina)",
            "Touma, Mrs. Darwis (Hanne Youssef Razi)",
            "Asplund, Master. Edvin Rojj Felix",
            "Panula, Mr. Ernesti Arvid",
            "Persson, Mr. Ernst Ulrik",
            "Tornquist, Mr. William Henry",
            "Lindblom, Miss. Augusta Charlotta",
            "Rice, Master. Eric",
            "Abbott, Mrs. Stanton (Rosa Hunt)",
            "Duane, Mr. Frank",
            "Olsson, Mr. Nils Johan Goransson",
            "de Pelsmaeker, Mr. Alfons",
            "Dorking, Mr. Edward Arthur",
            "Stankovic, Mr. Ivan",
            "de Mulder, Mr. Theodore",
            "Naidenoff, Mr. Penko",
            "Connolly, Miss. Kate",
            "Haas, Miss. Aloisia",
            "Mineff, Mr. Ivan",
            "Hanna, Mr. Mansour",
            "Johnson, Mr. William Cahoone Jr",
            "Hendekovic, Mr. Ignjac",
            "Nilsson, Miss. Helmina Josefina",
            "Dennis, Mr. Samuel",
            "Danoff, Mr. Yoto",
            "Nysveen, Mr. Johan Hansen",
            "Goldsmith, Mrs. Frank John (Emily Alice Brown)",
            "Vander Planke, Mr. Leo Edmondus",
            "Dahl, Mr. Karl Edwart",
            "Coutts, Master. William Loch \"William\"",
            "Dimic, Mr. Jovan",
            "Odahl, Mr. Nils Martin",
            "Elias, Mr. Tannous",
            "Arnold-Franchi, Mr. Josef",
            "Vanden Steen, Mr. Leo Peter",
            "Skoog, Mr. Wilhelm",
            "Barbara, Mrs. (Catherine David)",
            "Asim, Mr. Adola",
            "Adahl, Mr. Mauritz Nils Martin",
            "Wiklund, Mr. Jakob Alfred",
            "Beavan, Mr. William Thomas",
            "Palsson, Miss. Stina Viola",
            "Landergren, Miss. Aurora Adelia",
            "Betros, Mr. Tannous",
            "Gustafsson, Mr. Karl Gideon",
            "Nakid, Miss. Maria (\"Mary\")",
            "Tikkanen, Mr. Juho",
            "Goodwin, Master. Sidney Leonard",
            "Jansson, Mr. Carl Olof",
            "Gustafsson, Mr. Johan Birger",
            "Sandstrom, Mrs. Hjalmar (Agnes Charlotta Bengtsson)",
            "Johansson, Mr. Erik",
            "Olsson, Miss. Elina",
            "Niskanen, Mr. Juha",
            "Adams, Mr. John",
            "Jussila, Miss. Mari Aina",
            "Hakkarainen, Mr. Pekka Pietari",
            "Oreskovic, Miss. Marija",
            "Widegren, Mr. Carl/Charles Peter",
            "Birkeland, Mr. Hans Martin Monsen",
            "Sundman, Mr. Johan Julian",
            "Van Impe, Miss. Catharina",
            "Charters, Mr. David",
            "Zimmerman, Mr. Leo",
            "Danbom, Mrs. Ernst Gilbert (Anna Sigrid Maria Brogren)",
            "Rosblom, Mr. Viktor Richard",
            "Pickard, Mr. Berk (Berk Trembisky)",
            "Kallio, Mr. Nikolai Erland",
            "Ford, Miss. Doolina Margaret \"Daisy\"",
            "Hampe, Mr. Leon",
            "Petterson, Mr. Johan Emil",
            "Baclini, Miss. Marie Catherine",
            "Jalsevac, Mr. Ivan",
            "Morley, Mr. William",
            "Goncalves, Mr. Manuel Estanslas",
            "Baclini, Miss. Helene Barbara",
            "Cacic, Mr. Luka",
            "Strandberg, Miss. Ida Sofia",
            "Braund, Mr. Lewis Richard",
            "Karlsson, Mr. Nils August",
            "Hirvonen, Miss. Hildur E",
            "Goodwin, Master. Harold Victor",
            "Rouse, Mr. Richard Henry",
            "Turkula, Mrs. (Hedwig)",
            "Somerton, Mr. Francis William",
            "Coutts, Master. Eden Leslie \"Neville\"",
            "Windelov, Mr. Einar",
            "Stanley, Mr. Edward Roland",
            "Svensson, Mr. Olof",
            "Calic, Mr. Petar",
            "Canavan, Miss. Mary",
            "Laitinen, Miss. Kristina Sofia",
            "Olsen, Mr. Henry Margido",
            "Lang, Mr. Fang",
            "Daly, Mr. Eugene Patrick",
            "Coleff, Mr. Satio",
            "Pavlovic, Mr. Stefo",
            "Vovk, Mr. Janko",
            "Farrell, Mr. James",
            "Salonen, Mr. Johan Werner",
            "Elias, Mr. Joseph Jr",
            "Cacic, Miss. Marija",
            "Andersson, Miss. Ingeborg Constanzia",
            "Andersson, Miss. Sigrid Elisabeth",
            "Goldsmith, Mr. Frank John",
            "Leeni, Mr. Fahim (\"Philip Zenni\")",
            "Ohman, Miss. Velin",
            "de Messemaeker, Mrs. Guillaume Joseph (Emma)",
            "Sivic, Mr. Husein",
            "Davies, Mr. Alfred J",
            "Stoytcheff, Mr. Ilia",
            "Palsson, Mrs. Nils (Alma Cornelia Berglund)",
            "Jonsson, Mr. Carl",
            "Rush, Mr. Alfred George John",
            "Patchett, Mr. George",
            "Jussila, Mr. Eiriik",
            "Gilinski, Mr. Eliezer",
            "Rintamaki, Mr. Matti",
            "Elsbury, Mr. William James",
            "Van Impe, Mr. Jean Baptiste",
            "Johnson, Mr. Alfred",
            "Torber, Mr. Ernst William",
            "Lindell, Mr. Edvard Bengtsson",
            "Karaic, Mr. Milan",
            "Andersson, Mrs. Anders Johan (Alfrida Konstantia Brogren)",
            "Brocklebank, Mr. William Alfred",
            "Danbom, Mr. Ernst Gilbert",
            "Lobb, Mrs. William Arthur (Cordelia K Stanlick)",
            "Yasbeck, Mr. Antoni",
            "Nakid, Mr. Sahid",
            "Hansen, Mr. Henry Damsgaard",
            "Bowen, Mr. David John \"Dai\"",
            "Bostandyeff, Mr. Guentcho",
            "Lundahl, Mr. Johan Svensson",
            "Skoog, Miss. Mabel",
            "Leinonen, Mr. Antti Gustaf",
            "Panula, Mrs. Juha (Maria Emilia Ojala)",
            "Jensen, Mr. Hans Peder",
            "Skoog, Miss. Margit Elizabeth",
            "Baclini, Miss. Eugenie",
            "Cor, Mr. Liudevit",
            "Stanley, Miss. Amy Zillah Elsie",
            "Kalvik, Mr. Johannes Halvorsen",
            "Hegarty, Miss. Hanora \"Nora\"",
            "Bourke, Mrs. John (Catherine)",
            "Badt, Mr. Mohamed",
            "Coleff, Mr. Peju",
            "Lindqvist, Mr. Eino William",
            "Cook, Mr. Jacob",
            "Edvardsson, Mr. Gustaf Hjalmar",
            "Sawyer, Mr. Frederick Charles",
            "Turja, Miss. Anna Sofia",
            "Goodwin, Mrs. Frederick (Augusta Tyler)",
            "Olsvigen, Mr. Thor Anderson",
            "Goodwin, Mr. Charles Edward",
            "Panula, Mr. Jaako Arnold",
            "Dakic, Mr. Branko",
            "Fischer, Mr. Eberhard Thelander",
            "Karun, Miss. Manca",
            "Saad, Mr. Khalil",
            "Kelly, Mr. James",
            "Humblen, Mr. Adolf Mathias Nicolai Olsen",
            "Barbara, Miss. Saiide",
            "Gallagher, Mr. Martin",
            "Hansen, Mr. Henrik Juul",
            "Larsson, Mr. August Viktor",
            "Soholt, Mr. Peter Andreas Lauritz Andersen",
            "Johnson, Mr. Malkolm Joackim",
            "Jensen, Mr. Svend Lauritz",
            "Oreskovic, Mr. Luka",
            "Ilmakangas, Miss. Pieta Sofia",
            "Hassan, Mr. Houssein G N",
            "Williams, Mr. Leslie",
            "Ford, Mrs. Edward (Margaret Ann Watson)",
            "McNamee, Mr. Neal",
            "Stranden, Mr. Juho",
            "Abbott, Mr. Rossmore Edward",
            "Connaghton, Mr. Michael",
            "Moor, Master. Meier",
            "Vande Velde, Mr. Johannes Joseph",
            "Jonkoff, Mr. Lalio",
            "Carlsson, Mr. August Sigfrid",
            "Theobald, Mr. Thomas Leonard",
            "Nirva, Mr. Iisakki Antino Aijo",
            "Barah, Mr. Hanna Assi",
            "Eklund, Mr. Hans Linus",
            "Mangan, Miss. Mary",
            "Gronnestad, Mr. Daniel Danielsen",
            "Lievens, Mr. Rene Aime",
            "Jensen, Mr. Niels Peder",
            "Myhrman, Mr. Pehr Fabian Oliver Malkolm",
            "Emanuel, Miss. Virginia Ethel",
            "Ayoub, Miss. Banoura",
            "Ali, Mr. William",
            "Harmer, Mr. Abraham (David Lishin)",
            "Sjoblom, Miss. Anna Sofia",
            "Rice, Master. George Hugh",
            "Dean, Master. Bertram Vere",
            "Dantcheff, Mr. Ristiu",
            "Osman, Mrs. Mara",
            "Ibrahim Shawah, Mr. Yousseff",
            "Van Impe, Mrs. Jean Baptiste (Rosalie Paula Govaert)",
            "Thomas, Master. Assad Alexander",
            "Hedman, Mr. Oskar Arvid",
            "Johansson, Mr. Karl Johan",
            "Pettersson, Miss. Ellen Natalia",
            "Alexander, Mr. William",
            "Lester, Mr. James",
            "Andersson, Miss. Ebba Iris Alfrida",
            "Tomlin, Mr. Ernest Portage",
            "Heininen, Miss. Wendla Maria",
            "Holm, Mr. John Fredrik Alexander",
            "Skoog, Master. Karl Thorsten",
            "Lulic, Mr. Nikola",
            "Moor, Mrs. (Beila)",
            "Panula, Master. Urho Abraham",
            "Yasbeck, Mrs. Antoni (Selini Alexander)",
            "Augustsson, Mr. Albert",
            "Allum, Mr. Owen George",
            "Pasic, Mr. Jakob",
            "Chip, Mr. Chang",
            "Alhomaki, Mr. Ilmari Rudolf",
            "Lemberopolous, Mr. Peter L",
            "Culumovic, Mr. Jeso",
            "Abbing, Mr. Anthony",
            "Markoff, Mr. Marin",
            "Andersson, Master. Sigvard Harald Elias",
            "Svensson, Mr. Johan",
            "Boulos, Miss. Nourelain",
            "Aks, Mrs. Sam (Leah Rosen)",
            "Baclini, Mrs. Solomon (Latifa Qurban)",
            "Hansen, Mr. Claus Peter",
            "Johnson, Master. Harold Theodor",
            "Balkic, Mr. Cerin",
            "Vander Cruyssen, Mr. Victor",
            "Najib, Miss. Adele Kiamie \"Jane\"",
            "Gustafsson, Mr. Alfred Ossian",
            "Petroff, Mr. Nedelio",
            "Markun, Mr. Johann",
            "Dahlberg, Miss. Gerda Ulrika",
            "Sutehall, Mr. Henry Jr",
            "Rice, Mrs. William (Margaret Norton)",
            "Dooley, Mr. Patrick",
            "Kelly, Mr. James",
            "Wilkes, Mrs. James (Ellen Needs)",
            "Wirz, Mr. Albert",
            "Hirvonen, Mrs. Alexander (Helga E Lindqvist)",
            "Svensson, Mr. Johan Cervin",
            "Connolly, Miss. Kate",
            "Abrahim, Mrs. Joseph (Sophie Halaut Easu)",
            "Davies, Mr. John Samuel",
            "Assaf, Mr. Gerios",
            "Ilmakangas, Miss. Ida Livija",
            "Assaf Khalil, Mrs. Mariana (Miriam\")\"",
            "Olsen, Master. Artur Karl",
            "Robins, Mr. Alexander A",
            "Daher, Mr. Shedid",
            "Dean, Mrs. Bertram (Eva Georgetta Light)",
            "Katavelas, Mr. Vassilios (Catavelas Vassilios\")\"",
            "Cacic, Miss. Manda",
            "Sap, Mr. Julius",
            "Karun, Mr. Franz",
            "Goldsmith, Mr. Nathan",
            "Peltomaki, Mr. Nikolai Johannes",
            "Coutts, Mrs. William (Winnie Minnie\" Treanor)\"",
            "Rice, Master. Albert",
            "Cor, Mr. Bartol",
            "Abelseth, Mr. Olaus Jorgensen",
            "Dika, Mr. Mirko",
            "Bjorklund, Mr. Ernst Herbert",
            "Bradley, Miss. Bridget Delia",
            "Burns, Miss. Mary Delia",
            "Mulvihill, Miss. Bertha E",
            "Minkoff, Mr. Lazar",
            "Nieminen, Miss. Manta Josefina",
            "Doyle, Miss. Elizabeth",
            "Boulos, Master. Akar",
            "Barry, Miss. Julia",
            "Badman, Miss. Emily Louisa",
            "Dyker, Mrs. Adolf Fredrik (Anna Elisabeth Judith Andersson)",
            "Tenglin, Mr. Gunnar Isidor",
            "Makinen, Mr. Kalle Edvard",
            "Braf, Miss. Elin Ester Maria",
            "Nancarrow, Mr. William Henry",
            "Johansson Palmquist, Mr. Oskar Leander",
            "Thomas, Mrs. Alexander (Thamine Thelma\")\"",
            "Holthen, Mr. Johan Martin",
            "Buckley, Mr. Daniel",
            "Buckley, Miss. Katherine",
            "Chronopoulos, Mr. Demetrios",
            "Sandstrom, Miss. Beatrice Irene",
            "Carver, Mr. Alfred John",
            "Cribb, Miss. Laura Alice",
            "Brobeck, Mr. Karl Rudolf",
            "Petersen, Mr. Marius",
            "Spinner, Mr. Henry John",
            "Dintcheff, Mr. Valtcho",
            "Carlsson, Mr. Carl Robert",
            "Zakarian, Mr. Mapriededer",
            "Drapkin, Miss. Jennie",
            "Goodwin, Mr. Charles Frederick",
            "Goodwin, Miss. Jessie Allis",
            "Vander Planke, Mr. Julius",
            "Davies, Mr. Evan",
            "Klasen, Mrs. (Hulda Kristina Eugenia Lofqvist)",
            "Asplund, Master. Filip Oscar",
            "Duquemin, Mr. Joseph",
            "Lundin, Miss. Olga Elida",
            "Peacock, Mrs. Benjamin (Edith Nile)",
            "Touma, Master. Georges Youssef",
            "Kink-Heilmann, Mrs. Anton (Luise Heilmann)",
            "Ford, Mr. Edward Watson",
            "Hellstrom, Miss. Hilda Maria",
            "Zakarian, Mr. Ortin",
            "Dyker, Mr. Adolf Fredrik",
            "Asplund, Mr. Carl Oscar Vilhelm Gustafsson",
            "Davies, Mr. Joseph",
            "van Billiard, Master. Walter John",
            "Karlsson, Mr. Julius Konrad Eugen",
            "Nilsson, Miss. Berta Olivia",
            "Danbom, Master. Gilbert Sigvard Emanuel",
            "McGowan, Miss. Katherine",
            "Delalic, Mr. Redjo",
            "Andersen, Mr. Albert Karvin",
            "Andersson, Miss. Ida Augusta Margareta",
            "Reynolds, Mr. Harold J",
            "Karlsson, Mr. Einar Gervasius",
            "Asplund, Mr. Johan Charles",
            "Everett, Mr. Thomas James",
            "Wiklund, Mr. Karl Johan",
            "Vendel, Mr. Olof Edvin",
            "Baccos, Mr. Raffull",
            "Abrahamsson, Mr. Abraham August Johannes",
            "Salander, Mr. Karl Johan",
            "Wenzel, Mr. Linhart",
            "Niklasson, Mr. Samuel",
            "Midtsjo, Mr. Karl Albert",
            "de Messemaeker, Mr. Guillaume Joseph",
            "Nilsson, Mr. August Ferdinand",
            "Klasen, Miss. Gertrud Emilia",
            "Pokrnic, Mr. Mate",
            "Oreskovic, Miss. Jelka",
            "Peacock, Master. Alfred Edward",
            "Touma, Miss. Maria Youssef",
            "Rosblom, Miss. Salli Helena",
            "Dennis, Mr. William",
            "Daly, Miss. Margaret Marcella Maggie\"\"",
            "Wittevrongel, Mr. Camille",
            "Angheloff, Mr. Minko",
            "Johansson, Mr. Nils",
            "Olsson, Mr. Oscar Wilhelm",
            "Pokrnic, Mr. Tome",
            "Aks, Master. Philip Frank",
            "Hansen, Mrs. Claus Peter (Jennie L Howard)",
            "Cacic, Mr. Jego Grga",
            "Vartanian, Mr. David",
            "Carr, Miss. Jeannie",
            "Hagardon, Miss. Kate",
            "Jonsson, Mr. Nils Hilding",
            "Andersson, Mr. Johan Samuel",
            "Krekorian, Mr. Neshan",
            "Assam, Mr. Ali",
            "Nakid, Mrs. Said (Waika Mary\" Mowad)\"",
            "Cor, Mr. Ivan",
            "Elias, Mr. Joseph",
            "Lundstrom, Mr. Thure Edvin",
            "Abelseth, Miss. Karen Marie",
            "Whabee, Mrs. George Joseph (Shawneene Abi-Saab)",
            "Dean, Miss. Elizabeth Gladys Millvina\"\"",
            "Lindell, Mrs. Edvard Bengtsson (Elin Gerda Persson)",
            "Sage, Master. William Henry",
            "Strilic, Mr. Ivan",
            "Riihivouri, Miss. Susanna Juhantytar Sanni\"\"",
            "Kink, Miss. Maria",
            "Asplund, Master. Carl Edgar",
            "Foley, Mr. Joseph",
            "McNamee, Mrs. Neal (Eileen O'Leary)",
            "Aronsson, Mr. Ernst Axel Algot",
            "Canavan, Mr. Patrick",
            "Palsson, Master. Paul Folke",
            "Abbott, Master. Eugene Joseph",
            "Kink-Heilmann, Mr. Anton",
            "Colbert, Mr. Patrick",
            "Larsson-Rondberg, Mr. Edvard A",
            "Conlon, Mr. Thomas Henry",
            "Peacock, Miss. Treasteall",
            "Henriksson, Miss. Jenny Lovisa",
            "Saether, Mr. Simon Sivertsen"
           ],
           "legendgroup": "",
           "marker": {
            "color": {
             "bdata": "AAEAAAEBAAAAAAABAAEAAAEAAQAAAAAAAAAAAQAAAAEAAQABAQAAAAAAAAAAAAABAAAAAAAAAAABAQAAAAAAAQEAAQAAAAEAAAAAAAEAAAABAAAAAAEAAAEAAAAAAQAAAQEAAAEBAAAAAAEAAAAAAAABAQABAQAAAQAAAAEAAQABAAAAAAABAAAAAQABAQAAAAAAAAAAAAAAAAEAAAEAAAEAAQAAAQAAAAAAAAEAAAAAAAEAAAAAAQEAAAEAAAAAAQAAAQABAAAAAAAAAAEBAAAAAAAAAAAAAAEBAQAAAAABAAABAAAAAAAAAAAAAAAAAAEAAAAAAAAAAAABAAEAAAAAAAEAAAABAAAAAAAAAQAAAAAAAAAAAAAAAAAAAAABAAABAAAAAAABAAAAAAAAAQEAAAEAAQABAAABAQAAAAAAAAAAAAEBAAEAAAABAAAAAAAAAAABAQABAAABAAAAAAAAAAABAAEAAQEAAAEBAAAAAQABAAAAAAEAAAAAAAEBAQABAQABAQEAAAEAAAEAAAEAAQABAAAAAAAAAQABAAABAAABAQABAAEAAAAAAAABAAEAAAEAAAAAAAAAAAAAAAAAAAEAAQABAQABAAAAAAAAAQAAAQEAAAAAAQAAAAEBAQEAAAEBAAABAAAAAAAAAAABAQA=",
             "dtype": "i1"
            },
            "coloraxis": "coloraxis",
            "symbol": "circle"
           },
           "mode": "markers",
           "name": "",
           "orientation": "v",
           "showlegend": false,
           "type": "scatter",
           "x": {
            "bdata": "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",
            "dtype": "f8"
           },
           "xaxis": "x",
           "y": {
            "bdata": "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",
            "dtype": "f8"
           },
           "yaxis": "y"
          }
         ],
         "name": "3"
        },
        {
         "data": [
          {
           "customdata": [
            [
             "female",
             "C"
            ],
            [
             "female",
             "S"
            ],
            [
             "male",
             "S"
            ],
            [
             "female",
             "S"
            ],
            [
             "male",
             "S"
            ],
            [
             "male",
             "S"
            ],
            [
             "male",
             "C"
            ],
            [
             "male",
             "C"
            ],
            [
             "male",
             "S"
            ],
            [
             "female",
             "C"
            ],
            [
             "male",
             "C"
            ],
            [
             "female",
             null
            ],
            [
             "male",
             "S"
            ],
            [
             "male",
             "S"
            ],
            [
             "female",
             "S"
            ],
            [
             "male",
             "S"
            ],
            [
             "male",
             "C"
            ],
            [
             "male",
             "C"
            ],
            [
             "male",
             "S"
            ],
            [
             "male",
             "S"
            ],
            [
             "male",
             "C"
            ],
            [
             "male",
             "S"
            ],
            [
             "female",
             "S"
            ],
            [
             "male",
             "S"
            ],
            [
             "male",
             "C"
            ],
            [
             "female",
             "S"
            ],
            [
             "male",
             "C"
            ],
            [
             "male",
             "S"
            ],
            [
             "male",
             "C"
            ],
            [
             "female",
             "C"
            ],
            [
             "male",
             "S"
            ],
            [
             "female",
             "C"
            ],
            [
             "female",
             "C"
            ],
            [
             "male",
             "C"
            ],
            [
             "female",
             "C"
            ],
            [
             "female",
             "C"
            ],
            [
             "male",
             "S"
            ],
            [
             "female",
             "S"
            ],
            [
             "male",
             "Q"
            ],
            [
             "male",
             "S"
            ],
            [
             "male",
             "S"
            ],
            [
             "female",
             "S"
            ],
            [
             "female",
             "C"
            ],
            [
             "male",
             "S"
            ],
            [
             "male",
             "S"
            ],
            [
             "female",
             "S"
            ],
            [
             "female",
             "S"
            ],
            [
             "male",
             "C"
            ],
            [
             "female",
             "S"
            ],
            [
             "female",
             "S"
            ],
            [
             "female",
             "C"
            ],
            [
             "female",
             "S"
            ],
            [
             "female",
             "C"
            ],
            [
             "male",
             "S"
            ],
            [
             "female",
             "C"
            ],
            [
             "female",
             "C"
            ],
            [
             "female",
             "C"
            ],
            [
             "female",
             "C"
            ],
            [
             "female",
             "S"
            ],
            [
             "female",
             "C"
            ],
            [
             "female",
             "C"
            ],
            [
             "female",
             "C"
            ],
            [
             "male",
             "S"
            ],
            [
             "male",
             "S"
            ],
            [
             "male",
             "S"
            ],
            [
             "female",
             "C"
            ],
            [
             "male",
             "S"
            ],
            [
             "female",
             "S"
            ],
            [
             "female",
             "S"
            ],
            [
             "female",
             "C"
            ],
            [
             "female",
             "C"
            ],
            [
             "male",
             "C"
            ],
            [
             "male",
             "C"
            ],
            [
             "male",
             "C"
            ],
            [
             "female",
             "C"
            ],
            [
             "female",
             "S"
            ],
            [
             "male",
             "S"
            ],
            [
             "female",
             "C"
            ],
            [
             "female",
             "Q"
            ],
            [
             "male",
             "S"
            ],
            [
             "male",
             "S"
            ],
            [
             "female",
             "S"
            ],
            [
             "male",
             "S"
            ],
            [
             "male",
             "S"
            ],
            [
             "male",
             "S"
            ],
            [
             "male",
             "S"
            ],
            [
             "male",
             "C"
            ],
            [
             "male",
             "C"
            ],
            [
             "male",
             "S"
            ],
            [
             "male",
             "S"
            ],
            [
             "male",
             "S"
            ],
            [
             "male",
             "S"
            ],
            [
             "male",
             "C"
            ],
            [
             "female",
             "S"
            ],
            [
             "male",
             "C"
            ],
            [
             "male",
             "S"
            ],
            [
             "male",
             "C"
            ],
            [
             "female",
             "C"
            ],
            [
             "female",
             "S"
            ],
            [
             "female",
             "S"
            ],
            [
             "male",
             "C"
            ],
            [
             "male",
             "S"
            ],
            [
             "female",
             "C"
            ],
            [
             "male",
             "S"
            ],
            [
             "female",
             "S"
            ],
            [
             "female",
             "C"
            ],
            [
             "male",
             "S"
            ],
            [
             "female",
             "C"
            ],
            [
             "female",
             "C"
            ],
            [
             "female",
             "S"
            ],
            [
             "male",
             "C"
            ],
            [
             "male",
             "S"
            ],
            [
             "male",
             "C"
            ],
            [
             "male",
             "S"
            ],
            [
             "female",
             "C"
            ],
            [
             "female",
             "S"
            ],
            [
             "female",
             "S"
            ],
            [
             "male",
             "S"
            ],
            [
             "female",
             "S"
            ],
            [
             "female",
             "C"
            ],
            [
             "male",
             "C"
            ],
            [
             "female",
             "S"
            ],
            [
             "male",
             "C"
            ],
            [
             "female",
             "C"
            ],
            [
             "male",
             "C"
            ],
            [
             "male",
             "C"
            ],
            [
             "male",
             "S"
            ],
            [
             "female",
             "S"
            ],
            [
             "male",
             "S"
            ],
            [
             "male",
             "S"
            ],
            [
             "female",
             "S"
            ],
            [
             "male",
             "S"
            ],
            [
             "male",
             "C"
            ],
            [
             "female",
             "C"
            ],
            [
             "male",
             "C"
            ],
            [
             "male",
             "C"
            ],
            [
             "male",
             "C"
            ],
            [
             "male",
             "S"
            ],
            [
             "male",
             "S"
            ],
            [
             "male",
             "S"
            ],
            [
             "male",
             "C"
            ],
            [
             "male",
             "C"
            ],
            [
             "female",
             "S"
            ],
            [
             "male",
             "S"
            ],
            [
             "male",
             "S"
            ],
            [
             "male",
             "C"
            ],
            [
             "female",
             "C"
            ],
            [
             "male",
             "S"
            ],
            [
             "male",
             "S"
            ],
            [
             "female",
             "S"
            ],
            [
             "female",
             "C"
            ],
            [
             "male",
             "S"
            ],
            [
             "female",
             "C"
            ],
            [
             "male",
             "S"
            ],
            [
             "female",
             "S"
            ],
            [
             "male",
             "C"
            ],
            [
             "male",
             "S"
            ],
            [
             "female",
             "C"
            ],
            [
             "male",
             "S"
            ],
            [
             "male",
             "S"
            ],
            [
             "female",
             "S"
            ],
            [
             "female",
             "S"
            ],
            [
             "female",
             "S"
            ],
            [
             "female",
             "S"
            ],
            [
             "female",
             "S"
            ],
            [
             "male",
             "S"
            ],
            [
             "male",
             "C"
            ],
            [
             "female",
             "S"
            ],
            [
             "male",
             "S"
            ],
            [
             "male",
             "S"
            ],
            [
             "female",
             "S"
            ],
            [
             "female",
             "S"
            ],
            [
             "male",
             "S"
            ],
            [
             "female",
             null
            ],
            [
             "female",
             "C"
            ],
            [
             "female",
             "C"
            ],
            [
             "female",
             "S"
            ],
            [
             "female",
             "S"
            ],
            [
             "male",
             "S"
            ],
            [
             "female",
             "S"
            ],
            [
             "male",
             "S"
            ],
            [
             "female",
             "S"
            ],
            [
             "male",
             "S"
            ],
            [
             "female",
             "C"
            ],
            [
             "female",
             "S"
            ],
            [
             "male",
             "C"
            ],
            [
             "male",
             "S"
            ],
            [
             "female",
             "S"
            ],
            [
             "female",
             "S"
            ],
            [
             "male",
             "C"
            ],
            [
             "male",
             "C"
            ],
            [
             "female",
             "C"
            ],
            [
             "female",
             "C"
            ],
            [
             "male",
             "S"
            ],
            [
             "male",
             "C"
            ],
            [
             "female",
             "S"
            ],
            [
             "male",
             "C"
            ],
            [
             "female",
             "C"
            ],
            [
             "male",
             "S"
            ],
            [
             "female",
             "S"
            ],
            [
             "female",
             "C"
            ],
            [
             "male",
             "C"
            ],
            [
             "male",
             "S"
            ],
            [
             "male",
             "C"
            ],
            [
             "female",
             "S"
            ],
            [
             "male",
             "C"
            ],
            [
             "female",
             "C"
            ],
            [
             "male",
             "C"
            ],
            [
             "female",
             "S"
            ],
            [
             "male",
             "S"
            ],
            [
             "male",
             "S"
            ],
            [
             "female",
             "S"
            ],
            [
             "male",
             "C"
            ],
            [
             "female",
             "S"
            ],
            [
             "female",
             "C"
            ],
            [
             "female",
             "C"
            ],
            [
             "female",
             "S"
            ],
            [
             "male",
             "C"
            ],
            [
             "female",
             "C"
            ],
            [
             "male",
             "C"
            ],
            [
             "female",
             "S"
            ],
            [
             "male",
             "C"
            ],
            [
             "male",
             "S"
            ],
            [
             "female",
             "C"
            ],
            [
             "female",
             "S"
            ],
            [
             "male",
             "S"
            ],
            [
             "male",
             "C"
            ],
            [
             "male",
             "C"
            ],
            [
             "female",
             "C"
            ],
            [
             "male",
             "C"
            ],
            [
             "female",
             "S"
            ],
            [
             "female",
             "C"
            ],
            [
             "male",
             "C"
            ],
            [
             "male",
             "C"
            ],
            [
             "female",
             "C"
            ],
            [
             "male",
             "S"
            ],
            [
             "male",
             "S"
            ],
            [
             "female",
             "C"
            ],
            [
             "female",
             "C"
            ],
            [
             "female",
             "S"
            ],
            [
             "male",
             "C"
            ],
            [
             "male",
             "C"
            ],
            [
             "female",
             "C"
            ],
            [
             "female",
             "C"
            ],
            [
             "male",
             "C"
            ],
            [
             "male",
             "S"
            ],
            [
             "male",
             "C"
            ],
            [
             "male",
             "C"
            ],
            [
             "female",
             "C"
            ],
            [
             "male",
             "S"
            ],
            [
             "male",
             "S"
            ],
            [
             "male",
             "S"
            ],
            [
             "female",
             "S"
            ],
            [
             "male",
             "S"
            ],
            [
             "male",
             "S"
            ],
            [
             "female",
             "C"
            ],
            [
             "male",
             "C"
            ],
            [
             "male",
             "S"
            ],
            [
             "female",
             "S"
            ],
            [
             "male",
             "C"
            ],
            [
             "male",
             "C"
            ],
            [
             "male",
             "S"
            ],
            [
             "female",
             "C"
            ],
            [
             "female",
             "C"
            ],
            [
             "male",
             "S"
            ],
            [
             "female",
             "S"
            ],
            [
             "female",
             "C"
            ],
            [
             "female",
             "C"
            ],
            [
             "female",
             "C"
            ],
            [
             "male",
             "S"
            ],
            [
             "female",
             "S"
            ],
            [
             "female",
             "C"
            ],
            [
             "male",
             "S"
            ],
            [
             "male",
             "S"
            ],
            [
             "female",
             "S"
            ],
            [
             "female",
             "S"
            ],
            [
             "female",
             "C"
            ],
            [
             "female",
             "S"
            ],
            [
             "female",
             "C"
            ],
            [
             "male",
             "S"
            ],
            [
             "male",
             "C"
            ],
            [
             "male",
             "C"
            ],
            [
             "female",
             "Q"
            ],
            [
             "female",
             "C"
            ]
           ],
           "hovertemplate": "<b>%{hovertext}</b><br><br>Pclass=1<br>Age=%{x}<br>Fare=%{y}<br>Sex=%{customdata[0]}<br>Embarked=%{customdata[1]}<br>Survived=%{marker.color}<extra></extra>",
           "hovertext": [
            "Cumings, Mrs. John Bradley (Florence Briggs Thayer)",
            "Futrelle, Mrs. Jacques Heath (Lily May Peel)",
            "McCarthy, Mr. Timothy J",
            "Bonnell, Miss. Elizabeth",
            "Sloper, Mr. William Thompson",
            "Fortune, Mr. Charles Alexander",
            "Uruchurtu, Don. Manuel E",
            "Meyer, Mr. Edgar Joseph",
            "Holverson, Mr. Alexander Oskar",
            "Harper, Mrs. Henry Sleeper (Myna Haxtun)",
            "Ostby, Mr. Engelhart Cornelius",
            "Icard, Miss. Amelie",
            "Harris, Mr. Henry Birkhardt",
            "Carrau, Mr. Francisco M",
            "Fortune, Miss. Mabel Helen",
            "Chaffee, Mr. Herbert Fuller",
            "Goldschmidt, Mr. George B",
            "Greenfield, Mr. William Bertram",
            "White, Mr. Richard Frasar",
            "Porter, Mr. Walter Chamberlain",
            "Baxter, Mr. Quigg Edmond",
            "White, Mr. Percival Wayland",
            "Newsom, Miss. Helen Monypeny",
            "Futrelle, Mr. Jacques Heath",
            "Giglio, Mr. Victor",
            "Pears, Mrs. Thomas (Edith Wearne)",
            "Williams, Mr. Charles Duane",
            "Van der hoef, Mr. Wyckoff",
            "Smith, Mr. James Clinch",
            "Isham, Miss. Ann Elizabeth",
            "Romaine, Mr. Charles Hallace (\"Mr C Rolmane\")",
            "Brown, Mrs. James Joseph (Margaret Tobin)",
            "Lurette, Miss. Elise",
            "Blank, Mr. Henry",
            "Newell, Miss. Madeleine",
            "Bazzani, Miss. Albina",
            "Hoyt, Mr. Frederick Maxfield",
            "Harris, Mrs. Henry Birkhardt (Irene Wallach)",
            "Minahan, Dr. William Edward",
            "Beckwith, Mr. Richard Leonard",
            "Stead, Mr. William Thomas",
            "Cherry, Miss. Gladys",
            "Ward, Miss. Anna",
            "Taussig, Mr. Emil",
            "Harrison, Mr. William",
            "Graham, Mrs. William Thompson (Edith Junkins)",
            "Bissette, Miss. Amelia",
            "Natsch, Mr. Charles H",
            "Andrews, Miss. Kornelia Theodosia",
            "Barber, Miss. Ellen \"Nellie\"",
            "Bishop, Mrs. Dickinson H (Helen Walton)",
            "Allison, Miss. Helen Loraine",
            "Baxter, Mrs. James (Helene DeLaudeniere Chaput)",
            "Allison, Master. Hudson Trevor",
            "Penasco y Castellana, Mrs. Victor de Satode (Maria Josefa Perez de Soto y Vallejo)",
            "Francatelli, Miss. Laura Mabel",
            "Hays, Miss. Margaret Bechstein",
            "Ryerson, Miss. Emily Borie",
            "Wick, Miss. Mary Natalie",
            "Spedden, Mrs. Frederic Oakley (Margaretta Corning Stone)",
            "Young, Miss. Marie Grice",
            "Hippach, Miss. Jean Gertrude",
            "Partner, Mr. Austen",
            "Graham, Mr. George Edward",
            "Pears, Mr. Thomas Clinton",
            "Burns, Miss. Elizabeth Margaret",
            "Blackwell, Mr. Stephen Weart",
            "Fortune, Miss. Alice Elizabeth",
            "Bowerman, Miss. Elsie Edith",
            "Warren, Mrs. Frank Manley (Anna Sophia Atkinson)",
            "Aubart, Mme. Leontine Pauline",
            "Harder, Mr. George Achilles",
            "Ringhini, Mr. Sante",
            "Widener, Mr. Harry Elkins",
            "Bidois, Miss. Rosalie",
            "Holverson, Mrs. Alexander Oskar (Mary Aline Towner)",
            "Carter, Mr. William Ernest",
            "Newell, Miss. Marjorie",
            "Minahan, Miss. Daisy E",
            "Bjornstrom-Steffansson, Mr. Mauritz Hakan",
            "Silvey, Mr. William Baird",
            "Carter, Miss. Lucile Polk",
            "Fortune, Mr. Mark",
            "Dodge, Master. Washington",
            "Seward, Mr. Frederic Kimber",
            "Peuchen, Major. Arthur Godfrey",
            "Foreman, Mr. Benjamin Laventall",
            "Goldenberg, Mr. Samuel L",
            "Millet, Mr. Francis Davis",
            "Anderson, Mr. Harry",
            "Gee, Mr. Arthur H",
            "Smart, Mr. John Montgomery",
            "Bishop, Mr. Dickinson H",
            "Hoyt, Mrs. Frederick Maxfield (Jane Anne Forby)",
            "Kent, Mr. Edward Austin",
            "Molson, Mr. Harry Markland",
            "Artagaveytia, Mr. Ramon",
            "Eustis, Miss. Elizabeth Mussey",
            "Allison, Mrs. Hudson J C (Bessie Waldo Daniels)",
            "Maioni, Miss. Roberta",
            "Penasco y Castellana, Mr. Victor de Satode",
            "McGough, Mr. James Robert",
            "Rothschild, Mrs. Martin (Elizabeth L. Barrett)",
            "Walker, Mr. William Anderson",
            "Perreault, Miss. Anne",
            "Hippach, Mrs. Louis Albert (Ida Sophia Fischer)",
            "Butt, Major. Archibald Willingham",
            "LeRoy, Miss. Bertha",
            "Frolicher, Miss. Hedwig Margaritha",
            "Crosby, Miss. Harriet R",
            "Douglas, Mr. Walter Donald",
            "Nicholson, Mr. Arthur Ernest",
            "Thayer, Mr. John Borland Jr",
            "Wright, Mr. George",
            "Duff Gordon, Lady. (Lucille Christiana Sutherland) (\"Mrs Morgan\")",
            "Taussig, Mrs. Emil (Tillie Mandelbaum)",
            "Appleton, Mrs. Edward Dale (Charlotte Lamson)",
            "Flynn, Mr. John Irwin (\"Irving\")",
            "Silvey, Mrs. William Baird (Alice Munger)",
            "Thayer, Mrs. John Borland (Marian Longstreth Morris)",
            "Ross, Mr. John Hugo",
            "Taussig, Miss. Ruth",
            "Frolicher-Stehli, Mr. Maxmillian",
            "Stephenson, Mrs. Walter Bertram (Martha Eustis)",
            "Duff Gordon, Sir. Cosmo Edmund (\"Mr Morgan\")",
            "Homer, Mr. Harry (\"Mr E Haven\")",
            "Daniel, Mr. Robert Williams",
            "Shutes, Miss. Elizabeth W",
            "Kimball, Mr. Edwin Nelson Jr",
            "Sutton, Mr. Frederick",
            "Longley, Miss. Gretchen Fiske",
            "Barkworth, Mr. Algernon Henry Wilson",
            "Stahelin-Maeglin, Dr. Max",
            "Sagesser, Mlle. Emma",
            "Harper, Mr. Henry Sleeper",
            "Simonius-Blumer, Col. Oberst Alfons",
            "Newell, Mr. Arthur Webster",
            "Frauenthal, Dr. Henry William",
            "Colley, Mr. Edward Pomeroy",
            "Davidson, Mr. Thornton",
            "Cardeza, Mr. Thomas Drake Martinez",
            "Hassab, Mr. Hammad",
            "Madill, Miss. Georgette Alexandra",
            "Dick, Mr. Albert Adrian",
            "Weir, Col. John",
            "Thayer, Mr. John Borland",
            "Astor, Mrs. John Jacob (Madeleine Talmadge Force)",
            "Silverthorne, Mr. Spencer Victor",
            "Calderhead, Mr. Edward Pennington",
            "Cleaver, Miss. Alice",
            "Mayne, Mlle. Berthe Antonine (\"Mrs de Villiers\")",
            "Taylor, Mr. Elmer Zebley",
            "Endres, Miss. Caroline Louise",
            "Chambers, Mr. Norman Campbell",
            "Allen, Miss. Elisabeth Walton",
            "Lesurer, Mr. Gustave J",
            "Cavendish, Mr. Tyrell William",
            "Ryerson, Miss. Susan Parker \"Suzette\"",
            "Crosby, Capt. Edward Gifford",
            "Marvin, Mr. Daniel Warner",
            "Rothes, the Countess. of (Lucy Noel Martha Dyer-Edwards)",
            "Carter, Mrs. William Ernest (Lucile Polk)",
            "Hogeboom, Mrs. John C (Anna Andrews)",
            "Robert, Mrs. Edward Scott (Elisabeth Walton McMillan)",
            "Dick, Mrs. Albert Adrian (Vera Gillespie)",
            "Long, Mr. Milton Clyde",
            "Guggenheim, Mr. Benjamin",
            "Leader, Dr. Alice (Farnham)",
            "Carter, Master. William Thornton II",
            "Andrews, Mr. Thomas Jr",
            "Chambers, Mrs. Norman Campbell (Bertha Griggs)",
            "Hays, Mrs. Charles Melville (Clara Jennings Gregg)",
            "Reuchlin, Jonkheer. John George",
            "Stone, Mrs. George Nelson (Martha Evelyn)",
            "Compton, Miss. Sara Rebecca",
            "Serepeca, Miss. Augusta",
            "Lines, Miss. Mary Conover",
            "Wick, Mrs. George Dennick (Mary Hitchcock)",
            "Daly, Mr. Peter Denis ",
            "Swift, Mrs. Frederick Joel (Margaret Welles Barron)",
            "Roebling, Mr. Washington Augustus II",
            "Beckwith, Mrs. Richard Leonard (Sallie Monypeny)",
            "Carlsson, Mr. Frans Olof",
            "Potter, Mrs. Thomas Jr (Lily Alexenia Wilson)",
            "Graham, Miss. Margaret Edith",
            "Behr, Mr. Karl Howell",
            "Jones, Mr. Charles Cresson",
            "Snyder, Mrs. John Pillsbury (Nelle Stevenson)",
            "Chaffee, Mrs. Herbert Fuller (Carrie Constance Toogood)",
            "Rothschild, Mr. Martin",
            "Williams, Mr. Richard Norris II",
            "Ryerson, Mrs. Arthur Larned (Emily Maria Borie)",
            "Ostby, Miss. Helene Ragnhild",
            "Brady, Mr. John Bertram",
            "Mock, Mr. Philipp Edmund",
            "Kimball, Mrs. Edwin Nelson Jr (Gertrude Parsons)",
            "Chevre, Mr. Paul Romaine",
            "Bucknell, Mrs. William Robert (Emma Eliza Ward)",
            "Smith, Mr. Lucien Philip",
            "Fortune, Miss. Ethel Flora",
            "Chaudanson, Miss. Victorine",
            "Ryerson, Master. John Borie",
            "Moore, Mr. Clarence Bloomfield",
            "Tucker, Mr. Gilbert Milligan Jr",
            "Fortune, Mrs. Mark (Mary McDougald)",
            "Ovies y Rodriguez, Mr. Servando",
            "Geiger, Miss. Amalie",
            "Keeping, Mr. Edwin",
            "Cornell, Mrs. Robert Clifford (Malvina Helen Lamson)",
            "Straus, Mr. Isidor",
            "Case, Mr. Howard Brown",
            "Davidson, Mrs. Thornton (Orian Hays)",
            "Birnbaum, Mr. Jakob",
            "Cavendish, Mrs. Tyrell William (Julia Florence Siegel)",
            "Stengel, Mrs. Charles Emil Henry (Annie May Morris)",
            "Evans, Miss. Edith Corse",
            "Straus, Mrs. Isidor (Rosalie Ida Blun)",
            "Beattie, Mr. Thomson",
            "Schabert, Mrs. Paul (Emma Mock)",
            "Gracie, Col. Archibald IV",
            "Daniels, Miss. Sarah",
            "Ryerson, Mr. Arthur Larned",
            "Lindeberg-Lind, Mr. Erik Gustaf (Mr Edward Lingrey\")\"",
            "Earnshaw, Mrs. Boulton (Olive Potter)",
            "Bird, Miss. Ellen",
            "Borebank, Mr. John James",
            "Brandeis, Mr. Emil",
            "Stengel, Mr. Charles Emil Henry",
            "Compton, Mrs. Alexander Taylor (Mary Eliza Ingersoll)",
            "Compton, Mr. Alexander Taylor Jr",
            "Marvin, Mrs. Daniel Warner (Mary Graham Carmichael Farquarson)",
            "Douglas, Mrs. Frederick Charles (Mary Helene Baxter)",
            "Spedden, Master. Robert Douglas",
            "Astor, Col. John Jacob",
            "Rosenbaum, Miss. Edith Louise",
            "Head, Mr. Christopher",
            "Wick, Mr. George Dennick",
            "Widener, Mrs. George Dunton (Eleanor Elkins)",
            "Candee, Mrs. Edward (Helen Churchill Hungerford)",
            "Willard, Miss. Constance",
            "Cumings, Mr. John Bradley",
            "Warren, Mr. Frank Manley",
            "Douglas, Mrs. Walter Donald (Mahala Dutton)",
            "Lindstrom, Mrs. Carl Johan (Sigrid Posse)",
            "Spedden, Mr. Frederic Oakley",
            "Kenyon, Mr. Frederick R",
            "Clark, Mr. Walter Miller",
            "McCaffry, Mr. Thomas Francis",
            "Clark, Mrs. Walter Miller (Virginia McDowell)",
            "Snyder, Mr. John Pillsbury",
            "Dodge, Dr. Washington",
            "Loring, Mr. Joseph Holland",
            "Crosby, Mrs. Edward Gifford (Catherine Elizabeth Halstead)",
            "Allison, Mr. Hudson Joshua Creighton",
            "Hays, Mr. Charles Melville",
            "White, Mrs. John Stuart (Ella Holmes)",
            "Spencer, Mr. William Augustus",
            "Rowe, Mr. Alfred G",
            "Kreuchen, Miss. Emilie",
            "Rosenshine, Mr. George (Mr George Thorne\")\"",
            "Dulles, Mr. William Crothers",
            "Maguire, Mr. John Edward",
            "Cardeza, Mrs. James Warburton Martinez (Charlotte Wardle Drake)",
            "Greenfield, Mrs. Leo David (Blanche Strouse)",
            "Julian, Mr. Henry Forbes",
            "Brown, Mrs. John Murray (Caroline Lane Lamson)",
            "Harder, Mrs. George Achilles (Dorothy Annan)",
            "Gibson, Mrs. Leonard (Pauline C Boeson)",
            "Wilson, Miss. Helen Alice",
            "Ismay, Mr. Joseph Bruce",
            "Dodge, Mrs. Washington (Ruth Vidaver)",
            "Bowen, Miss. Grace Scott",
            "Hipkins, Mr. William Edward",
            "Payne, Mr. Vivian Ponsonby",
            "Lines, Mrs. Ernest H (Elizabeth Lindsey James)",
            "Smith, Mrs. Lucien Philip (Mary Eloise Hughes)",
            "Frolicher-Stehli, Mrs. Maxmillian (Margaretha Emerentia Stehli)",
            "Bonnell, Miss. Caroline",
            "Gibson, Miss. Dorothy Winifred",
            "Carrau, Mr. Jose Pedro",
            "Frauenthal, Mr. Isaac Gerald",
            "Widener, Mr. George Dunton",
            "Minahan, Mrs. William Edward (Lillian E Thorpe)",
            "Oliva y Ocana, Dona. Fermina"
           ],
           "legendgroup": "",
           "marker": {
            "color": {
             "bdata": "AQEAAQEAAAAAAQABAAABAAABAAAAAAEAAAEAAAAAAQEBAQEBAQEAAQABAQAAAQEAAQEBAAEBAQEBAQEBAQEAAAABAAEBAQEBAAABAQEBAQEAAQABAQEAAQABAAABAQAAAAEAAQABAQABAQABAQEAAAEAAQEBAQEBAAEBAQEBAQEBAAEBAQEBAQABAAABAQEBAAABAQEBAQEBAQEBAAEAAAEBAQEBAAABAQABAQABAQEBAQEBAAEAAQEBAAEBAAABAQAAAQABAAEBAAAAAQABAAEAAAEAAQEBAQABAAEAAAEBAAAAAQABAQAAAQAAAQEBAAABAQAAAAABAAAAAQAAAQAAAQAAAAEBAAEBAQEAAQEAAAEBAQEBAAAAAQE=",
             "dtype": "i1"
            },
            "coloraxis": "coloraxis",
            "symbol": "circle"
           },
           "mode": "markers",
           "name": "",
           "orientation": "v",
           "showlegend": false,
           "type": "scatter",
           "x": {
            "bdata": "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",
            "dtype": "f8"
           },
           "xaxis": "x",
           "y": {
            "bdata": "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",
            "dtype": "f8"
           },
           "yaxis": "y"
          }
         ],
         "name": "1"
        },
        {
         "data": [
          {
           "customdata": [
            [
             "female",
             "C"
            ],
            [
             "female",
             "S"
            ],
            [
             "male",
             "S"
            ],
            [
             "male",
             "S"
            ],
            [
             "male",
             "S"
            ],
            [
             "female",
             "S"
            ],
            [
             "female",
             "C"
            ],
            [
             "female",
             "S"
            ],
            [
             "female",
             "S"
            ],
            [
             "female",
             "S"
            ],
            [
             "female",
             "S"
            ],
            [
             "male",
             "S"
            ],
            [
             "male",
             "S"
            ],
            [
             "male",
             "S"
            ],
            [
             "female",
             "S"
            ],
            [
             "female",
             "S"
            ],
            [
             "male",
             "S"
            ],
            [
             "male",
             "S"
            ],
            [
             "male",
             "S"
            ],
            [
             "male",
             "C"
            ],
            [
             "female",
             "S"
            ],
            [
             "female",
             "S"
            ],
            [
             "male",
             "S"
            ],
            [
             "male",
             "C"
            ],
            [
             "male",
             "S"
            ],
            [
             "male",
             "S"
            ],
            [
             "male",
             "S"
            ],
            [
             "male",
             "S"
            ],
            [
             "male",
             "S"
            ],
            [
             "female",
             "S"
            ],
            [
             "male",
             "S"
            ],
            [
             "male",
             "S"
            ],
            [
             "female",
             "S"
            ],
            [
             "male",
             "S"
            ],
            [
             "male",
             "S"
            ],
            [
             "female",
             "S"
            ],
            [
             "female",
             "S"
            ],
            [
             "male",
             "S"
            ],
            [
             "male",
             "S"
            ],
            [
             "male",
             "S"
            ],
            [
             "male",
             "S"
            ],
            [
             "male",
             "S"
            ],
            [
             "male",
             "S"
            ],
            [
             "male",
             "S"
            ],
            [
             "male",
             "S"
            ],
            [
             "male",
             "S"
            ],
            [
             "female",
             "S"
            ],
            [
             "male",
             "S"
            ],
            [
             "male",
             "S"
            ],
            [
             "male",
             "S"
            ],
            [
             "female",
             "S"
            ],
            [
             "male",
             "S"
            ],
            [
             "female",
             "S"
            ],
            [
             "male",
             "S"
            ],
            [
             "female",
             "S"
            ],
            [
             "male",
             "S"
            ],
            [
             "male",
             "C"
            ],
            [
             "male",
             "C"
            ],
            [
             "female",
             "S"
            ],
            [
             "male",
             "S"
            ],
            [
             "female",
             "S"
            ],
            [
             "male",
             "S"
            ],
            [
             "female",
             "Q"
            ],
            [
             "female",
             "S"
            ],
            [
             "female",
             "S"
            ],
            [
             "male",
             "S"
            ],
            [
             "male",
             "S"
            ],
            [
             "male",
             "S"
            ],
            [
             "male",
             "S"
            ],
            [
             "female",
             "S"
            ],
            [
             "female",
             "S"
            ],
            [
             "female",
             "S"
            ],
            [
             "male",
             "C"
            ],
            [
             "male",
             "S"
            ],
            [
             "female",
             "S"
            ],
            [
             "female",
             "C"
            ],
            [
             "male",
             "S"
            ],
            [
             "male",
             "S"
            ],
            [
             "female",
             "S"
            ],
            [
             "male",
             "S"
            ],
            [
             "male",
             "S"
            ],
            [
             "female",
             "S"
            ],
            [
             "female",
             "S"
            ],
            [
             "male",
             "S"
            ],
            [
             "female",
             "S"
            ],
            [
             "female",
             "S"
            ],
            [
             "female",
             "S"
            ],
            [
             "female",
             "S"
            ],
            [
             "male",
             "S"
            ],
            [
             "female",
             "S"
            ],
            [
             "female",
             "S"
            ],
            [
             "female",
             "S"
            ],
            [
             "male",
             "S"
            ],
            [
             "female",
             "S"
            ],
            [
             "male",
             "S"
            ],
            [
             "female",
             "S"
            ],
            [
             "female",
             "C"
            ],
            [
             "male",
             "S"
            ],
            [
             "female",
             "S"
            ],
            [
             "female",
             "S"
            ],
            [
             "female",
             "S"
            ],
            [
             "female",
             "S"
            ],
            [
             "male",
             "S"
            ],
            [
             "female",
             "S"
            ],
            [
             "female",
             "S"
            ],
            [
             "male",
             "S"
            ],
            [
             "female",
             "S"
            ],
            [
             "male",
             "S"
            ],
            [
             "male",
             "S"
            ],
            [
             "male",
             "S"
            ],
            [
             "male",
             "S"
            ],
            [
             "female",
             "S"
            ],
            [
             "female",
             "S"
            ],
            [
             "male",
             "S"
            ],
            [
             "male",
             "S"
            ],
            [
             "male",
             "S"
            ],
            [
             "female",
             "S"
            ],
            [
             "female",
             "C"
            ],
            [
             "female",
             "S"
            ],
            [
             "female",
             "S"
            ],
            [
             "male",
             "S"
            ],
            [
             "male",
             "Q"
            ],
            [
             "female",
             "S"
            ],
            [
             "male",
             "S"
            ],
            [
             "female",
             "S"
            ],
            [
             "male",
             "S"
            ],
            [
             "male",
             "S"
            ],
            [
             "male",
             "S"
            ],
            [
             "male",
             "S"
            ],
            [
             "female",
             "S"
            ],
            [
             "male",
             "S"
            ],
            [
             "male",
             "S"
            ],
            [
             "male",
             "S"
            ],
            [
             "male",
             "C"
            ],
            [
             "male",
             "S"
            ],
            [
             "male",
             "S"
            ],
            [
             "female",
             "S"
            ],
            [
             "male",
             "S"
            ],
            [
             "female",
             "S"
            ],
            [
             "female",
             "S"
            ],
            [
             "male",
             "S"
            ],
            [
             "male",
             "S"
            ],
            [
             "female",
             "S"
            ],
            [
             "male",
             "S"
            ],
            [
             "male",
             "S"
            ],
            [
             "male",
             "S"
            ],
            [
             "female",
             "S"
            ],
            [
             "female",
             "S"
            ],
            [
             "female",
             "S"
            ],
            [
             "male",
             "S"
            ],
            [
             "male",
             "S"
            ],
            [
             "female",
             "S"
            ],
            [
             "female",
             "S"
            ],
            [
             "male",
             "S"
            ],
            [
             "male",
             "S"
            ],
            [
             "male",
             "S"
            ],
            [
             "female",
             "S"
            ],
            [
             "male",
             "S"
            ],
            [
             "male",
             "S"
            ],
            [
             "male",
             "C"
            ],
            [
             "male",
             "C"
            ],
            [
             "male",
             "S"
            ],
            [
             "male",
             "S"
            ],
            [
             "male",
             "S"
            ],
            [
             "female",
             "S"
            ],
            [
             "male",
             "S"
            ],
            [
             "male",
             "S"
            ],
            [
             "female",
             "S"
            ],
            [
             "female",
             "C"
            ],
            [
             "female",
             "C"
            ],
            [
             "female",
             "S"
            ],
            [
             "male",
             "S"
            ],
            [
             "male",
             "S"
            ],
            [
             "male",
             "Q"
            ],
            [
             "male",
             "S"
            ],
            [
             "male",
             "S"
            ],
            [
             "female",
             "C"
            ],
            [
             "male",
             "Q"
            ],
            [
             "male",
             "S"
            ],
            [
             "male",
             "S"
            ],
            [
             "female",
             "S"
            ],
            [
             "male",
             "C"
            ],
            [
             "female",
             "S"
            ],
            [
             "male",
             "S"
            ],
            [
             "male",
             "S"
            ],
            [
             "male",
             "S"
            ],
            [
             "male",
             "S"
            ],
            [
             "male",
             "S"
            ],
            [
             "male",
             "C"
            ],
            [
             "female",
             "S"
            ],
            [
             "female",
             "S"
            ],
            [
             "male",
             "S"
            ],
            [
             "male",
             "S"
            ],
            [
             "male",
             "S"
            ],
            [
             "male",
             "S"
            ],
            [
             "female",
             "S"
            ],
            [
             "male",
             "S"
            ],
            [
             "female",
             "S"
            ],
            [
             "female",
             "S"
            ],
            [
             "female",
             "S"
            ],
            [
             "male",
             "S"
            ],
            [
             "male",
             "S"
            ],
            [
             "female",
             "S"
            ],
            [
             "male",
             "S"
            ],
            [
             "male",
             "S"
            ],
            [
             "male",
             "Q"
            ],
            [
             "male",
             "S"
            ],
            [
             "male",
             "S"
            ],
            [
             "female",
             "S"
            ],
            [
             "male",
             "S"
            ],
            [
             "male",
             "S"
            ],
            [
             "male",
             "S"
            ],
            [
             "female",
             "S"
            ],
            [
             "female",
             "C"
            ],
            [
             "female",
             "S"
            ],
            [
             "male",
             "S"
            ],
            [
             "male",
             "S"
            ],
            [
             "female",
             "S"
            ],
            [
             "female",
             "S"
            ],
            [
             "female",
             "S"
            ],
            [
             "male",
             "S"
            ],
            [
             "female",
             "S"
            ],
            [
             "female",
             "S"
            ],
            [
             "female",
             "S"
            ],
            [
             "female",
             "S"
            ],
            [
             "male",
             "C"
            ],
            [
             "female",
             "S"
            ],
            [
             "male",
             "S"
            ],
            [
             "male",
             "S"
            ],
            [
             "male",
             "S"
            ],
            [
             "male",
             "S"
            ],
            [
             "female",
             "C"
            ],
            [
             "male",
             "S"
            ],
            [
             "male",
             "S"
            ],
            [
             "male",
             "S"
            ],
            [
             "male",
             "S"
            ],
            [
             "female",
             "S"
            ],
            [
             "male",
             "S"
            ],
            [
             "male",
             "S"
            ],
            [
             "female",
             "S"
            ],
            [
             "male",
             "S"
            ],
            [
             "male",
             "S"
            ],
            [
             "male",
             "S"
            ],
            [
             "male",
             "S"
            ],
            [
             "male",
             "S"
            ],
            [
             "female",
             "S"
            ],
            [
             "male",
             "S"
            ],
            [
             "male",
             "S"
            ],
            [
             "male",
             "S"
            ],
            [
             "female",
             "C"
            ],
            [
             "female",
             "S"
            ],
            [
             "male",
             "C"
            ],
            [
             "male",
             "S"
            ],
            [
             "male",
             "S"
            ],
            [
             "male",
             "S"
            ],
            [
             "female",
             "S"
            ],
            [
             "male",
             "S"
            ],
            [
             "male",
             "S"
            ],
            [
             "male",
             "S"
            ],
            [
             "male",
             "C"
            ],
            [
             "male",
             "S"
            ]
           ],
           "hovertemplate": "<b>%{hovertext}</b><br><br>Pclass=2<br>Age=%{x}<br>Fare=%{y}<br>Sex=%{customdata[0]}<br>Embarked=%{customdata[1]}<br>Survived=%{marker.color}<extra></extra>",
           "hovertext": [
            "Nasser, Mrs. Nicholas (Adele Achem)",
            "Hewlett, Mrs. (Mary D Kingcome) ",
            "Fynney, Mr. Joseph J",
            "Beesley, Mr. Lawrence",
            "Wheadon, Mr. Edward H",
            "Turpin, Mrs. William John Robert (Dorothy Ann Wonnacott)",
            "Laroche, Miss. Simonne Marie Anne Andree",
            "Faunthorpe, Mrs. Lizzie (Elizabeth Anne Wilkinson)",
            "Rugg, Miss. Emily",
            "West, Miss. Constance Mirium",
            "Nye, Mrs. (Elizabeth Ramell)",
            "Jenkin, Mr. Stephen Curnow",
            "Hood, Mr. Ambrose Jr",
            "Caldwell, Master. Alden Gates",
            "Ilett, Miss. Bertha",
            "Doling, Mrs. John T (Ada Julia Bone)",
            "Kantor, Mr. Sinai",
            "Turpin, Mr. William John Robert",
            "Hickman, Mr. Stanley George",
            "Nasser, Mr. Nicholas",
            "Webber, Miss. Susan",
            "Weisz, Mrs. Leopold (Mathilde Francoise Pede)",
            "Sobey, Mr. Samuel James Hayden",
            "Richard, Mr. Emile",
            "Andrew, Mr. Edgardo Samuel",
            "Nicholls, Mr. Joseph Charles",
            "Navratil, Mr. Michel (\"Louis M Hoffman\")",
            "Byles, Rev. Thomas Roussel Davids",
            "Bateman, Rev. Robert James",
            "Watt, Mrs. James (Elizabeth \"Bessie\" Inglis Milne)",
            "Hale, Mr. Reginald",
            "Becker, Master. Richard F",
            "Pinsky, Mrs. (Rosa)",
            "Carbines, Mr. William",
            "Navratil, Master. Michel M",
            "Yrois, Miss. Henriette (\"Mrs Harbeck\")",
            "Cameron, Miss. Clear Annie",
            "Givard, Mr. Hans Kristensen",
            "Jacobsohn, Mr. Sidney Samuel",
            "Harris, Mr. Walter",
            "Bracken, Mr. James H",
            "Mellors, Mr. William John",
            "Fahlstrom, Mr. Arne Jonas",
            "Sjostedt, Mr. Ernst Adolf",
            "Leyson, Mr. Robert William Norman",
            "Hold, Mr. Stephen",
            "Collyer, Miss. Marjorie \"Lottie\"",
            "Pengelly, Mr. Frederick William",
            "Hunt, Mr. George Henry",
            "Coleridge, Mr. Reginald Charles",
            "Hamalainen, Mrs. William (Anna)",
            "Carter, Rev. Ernest Courtenay",
            "Parrish, Mrs. (Lutie Davis)",
            "Reeves, Mr. David",
            "Mellinger, Mrs. (Elizabeth Anne Maidment)",
            "Hosono, Mr. Masabumi",
            "Levy, Mr. Rene Jacques",
            "Abelson, Mr. Samuel",
            "Lahtinen, Mrs. William (Anna Sylfven)",
            "Hart, Mr. Benjamin",
            "Kantor, Mrs. Sinai (Miriam Sternin)",
            "Moraweck, Dr. Ernest",
            "Slayter, Miss. Hilda Mary",
            "Caldwell, Mrs. Albert Francis (Sylvia Mae Harbaugh)",
            "Ball, Mrs. (Ada E Hall)",
            "Navratil, Master. Edmond Roger",
            "Collander, Mr. Erik Gustaf",
            "Sedgwick, Mr. Charles Frederick Waddington",
            "Fox, Mr. Stanley Hubert",
            "Brown, Miss. Amelia \"Mildred\"",
            "Smith, Miss. Marion Elsie",
            "Funk, Miss. Annie Clemmer",
            "del Carlo, Mr. Sebastiano",
            "Davies, Mr. Charles Henry",
            "Buss, Miss. Kate",
            "Lehmann, Miss. Bertha",
            "McKane, Mr. Peter David",
            "Pain, Dr. Alfred",
            "Trout, Mrs. William H (Jessie L)",
            "Gale, Mr. Shadrach",
            "Richards, Master. William Rowe",
            "Drew, Mrs. James Vivian (Lulu Thorne Christian)",
            "Silven, Miss. Lyyli Karoliina",
            "Matthews, Mr. William John",
            "Clarke, Mrs. Charles V (Ada Maria Winfield)",
            "Phillips, Miss. Kate Florence (\"Mrs Kate Louise Phillips Marshall\")",
            "Louch, Mrs. Charles Alexander (Alice Adelaide Slow)",
            "Richards, Mrs. Sidney (Emily Hocking)",
            "Kvillner, Mr. Johan Henrik Johannesson",
            "Hart, Mrs. Benjamin (Esther Ada Bloomfield)",
            "Reynaldo, Ms. Encarnacion",
            "Mellinger, Miss. Madeleine Violet",
            "West, Mr. Edwy Arthur",
            "Toomey, Miss. Ellen",
            "Milling, Mr. Jacob Christian",
            "West, Mrs. Edwy Arthur (Ada Mary Worth)",
            "Jerwan, Mrs. Amin S (Marie Marthe Thuillard)",
            "Renouf, Mr. Peter Henry",
            "Quick, Mrs. Frederick Charles (Jane Richards)",
            "Lemore, Mrs. (Amelia Milley)",
            "Angle, Mrs. William A (Florence \"Mary\" Agnes Hughes)",
            "Ridsdale, Miss. Lucy",
            "Hocking, Mr. Richard George",
            "Quick, Miss. Phyllis May",
            "Hart, Miss. Eva Miriam",
            "Beane, Mr. Edward",
            "Beane, Mrs. Edward (Ethel Clarke)",
            "Davies, Master. John Morgan Jr",
            "Sharp, Mr. Percival James R",
            "Norman, Mr. Robert Douglas",
            "Harris, Mr. George",
            "Garside, Miss. Ethel",
            "Christy, Miss. Julie Rachel",
            "Downton, Mr. William James",
            "Jarvis, Mr. John Denzil",
            "Chapman, Mr. John Henry",
            "Jacobsohn, Mrs. Sidney Samuel (Amy Frances Christy)",
            "Laroche, Mrs. Joseph (Juliette Marie Louise Lafargue)",
            "Herman, Miss. Alice",
            "Becker, Miss. Marion Louise",
            "Gavey, Mr. Lawrence",
            "Kirkland, Rev. Charles Leonard",
            "Davis, Miss. Mary",
            "Collyer, Mr. Harvey",
            "Doling, Miss. Elsie",
            "Hickman, Mr. Leonard Mark",
            "Eitemiller, Mr. George Floyd",
            "Hickman, Mr. Lewis",
            "Butler, Mr. Reginald Fenton",
            "Brown, Mrs. Thomas William Solomon (Elizabeth Catherine Ford)",
            "Mitchell, Mr. Henry Michael",
            "Wilhelms, Mr. Charles",
            "Brown, Mr. Thomas William Solomon",
            "Laroche, Mr. Joseph Philippe Lemercier",
            "Chapman, Mr. Charles Henry",
            "Morley, Mr. Henry Samuel (\"Mr Henry Marshall\")",
            "Kelly, Mrs. Florence \"Fannie\"",
            "Greenberg, Mr. Samuel",
            "Troutt, Miss. Edwina Celia \"Winnie\"",
            "Harper, Miss. Annie Jessie \"Nina\"",
            "Gillespie, Mr. William Henry",
            "Hodges, Mr. Henry Price",
            "Renouf, Mrs. Peter Henry (Lillian Jefferys)",
            "Bryhl, Mr. Kurt Arnold Gottfrid",
            "Berriman, Mr. William John",
            "Troupiansky, Mr. Moses Aaron",
            "Sinkkonen, Miss. Anna",
            "Wells, Miss. Joan",
            "Herman, Mrs. Samuel (Jane Laver)",
            "Hamalainen, Master. Viljo",
            "Bailey, Mr. Percy Andrew",
            "Mack, Mrs. (Mary)",
            "Hocking, Mrs. Elizabeth (Eliza Needs)",
            "Gaskell, Mr. Alfred",
            "Otter, Mr. Richard",
            "Ponesell, Mr. Martin",
            "Collyer, Mrs. Harvey (Charlotte Annie Tate)",
            "Meyer, Mr. August",
            "Slemen, Mr. Richard James",
            "Mallet, Mr. Albert",
            "Mallet, Master. Andre",
            "Richards, Master. George Sibley",
            "Mudd, Mr. Thomas Charles",
            "Harper, Rev. John",
            "Carter, Mrs. Ernest Courtenay (Lilian Hughes)",
            "Giles, Mr. Frederick Edward",
            "Gill, Mr. John William",
            "Bystrom, Mrs. (Karolina)",
            "Duran y More, Miss. Asuncion",
            "Abelson, Mrs. Samuel (Hannah Wizosky)",
            "Shelley, Mrs. William (Imanita Parrish Hall)",
            "Banfield, Mr. Frederick James",
            "Montvila, Rev. Juozas",
            "Myles, Mr. Thomas Francis",
            "Caldwell, Mr. Albert Francis",
            "Howard, Mr. Benjamin",
            "del Carlo, Mrs. Sebastiano (Argenia Genovesi)",
            "Keane, Mr. Daniel",
            "Louch, Mr. Charles Alexander",
            "Jefferys, Mr. Clifford Thomas",
            "Corbett, Mrs. Walter H (Irene Colvin)",
            "Pulbaum, Mr. Franz",
            "Hocking, Miss. Ellen Nellie\"\"",
            "McCrae, Mr. Arthur Gordon",
            "Aldworth, Mr. Charles Augustus",
            "Wells, Master. Ralph Lester",
            "Weisz, Mr. Leopold",
            "Swane, Mr. George",
            "Stanton, Mr. Samuel Ward",
            "Chapman, Mrs. John Henry (Sara Elizabeth Lawry)",
            "Watt, Miss. Bertha J",
            "Bowenur, Mr. Solomon",
            "Schmidt, Mr. August",
            "Beauchamp, Mr. Henry James",
            "Lahtinen, Rev. William",
            "Wright, Miss. Marion",
            "Peruschitz, Rev. Joseph Maria",
            "Brown, Miss. Edith Eileen",
            "Sincock, Miss. Maude",
            "Becker, Mrs. Allen Oliver (Nellie E Baumgardner)",
            "McCrie, Mr. James Matthew",
            "Maybery, Mr. Frank Hubert",
            "Phillips, Miss. Alice Frances Louisa",
            "Veal, Mr. James",
            "Angle, Mr. William A",
            "Lingane, Mr. John",
            "Drew, Master. Marshall Brines",
            "Baimbrigge, Mr. Charles Robert",
            "Quick, Miss. Winifred Vera",
            "Andrew, Mr. Frank Thomas",
            "Collett, Mr. Sidney C Stuart",
            "Deacon, Mr. Percy William",
            "Howard, Mrs. Benjamin (Ellen Truelove Arman)",
            "Duran y More, Miss. Florentina",
            "Cook, Mrs. (Selena Rogers)",
            "Hocking, Mr. Samuel James Metcalfe",
            "Sweet, Mr. George Frederick",
            "Hiltunen, Miss. Marta",
            "Christy, Mrs. (Alice Frances)",
            "Karnes, Mrs. J Frank (Claire Bennett)",
            "Drew, Mr. James Vivian",
            "Hold, Mrs. Stephen (Annie Margaret Hill)",
            "West, Miss. Barbara J",
            "Bentham, Miss. Lilian W",
            "Wells, Mrs. Arthur Henry (Addie\" Dart Trevaskis)\"",
            "Portaluppi, Mr. Emilio Ilario Giuseppe",
            "Bryhl, Miss. Dagmar Jenny Ingeborg ",
            "Parker, Mr. Clifford Richard",
            "Faunthorpe, Mr. Harry",
            "Ware, Mr. John James",
            "Oxenham, Mr. Percy Thomas",
            "Laroche, Miss. Louise",
            "Phillips, Mr. Escott Robert",
            "Rogers, Mr. Reginald Harry",
            "Jefferys, Mr. Ernest Wilfred",
            "Nesson, Mr. Israel",
            "Becker, Miss. Ruth Elizabeth",
            "Clarke, Mr. Charles Valentine",
            "Enander, Mr. Ingvar",
            "Davies, Mrs. John Morgan (Elizabeth Agnes Mary White) ",
            "de Brito, Mr. Jose Joaquim",
            "Denbury, Mr. Herbert",
            "Fillbrook, Mr. Joseph Charles",
            "Botsford, Mr. William Hull",
            "Giles, Mr. Ralph",
            "Walcroft, Miss. Nellie",
            "Stokes, Mr. Philip Joseph",
            "Dibden, Mr. William",
            "Herman, Mr. Samuel",
            "Mallet, Mrs. Albert (Antoinette Magnin)",
            "Ware, Mrs. John James (Florence Louise Long)",
            "Pallas y Castello, Mr. Emilio",
            "Giles, Mr. Edgar",
            "Harbeck, Mr. William H",
            "Cotterill, Mr. Henry Harry\"\"",
            "Herman, Miss. Kate",
            "Ashby, Mr. John",
            "Gilbert, Mr. William",
            "Gale, Mr. Harry",
            "Nourney, Mr. Alfred (Baron von Drachstedt\")\"",
            "Ware, Mr. William Jeffery"
           ],
           "legendgroup": "",
           "marker": {
            "color": {
             "bdata": "AQEAAQAAAQEBAQEAAAEBAQAAAAABAQAAAAAAAAABAAEBAAEAAQAAAAABAAAAAAEAAAABAAEAAQEAAAAAAQABAQEBAAAAAQEAAAABAQAAAQABAQEAAQEBAQABAQEAAQABAQABAQEBAAEBAQEBAAABAQEAAAABAQEBAAABAAEAAAAAAQABAAAAAAEAAQEAAAEAAAABAQEBAAABAAAAAQAAAAEBAAAAAAABAQEBAAAAAAABAAAAAQABAAAAAAAAAQEAAAAAAQABAQEAAAEAAAAAAAEAAAABAQEAAAEBAQABAQEBAAEAAAAAAQAAAAABAAABAAAAAAABAAAAAQEAAAAAAQAAAAAA",
             "dtype": "i1"
            },
            "coloraxis": "coloraxis",
            "symbol": "circle"
           },
           "mode": "markers",
           "name": "",
           "orientation": "v",
           "showlegend": false,
           "type": "scatter",
           "x": {
            "bdata": "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",
            "dtype": "f8"
           },
           "xaxis": "x",
           "y": {
            "bdata": "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",
            "dtype": "f8"
           },
           "yaxis": "y"
          }
         ],
         "name": "2"
        }
       ],
       "layout": {
        "coloraxis": {
         "colorbar": {
          "title": {
           "text": "Survived"
          }
         },
         "colorscale": [
          [
           0,
           "#0d0887"
          ],
          [
           0.1111111111111111,
           "#46039f"
          ],
          [
           0.2222222222222222,
           "#7201a8"
          ],
          [
           0.3333333333333333,
           "#9c179e"
          ],
          [
           0.4444444444444444,
           "#bd3786"
          ],
          [
           0.5555555555555556,
           "#d8576b"
          ],
          [
           0.6666666666666666,
           "#ed7953"
          ],
          [
           0.7777777777777778,
           "#fb9f3a"
          ],
          [
           0.8888888888888888,
           "#fdca26"
          ],
          [
           1,
           "#f0f921"
          ]
         ]
        },
        "height": 600,
        "legend": {
         "title": {
          "text": "Survived"
         },
         "tracegroupgap": 0
        },
        "sliders": [
         {
          "active": 0,
          "currentvalue": {
           "prefix": "Pclass="
          },
          "len": 0.9,
          "pad": {
           "b": 10,
           "t": 60
          },
          "steps": [
           {
            "args": [
             [
              "3"
             ],
             {
              "frame": {
               "duration": 0,
               "redraw": false
              },
              "fromcurrent": true,
              "mode": "immediate",
              "transition": {
               "duration": 0,
               "easing": "linear"
              }
             }
            ],
            "label": "3",
            "method": "animate"
           },
           {
            "args": [
             [
              "1"
             ],
             {
              "frame": {
               "duration": 0,
               "redraw": false
              },
              "fromcurrent": true,
              "mode": "immediate",
              "transition": {
               "duration": 0,
               "easing": "linear"
              }
             }
            ],
            "label": "1",
            "method": "animate"
           },
           {
            "args": [
             [
              "2"
             ],
             {
              "frame": {
               "duration": 0,
               "redraw": false
              },
              "fromcurrent": true,
              "mode": "immediate",
              "transition": {
               "duration": 0,
               "easing": "linear"
              }
             }
            ],
            "label": "2",
            "method": "animate"
           }
          ],
          "x": 0.1,
          "xanchor": "left",
          "y": 0,
          "yanchor": "top"
         }
        ],
        "template": {
         "data": {
          "bar": [
           {
            "error_x": {
             "color": "#2a3f5f"
            },
            "error_y": {
             "color": "#2a3f5f"
            },
            "marker": {
             "line": {
              "color": "#E5ECF6",
              "width": 0.5
             },
             "pattern": {
              "fillmode": "overlay",
              "size": 10,
              "solidity": 0.2
             }
            },
            "type": "bar"
           }
          ],
          "barpolar": [
           {
            "marker": {
             "line": {
              "color": "#E5ECF6",
              "width": 0.5
             },
             "pattern": {
              "fillmode": "overlay",
              "size": 10,
              "solidity": 0.2
             }
            },
            "type": "barpolar"
           }
          ],
          "carpet": [
           {
            "aaxis": {
             "endlinecolor": "#2a3f5f",
             "gridcolor": "white",
             "linecolor": "white",
             "minorgridcolor": "white",
             "startlinecolor": "#2a3f5f"
            },
            "baxis": {
             "endlinecolor": "#2a3f5f",
             "gridcolor": "white",
             "linecolor": "white",
             "minorgridcolor": "white",
             "startlinecolor": "#2a3f5f"
            },
            "type": "carpet"
           }
          ],
          "choropleth": [
           {
            "colorbar": {
             "outlinewidth": 0,
             "ticks": ""
            },
            "type": "choropleth"
           }
          ],
          "contour": [
           {
            "colorbar": {
             "outlinewidth": 0,
             "ticks": ""
            },
            "colorscale": [
             [
              0,
              "#0d0887"
             ],
             [
              0.1111111111111111,
              "#46039f"
             ],
             [
              0.2222222222222222,
              "#7201a8"
             ],
             [
              0.3333333333333333,
              "#9c179e"
             ],
             [
              0.4444444444444444,
              "#bd3786"
             ],
             [
              0.5555555555555556,
              "#d8576b"
             ],
             [
              0.6666666666666666,
              "#ed7953"
             ],
             [
              0.7777777777777778,
              "#fb9f3a"
             ],
             [
              0.8888888888888888,
              "#fdca26"
             ],
             [
              1,
              "#f0f921"
             ]
            ],
            "type": "contour"
           }
          ],
          "contourcarpet": [
           {
            "colorbar": {
             "outlinewidth": 0,
             "ticks": ""
            },
            "type": "contourcarpet"
           }
          ],
          "heatmap": [
           {
            "colorbar": {
             "outlinewidth": 0,
             "ticks": ""
            },
            "colorscale": [
             [
              0,
              "#0d0887"
             ],
             [
              0.1111111111111111,
              "#46039f"
             ],
             [
              0.2222222222222222,
              "#7201a8"
             ],
             [
              0.3333333333333333,
              "#9c179e"
             ],
             [
              0.4444444444444444,
              "#bd3786"
             ],
             [
              0.5555555555555556,
              "#d8576b"
             ],
             [
              0.6666666666666666,
              "#ed7953"
             ],
             [
              0.7777777777777778,
              "#fb9f3a"
             ],
             [
              0.8888888888888888,
              "#fdca26"
             ],
             [
              1,
              "#f0f921"
             ]
            ],
            "type": "heatmap"
           }
          ],
          "histogram": [
           {
            "marker": {
             "pattern": {
              "fillmode": "overlay",
              "size": 10,
              "solidity": 0.2
             }
            },
            "type": "histogram"
           }
          ],
          "histogram2d": [
           {
            "colorbar": {
             "outlinewidth": 0,
             "ticks": ""
            },
            "colorscale": [
             [
              0,
              "#0d0887"
             ],
             [
              0.1111111111111111,
              "#46039f"
             ],
             [
              0.2222222222222222,
              "#7201a8"
             ],
             [
              0.3333333333333333,
              "#9c179e"
             ],
             [
              0.4444444444444444,
              "#bd3786"
             ],
             [
              0.5555555555555556,
              "#d8576b"
             ],
             [
              0.6666666666666666,
              "#ed7953"
             ],
             [
              0.7777777777777778,
              "#fb9f3a"
             ],
             [
              0.8888888888888888,
              "#fdca26"
             ],
             [
              1,
              "#f0f921"
             ]
            ],
            "type": "histogram2d"
           }
          ],
          "histogram2dcontour": [
           {
            "colorbar": {
             "outlinewidth": 0,
             "ticks": ""
            },
            "colorscale": [
             [
              0,
              "#0d0887"
             ],
             [
              0.1111111111111111,
              "#46039f"
             ],
             [
              0.2222222222222222,
              "#7201a8"
             ],
             [
              0.3333333333333333,
              "#9c179e"
             ],
             [
              0.4444444444444444,
              "#bd3786"
             ],
             [
              0.5555555555555556,
              "#d8576b"
             ],
             [
              0.6666666666666666,
              "#ed7953"
             ],
             [
              0.7777777777777778,
              "#fb9f3a"
             ],
             [
              0.8888888888888888,
              "#fdca26"
             ],
             [
              1,
              "#f0f921"
             ]
            ],
            "type": "histogram2dcontour"
           }
          ],
          "mesh3d": [
           {
            "colorbar": {
             "outlinewidth": 0,
             "ticks": ""
            },
            "type": "mesh3d"
           }
          ],
          "parcoords": [
           {
            "line": {
             "colorbar": {
              "outlinewidth": 0,
              "ticks": ""
             }
            },
            "type": "parcoords"
           }
          ],
          "pie": [
           {
            "automargin": true,
            "type": "pie"
           }
          ],
          "scatter": [
           {
            "fillpattern": {
             "fillmode": "overlay",
             "size": 10,
             "solidity": 0.2
            },
            "type": "scatter"
           }
          ],
          "scatter3d": [
           {
            "line": {
             "colorbar": {
              "outlinewidth": 0,
              "ticks": ""
             }
            },
            "marker": {
             "colorbar": {
              "outlinewidth": 0,
              "ticks": ""
             }
            },
            "type": "scatter3d"
           }
          ],
          "scattercarpet": [
           {
            "marker": {
             "colorbar": {
              "outlinewidth": 0,
              "ticks": ""
             }
            },
            "type": "scattercarpet"
           }
          ],
          "scattergeo": [
           {
            "marker": {
             "colorbar": {
              "outlinewidth": 0,
              "ticks": ""
             }
            },
            "type": "scattergeo"
           }
          ],
          "scattergl": [
           {
            "marker": {
             "colorbar": {
              "outlinewidth": 0,
              "ticks": ""
             }
            },
            "type": "scattergl"
           }
          ],
          "scattermap": [
           {
            "marker": {
             "colorbar": {
              "outlinewidth": 0,
              "ticks": ""
             }
            },
            "type": "scattermap"
           }
          ],
          "scattermapbox": [
           {
            "marker": {
             "colorbar": {
              "outlinewidth": 0,
              "ticks": ""
             }
            },
            "type": "scattermapbox"
           }
          ],
          "scatterpolar": [
           {
            "marker": {
             "colorbar": {
              "outlinewidth": 0,
              "ticks": ""
             }
            },
            "type": "scatterpolar"
           }
          ],
          "scatterpolargl": [
           {
            "marker": {
             "colorbar": {
              "outlinewidth": 0,
              "ticks": ""
             }
            },
            "type": "scatterpolargl"
           }
          ],
          "scatterternary": [
           {
            "marker": {
             "colorbar": {
              "outlinewidth": 0,
              "ticks": ""
             }
            },
            "type": "scatterternary"
           }
          ],
          "surface": [
           {
            "colorbar": {
             "outlinewidth": 0,
             "ticks": ""
            },
            "colorscale": [
             [
              0,
              "#0d0887"
             ],
             [
              0.1111111111111111,
              "#46039f"
             ],
             [
              0.2222222222222222,
              "#7201a8"
             ],
             [
              0.3333333333333333,
              "#9c179e"
             ],
             [
              0.4444444444444444,
              "#bd3786"
             ],
             [
              0.5555555555555556,
              "#d8576b"
             ],
             [
              0.6666666666666666,
              "#ed7953"
             ],
             [
              0.7777777777777778,
              "#fb9f3a"
             ],
             [
              0.8888888888888888,
              "#fdca26"
             ],
             [
              1,
              "#f0f921"
             ]
            ],
            "type": "surface"
           }
          ],
          "table": [
           {
            "cells": {
             "fill": {
              "color": "#EBF0F8"
             },
             "line": {
              "color": "white"
             }
            },
            "header": {
             "fill": {
              "color": "#C8D4E3"
             },
             "line": {
              "color": "white"
             }
            },
            "type": "table"
           }
          ]
         },
         "layout": {
          "annotationdefaults": {
           "arrowcolor": "#2a3f5f",
           "arrowhead": 0,
           "arrowwidth": 1
          },
          "autotypenumbers": "strict",
          "coloraxis": {
           "colorbar": {
            "outlinewidth": 0,
            "ticks": ""
           }
          },
          "colorscale": {
           "diverging": [
            [
             0,
             "#8e0152"
            ],
            [
             0.1,
             "#c51b7d"
            ],
            [
             0.2,
             "#de77ae"
            ],
            [
             0.3,
             "#f1b6da"
            ],
            [
             0.4,
             "#fde0ef"
            ],
            [
             0.5,
             "#f7f7f7"
            ],
            [
             0.6,
             "#e6f5d0"
            ],
            [
             0.7,
             "#b8e186"
            ],
            [
             0.8,
             "#7fbc41"
            ],
            [
             0.9,
             "#4d9221"
            ],
            [
             1,
             "#276419"
            ]
           ],
           "sequential": [
            [
             0,
             "#0d0887"
            ],
            [
             0.1111111111111111,
             "#46039f"
            ],
            [
             0.2222222222222222,
             "#7201a8"
            ],
            [
             0.3333333333333333,
             "#9c179e"
            ],
            [
             0.4444444444444444,
             "#bd3786"
            ],
            [
             0.5555555555555556,
             "#d8576b"
            ],
            [
             0.6666666666666666,
             "#ed7953"
            ],
            [
             0.7777777777777778,
             "#fb9f3a"
            ],
            [
             0.8888888888888888,
             "#fdca26"
            ],
            [
             1,
             "#f0f921"
            ]
           ],
           "sequentialminus": [
            [
             0,
             "#0d0887"
            ],
            [
             0.1111111111111111,
             "#46039f"
            ],
            [
             0.2222222222222222,
             "#7201a8"
            ],
            [
             0.3333333333333333,
             "#9c179e"
            ],
            [
             0.4444444444444444,
             "#bd3786"
            ],
            [
             0.5555555555555556,
             "#d8576b"
            ],
            [
             0.6666666666666666,
             "#ed7953"
            ],
            [
             0.7777777777777778,
             "#fb9f3a"
            ],
            [
             0.8888888888888888,
             "#fdca26"
            ],
            [
             1,
             "#f0f921"
            ]
           ]
          },
          "colorway": [
           "#636efa",
           "#EF553B",
           "#00cc96",
           "#ab63fa",
           "#FFA15A",
           "#19d3f3",
           "#FF6692",
           "#B6E880",
           "#FF97FF",
           "#FECB52"
          ],
          "font": {
           "color": "#2a3f5f"
          },
          "geo": {
           "bgcolor": "white",
           "lakecolor": "white",
           "landcolor": "#E5ECF6",
           "showlakes": true,
           "showland": true,
           "subunitcolor": "white"
          },
          "hoverlabel": {
           "align": "left"
          },
          "hovermode": "closest",
          "mapbox": {
           "style": "light"
          },
          "paper_bgcolor": "white",
          "plot_bgcolor": "#E5ECF6",
          "polar": {
           "angularaxis": {
            "gridcolor": "white",
            "linecolor": "white",
            "ticks": ""
           },
           "bgcolor": "#E5ECF6",
           "radialaxis": {
            "gridcolor": "white",
            "linecolor": "white",
            "ticks": ""
           }
          },
          "scene": {
           "xaxis": {
            "backgroundcolor": "#E5ECF6",
            "gridcolor": "white",
            "gridwidth": 2,
            "linecolor": "white",
            "showbackground": true,
            "ticks": "",
            "zerolinecolor": "white"
           },
           "yaxis": {
            "backgroundcolor": "#E5ECF6",
            "gridcolor": "white",
            "gridwidth": 2,
            "linecolor": "white",
            "showbackground": true,
            "ticks": "",
            "zerolinecolor": "white"
           },
           "zaxis": {
            "backgroundcolor": "#E5ECF6",
            "gridcolor": "white",
            "gridwidth": 2,
            "linecolor": "white",
            "showbackground": true,
            "ticks": "",
            "zerolinecolor": "white"
           }
          },
          "shapedefaults": {
           "line": {
            "color": "#2a3f5f"
           }
          },
          "ternary": {
           "aaxis": {
            "gridcolor": "white",
            "linecolor": "white",
            "ticks": ""
           },
           "baxis": {
            "gridcolor": "white",
            "linecolor": "white",
            "ticks": ""
           },
           "bgcolor": "#E5ECF6",
           "caxis": {
            "gridcolor": "white",
            "linecolor": "white",
            "ticks": ""
           }
          },
          "title": {
           "x": 0.05
          },
          "xaxis": {
           "automargin": true,
           "gridcolor": "white",
           "linecolor": "white",
           "ticks": "",
           "title": {
            "standoff": 15
           },
           "zerolinecolor": "white",
           "zerolinewidth": 2
          },
          "yaxis": {
           "automargin": true,
           "gridcolor": "white",
           "linecolor": "white",
           "ticks": "",
           "title": {
            "standoff": 15
           },
           "zerolinecolor": "white",
           "zerolinewidth": 2
          }
         }
        },
        "title": {
         "font": {
          "family": "Arial",
          "size": 18
         },
         "text": "<b>Animated Age-Fare Relationship by Class</b>"
        },
        "updatemenus": [
         {
          "buttons": [
           {
            "args": [
             null,
             {
              "frame": {
               "duration": 500,
               "redraw": false
              },
              "fromcurrent": true,
              "mode": "immediate",
              "transition": {
               "duration": 500,
               "easing": "linear"
              }
             }
            ],
            "label": "&#9654;",
            "method": "animate"
           },
           {
            "args": [
             [
              null
             ],
             {
              "frame": {
               "duration": 0,
               "redraw": false
              },
              "fromcurrent": true,
              "mode": "immediate",
              "transition": {
               "duration": 0,
               "easing": "linear"
              }
             }
            ],
            "label": "&#9724;",
            "method": "animate"
           }
          ],
          "direction": "left",
          "pad": {
           "r": 10,
           "t": 70
          },
          "showactive": false,
          "type": "buttons",
          "x": 0.1,
          "xanchor": "right",
          "y": 0,
          "yanchor": "top"
         }
        ],
        "width": 900,
        "xaxis": {
         "anchor": "y",
         "domain": [
          0,
          1
         ],
         "title": {
          "text": "Age (Years)"
         }
        },
        "yaxis": {
         "anchor": "x",
         "domain": [
          0,
          1
         ],
         "title": {
          "text": "Fare (Currency)"
         }
        }
       }
      }
     },
     "metadata": {},
     "output_type": "display_data"
    }
   ],
   "source": [
    "import plotly.express as px\n",
    "\n",
    "fig = px.scatter(\n",
    "    full_df.dropna(subset=['Age', 'Fare']),\n",
    "    x=\"Age\",\n",
    "    y=\"Fare\",\n",
    "    animation_frame=\"Pclass\",\n",
    "    color=\"Survived\",\n",
    "    color_discrete_map={0: '#ff6b6b', 1: '#4ecdc4'},\n",
    "    size_max=15,\n",
    "    hover_name=\"Name\",\n",
    "    hover_data=[\"Sex\", \"Embarked\"],\n",
    "    title=\"<b>Animated Age-Fare Relationship by Class</b>\",\n",
    "    width=900,\n",
    "    height=600\n",
    ")\n",
    "\n",
    "fig.update_layout(\n",
    "    title_font=dict(size=18, family='Arial'),\n",
    "    xaxis_title=\"Age (Years)\",\n",
    "    yaxis_title=\"Fare (Currency)\",\n",
    "    legend_title=\"Survived\"\n",
    ")\n",
    "\n",
    "fig.update_traces(\n",
    "    marker=dict(size=10, line=dict(width=1, color='DarkSlateGrey')),\n",
    "    selector=dict(mode='markers')\n",
    ")\n",
    "\n",
    "fig.show()"
   ]
  },
  {
   "cell_type": "markdown",
   "id": "1e6cd458",
   "metadata": {},
   "source": [
    "9. Radar Chart for Multi-Feature Comparison"
   ]
  },
  {
   "cell_type": "code",
   "execution_count": 62,
   "id": "79228524",
   "metadata": {},
   "outputs": [
    {
     "data": {
      "application/vnd.plotly.v1+json": {
       "config": {
        "plotlyServerURL": "https://plot.ly"
       },
       "data": [
        {
         "fill": "toself",
         "line": {
          "color": "#ff6b6b"
         },
         "name": "Perished",
         "r": {
          "bdata": "DzBJmWi9A0CxCFL1z4I+QDxebAm+zd8/UAAx3C3y0z90ur1MDuE3QA==",
          "dtype": "f8"
         },
         "theta": [
          "Class",
          "Age",
          "Siblings",
          "Parents",
          "Fare"
         ],
         "type": "scatterpolar"
        },
        {
         "fill": "toself",
         "line": {
          "color": "#4ecdc4"
         },
         "name": "Survived",
         "r": {
          "bdata": "TEEHj7oUAEACE8ozW+48QAkBOT+VEOA/HAOrvb8x4D+vXZ4j32dIQA==",
          "dtype": "f8"
         },
         "theta": [
          "Class",
          "Age",
          "Siblings",
          "Parents",
          "Fare"
         ],
         "type": "scatterpolar"
        }
       ],
       "layout": {
        "height": 600,
        "polar": {
         "radialaxis": {
          "range": [
           0,
           48.8114971659919
          ],
          "visible": true
         }
        },
        "showlegend": true,
        "template": {
         "data": {
          "bar": [
           {
            "error_x": {
             "color": "#2a3f5f"
            },
            "error_y": {
             "color": "#2a3f5f"
            },
            "marker": {
             "line": {
              "color": "#E5ECF6",
              "width": 0.5
             },
             "pattern": {
              "fillmode": "overlay",
              "size": 10,
              "solidity": 0.2
             }
            },
            "type": "bar"
           }
          ],
          "barpolar": [
           {
            "marker": {
             "line": {
              "color": "#E5ECF6",
              "width": 0.5
             },
             "pattern": {
              "fillmode": "overlay",
              "size": 10,
              "solidity": 0.2
             }
            },
            "type": "barpolar"
           }
          ],
          "carpet": [
           {
            "aaxis": {
             "endlinecolor": "#2a3f5f",
             "gridcolor": "white",
             "linecolor": "white",
             "minorgridcolor": "white",
             "startlinecolor": "#2a3f5f"
            },
            "baxis": {
             "endlinecolor": "#2a3f5f",
             "gridcolor": "white",
             "linecolor": "white",
             "minorgridcolor": "white",
             "startlinecolor": "#2a3f5f"
            },
            "type": "carpet"
           }
          ],
          "choropleth": [
           {
            "colorbar": {
             "outlinewidth": 0,
             "ticks": ""
            },
            "type": "choropleth"
           }
          ],
          "contour": [
           {
            "colorbar": {
             "outlinewidth": 0,
             "ticks": ""
            },
            "colorscale": [
             [
              0,
              "#0d0887"
             ],
             [
              0.1111111111111111,
              "#46039f"
             ],
             [
              0.2222222222222222,
              "#7201a8"
             ],
             [
              0.3333333333333333,
              "#9c179e"
             ],
             [
              0.4444444444444444,
              "#bd3786"
             ],
             [
              0.5555555555555556,
              "#d8576b"
             ],
             [
              0.6666666666666666,
              "#ed7953"
             ],
             [
              0.7777777777777778,
              "#fb9f3a"
             ],
             [
              0.8888888888888888,
              "#fdca26"
             ],
             [
              1,
              "#f0f921"
             ]
            ],
            "type": "contour"
           }
          ],
          "contourcarpet": [
           {
            "colorbar": {
             "outlinewidth": 0,
             "ticks": ""
            },
            "type": "contourcarpet"
           }
          ],
          "heatmap": [
           {
            "colorbar": {
             "outlinewidth": 0,
             "ticks": ""
            },
            "colorscale": [
             [
              0,
              "#0d0887"
             ],
             [
              0.1111111111111111,
              "#46039f"
             ],
             [
              0.2222222222222222,
              "#7201a8"
             ],
             [
              0.3333333333333333,
              "#9c179e"
             ],
             [
              0.4444444444444444,
              "#bd3786"
             ],
             [
              0.5555555555555556,
              "#d8576b"
             ],
             [
              0.6666666666666666,
              "#ed7953"
             ],
             [
              0.7777777777777778,
              "#fb9f3a"
             ],
             [
              0.8888888888888888,
              "#fdca26"
             ],
             [
              1,
              "#f0f921"
             ]
            ],
            "type": "heatmap"
           }
          ],
          "histogram": [
           {
            "marker": {
             "pattern": {
              "fillmode": "overlay",
              "size": 10,
              "solidity": 0.2
             }
            },
            "type": "histogram"
           }
          ],
          "histogram2d": [
           {
            "colorbar": {
             "outlinewidth": 0,
             "ticks": ""
            },
            "colorscale": [
             [
              0,
              "#0d0887"
             ],
             [
              0.1111111111111111,
              "#46039f"
             ],
             [
              0.2222222222222222,
              "#7201a8"
             ],
             [
              0.3333333333333333,
              "#9c179e"
             ],
             [
              0.4444444444444444,
              "#bd3786"
             ],
             [
              0.5555555555555556,
              "#d8576b"
             ],
             [
              0.6666666666666666,
              "#ed7953"
             ],
             [
              0.7777777777777778,
              "#fb9f3a"
             ],
             [
              0.8888888888888888,
              "#fdca26"
             ],
             [
              1,
              "#f0f921"
             ]
            ],
            "type": "histogram2d"
           }
          ],
          "histogram2dcontour": [
           {
            "colorbar": {
             "outlinewidth": 0,
             "ticks": ""
            },
            "colorscale": [
             [
              0,
              "#0d0887"
             ],
             [
              0.1111111111111111,
              "#46039f"
             ],
             [
              0.2222222222222222,
              "#7201a8"
             ],
             [
              0.3333333333333333,
              "#9c179e"
             ],
             [
              0.4444444444444444,
              "#bd3786"
             ],
             [
              0.5555555555555556,
              "#d8576b"
             ],
             [
              0.6666666666666666,
              "#ed7953"
             ],
             [
              0.7777777777777778,
              "#fb9f3a"
             ],
             [
              0.8888888888888888,
              "#fdca26"
             ],
             [
              1,
              "#f0f921"
             ]
            ],
            "type": "histogram2dcontour"
           }
          ],
          "mesh3d": [
           {
            "colorbar": {
             "outlinewidth": 0,
             "ticks": ""
            },
            "type": "mesh3d"
           }
          ],
          "parcoords": [
           {
            "line": {
             "colorbar": {
              "outlinewidth": 0,
              "ticks": ""
             }
            },
            "type": "parcoords"
           }
          ],
          "pie": [
           {
            "automargin": true,
            "type": "pie"
           }
          ],
          "scatter": [
           {
            "fillpattern": {
             "fillmode": "overlay",
             "size": 10,
             "solidity": 0.2
            },
            "type": "scatter"
           }
          ],
          "scatter3d": [
           {
            "line": {
             "colorbar": {
              "outlinewidth": 0,
              "ticks": ""
             }
            },
            "marker": {
             "colorbar": {
              "outlinewidth": 0,
              "ticks": ""
             }
            },
            "type": "scatter3d"
           }
          ],
          "scattercarpet": [
           {
            "marker": {
             "colorbar": {
              "outlinewidth": 0,
              "ticks": ""
             }
            },
            "type": "scattercarpet"
           }
          ],
          "scattergeo": [
           {
            "marker": {
             "colorbar": {
              "outlinewidth": 0,
              "ticks": ""
             }
            },
            "type": "scattergeo"
           }
          ],
          "scattergl": [
           {
            "marker": {
             "colorbar": {
              "outlinewidth": 0,
              "ticks": ""
             }
            },
            "type": "scattergl"
           }
          ],
          "scattermap": [
           {
            "marker": {
             "colorbar": {
              "outlinewidth": 0,
              "ticks": ""
             }
            },
            "type": "scattermap"
           }
          ],
          "scattermapbox": [
           {
            "marker": {
             "colorbar": {
              "outlinewidth": 0,
              "ticks": ""
             }
            },
            "type": "scattermapbox"
           }
          ],
          "scatterpolar": [
           {
            "marker": {
             "colorbar": {
              "outlinewidth": 0,
              "ticks": ""
             }
            },
            "type": "scatterpolar"
           }
          ],
          "scatterpolargl": [
           {
            "marker": {
             "colorbar": {
              "outlinewidth": 0,
              "ticks": ""
             }
            },
            "type": "scatterpolargl"
           }
          ],
          "scatterternary": [
           {
            "marker": {
             "colorbar": {
              "outlinewidth": 0,
              "ticks": ""
             }
            },
            "type": "scatterternary"
           }
          ],
          "surface": [
           {
            "colorbar": {
             "outlinewidth": 0,
             "ticks": ""
            },
            "colorscale": [
             [
              0,
              "#0d0887"
             ],
             [
              0.1111111111111111,
              "#46039f"
             ],
             [
              0.2222222222222222,
              "#7201a8"
             ],
             [
              0.3333333333333333,
              "#9c179e"
             ],
             [
              0.4444444444444444,
              "#bd3786"
             ],
             [
              0.5555555555555556,
              "#d8576b"
             ],
             [
              0.6666666666666666,
              "#ed7953"
             ],
             [
              0.7777777777777778,
              "#fb9f3a"
             ],
             [
              0.8888888888888888,
              "#fdca26"
             ],
             [
              1,
              "#f0f921"
             ]
            ],
            "type": "surface"
           }
          ],
          "table": [
           {
            "cells": {
             "fill": {
              "color": "#EBF0F8"
             },
             "line": {
              "color": "white"
             }
            },
            "header": {
             "fill": {
              "color": "#C8D4E3"
             },
             "line": {
              "color": "white"
             }
            },
            "type": "table"
           }
          ]
         },
         "layout": {
          "annotationdefaults": {
           "arrowcolor": "#2a3f5f",
           "arrowhead": 0,
           "arrowwidth": 1
          },
          "autotypenumbers": "strict",
          "coloraxis": {
           "colorbar": {
            "outlinewidth": 0,
            "ticks": ""
           }
          },
          "colorscale": {
           "diverging": [
            [
             0,
             "#8e0152"
            ],
            [
             0.1,
             "#c51b7d"
            ],
            [
             0.2,
             "#de77ae"
            ],
            [
             0.3,
             "#f1b6da"
            ],
            [
             0.4,
             "#fde0ef"
            ],
            [
             0.5,
             "#f7f7f7"
            ],
            [
             0.6,
             "#e6f5d0"
            ],
            [
             0.7,
             "#b8e186"
            ],
            [
             0.8,
             "#7fbc41"
            ],
            [
             0.9,
             "#4d9221"
            ],
            [
             1,
             "#276419"
            ]
           ],
           "sequential": [
            [
             0,
             "#0d0887"
            ],
            [
             0.1111111111111111,
             "#46039f"
            ],
            [
             0.2222222222222222,
             "#7201a8"
            ],
            [
             0.3333333333333333,
             "#9c179e"
            ],
            [
             0.4444444444444444,
             "#bd3786"
            ],
            [
             0.5555555555555556,
             "#d8576b"
            ],
            [
             0.6666666666666666,
             "#ed7953"
            ],
            [
             0.7777777777777778,
             "#fb9f3a"
            ],
            [
             0.8888888888888888,
             "#fdca26"
            ],
            [
             1,
             "#f0f921"
            ]
           ],
           "sequentialminus": [
            [
             0,
             "#0d0887"
            ],
            [
             0.1111111111111111,
             "#46039f"
            ],
            [
             0.2222222222222222,
             "#7201a8"
            ],
            [
             0.3333333333333333,
             "#9c179e"
            ],
            [
             0.4444444444444444,
             "#bd3786"
            ],
            [
             0.5555555555555556,
             "#d8576b"
            ],
            [
             0.6666666666666666,
             "#ed7953"
            ],
            [
             0.7777777777777778,
             "#fb9f3a"
            ],
            [
             0.8888888888888888,
             "#fdca26"
            ],
            [
             1,
             "#f0f921"
            ]
           ]
          },
          "colorway": [
           "#636efa",
           "#EF553B",
           "#00cc96",
           "#ab63fa",
           "#FFA15A",
           "#19d3f3",
           "#FF6692",
           "#B6E880",
           "#FF97FF",
           "#FECB52"
          ],
          "font": {
           "color": "#2a3f5f"
          },
          "geo": {
           "bgcolor": "white",
           "lakecolor": "white",
           "landcolor": "#E5ECF6",
           "showlakes": true,
           "showland": true,
           "subunitcolor": "white"
          },
          "hoverlabel": {
           "align": "left"
          },
          "hovermode": "closest",
          "mapbox": {
           "style": "light"
          },
          "paper_bgcolor": "white",
          "plot_bgcolor": "#E5ECF6",
          "polar": {
           "angularaxis": {
            "gridcolor": "white",
            "linecolor": "white",
            "ticks": ""
           },
           "bgcolor": "#E5ECF6",
           "radialaxis": {
            "gridcolor": "white",
            "linecolor": "white",
            "ticks": ""
           }
          },
          "scene": {
           "xaxis": {
            "backgroundcolor": "#E5ECF6",
            "gridcolor": "white",
            "gridwidth": 2,
            "linecolor": "white",
            "showbackground": true,
            "ticks": "",
            "zerolinecolor": "white"
           },
           "yaxis": {
            "backgroundcolor": "#E5ECF6",
            "gridcolor": "white",
            "gridwidth": 2,
            "linecolor": "white",
            "showbackground": true,
            "ticks": "",
            "zerolinecolor": "white"
           },
           "zaxis": {
            "backgroundcolor": "#E5ECF6",
            "gridcolor": "white",
            "gridwidth": 2,
            "linecolor": "white",
            "showbackground": true,
            "ticks": "",
            "zerolinecolor": "white"
           }
          },
          "shapedefaults": {
           "line": {
            "color": "#2a3f5f"
           }
          },
          "ternary": {
           "aaxis": {
            "gridcolor": "white",
            "linecolor": "white",
            "ticks": ""
           },
           "baxis": {
            "gridcolor": "white",
            "linecolor": "white",
            "ticks": ""
           },
           "bgcolor": "#E5ECF6",
           "caxis": {
            "gridcolor": "white",
            "linecolor": "white",
            "ticks": ""
           }
          },
          "title": {
           "x": 0.05
          },
          "xaxis": {
           "automargin": true,
           "gridcolor": "white",
           "linecolor": "white",
           "ticks": "",
           "title": {
            "standoff": 15
           },
           "zerolinecolor": "white",
           "zerolinewidth": 2
          },
          "yaxis": {
           "automargin": true,
           "gridcolor": "white",
           "linecolor": "white",
           "ticks": "",
           "title": {
            "standoff": 15
           },
           "zerolinecolor": "white",
           "zerolinewidth": 2
          }
         }
        },
        "title": {
         "font": {
          "family": "Arial",
          "size": 18
         },
         "text": "<b>Radar Chart: Feature Comparison by Survival</b>"
        },
        "width": 800
       }
      }
     },
     "metadata": {},
     "output_type": "display_data"
    }
   ],
   "source": [
    "import plotly.graph_objects as go\n",
    "\n",
    "# Calculate average features by survival\n",
    "radar_df = full_df.groupby('Survived')[['Pclass', 'Age', 'SibSp', 'Parch', 'Fare']].mean().reset_index()\n",
    "\n",
    "fig = go.Figure()\n",
    "\n",
    "for survived in [0, 1]:\n",
    "    fig.add_trace(go.Scatterpolar(\n",
    "        r=radar_df[radar_df['Survived'] == survived].values[0][1:],\n",
    "        theta=['Class', 'Age', 'Siblings', 'Parents', 'Fare'],\n",
    "        fill='toself',\n",
    "        name='Survived' if survived else 'Perished',\n",
    "        line_color='#4ecdc4' if survived else '#ff6b6b'\n",
    "    ))\n",
    "\n",
    "fig.update_layout(\n",
    "    polar=dict(\n",
    "        radialaxis=dict(\n",
    "            visible=True,\n",
    "            range=[0, max(radar_df.max())]\n",
    "        )),\n",
    "    showlegend=True,\n",
    "    title='<b>Radar Chart: Feature Comparison by Survival</b>',\n",
    "    title_font=dict(size=18, family='Arial'),\n",
    "    width=800,\n",
    "    height=600\n",
    ")\n",
    "\n",
    "fig.show()"
   ]
  },
  {
   "cell_type": "markdown",
   "id": "8906e5e9",
   "metadata": {},
   "source": [
    "10. Enhanced Parallel Coordinates Plot"
   ]
  },
  {
   "cell_type": "code",
   "execution_count": 63,
   "id": "90604a87",
   "metadata": {},
   "outputs": [
    {
     "data": {
      "application/vnd.plotly.v1+json": {
       "config": {
        "plotlyServerURL": "https://plot.ly"
       },
       "data": [
        {
         "dimensions": [
          {
           "label": "Survival",
           "values": {
            "bdata": "AAEBAQAAAAEBAQEAAAABAAAAAQEBAAEAAAAAAAAAAQAAAQEAAAABAQABAAEAAAEAAAEAAQAAAAAAAQABAQABAAEBAAEAAAAAAAAAAQEAAAAAAAABAAAAAAAAAAAAAAAAAAEAAQEAAAAAAQAAAQAAAAEBAAAAAQAAAAABAAAAAQAAAQAAAAEAAAAAAQAAAAAAAAABAQEAAAEAAQEBAQAAAAAAAQAAAQEBAAEAAAEBAAEAAQAAAQABAAABAAABAAABAAAAAAAAAAEBAAAAAAABAQEBAQAAAAABAQEBAQABAAABAAAAAQABAAEBAQEAAAAAAAEAAQEAAQEBAAAAAQEAAQEAAAEBAQABAQEAAAAAAQEAAQEAAAABAQEAAAAAAAEAAAAAAAABAQEAAAAAAQAAAAEBAAEAAAEBAQEAAQEAAAAAAQEAAAAAAAABAAEBAQEAAAAAAAABAQEBAQAAAQABAAABAAABAQEBAQEAAAEBAAEBAAAAAAABAAEBAAAAAAEAAAEBAQAAAQAAAAABAAAAAAABAAEAAQEBAQAAAQEAAQABAAEAAAEAAAEAAQEBAAABAAABAAEBAAEBAAEBAQAAAAAAAQEBAQAAAQEBAQEAAAEAAQAAAQAAAAABAQABAAABAQEAAAEAAAEAAAEBAAAAAAEAAQABAAEAAAAAAQABAQABAQEAAAAAAAABAAAAAQAAAAEAAAEAAAEAAQEAAAAAAAAAAQEBAAAAAAAAAQEAAAAAAQEBAQEAAAABAQABAAAAAQABAAABAAAAAAABAAEAAQAAAQAAAQEAAAEBAAAAAQABAQABAAAAAAABAAEBAQEAAAABAAEAAAAAAQEAAAABAQEBAAAAAAEAAAAAAAAAAAABAQABAAEBAQEAAAEAAQAAAQAAAAAAAAAAAQABAQEBAAABAAEBAAEAAQAAAQEAAAEBAAAAAAAAAQEAAAEAAAEAAQABAAABAAEBAAABAQAAAAEAAQAAAAABAAABAAAAAQEAAAEBAAABAQAAAAEAAAABAAEAAAEBAAEAAQABAAEAAAABAQABAQAAAQABAAEAAAEAAAAAAQEBAAEAAQEBAAEAAAAAAAAAAAABAAEBAAAAAAAAAQEAAAEBAAEAAQABAAABAAAAAQEAAQEAAAEBAAEAAAAAAAAAAAEAAAABAAEAAQAAAAEBAAABAQABAAEAAAAAAQAAAAAAAQEBAQAAAQABAQAAAAAAAQAAAAEBAAAAAQEAAAAAAQABAQAAAQAAAAEAAAAAAAEAAAABAAABAQEAAAAAAAAAAAEAAQAAAAEAAQAAAAAAAAABAQABAAEBAAAAAQABAQABAQABAQEAAAEAAAEBAQAAAAABAQAAAAAAAQAAAAEAAQAAAQABAAAAAAABAQEBAA==",
            "dtype": "i1"
           }
          },
          {
           "label": "Class",
           "values": {
            "bdata": "AwEDAQMBAwMCAwEDAwMCAwMCAgMBAwMBAQIBAQMDAwMCAgMDAwMBAgECAwIDAwEBAwIDAwMCAwIDAwMCAwMDAQIDAwEDAwMBAwMBAQICAwEDAwMDAwEDAwMDAwMCAQMCAgIBAwMDAwMDAgICAQEDAQMDAwICAwMCAgIBAwMBAwMDAgMDAwMDAwEDAwMBAwECAwMCAwEDAwICAwIBAQMCAwMDAwMDAwMBAwIDAgEDAgECAwIDAQMCAwIBAwIDAgICAgICAwMBAwIBAgMBAwMDAQECAwEBAgMDAQEDAgEBAwMDAwMDAwMDAwIDAQECAwMDAQEDAQECAQEBAgMCAwICAQEDAwICAQMCAwEBAQMBAQMBAgECAgICAgMDAwMDAwECAwIDAwMBAQEDAwEDAwEDAwEDAwECAwICAQMDAQMDAwICAgMDAwMDAgMCAwEDAgICAwMDAwMCAgMBAgMBAQMCAQICAwMCAQIBAwECAQEDAQIBAwECAwEDAwICAwIDAwMDAwMBAQEDAwMBAQMBAQMDAwMBAQIDAwMBAQMBAgIDAQMBAwIDAgIDAwIBAQEBAwMCAQECAwIBAgMDAQEBAwMCAwMDAwIBAQMDAgEDAgECAQECAQMDAQMCAwMBAgMBAwMBAgEDAwIDAwICAwEDAwMBAgEDAQMBAwIDAgMDAQMDAQMBAwIDAwIDAgEBAwEDAwICAwIBAgIDAwMDAQEDAwICAwMDAQEDAwECAwEDAQEDAwMCAgEBAQEDAgMBAgMCAwICAQMCAgMBAwICAwMBAQEDAwEDAgEDAgMDAwICAwIDAQMDAQMBAwMDAwICAwMBAwEBAwMDAwMBAgMCAQMDAwICAQMDAwEDAgEDAwIDAwMCAwMBAwEDAwIBAwIDAwEDAwMCAQMDAwMCAwMDAQIDAQEDAwIBAgICAQMDAQEDAgMDAwECAwMCAwMCAQEDAwMCAwMDAwIDAwEBAgECAgMDAwEDAQEDAQMBAgIDAQMDAwMDAgEDAQEDAQICAQMDAwEDAgMDAQMBAQEDAwMBAQEBAgMDAQEDAwIDAQEDAQMDAwECAwMDAwICAQMBAwMBAgIBAwMDAgMDAQMDAwIDAwMBAQIBAwMCAQMDAwEDAQMDAgIDAQMDAwMDAgIBAgECAQEBAgIDAgIDAgIDAQMCAwECAgMCAQMDAgIDAQEBAgMCAwEDAwICAQMBAwEDAgEBAgEBAgICAgMBAwMDAgMDAwIDAgMBAQICAgICAwMDAwMBAwEDAwIBAwMCAwEBAwEDAwMDAQMBAgMCAwMCAQEDAgECAgIBAwMBAgMCAgMBAwIDAgIBAgICAwEBAwMCAgMBAwECAgEBAgEBAwIBAwMDAgMCAwMBAQMCAwEDAQMDAQIBAQECAgEDAQMBAw==",
            "dtype": "i1"
           }
          },
          {
           "label": "Age",
           "values": {
            "bdata": "AAAAAAAANkAAAAAAAABDQAAAAAAAADpAAAAAAACAQUAAAAAAAIBBQAAAAAAAAEtAAAAAAAAAAEAAAAAAAAA7QAAAAAAAACxAAAAAAAAAEEAAAAAAAABNQAAAAAAAADRAAAAAAACAQ0AAAAAAAAAsQAAAAAAAgEtAAAAAAAAAAEAAAAAAAAA/QAAAAAAAgEFAAAAAAAAAQUAAAAAAAAAuQAAAAAAAADxAAAAAAAAAIEAAAAAAAABDQAAAAAAAADNAAAAAAAAAREAAAAAAAIBQQAAAAAAAADxAAAAAAAAARUAAAAAAAAA1QAAAAAAAADJAAAAAAAAALEAAAAAAAABEQAAAAAAAADtAAAAAAAAACEAAAAAAAAAzQAAAAAAAADJAAAAAAAAAHEAAAAAAAAA1QAAAAAAAgEhAAAAAAAAAPUAAAAAAAEBQQAAAAAAAADVAAAAAAACAPEAAAAAAAAAUQAAAAAAAACZAAAAAAAAANkAAAAAAAABDQAAAAAAAgEZAAAAAAAAAEEAAAAAAAAA9QAAAAAAAADNAAAAAAAAAMUAAAAAAAAA6QAAAAAAAAEBAAAAAAAAAMEAAAAAAAAA1QAAAAAAAADpAAAAAAAAAQEAAAAAAAAA5QI/C9Shcj+o/AAAAAAAAPkAAAAAAAAA2QAAAAAAAAD1AAAAAAAAAPEAAAAAAAAAxQAAAAAAAgEBAAAAAAAAAMEAAAAAAAAA3QAAAAAAAADhAAAAAAAAAPUAAAAAAAAA0QAAAAAAAAEdAAAAAAAAAOkAAAAAAAIBNQAAAAAAAwFFAAAAAAAAAN0AAAAAAAABBQAAAAAAAAEFAAAAAAAAAPEAAAAAAAAA1QAAAAAAAgEBAAAAAAACAQkAAAAAAAAA8QAAAAAAAADVAAAAAAAAAQ0AAAAAAAIBHQAAAAAAAAC1AAAAAAAAANkAAAAAAAAA0QAAAAAAAADFAAAAAAAAANUAAAAAAAKBRQAAAAAAAAD1AAAAAAAAAOEAAAAAAAAAAQAAAAAAAADVAAAAAAABAQEAAAAAAAEBAQAAAAAAAAEtAAAAAAAAAKEAAAAAAAAA4QAAAAAAAgEZAAAAAAACAQEAAAAAAAAA0QAAAAAAAgEdAAAAAAAAAPUAAAAAAAAA5QAAAAAAAADdAAAAAAAAAM0AAAAAAAIBCQAAAAAAAADBAAAAAAAAAOEAAAAAAAAA2QAAAAAAAADhAAAAAAAAAM0AAAAAAAAAyQAAAAAAAADNAAAAAAAAAO0AAAAAAAAAiQAAAAAAAQEJAAAAAAAAARUAAAAAAAIBJQAAAAAAAADZAAAAAAADAS0AAAAAAAEBEQAAAAAAAgElAAAAAAAAAMEAAAAAAAAA+QAAAAAAAAEZAAAAAAAAAREAAAAAAAAA6QAAAAAAAADFAAAAAAAAA8D8AAAAAAAAiQAAAAAAAgEZAAAAAAAAAPEAAAAAAAIBOQAAAAAAAABBAAAAAAAAA8D8AAAAAAAA1QAAAAAAAAExAAAAAAAAAMkAAAAAAAABJQAAAAAAAAD5AAAAAAAAAQkAAAAAAAAAiQAAAAAAAAPA/AAAAAAAAEEAAAAAAAIBGQAAAAAAAAERAAAAAAAAAQkAAAAAAAABAQAAAAAAAADNAAAAAAAAAM0AAAAAAAAAIQAAAAAAAAEZAAAAAAAAATUAAAAAAAABFQAAAAAAAADhAAAAAAAAAPEAAAAAAAABBQAAAAAAAwEZAAAAAAAAAMkAAAAAAAAAAQAAAAAAAAEBAAAAAAAAAOkAAAAAAAAAwQAAAAAAAAERAAAAAAAAAOEAAAAAAAIBBQAAAAAAAADZAAAAAAAAAPkAAAAAAAAA/QAAAAAAAADtAAAAAAAAARUAAAAAAAABAQAAAAAAAAD5AAAAAAAAAMEAAAAAAAAA7QAAAAAAAgElAAAAAAAAAQ0AAAAAAAAA2QAAAAAAAADNAAAAAAACANEAAAAAAAAAyQAAAAAAAgEFAAAAAAAAAPUAAAAAAAIBNQAAAAAAAABRAAAAAAAAAOEAAAAAAAABGQAAAAAAAACBAAAAAAAAAM0AAAAAAAIBAQAAAAAAAAD1AAAAAAAAANkAAAAAAAAA+QAAAAAAAAEZAAAAAAAAAOUAAAAAAAAA4QAAAAAAAgEJAAAAAAAAAS0AAAAAAAAA9QAAAAAAAAE9AAAAAAAAAPkAAAAAAAIBEQAAAAAAAAD1AAAAAAAAAPkAAAAAAAIBBQAAAAAAAAElAAAAAAAAACEAAAAAAAABKQAAAAAAAAERAAAAAAAAAQkAAAAAAAAAwQAAAAAAAADlAAAAAAAAATUAAAAAAAIBBQAAAAAAAADlAAAAAAACAREAAAAAAAIBCQAAAAAAAgE9AAAAAAACARkAAAAAAAAAcQAAAAAAAgEFAAAAAAABAUEAAAAAAAAA8QAAAAAAAADBAAAAAAAAAM0AAAAAAAIBAQAAAAAAAAD5AAAAAAAAANkAAAAAAAABFQAAAAAAAADZAAAAAAAAAOkAAAAAAAAAzQAAAAAAAAEJAAAAAAAAAOEAAAAAAAAA4QAAAAAAAgDdAAAAAAAAAAEAAAAAAAABJQAAAAAAAADNAcT0K16Nw7T8AAAAAAAAxQAAAAAAAAD5AAAAAAAAAPkAAAAAAAAA4QAAAAAAAADJAAAAAAAAAOkAAAAAAAAA8QAAAAAAAgEVAAAAAAAAAOkAAAAAAAAA4QAAAAAAAAEtAAAAAAAAAP0AAAAAAAABEQAAAAAAAADZAAAAAAAAAO0AAAAAAAAA+QAAAAAAAADZAAAAAAAAAQkAAAAAAAIBOQAAAAAAAAEJAAAAAAAAAP0AAAAAAAAAwQAAAAAAAwEZAAAAAAAAAQ0AAAAAAAAAwQAAAAAAAAD1AAAAAAACAREAAAAAAAIBGQAAAAAAAgEZAAAAAAAAAAEAAAAAAAAA4QAAAAAAAADxAAAAAAAAAOUAAAAAAAABCQAAAAAAAADhAAAAAAAAAREAAAAAAAAAIQAAAAAAAAEVAAAAAAAAAN0AAAAAAAAAuQAAAAAAAADlAAAAAAAAAPEAAAAAAAAA2QAAAAAAAAENAAAAAAAAAREAAAAAAAAA9QAAAAAAAgEZAAAAAAACAQUAAAAAAAAA+QAAAAAAAAE5AAAAAAAAAOEAAAAAAAAA5QAAAAAAAADJAAAAAAAAAM0AAAAAAAAA2QAAAAAAAAAhAAAAAAAAANkAAAAAAAAA7QAAAAAAAADRAAAAAAAAAM0AAAAAAAABFQAAAAAAAAPA/AAAAAAAAQEAAAAAAAIBBQAAAAAAAADJAAAAAAAAA8D8AAAAAAABCQAAAAAAAADFAAAAAAAAAQkAAAAAAAAA1QAAAAAAAADxAAAAAAAAAN0AAAAAAAAA4QAAAAAAAADZAAAAAAAAAP0AAAAAAAABHQAAAAAAAADdAAAAAAAAAPEAAAAAAAIBDQAAAAAAAADpAAAAAAAAANUAAAAAAAAA8QAAAAAAAADRAAAAAAAAAQUAAAAAAAIBJQAAAAAAAAAhAAAAAAAAANUAAAAAAAIBAQAAAAAAAAEZAAAAAAAAAQUAAAAAAAAAyQAAAAAAAAD5AAAAAAAAAJEAAAAAAAAA1QAAAAAAAAD1AAAAAAAAAPEAAAAAAAAAyQAAAAAAAADxAAAAAAAAAM0AAAAAAAABAQAAAAAAAADxAAAAAAAAARUAAAAAAAAAxQAAAAAAAAElAAAAAAAAALEAAAAAAAAA1QAAAAAAAADhAAAAAAAAAUEAAAAAAAAA/QAAAAAAAgEZAAAAAAAAANEAAAAAAAAA5QAAAAAAAADxAAAAAAAAAEEAAAAAAAAAqQAAAAAAAAEFAAAAAAAAAFEAAAAAAAABKQAAAAAAAAEJAAAAAAAAAPkAAAAAAAIBIQAAAAAAAAD1AAAAAAABAUEAAAAAAAABJQAAAAAAAAEhAAAAAAAAAQUAAAAAAAIBHQAAAAAAAAEhAAAAAAAAAQ0AAAAAAAABMQAAAAAAAAOg/AAAAAAAAQ0AAAAAAAIBAQAAAAAAAADdAAAAAAAAANkAAAAAAAABBQAAAAAAAAD1AAAAAAAAANkAAAAAAAAAAQAAAAAAAACJAAAAAAAAASUAAAAAAAIBPQAAAAAAAADlAAAAAAACAQUAAAAAAAABNQAAAAAAAAD5AAAAAAAAAIkAAAAAAAAA1QAAAAAAAgEtAAAAAAADAUUAAAAAAAAA1QAAAAAAAAEtAAAAAAAAAOUAAAAAAAAA4QAAAAAAAADFAAAAAAAAANUAAAAAAAIBCQAAAAAAAADBAAAAAAAAAMkAAAAAAAIBAQAAAAAAAADxAAAAAAAAAOkAAAAAAAAA9QAAAAAAAAEJAAAAAAAAAS0AAAAAAAAA4QAAAAAAAgEdAAAAAAAAAQUAAAAAAAABCQAAAAAAAAEBAAAAAAAAAPkAAAAAAAAA2QAAAAAAAAEZAAAAAAABAREAAAAAAAABJQAAAAAAAgENAAAAAAAAAN0AAAAAAAAAAQAAAAAAAADFAAAAAAAAAPkAAAAAAAAAcQAAAAAAAgEZAAAAAAAAAPkAAAAAAAAA2QAAAAAAAAEJAAAAAAAAAIkAAAAAAAAAmQAAAAAAAAEBAAAAAAAAASUAAAAAAAABQQAAAAAAAADNAAAAAAACAQEAAAAAAAAAgQAAAAAAAADFAAAAAAAAAO0AAAAAAAAA2QAAAAAAAADZAAAAAAAAAT0AAAAAAAABIQAAAAAAAgENAAAAAAAAAQkAAAAAAAABEQAAAAAAAADxAAAAAAAAAOEAAAAAAAAAzQAAAAAAAAD1AAAAAAAAAQEAAAAAAAABPQAAAAAAAgEpAAAAAAAAAQkAAAAAAAAAwQAAAAAAAADNAAAAAAAAAQUAAAAAAAIBDQAAAAAAAAEBAAAAAAAAAOUAAAAAAAIBDQAAAAAAAAEtAAAAAAAAAQkAAAAAAAAAyQAAAAAAAgEdAAAAAAAAATkAAAAAAAAA2QAAAAAAAgEFAAAAAAAAASkAAAAAAAIBHQAAAAAAAgEJAAAAAAAAAQkAAAAAAAIBIQAAAAAAAgEhAAAAAAAAAOEAAAAAAAABGQAAAAAAAgEFAAAAAAAAAQkAAAAAAAAA+QAAAAAAAADtAAAAAAAAANkAAAAAAAABEQAAAAAAAgENAAAAAAACAQUAAAAAAAAA4QAAAAAAAAEFAAAAAAAAAOkAAAAAAAAAQQAAAAAAAADpAAAAAAAAAO0AAAAAAAABFQAAAAAAAADRAAAAAAAAANUAAAAAAAAA1QAAAAAAAgE5AAAAAAACATEAAAAAAAAA1QAAAAAAAADpAAAAAAAAAVEAAAAAAAIBJQAAAAAAAAEBAAAAAAAAAIkAAAAAAAAA8QAAAAAAAAEBAAAAAAAAAP0AAAAAAAIBEQAAAAAAAADRAAAAAAAAAOEAAAAAAAAAAQAAAAAAAAOg/AAAAAAAASEAAAAAAAAAzQAAAAAAAAExAAAAAAAAAN0AAAAAAAAAyQAAAAAAAADVAAAAAAAAAMkAAAAAAAAA4QAAAAAAAAEBAAAAAAAAAN0AAAAAAAABNQAAAAAAAAElAAAAAAAAAREAAAAAAAIBHQAAAAAAAAEJAAAAAAAAANEAAAAAAAABAQAAAAAAAADlAAAAAAACARUAAAAAAAABEQAAAAAAAAD9AAAAAAACAUUAAAAAAAAA/QAAAAAAAADJAAAAAAACAOEAAAAAAAAAyQAAAAAAAgEVAAAAAAAAAQkAAAAAAAAA7QAAAAAAAADRAAAAAAAAALEAAAAAAAABOQAAAAAAAADlAAAAAAAAALEAAAAAAAAAzQAAAAAAAADJAAAAAAAAALkAAAAAAAAA/QAAAAAAAABBAAAAAAAAAOUAAAAAAAABOQAAAAAAAAEpAAAAAAAAARkAAAAAAAIBIQAAAAAAAAEVAAAAAAAAAMkAAAAAAAIBBQAAAAAAAADJAAAAAAAAAOUAAAAAAAAA6QAAAAAAAgENAAAAAAACARkAAAAAAAABFQAAAAAAAADZAAAAAAAAAOEAAAAAAAABIQAAAAAAAAD1AAAAAAAAASkAAAAAAAAAzQAAAAAAAAENAAAAAAAAAO0AAAAAAAIBAQAAAAAAAABhAAAAAAAAAMUAAAAAAAABBQAAAAAAAAElAAAAAAAAAO0AAAAAAAAA0QAAAAAAAAD5AAAAAAAAAOUAAAAAAAAA5QAAAAAAAAD1AAAAAAAAAJkAAAAAAAAA3QAAAAAAAADdAAAAAAACAPEAAAAAAAABIQAAAAAAAgEFAAAAAAAAAQkAAAAAAAAA1QAAAAAAAADhAAAAAAAAAP0AAAAAAAIBRQAAAAAAAADBAAAAAAAAAPkAAAAAAAAAzQAAAAAAAAD9AAAAAAAAAEEAAAAAAAAAYQAAAAAAAgEBAAAAAAAAAN0AAAAAAAABIQHE9CtejcOU/AAAAAAAAPEAAAAAAAAAyQAAAAAAAAEFAAAAAAACAQEAAAAAAAIBEQAAAAAAAADRAAAAAAAAAQkAAAAAAAAAwQAAAAAAAgElAAAAAAACAPkAAAAAAAABAQAAAAAAAADhAAAAAAAAASEAAAAAAAIBMQAAAAAAAAEtAAAAAAAAAMkAAAAAAAAAUQAAAAAAAgEVAAAAAAAAAKkAAAAAAAAAxQAAAAAAAAD1AAAAAAAAAOUAAAAAAAAA5QAAAAAAAADJAAAAAAAAAIEAAAAAAAADwPwAAAAAAAEdAAAAAAAAAMEAAAAAAAAA5QAAAAAAAgENAAAAAAACASEAAAAAAAAA/QAAAAAAAAD5AAAAAAAAAPkAAAAAAAABBQAAAAAAAAD9AAAAAAAAAJkDhehSuR+HaPwAAAAAAADtAAAAAAAAAP0AAAAAAAIBDQAAAAAAAADJAAAAAAACAQ0AAAAAAAIBAQAAAAAAAADpAAAAAAACAQ0AAAAAAAIBBQAAAAAAAABhAAAAAAACAPkAAAAAAAAA3QAAAAAAAAD9AAAAAAACARUAAAAAAAAAkQAAAAAAAAEpAAAAAAAAAO0AAAAAAAABDQAAAAAAAADtAAAAAAAAAAEAAAAAAAADwPwAAAAAAAE9AAAAAAAAALkCPwvUoXI/qPwAAAAAAADdAAAAAAAAAMkAAAAAAAIBDQAAAAAAAADVAAAAAAAAAQEAAAAAAAAA0QAAAAAAAADBAAAAAAAAAPkAAAAAAAEBBQAAAAAAAADFAAAAAAAAARUAAAAAAAIBBQAAAAAAAADxAAAAAAAAAEEAAAAAAAIBSQAAAAAAAACJAAAAAAAAAMEAAAAAAAABGQAAAAAAAADJAAAAAAACARkAAAAAAAIBJQAAAAAAAADhAAAAAAACAREAAAAAAAAA1QAAAAAAAAEhAAAAAAAAAOEAAAAAAAABFQAAAAAAAADtAAAAAAAAAP0AAAAAAAAAQQAAAAAAAADpAAAAAAACAR0AAAAAAAIBAQAAAAAAAgEdAAAAAAAAAPEAAAAAAAAAuQAAAAAAAADRAAAAAAAAAM0AAAAAAAABMQAAAAAAAADlAAAAAAACAQEAAAAAAAAA2QAAAAAAAADxAAAAAAAAAOUAAAAAAAIBDQAAAAAAAADtAAAAAAAAAM0AAAAAAAAA6QAAAAAAAAEBAAAAAAABAQUAAAAAAAIBHQAAAAAAAAE9AAAAAAAAAO0AAAAAAAAA2QAAAAAAAACxAAAAAAAAAPkAAAAAAAAA6QAAAAAAAADJAAAAAAAAANUAAAAAAAABHQAAAAAAAADdAAAAAAACAT0AAAAAAAIBHQAAAAAAAADhAAAAAAACAQUAAAAAAAAA1QAAAAAAAADtAAAAAAACARkAAAAAAAIBLQAAAAAAAACJAAAAAAAAANUAAAAAAAABIQAAAAAAAAElAAAAAAAAANkAAAAAAAIA2QAAAAAAAgERAAAAAAAAASUAAAAAAAAA4QAAAAAAAgEBAAAAAAAAAPkAAAAAAAIAyQAAAAAAAADVAAAAAAAAAOUAAAAAAAIBDQAAAAAAAgERAAAAAAAAAPkAAAAAAAIBGQAAAAAAAADlAAAAAAACARkAAAAAAAABOQAAAAAAAAEJAAAAAAAAAOEAAAAAAAAA7QAAAAAAAADRAAAAAAAAAPEAAAAAAAAAkQAAAAAAAgEFAAAAAAAAAOUAAAAAAAABCQAAAAAAAADFAAAAAAAAAQEAAAAAAAAAyQAAAAAAAADZAAAAAAAAAKkAAAAAAAAAyQAAAAAAAgEdAAAAAAAAAP0AAAAAAAABOQAAAAAAAADhAAAAAAAAANUAAAAAAAAA9QAAAAAAAgDxAAAAAAACAQUAAAAAAAEBAQAAAAAAAgEtAAAAAAAAAPkAAAAAAAAA4QAAAAAAAABhAAAAAAADAUEAAAAAAAIBIQAAAAAAAADtAAAAAAAAAMkAAAAAAAAAAQAAAAAAAADZAAAAAAAAAO0AAAAAAAAA5QAAAAAAAADlAAAAAAAAAU0AAAAAAAAA9QAAAAAAAADRAAAAAAACAQEAAAAAAAIBFQAAAAAAAADtAAAAAAAAAOkAAAAAAAAAwQAAAAAAAADxAAAAAAAAANUAAAAAAAIAyQAAAAAAAgERAAAAAAAAAQkAAAAAAAIAyQAAAAAAAgE9AAAAAAAAAMkAAAAAAAADwPwAAAAAAAEJAAAAAAAAAPUAAAAAAAAAoQAAAAAAAgEFAAAAAAAAAPEAAAAAAAAAxQAAAAAAAADZAAAAAAAAARUAAAAAAAAA4QAAAAAAAAEBAAAAAAACASkAAAAAAAIBFQAAAAAAAADhAAAAAAACAOkAAAAAAAAA6QAAAAAAAADdAAAAAAAAAREAAAAAAAAAkQAAAAAAAgEBAAAAAAACATkAAAAAAAAA8QAAAAAAAAEVAAAAAAAAAP0AAAAAAAAA2QAAAAAAAAD5AAAAAAAAAN0AAAAAAAABCQAAAAAAAACpAAAAAAAAAOEAAAAAAAAA9QAAAAAAAADdAAAAAAAAARUAAAAAAAAA6QAAAAAAAABxAAAAAAAAAOkAAAAAAAIBEQAAAAAAAADpAAAAAAAAASEAAAAAAAAAyQAAAAAAAADZAAAAAAAAAO0AAAAAAAAA3QAAAAAAAAERAAAAAAAAALkAAAAAAAAA0QAAAAAAAAEtAAAAAAAAAQkAAAAAAAABQQAAAAAAAAD5AAAAAAACAQkAAAAAAAAAyQAAAAAAAADtAAAAAAAAAREAAAAAAAAA1QAAAAAAAADFAAAAAAAAAREAAAAAAAABBQAAAAAAAACdAAAAAAACATkAAAAAAAAAgQAAAAAAAgEBAAAAAAAAAGEAAAAAAAAAyQAAAAAAAADdAH4XrUbge1T8AAAAAAIBHQAAAAAAAACBAAAAAAAAAOUAAAAAAAIBBQAAAAAAAADhAAAAAAACAQEAAAAAAAAA5QAAAAAAAAEBAAAAAAAAAMUAAAAAAAABOQAAAAAAAAENAAAAAAAAARUAAAAAAAIBMQAAAAAAAAElAAAAAAAAAPkAAAAAAAAA1QAAAAAAAADZAAAAAAAAANUAAAAAAAIBKQAAAAAAAADdAAAAAAABAREAAAAAAAABCQAAAAAAAACxAAAAAAAAANUAAAAAAAAA1QAAAAAAAgENAAAAAAAAANEAAAAAAAABQQAAAAAAAADRAAAAAAAAAMkAAAAAAAABIQAAAAAAAgEtAAAAAAACARkAAAAAAAIBGQAAAAAAAgERAAAAAAAAANkAAAAAAAABFQAAAAAAAAD1AcT0K16Nw7T8AAAAAAAA0QAAAAAAAADtAAAAAAAAAOEAAAAAAAEBAQAAAAAAAADxAAAAAAAAAM0AAAAAAAAA1QAAAAAAAQEJAAAAAAAAANUAAAAAAAAA9QAAAAAAAAPA/AAAAAAAAPkAAAAAAAAAxQAAAAAAAAEdAAAAAAAAAOkAAAAAAAAA0QAAAAAAAADxAAAAAAAAAREAAAAAAAAA+QAAAAAAAADZAAAAAAAAAN0AAAAAAAADoPwAAAAAAACJAAAAAAAAAAEAAAAAAAABCQAAAAAAAADhAAAAAAAAAPkAAAAAAAIBKQAAAAAAAAEJAAAAAAAAAOkAAAAAAAADwPwAAAAAAAD5AAAAAAAAAPUAAAAAAAABAQAAAAAAAgEVAAAAAAAAAOEAAAAAAAABQQAAAAAAAAD5Aj8L1KFyP6j8AAAAAAIBLQAAAAAAAgEZAAAAAAAAAMkAAAAAAAAA2QAAAAAAAgEJAAAAAAACAS0AAAAAAAAAxQAAAAAAAgExAAAAAAAAAM0AAAAAAAAA7QAAAAAAAADZAAAAAAAAAOkAAAAAAAAA5QAAAAAAAADpAAAAAAACAQEAAAAAAAIBDQAAAAAAAADdAAAAAAAAAKEAAAAAAAABHQAAAAAAAAD1AAAAAAAAANUAAAAAAAABIQAAAAAAAgENAAAAAAAAAM0AAAAAAAAA7QAAAAAAAAD5AAAAAAAAAQEAAAAAAAIBDQAAAAAAAADlAAAAAAAAAMkAAAAAAAABAQAAAAAAAAE1AAAAAAAAAMEAAAAAAAAA6QAAAAAAAAENAAAAAAAAAOEAAAAAAAAA/QAAAAAAAgEZAAAAAAAAAOUAAAAAAAAAyQAAAAAAAgEhAw/UoXI/CxT8AAAAAAABJQAAAAAAAgE1AAAAAAAAAPkAAAAAAAAAtQAAAAAAAADhAAAAAAAAAP0AAAAAAAAA7QAAAAAAAADlAAAAAAAAANkAAAAAAAIBGQAAAAAAAAD1AAAAAAAAANUAAAAAAAAA/QAAAAAAAgEhAAAAAAAAARkAAAAAAAABLQAAAAAAAgEZAAAAAAAAANkAAAAAAAAA1QAAAAAAAgEtAAAAAAAAAFEAAAAAAAAA6QAAAAAAAADNAAAAAAAAAOEAAAAAAAAA4QAAAAAAAgExAAAAAAAAANUAAAAAAAAAYQAAAAAAAADdAAAAAAACASUAAAAAAAAAqQAAAAAAAgEdAAAAAAAAAPUAAAAAAAAAyQAAAAAAAADhAAAAAAAAASEAAAAAAAAA2QAAAAAAAAD9AAAAAAAAAPkAAAAAAAABDQAAAAAAAADZAAAAAAAAAMUAAAAAAAIBFQAAAAAAAADRAAAAAAAAAN0AAAAAAAABJQAAAAAAAAAhAAAAAAACAQkAAAAAAAAA8QAAAAAAAgENAAAAAAABAQ0A=",
            "dtype": "f8"
           }
          },
          {
           "label": "Siblings",
           "values": {
            "bdata": "AQEAAQAAAwABAQAAAQAABAEAAAAAAwEDAAABAQACAQEBAQABBAABAQAAAAEFAAABAwAABAIABQABAAAAAAAAAAADAQMAAAABAQAAAAABAAAAAgAAAAABAAEAAAABAAQCAQAAAQAAAAABAQAAAAEAAAABAAABAAIAAAABAAAAAAAAAAAABAABAAAEAQAAAQAAAAQCAAABAAAAAQEAAAAAAAAAAAABAAAAAAAAAAEAAQAAAAAAAQAAAAABAAAEAAEAAAAAAAACAAABAQEAAQAAAAAABAEAAAQBAAAAAAABAAQBAAAAAAAAAAAAAAEAAAAAAQAAAQEBAAACAQABAAEAAAEAAAABAAAAAQAAAAIBAAAAAQMAAAAAAAEAAAEBAAAAAQEAAAABAAEBAAADAAAAAAAAAAEABQAAAQACAQAAAAAAAAAAAQEAAQABAAEAAQAAAAAAAQEBAAAAAQABAQICAQABAAEAAAAAAgABAAEAAAAAAAAAAAACAAEAAAEBAAAFAAABAQAAAQAAAAABAQAAAAAAAQAAAAAAAQAAAAEAAAAAAAAAAgEBAAAAAAAABAQBAQABAQEAAAAAAAEBAQAAAgAAAAACAAAAAAEAAQEAAAAAAQAAAQABAQABAgAAAQAAAQABAAEBAQIAAQEBAAAAAAAAAAAAAwAAAQAAAAMCAQAAAAAAAAIBAAACAAAAAQIAAAEBAAAAAAABAAAABQEBBAAAAAEAAAAAAAEAAQAAAAEAAAAAAAEAAAAAAAAAAQAAAQADAQEAAAAAAAEAAQIBAAEBAAEAAQAAAAEBAAAAAAAAAQABAAAAAAABAAAAAAEAAAAABAEAAAAAAAAAAQABAQAAAAAAAAEAAAAEAAABAAMBAAAABAAAAQEAAAEAAAAAAAAAAAAABAABAAEAAQAAAgEAAAABAAEAAQAAAQAAAAAAAAAAAAAAAAAAAAEAAAEAAAEAAgABAQEBAAABAAEAAAEBAAAAAQIBAQAAAAAAAAEAAAAAAQACAwQAAAAAAAAAAgAAAAEAAAAAAAACAAABAQAAAAEBAQAAAQAAAAEBAAEAAAAAAAABAQEAAQABAAAAAAAAAAAAAAAAAQUAAQAAAwABAAAEAAAAAAABAAABAAIAAAEBAAABAAAAAQEBAAACAAEBAAAAAAAAAAEBAAAAAAAAAAEEAAEBAQAAAAAAAAAAAAEBAAEAAQEAAAEBAAEBAQABAAAAAAABAAABAAAAAQEAAQEAAAEBAQABAAEAAAEAAAAAAAEBAAEBAAAAAAABAAACAAAAAAAAAgABAAAAAQAAAAAAAAAAAAAAAAAAAAABAQACAQgBAAABAAAAAQAAAAEAAgAABAABAQAAAAMAAAAAAwEAAQAAAAEAAAEAAQEBAQAAAA==",
            "dtype": "i1"
           }
          },
          {
           "label": "Parents",
           "values": {
            "bdata": "AAAAAAAAAQIAAQAABQAAAQAAAAAAAQUCAAAAAAAAAAAAAgAAAQAAAAEAAAICAAAAAgAAAgAAAgAAAAACAAAAAAAAAwIAAAAAAgAAAQEAAAEAAAAAAAAAAAAAAAAAAQIAAAABAAAAAAAAAAAAAgAAAAAAAAABAAICAAAAAAIBAAABAAAAAQIEAAABAQAAAQAAAAIBAgABAAAAAAEAAAEAAAAAAAEAAAAAAAAAAAAAAAAAAAAAAAAAAAAAAAACAAACAAAAAAAAAAIBAAEAAAICAAABAgEAAAEAAQAAAQEAAAEBAAAAAAAAAAAAAAAAAAAAAgEAAgAAAAACAQABAAAAAgEAAAABAAAAAQEAAQAAAAAAAQIAAAAAAAEAAAEAAAEABAABAAAAAAAAAAABAAIAAAACAAAAAgAAAgAAAAIAAAAAAAAAAAAAAAABAAAAAQIAAgAAAQEAAAAAAAAAAgIDBAABAAAAAgEAAQACAAAAAAAAAAAAAAABAAIAAAAAAAECAAAAAAAAAQAAAAAAAgAAAAAAAAIAAAAAAAAAAAAAAAABAAAAAQEBAAIAAAICAgIAAAAAAQECAAAAAAABAAAAAAAEAAAAAAAAAAAAAQEAAAIAAQAAAAAAAQAAAQAAAAAAAgAFAAIBAAEAAAABAAAAAAAAAAAAAgAAAQUAAAIBAAAAAAEAAAABAAIAAAAAAAAAAAEAAAAAAAAGAQAAAgECAQAAAQABAAAAAAEAAAABAAAAAAAAAAAAAAAAAAABAAAAAAAAAAAAAAAAAAMAAAIAAAEBAAAAAQEAAAIBAAAAAAAAAgAAAAAAAAADAAABAAAAAAAAAQIAAAAAAAAAAQABAgEAAAAAAAAAAAACAAABAAIBAAABAQIAAAEAAAEAAAAAAAAAAAABAgABAQABAQADAAAAAAAAAAEAAQAAAAAAAAEBAAAAAAUAAAAAAAAAAAEAAAEAAAAAAAAAAAAAAAABAQMAAQAAAAACAAAAAAEAAAAAAAACAAABAgEAAAAAAAAAAgAAAAQAAAAAAAAAAAABAAAAAAEAAgAAAAAAAAAAAAEAAAAAAAAAAAEAAAAAAAEAAAAAAAAAAAAABgIAAwAAAAABAQICAAAAAAIBAAABAAIAAAAFAgAAAwIAAQABAAEAAAABAAIAAgAAAgABAAAAAAAAAAACAAEBAAAAAAAAAAAAAAAAAAAAAQAAAgEAAAEAAgAAAAAAAAAAAAIBAAAAAAAAAAAAAAEBAQAAAAEAAAIAAAABAAECAQEAAAAAAAAAAAAAAAAAAAAAAQAAAAIAAQAAAAIAAAABAAAAAAABAAACAgAAAAIBAAAAAAEAAAAAAAEAAAAAAgAAAgAAAAEAAQIAAQAAAQAAAAABAAAAAAEBAAAAAA==",
            "dtype": "i1"
           }
          },
          {
           "label": "Fare",
           "values": {
            "bdata": "AAAAAAAAHUA8vVKWIdJRQDMzMzMzsx9AzczMzMyMSkCamZmZmRkgQGZmZmZm7klAMzMzMzMTNUAVHcnlP0QmQIqO5PIfEj5AMzMzMzOzMEDNzMzMzIw6QJqZmZmZGSBAZmZmZmZGP0AJ+aBns2ofQAAAAAAAADBAAAAAAAAgPUAAAAAAAAAyQAAAAAAAADpAAAAAAAAAKkAeFmpN8w4gQAAAAAAAwEFAMzMzMzMTNUAzMzMzM2M/QAAAAAAAcHBA8fRKWYa4O0AAAAAAAAAlQAmKH2PuilRAAAAAAAAASkCamZmZmRkgQAAAAAAAADJA6+I2GsB7JkAzMzMzM/MiQAAAAAAAADVA7uvAOSPKRECjkjoBTYQfQM3MzMzMzDFAAAAAAADYQ0AzMzMzMzMfQJEPejarLlNAAAAAAAAAOkAhH/RsVv1OQAAAAAAAACVACfmgZ7PqHEAAAAAAAMA7QDMzMzMzc0dACfmgZ7PqHEAAAAAAAABUQGZmZmZm3lRAZmZmZmbmO0AAAAAAAAAlQOLplbIMUSBAMzMzMzOzH0AzMzMzM1MhQAAAAAAAACVAMzMzMzNzR0AAAAAAAGBSQLivA+eM6CxArK3YX3Y/TECamZmZmZkeQAAAAAAAAD1AMzMzMzPzKEAAAAAAAAAiQAAAAAAAACNAzczMzMyMR0AAAAAAAAAlQDMzMzMzsy9AAAAAAAAwQUAAAAAAAHBwQJqZmZmZGSBAmpmZmZkZIEAJ+aBns2ofQGZmZmZmlk5AMzMzMzOTNEAAAAAAAAAdQIiFWtO8U0FAEhQ/xtytT0AAAAAAAAA3QAAAAAAAADpA9wZfmEyVH0BmZmZmZlJTQB4Wak3zTiFAMzMzMzOzH0D3Bl+YTJUfQJqZmZmZmR5A9wZfmEyVH0AAAAAAAABKQLivA+eM6CxAmpmZmZkZIEBmZmZmZqYjQHuDL0ym6ixAMzMzMzOzH0AAAAAAAAAfQAAAAAAAADVAOPjCZKrwbkBmZmZmZkY/QAAAAAAAYFJAio7k8h8SPkAAAAAAAAAqQGZmZmZmUlNA6+I2GsB7JkBwXwfOGZEcQGZmZmZm5htA9wZfmEyVH0AzMzMzMzMcQAAAAAAAAC1AAAAAAAAAOkAAAAAAAAAqQEhQ/BhzFy5A8fRKWYZIOkDNzMzMzIxKQB4Wak3zbiJAzczMzMzMU0AAAAAAAAAfQDMzMzMzsy9AAAAAAAAAG0AAAAAAAAAnQAAAAAAAYEJAkKD4MeYuH0AAAAAAADBBQAAAAAAAADpAAAAAAAAAKkDNzMzMzAwpQGZmZmZmplBAmpmZmZkZIEAAAAAAAAAtQFRSJ6CJsE5AkKD4MebuHkCamZmZmRkgQJqZmZmZGTBAAAAAAACAL0CamZmZmRkfQDMzMzMzUyFAAAAAAADYQ0BmZmZmZoY0QGZmZmZm5jtArK3YX3Y/TEAAAAAAAMBAQAAAAAAAID1AFR3J5T9EJkAzMzMzM7MfQIqO5PIfsj5ACfmgZ7NqH0BmZmZmZrY8QAAAAAAAACpAAAAAAAAAAAAzMzMzM2M/QAAAAAAAgENAZmZmZmYGNkDNzMzMzIw6QAAAAAAAAC9A9wZfmEyVH0AAAAAAAAAqQAAAAAAAACpACfmgZ7NqH0AAAAAAAAA6QPH0SlmGuDtAOPjCZKpQYkAeFmpN884gQAAAAAAAACpAAAAAAAAAI0BdbcX+svsZQGZmZmZm5hxAmpmZmZkZIEDNzMzMzOwkQDMzMzMzsy9AmpmZmZnJMkAAAAAAAAAfQAAAAAAAAD9AMzMzMzMzHEAAAAAAAAA1QAAAAAAAAB1AAAAAAAAAKkCamZmZmVFcQDMzMzMzsx9AAAAAAAAAO0CRD3o2qxJTQAAAAAAAACVAmpmZmZkZIEAAAAAAAAAqQJqZmZmZGSBAAAAAAACAVkAzMzMzM7MiQAAAAAAAACVAAAAAAAAAHUAAAAAAAAAqQGZmZmZm3lRAmpmZmZkZH0AAAAAAAAArQDMzMzMzYz9AAAAAAAAAJUAAAAAAAAA6QAAAAAAAQDpAAAAAAAAAJUDNzMzMzIwoQAAAAAAAACVAAAAAAACAHEBmZmZmZuYcQAAAAAAAgFZAmpmZmZkZH0AAAAAAAAAtQLu4jQbwRkpAAAAAAAAAOkDNzMzMzOwkQM3MzMzMjDpAmpmZmZkZMEBmZmZmZjY0QK62Yn/ZfS5AAAAAAACgVUC/DpwzogKAQAAAAAAAADpAMzMzMzNjP0CamZmZmelTQAAAAAAAAAAAAAAAAAAAJUAAAAAAANhDQJqZmZmZGR9AzczMzMwuY0DRkVz+Q/RgQAAAAAAAAAAAAAAAAACAM0AzMzMzM7M9QG/whclUfVNAAAAAAAAAH0AAAAAAACA9QAAAAAAAQDRAAAAAAAAAH0AJ+aBns2ofQAAAAAAAACNAmpmZmZkZIEAzMzMzM1MhQAAAAAAAACNA9wZfmEyVH0AAAAAAAAAqQAAAAAAAAB9AZmZmZma2U0D3deCcEcVWQAAAAAAAwClAMzMzMzOzIUD3Bl+YTJUfQAn5oGez6hxAmpmZmZnxYkA4+MJkqvBuQAAAAAAAAAAAmpmZmZnxYkCamZmZmTlbQAAAAAAAADhAu7iNBvB2TEA8vVKWIcpUQAAAAAAAZnBAAAAAAAAAOkD3Bl+YTJUfQAAAAAAAQDpACfmgZ7NqH0AAAAAAAAA6QAAAAAAAACxAL26jAbybZEAAAAAAANBgQAAAAAAAAB1A9wZfmEyVH0AzMzMzM7MoQAAAAAAAAD1A0ZFc/kP0YEAzMzMzM/MYQAAAAAAAACpAZmZmZmaGNEAhH/RsVv1MQAAAAAAAgDxAzczMzMwuY0AAAAAAAAAyQGZmZmZmplBAAAAAAADQYECamZmZmRkgQAAAAAAAwEFAAAAAAAAAOkAAAAAAAHBwQAAAAAAAACpAAAAAAAAAKkAAAAAAAAAqQAAAAAAAACpAAAAAAAAAKkDNzMzMzMwvQDMzMzMzUyFAMzMzMzNzIkAJ+aBns+ocQM3MzMzMzDFAAAAAAAAAI0AAAAAAAIBLQAAAAAAAACpAZmZmZmbmO0Dx9EpZhrg7QLivA+eM6CxAMzMzMzMzHEAAAAAAAAAdQAAAAAAA0FJAMzMzMzNTUUBUUiegibhLQF1txf6y+xlAmpmZmZkZIEDRkVz+Q/RgQDMzMzMzEzVAAAAAAAAAHUAAAAAAAHBqQM3MzMzMDBBAmpmZmZkZH0DNzMzMzHBsQOviNhrAey9AMzMzMzOzH0AAAAAAAABKQAAAAAAAYFJAMzMzMzNzR0AAAAAAAAAqQAAAAAAAAChAAAAAAAAAXkCQoPgx5i4fQDMzMzMzsx9AmpmZmZlRXEAzMzMzM7MwQJCg+DHmLh9ACfmgZ7NqH0AAAAAAAAA6QAAAAAAAACVAzczMzMxMKUAzMzMzM7MfQJqZmZmZGSBAZmZmZmamI0AzMzMzM7MvQDMzMzMzUyFAAAAAAAAANUAAAAAAAAAfQAAAAAAAwDJAmpmZmZkZH0AAAAAAAIBWQDMzMzMzsx9AAAAAAABAQEAAAAAAAAAqQAAAAAAAACpAZmZmZmYmOECQoPgx5u4eQAAAAAAAgB9AzczMzMzMLEBmZmZmZjY0QAAAAAAAADpAAAAAAAAAOkCamZmZmRkgQM3MzMzMjDpAAAAAAAAAOkAAAAAAAIAcQDMzMzMz80tAAAAAAAAAXkAAAAAAADBBQAAAAAAAwDJAAAAAAABwcEAAAAAAAAAlQAAAAAAAQDpAAAAAAAAAI0CamZmZmRkfQAAAAAAAACpACYofY+52VEAAAAAAAIAzQM3MzMzMjDpAio7k8h9CM0AAAAAAAIA+QAAAAAAAwDtAAAAAAADAO0CRD3o2q0ZWQPcGX5hMlR9AzczMzMyMOkAAAAAAAAAlQM3MzMzMjDpAmpmZmZkZIEAAAAAAAEBDQAAAAAAAACpAMzMzMzMzHEDNzMzMzIw6QIqO5PIfQjNAMzMzMzNTIUAAAAAAAMA7QIV80LNZlStAzczMzMysI0AAAAAAAAA1QJCg+DHmLhxA9wZfmEwVHkAzMzMzM5MoQDMzMzMzc0dAmpmZmZkZIEDNzMzMzCwjQPd14JwRxVZAAAAAAACAVkAzMzMzM7M9QJqZmZmZGSBAzczMzMzML0AAAAAAAAAdQAAAAAAAgD5AVFInoInASECamZmZmRkgQPd14JwRkVNAmpmZmZnxYkCQoPgx5i4fQDMzMzMzUyFAAAAAAAAAH0DNzMzMzCwjQAAAAAAAoFVAmpmZmZk5W0AAAAAAAAA6QGZmZmZmhjZArK3YX3Y/TEAAAAAAAAAfQJqZmZmZSTpAMzMzMzOzTUBdbcX+svsdQN/gC5OpAkFAAAAAAAAAJUAAAAAAAAA6QPcGX5hMlR9AAAAAAABgV0D3Bl+YTJUfQCEf9GxW/UxAAAAAAAAAH0AAAAAAAAAlQDMzMzMzsx9AAAAAAAAAJ0AAAAAAAAA6QAn5oGez6hxAMzMzMzNTIUAAAAAAAEA6QM3MzMzMjDpAMzMzMzObWkAAAAAAAMBIQAAAAAAAwFFAZmZmZmZGP0BmZmZmZkY/QAAAAAAAADpAMzMzMzObWkAAAAAAAAA6QAAAAAAAADpAZmZmZmaGNEAAAAAAAGBCQKMjufyHuFtAAAAAAAAAOkBmZmZmZuYcQJqZmZmZGR9AzczMzMyMOkDNzMzMzMxDQJqZmZmZ6VNAZmZmZmZmMUD3Bl+YTJUfQAAAAAAAACtAZmZmZmYmOED3Bl+YTJUfQDMzMzMzEzVACfmgZ7NqH0AAAAAAAAAlQCEf9GxWvUlAMzMzMzNjOkCamZmZmRkgQAAAAAAAAC1AAAAAAAAAKkAzMzMzM/NLQDMzMzMzsx9AAAAAAAAAPkCjI7n8h7hbQAAAAAAAADpAAAAAAAAQRECamZmZmelTQAAAAAAAAC5AzczMzMzMU0CamZmZmRkgQAAAAAAAgBxA93XgnBGRU0AAAAAAAAAdQAAAAAAAADpAZmZmZmYmOEAAAAAAAAAAALu4jQbwdkxAAAAAAAAAO0CamZmZmRkgQM3MzMzMjDpAmpmZmZkZL0D3Bl+YTJUfQAAAAAAAgD5A7uvAOSPKREDNzMzMzC5jQGZmZmZmRj9AmpmZmZkZIEAAAAAAAEBQQM3MzMzMzCxAmpmZmZkZMEAAAAAAAIBDQAAAAAAAACVAuK8D54zoLEC7uI0G8EZKQOviNhrAey9ACfmgZ7NqH0CamZmZmRkwQEVHcvkPKUBAMzMzMzOzKEBv8IXJVH1TQPcGX5hMlR9AAAAAAAAAPkDWxW00gDccQAAAAAAAgD5AZmZmZmbmO0AAAAAAAAAqQDMzMzMzsx9AAAAAAABAOkAAAAAAANhDQAn5oGezah9AMzMzMzNTUUBmZmZmZuY7QIqO5PIfQjNAkQ96NqsuU0D3Bl+YTJUfQAAAAAAAwEFAMzMzMzMzHkAAAAAAAAA3QK62Yn/Z3SBAAAAAAAAAG0AAAAAAAGBSQAAAAAAAAC9AAAAAAAAAKkCamZmZmVFcQM3MzMzMtGBAZmZmZmbmHEBmZmZmZpY5QF1txf6y+x1AMzMzMzOzH0AAAAAAAGBSQAAAAAAAACpAmpmZmZkZIEAAAAAAAIBDQAAAAAAAAEpAAAAAAAAAJUAAAAAAAAAqQJqZmZmZGR9AmpmZmZkZIEAeFmpN864jQDMzMzMzc0dAvw6cM6ICgECRD3o2qy5TQDMzMzMzcyJAMzMzMzNzR0AAAAAAAIBDQO7rwDkjykRAAAAAAADYQ0BIUPwYc1ckQJCg+DHmLh9AzczMzMxqakAAAAAAAIBMQIV80LNZ1SpAZmZmZmbmHEDNzMzMzIw6QAAAAAAAACtAmpmZmZkZIECjI7n8h7hbQJqZmZmZmR5AzczMzMxwbECamZmZmUk6QLivA+eM6CxA1sVtNID3HkAJ+aBns2ofQAAAAAAAADpAAAAAAAAAK0CamZmZmUk6QJqZmZmZ8WJAVFInoInASEAAAAAAAABKQEhQ/Bhz9yJAAAAAAAAAKkCamZmZmZkeQM3MzMzMcGxAAAAAAAAAJUCamZmZmRkfQAAAAAAAgEBA1sVtNIA3HEAAAAAAAAAqQAAAAAAAACpAzczMzMyMSkAzMzMzM1MhQAAAAAAAADVAAAAAAAAAOkAzMzMzM7MfQM3MzMzMampAmpmZmZnJMkAAAAAAAAAqQAAAAAAAACpAmpmZmZkZMEAAAAAAADBBQL8OnDOiAoBAZmZmZma2U0AAAAAAAGZwQJqZmZmZGTBAMzMzMzOzH0AAAAAAAMBRQAAAAAAAQDRAAAAAAAAAKkDNzMzMzIxKQAAAAAAAAB9AAAAAAAAAN0AzMzMzM/MoQAAAAAAAACNA9wZfmEyVH0AAAAAAAEBQQAAAAAAAAC1AkKD4MeYuH0AAAAAAAAAnQJqZmZmZGSBAAAAAAACgVUAAAAAAAIAcQAn5oGez6hxAAAAAAAAAXkCamZmZmRkfQG/whclUfVNAAAAAAAAAH0CamZmZmbkgQAAAAAAAACNACfmgZ7NqH0AAAAAAAAAlQAAAAAAAADdAAAAAAAAAH0AzMzMzM/MoQM3MzMzMampACfmgZ7PqHEAAAAAAAIBMQAAAAAAAAD5AMzMzMzMzHEAAAAAAAAAdQF1txf6y+x1AAAAAAAAgPUAzMzMzM5M0QM3MzMzMzFNAAAAAAAAAOkD3Bl+YTJUfQAAAAAAAACpAdnEbDeDtOUCutmJ/2V0hQAn5oGez6hxAZmZmZmYmOEAAAAAAAAAqQAAAAAAAQDpAAAAAAAAAXkC4rwPnjAghQGZmZmZm5htAmpmZmZkZH0AAAAAAAAAAAJqZmZmZGR9AAAAAAAAAKkDNzMzMzIxKQM3MzMzMjB9AZmZmZmYmOEAAAAAAAAAlQGZmZmZmRj9AmpmZmZkZIEAzMzMzM7MfQFRSJ6CJgEJAzczMzMzMGUBmZmZmZuY7QAAAAAAAYFdAMzMzMzNTIUAAAAAAAAAAADMzMzMz8yhAAAAAAADYQ0BUUiegiYBCQAAAAAAAAFRAuK8D54zoLEAAAAAAAMAyQAn5oGezah9AmpmZmZmZIEA8vVKWIcpUQDMzMzMzUyFArK3YX3Y/TEAzMzMzM7MfQAAAAAAAACVAAAAAAAAAP0AAAAAAAMAZQDMzMzMzUyFAMzMzMzMzHkD3Bl+YTJUfQAAAAAAAgEBAZmZmZmZGP0CamZmZmRkfQK62Yn/ZfS5AMzMzMzOzQ0AAAAAAAAA6QDMzMzMzsyJAL26jAbybZEDNzMzMzIw6QIqO5PIfQjNASFD8GHM3LEAAAAAAAAAnQHZxGw3g7TlAAAAAAAAAKkAAAAAAAAAqQEhQ/BhztytArK3YX3Y/SUAVHcnlP0QmQPcGX5hMlR9Au7iNBvBGSkAAAAAAAAAUQAAAAAAAACJAAAAAAAAAOEBmZmZmZuYcQOLplbIMsSNA9wZfmEyVH0A8vVKWIcpUQAAAAAAAADpA9wZfmEyVH0C4rwPnjAglQAAAAAAAACVAMzMzMzMzHEAAAAAAACA9QAAAAAAAACpAAAAAAAAAPkAAAAAAAAA+QAAAAAAAAB9AcF8HzhlRH0AAAAAAAAAcQAAAAAAAYCNAMzMzMzNTIUAzMzMzM5MoQDMzMzMzcyJAo5I6AU2EHkAAAAAAAAA9QAn5oGez6hxAZmZmZmYmOEAAAAAAAAA6QPd14JwRkVRAAAAAAAAAOkBmZmZmZpZOQPH0SlmGuDtAMzMzMzOzKEBmZmZmZuYcQDMzMzMzsx9AZmZmZmbmHEAzMzMzM7NNQCBB8WPMXQlAVFInoImwTkAAAAAAAGZwQAAAAAAAAC1AIR/0bFb9TkBmZmZmZuYcQAAAAAAAgD5AAAAAAAAAOkAAAAAAAIA/QDMzMzMzkzRAAAAAAADgTEAJ+aBns+ocQDMzMzMzUyFAAAAAAAAAI0CFfNCzWdUqQGZmZmZmZh9AAAAAAAAAKkC7uI0G8EZKQDMzMzMzsx9AMzMzMzOzPUCRD3o2qxJTQM3MzMzMzC9AAAAAAAAATkDi6ZWyDBEuQAAAAAAAADdAAAAAAABwcEAAAAAAACA9QPcGX5hMlR9AmpmZmZmZHkAAAAAAAGZwQPcGX5hMlR9AAAAAAAAAK0AAAAAAAAAfQGZmZmZm5h5AAAAAAABmcECjkjoBTYQfQDMzMzMzM0VAmpmZmZmJPEAAAAAAAHBwQAAAAAAAAB9A9wZfmEyVH0AzMzMzM7MfQPH0SlmGuDtAAAAAAABwakAAAAAAAHBqQDMzMzMzszlAAAAAAAAAKkAAAAAAAAAfQK62Yn/ZfS5AYqHWNO+4a0AAAAAAAAA6QKOSOgFNhB9AmpmZmZkZIEAAAAAAAAA3QM3MzMzMzCtAAAAAAAAASkAAAAAAAAA6QJCg+DHmLh9AZmZmZma2U0AzMzMzM7MfQAn5oGezah9AmpmZmZkZIEBUUiegibhLQAAAAAAAADpAmpmZmZkZH0C4rwPnjAghQGZmZmZmhjZAKjqSy39IH0AAAAAAAAAqQEhQ/BhzFy5AdnEbDeCtP0DD0ytlGSIdQGKh1jTvuGtAuK8D54zoLEAzMzMzM7MwQF3cRgN4z1JAAAAAAAAAOkAAAAAAAIAvQAAAAAAA4ExAAAAAAAAAHUCamZmZmRkwQJCg+DHmLh9AAAAAAAAAKkCamZmZmRkgQJqZmZmZGSBAAAAAAACAPED3Bl+YTJUfQAn5oGezah9AZmZmZmbmHEAAAAAAAAAqQJqZmZmZGSBAMzMzMzNzR0AzMzMzM3NHQJqZmZmZ8WJAAAAAAABmcEAAAAAAAAA6QM3MzMzMjDpAAAAAAAAAMkCamZmZmRkgQAAAAAAAADpAPL1SliHKVECutmJ/2V0oQDMzMzMzYz9AMzMzMzMzHkBiodY077hrQAn5oGezah9AzczMzMyMOkDNzMzMzIwrQK62Yn/ZfS5AAAAAAAAAK0AAAAAAAAAqQGZmZmZmBjZArK3YX3Y/SUAAAAAAADBBQM3MzMzM7CFAZmZmZmbmHEDNzMzMzMwrQDMzMzMzYz9AAAAAAACAQ0AAAAAAAGBCQFRSJ6CJuEtAAAAAAACAQ0A8vVKWIcpUQAAAAAAAACpAPL1SliHKVEDNzMzMzIxKQDj4wmSq8G5AAAAAAAAAMEAAAAAAAAA1QJqZmZmZGSBAAAAAAAAAKkAAAAAAAAA6QAAAAAAAAC1AMzMzMzOzKEAAAAAAAEBAQAn5oGezah9AAAAAAADQYECamZmZmRkfQAAAAAAAACVAzczMzMzMLEDNzMzMzHBsQAAAAAAAADpAAAAAAAAAJUAAAAAAAAAfQAAAAAAAACVA8fRKWYa4O0D3Bl+YTJUfQGZmZmZmhjZAAAAAAABgUkAAAAAAAAA6QJqZmZmZGR9AAAAAAABARUAvbqMBvJtkQAAAAAAAcGpASFD8GHO3K0CamZmZmRkgQAAAAAAAACVAkKD4MeYuH0CKjuTyH3I7QJCg+DHmLh9AMzMzMzMzLkAAAAAAAAAqQAAAAAAAQFBAzczMzMyMOkBdbcX+svsZQDy9UpYh0lFACfmgZ7NqH0AAAAAAANBSQGZmZmZm5hxAAAAAAAAAKkAzMzMzM5taQPH0SlmGuDtAAAAAAAAAPkAAAAAAANBgQGZmZmZm7klAAAAAAAAANUAAAAAAAEBAQAAAAAAAADpAAAAAAADAO0AzMzMzM7MfQGKh1jTvGGFAZmZmZmamIkAAAAAAAAAjQJqZmZmZGSBAAAAAAAAAKkCamZmZmRkfQGZmZmZmZjFACfmgZ7NqH0AAAAAAAAA3QK62Yn/ZXShAmpmZmZl5KUAzMzMzM1MhQF3cRgN4z1JAYqHWNO8YYUAAAAAAAAA6QAAAAAAAACVAAAAAAAAAOkAAAAAAAAA1QAAAAAAAACVAMzMzMzNTIUDNzMzMzIwrQK62Yn/ZfS5AZmZmZmY2NEAAAAAAAAAdQPd14JwRkVRAzczMzMzMG0AJih9j7nZUQAAAAAAAACNA9wZfmEyVH0Du68A5I8pEQAAAAAAAwEZACfmgZ7NqH0CamZmZmRkfQAAAAAAAADVAMzMzMzNTIUDNzMzMzIw6QJqZmZmZ8WJAMzMzMzOzIkAAAAAAAGBXQEhQ/BhzNyxAMzMzMzNTIUBmZmZmZuYcQAAAAAAAAB9A0ZFc/kP0YECQoPgx5u4eQDj4wmSqUGJAAAAAAAAAJUAJ+aBns2ofQAAAAAAAgD9AmpmZmZkZH0AJ+aBns+ocQAAAAAAAACpAzczMzMyMOkDNzMzMzGpqQDMzMzMzMxxAAAAAAACAQ0DNzMzMzMxTQAAAAAAAADpAAAAAAAAAKkAAAAAAAGBCQDMzMzMzsz1A6+I2GsB7L0D3Bl+YTJUfQAAAAAAAADpAAAAAAAAAKkAJ+aBns+ocQAAAAAAAgD9AAAAAAAAAJUBwXwfOGVEeQL8OnDOiAoBAmpmZmZmZHkAAAAAAAAAqQAn5oGez6hxAAAAAAAAAK0AAAAAAAAA1QBIUP8bcrU9AAAAAAAAAJUAAAAAAAGBSQAAAAAAAQFBAMzMzMzOTNEAAAAAAAAA6QCEf9GxWvUlAmpmZmZkZL0AzMzMzM2NRQFRSJ6CJgEJAAAAAAAAANUAzMzMzM1MhQFRSJ6CJuEtAAAAAAADYQ0AzMzMzM7NNQEhQ/BhztytAAAAAAAAAJ0AAAAAAANBgQAAAAAAAAAAAAAAAAAAAKkAJih9j7nZUQAAAAAAAZnBAMzMzMzNTIUAAAAAAAAAnQAAAAAAAAElAMzMzMzNjP0CjkjoBTYQfQJqZmZmZGTBAAAAAAABAUECamZmZmRkfQAAAAAAAACpAAAAAAAAAH0AzMzMzMxM1QAAAAAAAYFdAMzMzMzOzQ0AAAAAAAEA0QAAAAAAAACVAZmZmZmYGNkAAAAAAAABOQAAAAAAAAB1AzczMzMzMU0CamZmZmRkfQJCg+DHm7h5AL26jAbybZEAAAAAAAAA1QDMzMzMzs01AzczMzMyMR0Dx9EpZhrg7QJqZmZmZuStAAAAAAAAAJUAAAAAAAHBqQM3MzMzMjCtAAAAAAACAVkCamZmZmRkfQJqZmZmZOVtAAAAAAAAAHUA=",
            "dtype": "f8"
           }
          }
         ],
         "domain": {
          "x": [
           0,
           1
          ],
          "y": [
           0,
           1
          ]
         },
         "line": {
          "color": {
           "bdata": "AAEBAQAAAAEBAQEAAAABAAAAAQEBAAEAAAAAAAAAAQAAAQEAAAABAQABAAEAAAEAAAEAAQAAAAAAAQABAQABAAEBAAEAAAAAAAAAAQEAAAAAAAABAAAAAAAAAAAAAAAAAAEAAQEAAAAAAQAAAQAAAAEBAAAAAQAAAAABAAAAAQAAAQAAAAEAAAAAAQAAAAAAAAABAQEAAAEAAQEBAQAAAAAAAQAAAQEBAAEAAAEBAAEAAQAAAQABAAABAAABAAABAAAAAAAAAAEBAAAAAAABAQEBAQAAAAABAQEBAQABAAABAAAAAQABAAEBAQEAAAAAAAEAAQEAAQEBAAAAAQEAAQEAAAEBAQABAQEAAAAAAQEAAQEAAAABAQEAAAAAAAEAAAAAAAABAQEAAAAAAQAAAAEBAAEAAAEBAQEAAQEAAAAAAQEAAAAAAAABAAEBAQEAAAAAAAABAQEBAQAAAQABAAABAAABAQEBAQEAAAEBAAEBAAAAAAABAAEBAAAAAAEAAAEBAQAAAQAAAAABAAAAAAABAAEAAQEBAQAAAQEAAQABAAEAAAEAAAEAAQEBAAABAAABAAEBAAEBAAEBAQAAAAAAAQEBAQAAAQEBAQEAAAEAAQAAAQAAAAABAQABAAABAQEAAAEAAAEAAAEBAAAAAAEAAQABAAEAAAAAAQABAQABAQEAAAAAAAABAAAAAQAAAAEAAAEAAAEAAQEAAAAAAAAAAQEBAAAAAAAAAQEAAAAAAQEBAQEAAAABAQABAAAAAQABAAABAAAAAAABAAEAAQAAAQAAAQEAAAEBAAAAAQABAQABAAAAAAABAAEBAQEAAAABAAEAAAAAAQEAAAABAQEBAAAAAAEAAAAAAAAAAAABAQABAAEBAQEAAAEAAQAAAQAAAAAAAAAAAQABAQEBAAABAAEBAAEAAQAAAQEAAAEBAAAAAAAAAQEAAAEAAAEAAQABAAABAAEBAAABAQAAAAEAAQAAAAABAAABAAAAAQEAAAEBAAABAQAAAAEAAAABAAEAAAEBAAEAAQABAAEAAAABAQABAQAAAQABAAEAAAEAAAAAAQEBAAEAAQEBAAEAAAAAAAAAAAABAAEBAAAAAAAAAQEAAAEBAAEAAQABAAABAAAAAQEAAQEAAAEBAAEAAAAAAAAAAAEAAAABAAEAAQAAAAEBAAABAQABAAEAAAAAAQAAAAAAAQEBAQAAAQABAQAAAAAAAQAAAAEBAAAAAQEAAAAAAQABAQAAAQAAAAEAAAAAAAEAAAABAAABAQEAAAAAAAAAAAEAAQAAAAEAAQAAAAAAAAABAQABAAEBAAAAAQABAQABAQABAQEAAAEAAAEBAQAAAAABAQAAAAAAAQAAAAEAAQAAAQABAAAAAAABAQEBAA==",
           "dtype": "i1"
          },
          "coloraxis": "coloraxis"
         },
         "name": "",
         "type": "parcoords"
        }
       ],
       "layout": {
        "coloraxis": {
         "colorbar": {
          "title": {
           "text": "Survival"
          }
         },
         "colorscale": [
          [
           0,
           "rgb(0, 147, 146)"
          ],
          [
           0.16666666666666666,
           "rgb(114, 170, 161)"
          ],
          [
           0.3333333333333333,
           "rgb(177, 199, 179)"
          ],
          [
           0.5,
           "rgb(241, 234, 200)"
          ],
          [
           0.6666666666666666,
           "rgb(229, 185, 173)"
          ],
          [
           0.8333333333333334,
           "rgb(217, 137, 148)"
          ],
          [
           1,
           "rgb(208, 88, 126)"
          ]
         ]
        },
        "height": 600,
        "legend": {
         "tracegroupgap": 0
        },
        "margin": {
         "b": 80,
         "l": 80,
         "r": 80,
         "t": 80
        },
        "template": {
         "data": {
          "bar": [
           {
            "error_x": {
             "color": "#2a3f5f"
            },
            "error_y": {
             "color": "#2a3f5f"
            },
            "marker": {
             "line": {
              "color": "#E5ECF6",
              "width": 0.5
             },
             "pattern": {
              "fillmode": "overlay",
              "size": 10,
              "solidity": 0.2
             }
            },
            "type": "bar"
           }
          ],
          "barpolar": [
           {
            "marker": {
             "line": {
              "color": "#E5ECF6",
              "width": 0.5
             },
             "pattern": {
              "fillmode": "overlay",
              "size": 10,
              "solidity": 0.2
             }
            },
            "type": "barpolar"
           }
          ],
          "carpet": [
           {
            "aaxis": {
             "endlinecolor": "#2a3f5f",
             "gridcolor": "white",
             "linecolor": "white",
             "minorgridcolor": "white",
             "startlinecolor": "#2a3f5f"
            },
            "baxis": {
             "endlinecolor": "#2a3f5f",
             "gridcolor": "white",
             "linecolor": "white",
             "minorgridcolor": "white",
             "startlinecolor": "#2a3f5f"
            },
            "type": "carpet"
           }
          ],
          "choropleth": [
           {
            "colorbar": {
             "outlinewidth": 0,
             "ticks": ""
            },
            "type": "choropleth"
           }
          ],
          "contour": [
           {
            "colorbar": {
             "outlinewidth": 0,
             "ticks": ""
            },
            "colorscale": [
             [
              0,
              "#0d0887"
             ],
             [
              0.1111111111111111,
              "#46039f"
             ],
             [
              0.2222222222222222,
              "#7201a8"
             ],
             [
              0.3333333333333333,
              "#9c179e"
             ],
             [
              0.4444444444444444,
              "#bd3786"
             ],
             [
              0.5555555555555556,
              "#d8576b"
             ],
             [
              0.6666666666666666,
              "#ed7953"
             ],
             [
              0.7777777777777778,
              "#fb9f3a"
             ],
             [
              0.8888888888888888,
              "#fdca26"
             ],
             [
              1,
              "#f0f921"
             ]
            ],
            "type": "contour"
           }
          ],
          "contourcarpet": [
           {
            "colorbar": {
             "outlinewidth": 0,
             "ticks": ""
            },
            "type": "contourcarpet"
           }
          ],
          "heatmap": [
           {
            "colorbar": {
             "outlinewidth": 0,
             "ticks": ""
            },
            "colorscale": [
             [
              0,
              "#0d0887"
             ],
             [
              0.1111111111111111,
              "#46039f"
             ],
             [
              0.2222222222222222,
              "#7201a8"
             ],
             [
              0.3333333333333333,
              "#9c179e"
             ],
             [
              0.4444444444444444,
              "#bd3786"
             ],
             [
              0.5555555555555556,
              "#d8576b"
             ],
             [
              0.6666666666666666,
              "#ed7953"
             ],
             [
              0.7777777777777778,
              "#fb9f3a"
             ],
             [
              0.8888888888888888,
              "#fdca26"
             ],
             [
              1,
              "#f0f921"
             ]
            ],
            "type": "heatmap"
           }
          ],
          "histogram": [
           {
            "marker": {
             "pattern": {
              "fillmode": "overlay",
              "size": 10,
              "solidity": 0.2
             }
            },
            "type": "histogram"
           }
          ],
          "histogram2d": [
           {
            "colorbar": {
             "outlinewidth": 0,
             "ticks": ""
            },
            "colorscale": [
             [
              0,
              "#0d0887"
             ],
             [
              0.1111111111111111,
              "#46039f"
             ],
             [
              0.2222222222222222,
              "#7201a8"
             ],
             [
              0.3333333333333333,
              "#9c179e"
             ],
             [
              0.4444444444444444,
              "#bd3786"
             ],
             [
              0.5555555555555556,
              "#d8576b"
             ],
             [
              0.6666666666666666,
              "#ed7953"
             ],
             [
              0.7777777777777778,
              "#fb9f3a"
             ],
             [
              0.8888888888888888,
              "#fdca26"
             ],
             [
              1,
              "#f0f921"
             ]
            ],
            "type": "histogram2d"
           }
          ],
          "histogram2dcontour": [
           {
            "colorbar": {
             "outlinewidth": 0,
             "ticks": ""
            },
            "colorscale": [
             [
              0,
              "#0d0887"
             ],
             [
              0.1111111111111111,
              "#46039f"
             ],
             [
              0.2222222222222222,
              "#7201a8"
             ],
             [
              0.3333333333333333,
              "#9c179e"
             ],
             [
              0.4444444444444444,
              "#bd3786"
             ],
             [
              0.5555555555555556,
              "#d8576b"
             ],
             [
              0.6666666666666666,
              "#ed7953"
             ],
             [
              0.7777777777777778,
              "#fb9f3a"
             ],
             [
              0.8888888888888888,
              "#fdca26"
             ],
             [
              1,
              "#f0f921"
             ]
            ],
            "type": "histogram2dcontour"
           }
          ],
          "mesh3d": [
           {
            "colorbar": {
             "outlinewidth": 0,
             "ticks": ""
            },
            "type": "mesh3d"
           }
          ],
          "parcoords": [
           {
            "line": {
             "colorbar": {
              "outlinewidth": 0,
              "ticks": ""
             }
            },
            "type": "parcoords"
           }
          ],
          "pie": [
           {
            "automargin": true,
            "type": "pie"
           }
          ],
          "scatter": [
           {
            "fillpattern": {
             "fillmode": "overlay",
             "size": 10,
             "solidity": 0.2
            },
            "type": "scatter"
           }
          ],
          "scatter3d": [
           {
            "line": {
             "colorbar": {
              "outlinewidth": 0,
              "ticks": ""
             }
            },
            "marker": {
             "colorbar": {
              "outlinewidth": 0,
              "ticks": ""
             }
            },
            "type": "scatter3d"
           }
          ],
          "scattercarpet": [
           {
            "marker": {
             "colorbar": {
              "outlinewidth": 0,
              "ticks": ""
             }
            },
            "type": "scattercarpet"
           }
          ],
          "scattergeo": [
           {
            "marker": {
             "colorbar": {
              "outlinewidth": 0,
              "ticks": ""
             }
            },
            "type": "scattergeo"
           }
          ],
          "scattergl": [
           {
            "marker": {
             "colorbar": {
              "outlinewidth": 0,
              "ticks": ""
             }
            },
            "type": "scattergl"
           }
          ],
          "scattermap": [
           {
            "marker": {
             "colorbar": {
              "outlinewidth": 0,
              "ticks": ""
             }
            },
            "type": "scattermap"
           }
          ],
          "scattermapbox": [
           {
            "marker": {
             "colorbar": {
              "outlinewidth": 0,
              "ticks": ""
             }
            },
            "type": "scattermapbox"
           }
          ],
          "scatterpolar": [
           {
            "marker": {
             "colorbar": {
              "outlinewidth": 0,
              "ticks": ""
             }
            },
            "type": "scatterpolar"
           }
          ],
          "scatterpolargl": [
           {
            "marker": {
             "colorbar": {
              "outlinewidth": 0,
              "ticks": ""
             }
            },
            "type": "scatterpolargl"
           }
          ],
          "scatterternary": [
           {
            "marker": {
             "colorbar": {
              "outlinewidth": 0,
              "ticks": ""
             }
            },
            "type": "scatterternary"
           }
          ],
          "surface": [
           {
            "colorbar": {
             "outlinewidth": 0,
             "ticks": ""
            },
            "colorscale": [
             [
              0,
              "#0d0887"
             ],
             [
              0.1111111111111111,
              "#46039f"
             ],
             [
              0.2222222222222222,
              "#7201a8"
             ],
             [
              0.3333333333333333,
              "#9c179e"
             ],
             [
              0.4444444444444444,
              "#bd3786"
             ],
             [
              0.5555555555555556,
              "#d8576b"
             ],
             [
              0.6666666666666666,
              "#ed7953"
             ],
             [
              0.7777777777777778,
              "#fb9f3a"
             ],
             [
              0.8888888888888888,
              "#fdca26"
             ],
             [
              1,
              "#f0f921"
             ]
            ],
            "type": "surface"
           }
          ],
          "table": [
           {
            "cells": {
             "fill": {
              "color": "#EBF0F8"
             },
             "line": {
              "color": "white"
             }
            },
            "header": {
             "fill": {
              "color": "#C8D4E3"
             },
             "line": {
              "color": "white"
             }
            },
            "type": "table"
           }
          ]
         },
         "layout": {
          "annotationdefaults": {
           "arrowcolor": "#2a3f5f",
           "arrowhead": 0,
           "arrowwidth": 1
          },
          "autotypenumbers": "strict",
          "coloraxis": {
           "colorbar": {
            "outlinewidth": 0,
            "ticks": ""
           }
          },
          "colorscale": {
           "diverging": [
            [
             0,
             "#8e0152"
            ],
            [
             0.1,
             "#c51b7d"
            ],
            [
             0.2,
             "#de77ae"
            ],
            [
             0.3,
             "#f1b6da"
            ],
            [
             0.4,
             "#fde0ef"
            ],
            [
             0.5,
             "#f7f7f7"
            ],
            [
             0.6,
             "#e6f5d0"
            ],
            [
             0.7,
             "#b8e186"
            ],
            [
             0.8,
             "#7fbc41"
            ],
            [
             0.9,
             "#4d9221"
            ],
            [
             1,
             "#276419"
            ]
           ],
           "sequential": [
            [
             0,
             "#0d0887"
            ],
            [
             0.1111111111111111,
             "#46039f"
            ],
            [
             0.2222222222222222,
             "#7201a8"
            ],
            [
             0.3333333333333333,
             "#9c179e"
            ],
            [
             0.4444444444444444,
             "#bd3786"
            ],
            [
             0.5555555555555556,
             "#d8576b"
            ],
            [
             0.6666666666666666,
             "#ed7953"
            ],
            [
             0.7777777777777778,
             "#fb9f3a"
            ],
            [
             0.8888888888888888,
             "#fdca26"
            ],
            [
             1,
             "#f0f921"
            ]
           ],
           "sequentialminus": [
            [
             0,
             "#0d0887"
            ],
            [
             0.1111111111111111,
             "#46039f"
            ],
            [
             0.2222222222222222,
             "#7201a8"
            ],
            [
             0.3333333333333333,
             "#9c179e"
            ],
            [
             0.4444444444444444,
             "#bd3786"
            ],
            [
             0.5555555555555556,
             "#d8576b"
            ],
            [
             0.6666666666666666,
             "#ed7953"
            ],
            [
             0.7777777777777778,
             "#fb9f3a"
            ],
            [
             0.8888888888888888,
             "#fdca26"
            ],
            [
             1,
             "#f0f921"
            ]
           ]
          },
          "colorway": [
           "#636efa",
           "#EF553B",
           "#00cc96",
           "#ab63fa",
           "#FFA15A",
           "#19d3f3",
           "#FF6692",
           "#B6E880",
           "#FF97FF",
           "#FECB52"
          ],
          "font": {
           "color": "#2a3f5f"
          },
          "geo": {
           "bgcolor": "white",
           "lakecolor": "white",
           "landcolor": "#E5ECF6",
           "showlakes": true,
           "showland": true,
           "subunitcolor": "white"
          },
          "hoverlabel": {
           "align": "left"
          },
          "hovermode": "closest",
          "mapbox": {
           "style": "light"
          },
          "paper_bgcolor": "white",
          "plot_bgcolor": "#E5ECF6",
          "polar": {
           "angularaxis": {
            "gridcolor": "white",
            "linecolor": "white",
            "ticks": ""
           },
           "bgcolor": "#E5ECF6",
           "radialaxis": {
            "gridcolor": "white",
            "linecolor": "white",
            "ticks": ""
           }
          },
          "scene": {
           "xaxis": {
            "backgroundcolor": "#E5ECF6",
            "gridcolor": "white",
            "gridwidth": 2,
            "linecolor": "white",
            "showbackground": true,
            "ticks": "",
            "zerolinecolor": "white"
           },
           "yaxis": {
            "backgroundcolor": "#E5ECF6",
            "gridcolor": "white",
            "gridwidth": 2,
            "linecolor": "white",
            "showbackground": true,
            "ticks": "",
            "zerolinecolor": "white"
           },
           "zaxis": {
            "backgroundcolor": "#E5ECF6",
            "gridcolor": "white",
            "gridwidth": 2,
            "linecolor": "white",
            "showbackground": true,
            "ticks": "",
            "zerolinecolor": "white"
           }
          },
          "shapedefaults": {
           "line": {
            "color": "#2a3f5f"
           }
          },
          "ternary": {
           "aaxis": {
            "gridcolor": "white",
            "linecolor": "white",
            "ticks": ""
           },
           "baxis": {
            "gridcolor": "white",
            "linecolor": "white",
            "ticks": ""
           },
           "bgcolor": "#E5ECF6",
           "caxis": {
            "gridcolor": "white",
            "linecolor": "white",
            "ticks": ""
           }
          },
          "title": {
           "x": 0.05
          },
          "xaxis": {
           "automargin": true,
           "gridcolor": "white",
           "linecolor": "white",
           "ticks": "",
           "title": {
            "standoff": 15
           },
           "zerolinecolor": "white",
           "zerolinewidth": 2
          },
          "yaxis": {
           "automargin": true,
           "gridcolor": "white",
           "linecolor": "white",
           "ticks": "",
           "title": {
            "standoff": 15
           },
           "zerolinecolor": "white",
           "zerolinewidth": 2
          }
         }
        },
        "title": {
         "font": {
          "family": "Arial",
          "size": 18
         },
         "text": "<b>Parallel Coordinates: Multi-Dimensional Survival Patterns</b>"
        },
        "width": 1000
       }
      }
     },
     "metadata": {},
     "output_type": "display_data"
    }
   ],
   "source": [
    "from plotly.subplots import make_subplots\n",
    "\n",
    "# Create normalized features for parallel coordinates\n",
    "parallel_df = full_df[['Survived', 'Pclass', 'Age', 'SibSp', 'Parch', 'Fare']].dropna()\n",
    "\n",
    "fig = px.parallel_coordinates(\n",
    "    parallel_df,\n",
    "    color=\"Survived\",\n",
    "    color_continuous_scale=px.colors.diverging.Tealrose,\n",
    "    labels={\n",
    "        \"Pclass\": \"Class\",\n",
    "        \"Age\": \"Age\",\n",
    "        \"SibSp\": \"Siblings\",\n",
    "        \"Parch\": \"Parents\",\n",
    "        \"Fare\": \"Fare\",\n",
    "        \"Survived\": \"Survival\"\n",
    "    },\n",
    "    title=\"<b>Parallel Coordinates: Multi-Dimensional Survival Patterns</b>\"\n",
    ")\n",
    "\n",
    "\n",
    "fig.update_layout(\n",
    "    title_font=dict(size=18, family='Arial'),\n",
    "    margin=dict(l=80, r=80, t=80, b=80),\n",
    "    width=1000,\n",
    "    height=600\n",
    ")\n",
    "\n",
    "fig.show()"
   ]
  },
  {
   "cell_type": "markdown",
   "id": "26a3b165",
   "metadata": {},
   "source": [
    "11. Interactive Heatmap with Dendrograms"
   ]
  },
  {
   "cell_type": "code",
   "execution_count": 64,
   "id": "58c8d2a6",
   "metadata": {},
   "outputs": [
    {
     "data": {
      "application/vnd.plotly.v1+json": {
       "config": {
        "plotlyServerURL": "https://plot.ly"
       },
       "data": [
        {
         "colorscale": [
          [
           0,
           "#440154"
          ],
          [
           0.1111111111111111,
           "#482878"
          ],
          [
           0.2222222222222222,
           "#3e4989"
          ],
          [
           0.3333333333333333,
           "#31688e"
          ],
          [
           0.4444444444444444,
           "#26828e"
          ],
          [
           0.5555555555555556,
           "#1f9e89"
          ],
          [
           0.6666666666666666,
           "#35b779"
          ],
          [
           0.7777777777777778,
           "#6ece58"
          ],
          [
           0.8888888888888888,
           "#b5de2b"
          ],
          [
           1,
           "#fde725"
          ]
         ],
         "hoverongaps": true,
         "reversescale": false,
         "showscale": true,
         "type": "heatmap",
         "x": [
          "Survived",
          "Pclass",
          "Age",
          "SibSp",
          "Parch",
          "Fare",
          "FamilySize"
         ],
         "y": [
          "Survived",
          "Pclass",
          "Age",
          "SibSp",
          "Parch",
          "Fare",
          "FamilySize"
         ],
         "z": {
          "bdata": "AAAAAAAA8D+4XnJQA/HQvy3nYY7ffau/9noMPfxqYz+L3KoUIOK7Pz/ecvJW580/s7B6fD5Hrz+4XnJQA/HQvwAAAAAAAPA/IrZVnGke2r8nIyt2XyWvP6XisCkOw5I/xm/+XEng4b8oymanLJ2pPy3nYY7ffau/IrZVnGke2r8AAAAAAADwPx7jhFyHMc+/W2vCT0BRw7+CTgGW8uDGPzNza6fVv86/9noMPfxqYz8nIyt2XyWvPx7jhFyHMc+/AAAAAAAA8D/Rf3w/2ujXP2iEXOqvgsQ/KQSkBRyV6z+L3KoUIOK7P6XisCkOw5I/W2vCT0BRw7/Rf3w/2ujXPwAAAAAAAPA/7tCh9mBbzD+1Kz6afFrpPz/ecvJW580/xm/+XEng4b+CTgGW8uDGP2iEXOqvgsQ/7tCh9mBbzD8AAAAAAADwP1OPULez/cw/s7B6fD5Hrz8oymanLJ2pPzNza6fVv86/KQSkBRyV6z+1Kz6afFrpP1OPULez/cw/AAAAAAAA8D8=",
          "dtype": "f8",
          "shape": "7, 7"
         }
        }
       ],
       "layout": {
        "annotations": [
         {
          "font": {
           "color": "#000000"
          },
          "showarrow": false,
          "text": "1.0",
          "x": "Survived",
          "xref": "x",
          "y": "Survived",
          "yref": "y"
         },
         {
          "font": {
           "color": "#FFFFFF"
          },
          "showarrow": false,
          "text": "-0.26",
          "x": "Pclass",
          "xref": "x",
          "y": "Survived",
          "yref": "y"
         },
         {
          "font": {
           "color": "#FFFFFF"
          },
          "showarrow": false,
          "text": "-0.05",
          "x": "Age",
          "xref": "x",
          "y": "Survived",
          "yref": "y"
         },
         {
          "font": {
           "color": "#FFFFFF"
          },
          "showarrow": false,
          "text": "0.0",
          "x": "SibSp",
          "xref": "x",
          "y": "Survived",
          "yref": "y"
         },
         {
          "font": {
           "color": "#FFFFFF"
          },
          "showarrow": false,
          "text": "0.11",
          "x": "Parch",
          "xref": "x",
          "y": "Survived",
          "yref": "y"
         },
         {
          "font": {
           "color": "#000000"
          },
          "showarrow": false,
          "text": "0.23",
          "x": "Fare",
          "xref": "x",
          "y": "Survived",
          "yref": "y"
         },
         {
          "font": {
           "color": "#FFFFFF"
          },
          "showarrow": false,
          "text": "0.06",
          "x": "FamilySize",
          "xref": "x",
          "y": "Survived",
          "yref": "y"
         },
         {
          "font": {
           "color": "#FFFFFF"
          },
          "showarrow": false,
          "text": "-0.26",
          "x": "Survived",
          "xref": "x",
          "y": "Pclass",
          "yref": "y"
         },
         {
          "font": {
           "color": "#000000"
          },
          "showarrow": false,
          "text": "1.0",
          "x": "Pclass",
          "xref": "x",
          "y": "Pclass",
          "yref": "y"
         },
         {
          "font": {
           "color": "#FFFFFF"
          },
          "showarrow": false,
          "text": "-0.41",
          "x": "Age",
          "xref": "x",
          "y": "Pclass",
          "yref": "y"
         },
         {
          "font": {
           "color": "#FFFFFF"
          },
          "showarrow": false,
          "text": "0.06",
          "x": "SibSp",
          "xref": "x",
          "y": "Pclass",
          "yref": "y"
         },
         {
          "font": {
           "color": "#FFFFFF"
          },
          "showarrow": false,
          "text": "0.02",
          "x": "Parch",
          "xref": "x",
          "y": "Pclass",
          "yref": "y"
         },
         {
          "font": {
           "color": "#FFFFFF"
          },
          "showarrow": false,
          "text": "-0.56",
          "x": "Fare",
          "xref": "x",
          "y": "Pclass",
          "yref": "y"
         },
         {
          "font": {
           "color": "#FFFFFF"
          },
          "showarrow": false,
          "text": "0.05",
          "x": "FamilySize",
          "xref": "x",
          "y": "Pclass",
          "yref": "y"
         },
         {
          "font": {
           "color": "#FFFFFF"
          },
          "showarrow": false,
          "text": "-0.05",
          "x": "Survived",
          "xref": "x",
          "y": "Age",
          "yref": "y"
         },
         {
          "font": {
           "color": "#FFFFFF"
          },
          "showarrow": false,
          "text": "-0.41",
          "x": "Pclass",
          "xref": "x",
          "y": "Age",
          "yref": "y"
         },
         {
          "font": {
           "color": "#000000"
          },
          "showarrow": false,
          "text": "1.0",
          "x": "Age",
          "xref": "x",
          "y": "Age",
          "yref": "y"
         },
         {
          "font": {
           "color": "#FFFFFF"
          },
          "showarrow": false,
          "text": "-0.24",
          "x": "SibSp",
          "xref": "x",
          "y": "Age",
          "yref": "y"
         },
         {
          "font": {
           "color": "#FFFFFF"
          },
          "showarrow": false,
          "text": "-0.15",
          "x": "Parch",
          "xref": "x",
          "y": "Age",
          "yref": "y"
         },
         {
          "font": {
           "color": "#FFFFFF"
          },
          "showarrow": false,
          "text": "0.18",
          "x": "Fare",
          "xref": "x",
          "y": "Age",
          "yref": "y"
         },
         {
          "font": {
           "color": "#FFFFFF"
          },
          "showarrow": false,
          "text": "-0.24",
          "x": "FamilySize",
          "xref": "x",
          "y": "Age",
          "yref": "y"
         },
         {
          "font": {
           "color": "#FFFFFF"
          },
          "showarrow": false,
          "text": "0.0",
          "x": "Survived",
          "xref": "x",
          "y": "SibSp",
          "yref": "y"
         },
         {
          "font": {
           "color": "#FFFFFF"
          },
          "showarrow": false,
          "text": "0.06",
          "x": "Pclass",
          "xref": "x",
          "y": "SibSp",
          "yref": "y"
         },
         {
          "font": {
           "color": "#FFFFFF"
          },
          "showarrow": false,
          "text": "-0.24",
          "x": "Age",
          "xref": "x",
          "y": "SibSp",
          "yref": "y"
         },
         {
          "font": {
           "color": "#000000"
          },
          "showarrow": false,
          "text": "1.0",
          "x": "SibSp",
          "xref": "x",
          "y": "SibSp",
          "yref": "y"
         },
         {
          "font": {
           "color": "#000000"
          },
          "showarrow": false,
          "text": "0.37",
          "x": "Parch",
          "xref": "x",
          "y": "SibSp",
          "yref": "y"
         },
         {
          "font": {
           "color": "#FFFFFF"
          },
          "showarrow": false,
          "text": "0.16",
          "x": "Fare",
          "xref": "x",
          "y": "SibSp",
          "yref": "y"
         },
         {
          "font": {
           "color": "#000000"
          },
          "showarrow": false,
          "text": "0.86",
          "x": "FamilySize",
          "xref": "x",
          "y": "SibSp",
          "yref": "y"
         },
         {
          "font": {
           "color": "#FFFFFF"
          },
          "showarrow": false,
          "text": "0.11",
          "x": "Survived",
          "xref": "x",
          "y": "Parch",
          "yref": "y"
         },
         {
          "font": {
           "color": "#FFFFFF"
          },
          "showarrow": false,
          "text": "0.02",
          "x": "Pclass",
          "xref": "x",
          "y": "Parch",
          "yref": "y"
         },
         {
          "font": {
           "color": "#FFFFFF"
          },
          "showarrow": false,
          "text": "-0.15",
          "x": "Age",
          "xref": "x",
          "y": "Parch",
          "yref": "y"
         },
         {
          "font": {
           "color": "#000000"
          },
          "showarrow": false,
          "text": "0.37",
          "x": "SibSp",
          "xref": "x",
          "y": "Parch",
          "yref": "y"
         },
         {
          "font": {
           "color": "#000000"
          },
          "showarrow": false,
          "text": "1.0",
          "x": "Parch",
          "xref": "x",
          "y": "Parch",
          "yref": "y"
         },
         {
          "font": {
           "color": "#000000"
          },
          "showarrow": false,
          "text": "0.22",
          "x": "Fare",
          "xref": "x",
          "y": "Parch",
          "yref": "y"
         },
         {
          "font": {
           "color": "#000000"
          },
          "showarrow": false,
          "text": "0.79",
          "x": "FamilySize",
          "xref": "x",
          "y": "Parch",
          "yref": "y"
         },
         {
          "font": {
           "color": "#000000"
          },
          "showarrow": false,
          "text": "0.23",
          "x": "Survived",
          "xref": "x",
          "y": "Fare",
          "yref": "y"
         },
         {
          "font": {
           "color": "#FFFFFF"
          },
          "showarrow": false,
          "text": "-0.56",
          "x": "Pclass",
          "xref": "x",
          "y": "Fare",
          "yref": "y"
         },
         {
          "font": {
           "color": "#FFFFFF"
          },
          "showarrow": false,
          "text": "0.18",
          "x": "Age",
          "xref": "x",
          "y": "Fare",
          "yref": "y"
         },
         {
          "font": {
           "color": "#FFFFFF"
          },
          "showarrow": false,
          "text": "0.16",
          "x": "SibSp",
          "xref": "x",
          "y": "Fare",
          "yref": "y"
         },
         {
          "font": {
           "color": "#000000"
          },
          "showarrow": false,
          "text": "0.22",
          "x": "Parch",
          "xref": "x",
          "y": "Fare",
          "yref": "y"
         },
         {
          "font": {
           "color": "#000000"
          },
          "showarrow": false,
          "text": "1.0",
          "x": "Fare",
          "xref": "x",
          "y": "Fare",
          "yref": "y"
         },
         {
          "font": {
           "color": "#000000"
          },
          "showarrow": false,
          "text": "0.23",
          "x": "FamilySize",
          "xref": "x",
          "y": "Fare",
          "yref": "y"
         },
         {
          "font": {
           "color": "#FFFFFF"
          },
          "showarrow": false,
          "text": "0.06",
          "x": "Survived",
          "xref": "x",
          "y": "FamilySize",
          "yref": "y"
         },
         {
          "font": {
           "color": "#FFFFFF"
          },
          "showarrow": false,
          "text": "0.05",
          "x": "Pclass",
          "xref": "x",
          "y": "FamilySize",
          "yref": "y"
         },
         {
          "font": {
           "color": "#FFFFFF"
          },
          "showarrow": false,
          "text": "-0.24",
          "x": "Age",
          "xref": "x",
          "y": "FamilySize",
          "yref": "y"
         },
         {
          "font": {
           "color": "#000000"
          },
          "showarrow": false,
          "text": "0.86",
          "x": "SibSp",
          "xref": "x",
          "y": "FamilySize",
          "yref": "y"
         },
         {
          "font": {
           "color": "#000000"
          },
          "showarrow": false,
          "text": "0.79",
          "x": "Parch",
          "xref": "x",
          "y": "FamilySize",
          "yref": "y"
         },
         {
          "font": {
           "color": "#000000"
          },
          "showarrow": false,
          "text": "0.23",
          "x": "Fare",
          "xref": "x",
          "y": "FamilySize",
          "yref": "y"
         },
         {
          "font": {
           "color": "#000000"
          },
          "showarrow": false,
          "text": "1.0",
          "x": "FamilySize",
          "xref": "x",
          "y": "FamilySize",
          "yref": "y"
         }
        ],
        "height": 800,
        "template": {
         "data": {
          "bar": [
           {
            "error_x": {
             "color": "#2a3f5f"
            },
            "error_y": {
             "color": "#2a3f5f"
            },
            "marker": {
             "line": {
              "color": "#E5ECF6",
              "width": 0.5
             },
             "pattern": {
              "fillmode": "overlay",
              "size": 10,
              "solidity": 0.2
             }
            },
            "type": "bar"
           }
          ],
          "barpolar": [
           {
            "marker": {
             "line": {
              "color": "#E5ECF6",
              "width": 0.5
             },
             "pattern": {
              "fillmode": "overlay",
              "size": 10,
              "solidity": 0.2
             }
            },
            "type": "barpolar"
           }
          ],
          "carpet": [
           {
            "aaxis": {
             "endlinecolor": "#2a3f5f",
             "gridcolor": "white",
             "linecolor": "white",
             "minorgridcolor": "white",
             "startlinecolor": "#2a3f5f"
            },
            "baxis": {
             "endlinecolor": "#2a3f5f",
             "gridcolor": "white",
             "linecolor": "white",
             "minorgridcolor": "white",
             "startlinecolor": "#2a3f5f"
            },
            "type": "carpet"
           }
          ],
          "choropleth": [
           {
            "colorbar": {
             "outlinewidth": 0,
             "ticks": ""
            },
            "type": "choropleth"
           }
          ],
          "contour": [
           {
            "colorbar": {
             "outlinewidth": 0,
             "ticks": ""
            },
            "colorscale": [
             [
              0,
              "#0d0887"
             ],
             [
              0.1111111111111111,
              "#46039f"
             ],
             [
              0.2222222222222222,
              "#7201a8"
             ],
             [
              0.3333333333333333,
              "#9c179e"
             ],
             [
              0.4444444444444444,
              "#bd3786"
             ],
             [
              0.5555555555555556,
              "#d8576b"
             ],
             [
              0.6666666666666666,
              "#ed7953"
             ],
             [
              0.7777777777777778,
              "#fb9f3a"
             ],
             [
              0.8888888888888888,
              "#fdca26"
             ],
             [
              1,
              "#f0f921"
             ]
            ],
            "type": "contour"
           }
          ],
          "contourcarpet": [
           {
            "colorbar": {
             "outlinewidth": 0,
             "ticks": ""
            },
            "type": "contourcarpet"
           }
          ],
          "heatmap": [
           {
            "colorbar": {
             "outlinewidth": 0,
             "ticks": ""
            },
            "colorscale": [
             [
              0,
              "#0d0887"
             ],
             [
              0.1111111111111111,
              "#46039f"
             ],
             [
              0.2222222222222222,
              "#7201a8"
             ],
             [
              0.3333333333333333,
              "#9c179e"
             ],
             [
              0.4444444444444444,
              "#bd3786"
             ],
             [
              0.5555555555555556,
              "#d8576b"
             ],
             [
              0.6666666666666666,
              "#ed7953"
             ],
             [
              0.7777777777777778,
              "#fb9f3a"
             ],
             [
              0.8888888888888888,
              "#fdca26"
             ],
             [
              1,
              "#f0f921"
             ]
            ],
            "type": "heatmap"
           }
          ],
          "histogram": [
           {
            "marker": {
             "pattern": {
              "fillmode": "overlay",
              "size": 10,
              "solidity": 0.2
             }
            },
            "type": "histogram"
           }
          ],
          "histogram2d": [
           {
            "colorbar": {
             "outlinewidth": 0,
             "ticks": ""
            },
            "colorscale": [
             [
              0,
              "#0d0887"
             ],
             [
              0.1111111111111111,
              "#46039f"
             ],
             [
              0.2222222222222222,
              "#7201a8"
             ],
             [
              0.3333333333333333,
              "#9c179e"
             ],
             [
              0.4444444444444444,
              "#bd3786"
             ],
             [
              0.5555555555555556,
              "#d8576b"
             ],
             [
              0.6666666666666666,
              "#ed7953"
             ],
             [
              0.7777777777777778,
              "#fb9f3a"
             ],
             [
              0.8888888888888888,
              "#fdca26"
             ],
             [
              1,
              "#f0f921"
             ]
            ],
            "type": "histogram2d"
           }
          ],
          "histogram2dcontour": [
           {
            "colorbar": {
             "outlinewidth": 0,
             "ticks": ""
            },
            "colorscale": [
             [
              0,
              "#0d0887"
             ],
             [
              0.1111111111111111,
              "#46039f"
             ],
             [
              0.2222222222222222,
              "#7201a8"
             ],
             [
              0.3333333333333333,
              "#9c179e"
             ],
             [
              0.4444444444444444,
              "#bd3786"
             ],
             [
              0.5555555555555556,
              "#d8576b"
             ],
             [
              0.6666666666666666,
              "#ed7953"
             ],
             [
              0.7777777777777778,
              "#fb9f3a"
             ],
             [
              0.8888888888888888,
              "#fdca26"
             ],
             [
              1,
              "#f0f921"
             ]
            ],
            "type": "histogram2dcontour"
           }
          ],
          "mesh3d": [
           {
            "colorbar": {
             "outlinewidth": 0,
             "ticks": ""
            },
            "type": "mesh3d"
           }
          ],
          "parcoords": [
           {
            "line": {
             "colorbar": {
              "outlinewidth": 0,
              "ticks": ""
             }
            },
            "type": "parcoords"
           }
          ],
          "pie": [
           {
            "automargin": true,
            "type": "pie"
           }
          ],
          "scatter": [
           {
            "fillpattern": {
             "fillmode": "overlay",
             "size": 10,
             "solidity": 0.2
            },
            "type": "scatter"
           }
          ],
          "scatter3d": [
           {
            "line": {
             "colorbar": {
              "outlinewidth": 0,
              "ticks": ""
             }
            },
            "marker": {
             "colorbar": {
              "outlinewidth": 0,
              "ticks": ""
             }
            },
            "type": "scatter3d"
           }
          ],
          "scattercarpet": [
           {
            "marker": {
             "colorbar": {
              "outlinewidth": 0,
              "ticks": ""
             }
            },
            "type": "scattercarpet"
           }
          ],
          "scattergeo": [
           {
            "marker": {
             "colorbar": {
              "outlinewidth": 0,
              "ticks": ""
             }
            },
            "type": "scattergeo"
           }
          ],
          "scattergl": [
           {
            "marker": {
             "colorbar": {
              "outlinewidth": 0,
              "ticks": ""
             }
            },
            "type": "scattergl"
           }
          ],
          "scattermap": [
           {
            "marker": {
             "colorbar": {
              "outlinewidth": 0,
              "ticks": ""
             }
            },
            "type": "scattermap"
           }
          ],
          "scattermapbox": [
           {
            "marker": {
             "colorbar": {
              "outlinewidth": 0,
              "ticks": ""
             }
            },
            "type": "scattermapbox"
           }
          ],
          "scatterpolar": [
           {
            "marker": {
             "colorbar": {
              "outlinewidth": 0,
              "ticks": ""
             }
            },
            "type": "scatterpolar"
           }
          ],
          "scatterpolargl": [
           {
            "marker": {
             "colorbar": {
              "outlinewidth": 0,
              "ticks": ""
             }
            },
            "type": "scatterpolargl"
           }
          ],
          "scatterternary": [
           {
            "marker": {
             "colorbar": {
              "outlinewidth": 0,
              "ticks": ""
             }
            },
            "type": "scatterternary"
           }
          ],
          "surface": [
           {
            "colorbar": {
             "outlinewidth": 0,
             "ticks": ""
            },
            "colorscale": [
             [
              0,
              "#0d0887"
             ],
             [
              0.1111111111111111,
              "#46039f"
             ],
             [
              0.2222222222222222,
              "#7201a8"
             ],
             [
              0.3333333333333333,
              "#9c179e"
             ],
             [
              0.4444444444444444,
              "#bd3786"
             ],
             [
              0.5555555555555556,
              "#d8576b"
             ],
             [
              0.6666666666666666,
              "#ed7953"
             ],
             [
              0.7777777777777778,
              "#fb9f3a"
             ],
             [
              0.8888888888888888,
              "#fdca26"
             ],
             [
              1,
              "#f0f921"
             ]
            ],
            "type": "surface"
           }
          ],
          "table": [
           {
            "cells": {
             "fill": {
              "color": "#EBF0F8"
             },
             "line": {
              "color": "white"
             }
            },
            "header": {
             "fill": {
              "color": "#C8D4E3"
             },
             "line": {
              "color": "white"
             }
            },
            "type": "table"
           }
          ]
         },
         "layout": {
          "annotationdefaults": {
           "arrowcolor": "#2a3f5f",
           "arrowhead": 0,
           "arrowwidth": 1
          },
          "autotypenumbers": "strict",
          "coloraxis": {
           "colorbar": {
            "outlinewidth": 0,
            "ticks": ""
           }
          },
          "colorscale": {
           "diverging": [
            [
             0,
             "#8e0152"
            ],
            [
             0.1,
             "#c51b7d"
            ],
            [
             0.2,
             "#de77ae"
            ],
            [
             0.3,
             "#f1b6da"
            ],
            [
             0.4,
             "#fde0ef"
            ],
            [
             0.5,
             "#f7f7f7"
            ],
            [
             0.6,
             "#e6f5d0"
            ],
            [
             0.7,
             "#b8e186"
            ],
            [
             0.8,
             "#7fbc41"
            ],
            [
             0.9,
             "#4d9221"
            ],
            [
             1,
             "#276419"
            ]
           ],
           "sequential": [
            [
             0,
             "#0d0887"
            ],
            [
             0.1111111111111111,
             "#46039f"
            ],
            [
             0.2222222222222222,
             "#7201a8"
            ],
            [
             0.3333333333333333,
             "#9c179e"
            ],
            [
             0.4444444444444444,
             "#bd3786"
            ],
            [
             0.5555555555555556,
             "#d8576b"
            ],
            [
             0.6666666666666666,
             "#ed7953"
            ],
            [
             0.7777777777777778,
             "#fb9f3a"
            ],
            [
             0.8888888888888888,
             "#fdca26"
            ],
            [
             1,
             "#f0f921"
            ]
           ],
           "sequentialminus": [
            [
             0,
             "#0d0887"
            ],
            [
             0.1111111111111111,
             "#46039f"
            ],
            [
             0.2222222222222222,
             "#7201a8"
            ],
            [
             0.3333333333333333,
             "#9c179e"
            ],
            [
             0.4444444444444444,
             "#bd3786"
            ],
            [
             0.5555555555555556,
             "#d8576b"
            ],
            [
             0.6666666666666666,
             "#ed7953"
            ],
            [
             0.7777777777777778,
             "#fb9f3a"
            ],
            [
             0.8888888888888888,
             "#fdca26"
            ],
            [
             1,
             "#f0f921"
            ]
           ]
          },
          "colorway": [
           "#636efa",
           "#EF553B",
           "#00cc96",
           "#ab63fa",
           "#FFA15A",
           "#19d3f3",
           "#FF6692",
           "#B6E880",
           "#FF97FF",
           "#FECB52"
          ],
          "font": {
           "color": "#2a3f5f"
          },
          "geo": {
           "bgcolor": "white",
           "lakecolor": "white",
           "landcolor": "#E5ECF6",
           "showlakes": true,
           "showland": true,
           "subunitcolor": "white"
          },
          "hoverlabel": {
           "align": "left"
          },
          "hovermode": "closest",
          "mapbox": {
           "style": "light"
          },
          "paper_bgcolor": "white",
          "plot_bgcolor": "#E5ECF6",
          "polar": {
           "angularaxis": {
            "gridcolor": "white",
            "linecolor": "white",
            "ticks": ""
           },
           "bgcolor": "#E5ECF6",
           "radialaxis": {
            "gridcolor": "white",
            "linecolor": "white",
            "ticks": ""
           }
          },
          "scene": {
           "xaxis": {
            "backgroundcolor": "#E5ECF6",
            "gridcolor": "white",
            "gridwidth": 2,
            "linecolor": "white",
            "showbackground": true,
            "ticks": "",
            "zerolinecolor": "white"
           },
           "yaxis": {
            "backgroundcolor": "#E5ECF6",
            "gridcolor": "white",
            "gridwidth": 2,
            "linecolor": "white",
            "showbackground": true,
            "ticks": "",
            "zerolinecolor": "white"
           },
           "zaxis": {
            "backgroundcolor": "#E5ECF6",
            "gridcolor": "white",
            "gridwidth": 2,
            "linecolor": "white",
            "showbackground": true,
            "ticks": "",
            "zerolinecolor": "white"
           }
          },
          "shapedefaults": {
           "line": {
            "color": "#2a3f5f"
           }
          },
          "ternary": {
           "aaxis": {
            "gridcolor": "white",
            "linecolor": "white",
            "ticks": ""
           },
           "baxis": {
            "gridcolor": "white",
            "linecolor": "white",
            "ticks": ""
           },
           "bgcolor": "#E5ECF6",
           "caxis": {
            "gridcolor": "white",
            "linecolor": "white",
            "ticks": ""
           }
          },
          "title": {
           "x": 0.05
          },
          "xaxis": {
           "automargin": true,
           "gridcolor": "white",
           "linecolor": "white",
           "ticks": "",
           "title": {
            "standoff": 15
           },
           "zerolinecolor": "white",
           "zerolinewidth": 2
          },
          "yaxis": {
           "automargin": true,
           "gridcolor": "white",
           "linecolor": "white",
           "ticks": "",
           "title": {
            "standoff": 15
           },
           "zerolinecolor": "white",
           "zerolinewidth": 2
          }
         }
        },
        "title": {
         "font": {
          "family": "Arial",
          "size": 18
         },
         "text": "<b>Interactive Correlation Heatmap with Dendrogram</b>"
        },
        "width": 800,
        "xaxis": {
         "dtick": 1,
         "gridcolor": "rgb(0, 0, 0)",
         "showgrid": false,
         "side": "top",
         "ticks": ""
        },
        "yaxis": {
         "autorange": "reversed",
         "dtick": 1,
         "showgrid": false,
         "ticks": "",
         "ticksuffix": "  "
        }
       }
      }
     },
     "metadata": {},
     "output_type": "display_data"
    }
   ],
   "source": [
    "import plotly.figure_factory as ff\n",
    "\n",
    "# Prepare correlation data with more features\n",
    "corr_features = ['Survived', 'Pclass', 'Age', 'SibSp', 'Parch', 'Fare', 'FamilySize']\n",
    "corr_matrix = full_df[corr_features].corr()\n",
    "\n",
    "fig = ff.create_annotated_heatmap(\n",
    "    z=corr_matrix.values,\n",
    "    x=list(corr_matrix.columns),\n",
    "    y=list(corr_matrix.index),\n",
    "    annotation_text=np.around(corr_matrix.values, decimals=2),\n",
    "    colorscale='Viridis',\n",
    "    showscale=True,\n",
    "    hoverongaps=True\n",
    ")\n",
    "\n",
    "fig.update_layout(\n",
    "    title='<b>Interactive Correlation Heatmap with Dendrogram</b>',\n",
    "    title_font=dict(size=18, family='Arial'),\n",
    "    width=800,\n",
    "    height=800,\n",
    "    xaxis_showgrid=False,\n",
    "    yaxis_showgrid=False,\n",
    "    yaxis_autorange='reversed'\n",
    ")\n",
    "\n",
    "fig.show()"
   ]
  }
 ],
 "metadata": {
  "kernelspec": {
   "display_name": "Python 3",
   "language": "python",
   "name": "python3"
  },
  "language_info": {
   "codemirror_mode": {
    "name": "ipython",
    "version": 3
   },
   "file_extension": ".py",
   "mimetype": "text/x-python",
   "name": "python",
   "nbconvert_exporter": "python",
   "pygments_lexer": "ipython3",
   "version": "3.12.4"
  }
 },
 "nbformat": 4,
 "nbformat_minor": 5
}
